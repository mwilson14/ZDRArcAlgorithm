{
 "cells": [
  {
   "cell_type": "code",
   "execution_count": null,
   "metadata": {},
   "outputs": [],
   "source": [
    "from arcalg_framework import multi_case_algorithm_ML1_arcdev\n",
    "from arcalg_framework_realtime import multi_case_algorithm_ML1_realtime\n",
    "import numpy as np\n",
    "import pandas as pd\n",
    "from datetime import datetime, timedelta\n",
    "#from partone import multi_case_algorithm_ML1\n",
    "#from RidiculousUnaltered import multi_case_algorithm_ML1"
   ]
  },
  {
   "cell_type": "code",
   "execution_count": null,
   "metadata": {},
   "outputs": [],
   "source": [
    "#Array for storms A, B, BB, CC, D, DD, EE\n",
    "#FFD angle (in degrees)\n",
    "storm_relative_dirs = np.asarray([190, 180, 190, 190, 180, 160, 200])\n",
    "#ZDR threshold\n",
    "zdrlevs = np.asarray([3.25, 3.25, 3.25, 3.25, 3.25, 3.25, 3.25])\n",
    "#KDP threshold for KDP foot\n",
    "kdplevs = np.asarray([1.5, 1.5, 1.5, 1.5, 1.5, 1.5, 1.5])\n",
    "#First Z level used in tracking algorithm\n",
    "REFlevs = np.asarray([45, 45, 45, 45, 45, 45, 30])\n",
    "#Second Z level used in tracking algorithm\n",
    "REFlev1s = np.asarray([50, 50, 50, 50, 50, 50, 35])\n",
    "#Storm size above which the second tracking level will be used to look for embedded cores\n",
    "big_storms = np.asarray([300, 300, 300, 300, 300, 300, 300])\n",
    "#Obsolete parameter\n",
    "zero_z_triggers = np.asarray([17, 17, 17, 17, 17, 17, 17])\n",
    "#Another obsolete parameter\n",
    "storm_to_tracks = np.asarray([1, 2, 2, 0, 2, 4, 6])\n",
    "#Start year for each case\n",
    "years = np.asarray([2013, 2013, 2013, 2013, 2012, 2013, 2012])\n",
    "#Start month\n",
    "months = np.asarray([8, 4, 5, 6, 3, 11, 6])\n",
    "#Start day\n",
    "days = np.asarray([31, 17, 20, 19, 3, 17, 9])\n",
    "#Start hour (UTC)\n",
    "hours = np.asarray([0, 22, 20, 22, 1, 17, 0])\n",
    "#Start minute\n",
    "start_mins = np.asarray([0, 0, 24, 10, 15, 50, 0])\n",
    "#Case duration after the starting time\n",
    "durations = np.asarray([1.1, 2.1, 1.6, 1.1, 1.8, 0.9, 1.1])#0 should should be 1.1\n",
    "#ZDR calibration\n",
    "calibrations = np.asarray([-0.31838281, -0.09084971,  0.10155261, -0.23676067, -0.12648345, -0.46375372, -0.08756084])\n",
    "#Radar station for each case\n",
    "stations = ['KBIS', 'KFDR', 'KINX', 'KLBB', 'KFFC', 'KLOT', 'KMQT']"
   ]
  },
  {
   "cell_type": "code",
   "execution_count": null,
   "metadata": {},
   "outputs": [],
   "source": [
    "#Loop to run through multiple cases. At the moment, it's only set to run through the first case (KBIS on 31 August 2013)\n",
    "print(datetime.utcnow())\n",
    "#for i in range(len(durations)):\n",
    "#Uncomment line above and comment out the line below to run all of the cases from the cell above\n",
    "#In the call to multi_case_algorithm_ML1_arcdev, the 3.25 and 1.5 are the ZDR and KDP thresholds, the 70 is a placeholder for zero_z_triggers to prevent errors, \n",
    "#the 290 is the storm motion direction used in calculating the separation angle, and track_dis is a tracking threshold\n",
    "#(in km) for the storm tracking algorithm.\n",
    "srdir = 205\n",
    "rlev1 = 45\n",
    "rlev2 = 50\n",
    "trackstorm = 2\n",
    "cal_zdr = 0.0\n",
    "station = 'KGSP'\n",
    "storm_motion = 312\n",
    "tracks_dataframe, zdroutlines = multi_case_algorithm_ML1_realtime(srdir,3.00,1.5,rlev1,rlev2,300,trackstorm,\n",
    "                                                                cal_zdr,station=station, Bunkers_m=storm_motion, track_dis=10)\n",
    "\n",
    "    #tracks_dataframe.to_pickle('ARCDEV'+str(years[i])+str(months[i])+str(days[i])+str(stations[i])+'.pkl')\n",
    "print(datetime.utcnow())"
   ]
  },
  {
   "cell_type": "code",
   "execution_count": null,
   "metadata": {},
   "outputs": [],
   "source": []
  }
 ],
 "metadata": {
  "kernelspec": {
   "display_name": "Python 3",
   "language": "python",
   "name": "python3"
  },
  "language_info": {
   "codemirror_mode": {
    "name": "ipython",
    "version": 3
   },
   "file_extension": ".py",
   "mimetype": "text/x-python",
   "name": "python",
   "nbconvert_exporter": "python",
   "pygments_lexer": "ipython3",
   "version": "3.8.2"
  }
 },
 "nbformat": 4,
 "nbformat_minor": 2
}
