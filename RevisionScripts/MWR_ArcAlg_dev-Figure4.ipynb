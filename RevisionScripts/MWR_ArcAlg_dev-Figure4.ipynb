{
 "cells": [
  {
   "cell_type": "code",
   "execution_count": 1,
   "metadata": {},
   "outputs": [
    {
     "name": "stdout",
     "output_type": "stream",
     "text": [
      "\n",
      "## You are using the Python ARM Radar Toolkit (Py-ART), an open source\n",
      "## library for working with weather radar data. Py-ART is partly\n",
      "## supported by the U.S. Department of Energy as part of the Atmospheric\n",
      "## Radiation Measurement (ARM) Climate Research Facility, an Office of\n",
      "## Science user facility.\n",
      "##\n",
      "## If you use this software to prepare a publication, please cite:\n",
      "##\n",
      "##     JJ Helmus and SM Collis, JORS 2016, doi: 10.5334/jors.119\n",
      "\n"
     ]
    }
   ],
   "source": [
    "from arcalg_framework import multi_case_algorithm_ML1_arcdev\n",
    "\n",
    "from arcalg_figure4 import multi_case_algorithm_ML1_figure4\n",
    "\n",
    "\n",
    "import numpy as np\n",
    "import pandas as pd\n",
    "from datetime import datetime, timedelta\n",
    "#from partone import multi_case_algorithm_ML1\n",
    "#from RidiculousUnaltered import multi_case_algorithm_ML1"
   ]
  },
  {
   "cell_type": "code",
   "execution_count": null,
   "metadata": {},
   "outputs": [],
   "source": [
    "#Array for storms A, B, BB, CC, D, DD, EE\n",
    "#Duration for B has been changed from 2.1 to 0.2 for testing\n",
    "storm_relative_dirs = np.asarray([190, 180, 190, 190, 180, 160, 200])\n",
    "zdrlevs = np.asarray([3.25, 3.25, 3.25, 3.25, 3.25, 3.25, 3.25])\n",
    "kdplevs = np.asarray([1.5, 1.5, 1.5, 1.5, 1.5, 1.5, 1.5])\n",
    "REFlevs = np.asarray([45, 45, 45, 45, 45, 45, 30])\n",
    "REFlev1s = np.asarray([50, 50, 50, 50, 50, 50, 35])\n",
    "big_storms = np.asarray([300, 300, 300, 300, 300, 300, 300])\n",
    "zero_z_triggers = np.asarray([17, 17, 17, 17, 17, 17, 17])\n",
    "storm_to_tracks = np.asarray([1, 2, 2, 0, 2, 4, 6])\n",
    "years = np.asarray([2013, 2013, 2013, 2013, 2012, 2013, 2012])\n",
    "months = np.asarray([8, 4, 5, 6, 3, 11, 6])\n",
    "days = np.asarray([31, 17, 20, 19, 3, 17, 9])\n",
    "hours = np.asarray([0, 22, 20, 22, 1, 17, 0])\n",
    "start_mins = np.asarray([0, 0, 24, 10, 15, 50, 0])\n",
    "durations = np.asarray([0.2, 2.1, 1.6, 1.1, 1.8, 0.9, 1.1])#0 should should be 1.1\n",
    "#calibrations = np.asarray([-.33, 0.354, 0.404, -.36, -0.23, -0.22, -0.1])\n",
    "calibrations = np.asarray([-0.31838281, -0.09084971,  0.10155261, -0.23676067, -0.12648345, -0.46375372, -0.08756084])\n",
    "stations = ['KBIS', 'KFDR', 'KINX', 'KLBB', 'KFFC', 'KLOT', 'KMQT']"
   ]
  },
  {
   "cell_type": "code",
   "execution_count": null,
   "metadata": {},
   "outputs": [],
   "source": [
    "#Array for storms F, FF, H, HH, I, II, J\n",
    "storm_relative_dirs = np.asarray([180, 230, 150, 210, 160, 190, 170])\n",
    "zdrlevs = np.asarray([3.25, 3.25, 3.25, 3.25, 3.25, 3.25, 3.25])\n",
    "kdplevs = np.asarray([1.5, 1.5, 1.5, 1.5, 1.5, 1.5, 1.5])\n",
    "REFlevs = np.asarray([45, 40, 45, 45, 45, 45, 45])\n",
    "REFlev1s = np.asarray([50, 45, 50, 50, 50, 50, 50])\n",
    "big_storms = np.asarray([300, 300, 300, 300, 300, 300, 300])\n",
    "zero_z_triggers = np.asarray([17, 17, 17, 17, 17, 17, 17])\n",
    "storm_to_tracks = np.asarray([2, 1, 6, 0, 5, 3, 1])\n",
    "years = np.asarray([2012, 2012, 2013, 2013, 2013, 2013, 2012])\n",
    "months = np.asarray([3, 4, 5, 3, 3, 5, 4])\n",
    "days = np.asarray([2, 26, 20, 31, 18, 31, 30])\n",
    "hours = np.asarray([15, 23, 21, 3, 21, 23, 22])\n",
    "start_mins = np.asarray([0, 30, 0, 20, 25, 0, 0])\n",
    "durations = np.asarray([1.5, 1.5, 1.1, 1.4, 1.3, 2.1, 2.0])\n",
    "#calibrations = np.asarray([-0.68, 0.39, -0.14, -0.27, -0.57, -0.45, 0.356])\n",
    "calibrations = np.asarray([-0.69077418,  0.27381103, -0.35858997, -0.3725277,  -0.33369859, -0.48638681, 0.34267983])\n",
    "stations = ['KHTX', 'KOHX', 'KEAX', 'KSRX', 'KFFC', 'KTLX', 'KDDC']"
   ]
  },
  {
   "cell_type": "code",
   "execution_count": null,
   "metadata": {},
   "outputs": [],
   "source": [
    "#Array for storms K, M, O, R, W, X, Y, Z\n",
    "#Storms of index 1 and 6 will need local files\n",
    "storm_relative_dirs = np.asarray([120, 190, 170, 200, 190, 170, 150, 190])\n",
    "zdrlevs = np.asarray([3.25, 3.25, 3.25, 3.25, 3.25, 3.25, 3.25, 3.25])\n",
    "kdplevs = np.asarray([1.5, 1.5, 1.5, 1.5, 1.5, 1.5, 1.5, 1.5])\n",
    "REFlevs = np.asarray([45, 45, 45, 45, 45, 45, 45, 45])\n",
    "REFlev1s = np.asarray([50, 50, 50, 50, 50, 50, 50, 50])\n",
    "big_storms = np.asarray([300, 300, 300, 300, 300, 300, 300, 300])\n",
    "zero_z_triggers = np.asarray([17, 17, 17, 17, 17, 17, 17, 17])\n",
    "storm_to_tracks = np.asarray([2, 0, 1, 2, 0, 0, 1, 1])\n",
    "years = np.asarray([2012, 2013, 2012, 2013, 2013, 2013, 2013, 2013])\n",
    "months = np.asarray([5, 2, 4, 5, 8, 5, 11, 5])\n",
    "days = np.asarray([10, 18, 15, 15, 14, 5, 17, 31])\n",
    "hours = np.asarray([18, 22, 0, 23, 23, 0, 19, 0])\n",
    "start_mins = np.asarray([0, 43, 14, 0, 26, 9, 15, 11])\n",
    "durations = np.asarray([1.0, 1.2, 2.6, 1.5, 1.9, 1.5, 1.1, 1.0])\n",
    "#calibrations = np.asarray([0.055, -0.37, 0.382, -0.05, 0.339, 0.713, -0.2, 0.11])\n",
    "calibrations = np.asarray([-0.258938393, 0.11164869, 0.266559857, -0.19640628,  0.24966193,  0.60389074, -0.25374424, 0.117557395])\n",
    "stations = ['KEWX', 'KSHV', 'KTWX', 'KFWS', 'KAMA', 'KJAX', 'KVWX', 'KINX']\n",
    "localfolder = ['','StormM','','','','','StormY','']"
   ]
  },
  {
   "cell_type": "code",
   "execution_count": null,
   "metadata": {},
   "outputs": [],
   "source": [
    "#Storms L and S, and running storms C and GG\n",
    "storm_relative_dirs = np.asarray([170, 160, 180, 180])\n",
    "zdrlevs = np.asarray([3.25, 3.25, 3.25, 3.25])\n",
    "kdplevs = np.asarray([1.5, 1.5, 1.5, 1.5])\n",
    "REFlevs = np.asarray([45, 45, 40, 45])\n",
    "REFlev1s = np.asarray([50, 50, 45, 50])\n",
    "big_storms = np.asarray([300, 300, 300, 300])\n",
    "zero_z_triggers = np.asarray([17, 17, 17, 17])\n",
    "storm_to_tracks = np.asarray([1, 8, 0, 0])\n",
    "years = np.asarray([2013, 2013, 2013, 2013])\n",
    "months = np.asarray([11, 11, 12, 6])\n",
    "days = np.asarray([17, 17, 20, 18])\n",
    "hours = np.asarray([21, 20, 22, 22])\n",
    "start_mins = np.asarray([0, 0, 40, 0])\n",
    "durations = np.asarray([1.3, 1.2, 1.2, 0.9])\n",
    "#calibrations = np.asarray([-0.09, 0.156, 0.323, -0.75])\n",
    "calibrations = np.asarray([-0.23157741,  0.12283485,  0.34443355, -0.63117572])\n",
    "stations = ['KHPX', 'KIND', 'KDGX', 'KRAX']"
   ]
  },
  {
   "cell_type": "code",
   "execution_count": null,
   "metadata": {},
   "outputs": [],
   "source": [
    "#Re-run storm E\n",
    "storm_relative_dirs = np.asarray([230])\n",
    "zdrlevs = np.asarray([3.25])\n",
    "kdplevs = np.asarray([1.5])\n",
    "REFlevs = np.asarray([45])\n",
    "REFlev1s = np.asarray([50])\n",
    "big_storms = np.asarray([300])\n",
    "zero_z_triggers = np.asarray([17])\n",
    "storm_to_tracks = np.asarray([0])\n",
    "years = np.asarray([2013])\n",
    "months = np.asarray([8])\n",
    "days = np.asarray([28])\n",
    "hours = np.asarray([3])\n",
    "start_mins = np.asarray([10])\n",
    "durations = np.asarray([1.0])\n",
    "#calibrations = np.asarray([-0.71])\n",
    "calibrations = np.asarray([-0.399802913])\n",
    "stations = ['KDTX']"
   ]
  },
  {
   "cell_type": "code",
   "execution_count": null,
   "metadata": {},
   "outputs": [],
   "source": [
    "#Now start on the nontornadic storms\n",
    "#Storms 1, 2, 3, 4, 5, 6, 7\n",
    "#Storms 5 and 6 need local files and 7 is missing a sounding\n",
    "#Only run 0,2,4\n",
    "storm_relative_dirs = np.asarray([140, 140, 220, 220, 190, 190, 160])\n",
    "zdrlevs = np.asarray([3.25, 3.25, 3.25, 3.25, 3.25, 3.25, 3.25])\n",
    "kdplevs = np.asarray([1.5, 1.5, 1.5, 1.5, 1.5, 1.5, 1.5])\n",
    "REFlevs = np.asarray([45, 45, 45, 45, 45, 45, 45])\n",
    "REFlev1s = np.asarray([50, 50, 50, 50, 50, 50, 50])\n",
    "big_storms = np.asarray([300, 300, 300, 300, 300, 300, 300])\n",
    "zero_z_triggers = np.asarray([17, 17, 17, 17, 17, 17, 17])\n",
    "storm_to_tracks = np.asarray([0, 3, 2, 1, 1, 3, 3])\n",
    "years = np.asarray([2013, 2013, 2013, 2013, 2013, 2013, 2012])\n",
    "months = np.asarray([4, 4, 5, 5, 4, 4, 4])\n",
    "days = np.asarray([27, 27, 30, 30, 22, 22, 30])\n",
    "hours = np.asarray([1, 2, 18, 18, 23, 23, 4])\n",
    "start_mins = np.asarray([0, 0, 9, 40, 20, 25, 25])\n",
    "durations = np.asarray([2.2, 2.2, 1.6, 1.6, 1.7, 1.8, 1.5])\n",
    "#calibrations = np.asarray([-0.742, -0.455, -0.279, -0.379, 0.02, -0.017, 0.224])\n",
    "calibrations = np.asarray([-0.902011267,-0.902011267,-0.50719614,-0.50719614,-0.100394186378,-0.100394186378,-9999])\n",
    "stations = ['KTLX', 'KTLX', 'KTLX', 'KTLX', 'KVNX', 'KVNX', 'KAMA']\n",
    "localfolder = ['','','','','Storm5and6','Storm5and6','']"
   ]
  },
  {
   "cell_type": "code",
   "execution_count": null,
   "metadata": {},
   "outputs": [],
   "source": [
    "#Storms 10, 13, 14, 16, 19, 21, 23, 24\n",
    "#Storm 15 skipped since it only produces 1 very small arc object, and storm 22 skipped because it produces none\n",
    "##Storms 10 and 21 need to be redone, error is probably that zero_Z_trigger is too low\n",
    "storm_relative_dirs = np.asarray([170, 150, 160, 180, 200, 150, 180, 190])\n",
    "zdrlevs = np.asarray([3.25, 3.25, 3.25, 3.25, 3.25, 3.25, 3.25, 3.25])\n",
    "kdplevs = np.asarray([1.5, 1.5, 1.5, 1.5, 1.5, 1.5, 1.5, 1.5])\n",
    "REFlevs = np.asarray([45, 45, 45, 45, 45, 45, 47, 45])\n",
    "REFlev1s = np.asarray([50, 50, 50, 50, 50, 50, 52, 50])\n",
    "big_storms = np.asarray([300, 300, 300, 300, 300, 300, 300, 300])\n",
    "zero_z_triggers = np.asarray([25, 17, 17, 17, 17, 25, 17, 17])\n",
    "storm_to_tracks = np.asarray([0, 1, 1, 0, 4, 3, 0, 1])\n",
    "years = np.asarray([2014, 2013, 2013, 2013, 2013, 2014, 2014, 2013])\n",
    "months = np.asarray([9, 10, 3, 6, 10, 4, 5, 8])\n",
    "days = np.asarray([4, 14, 18, 17, 27, 3, 21, 6])\n",
    "hours = np.asarray([5, 19, 20, 19, 0, 2, 1, 23])\n",
    "start_mins = np.asarray([20, 38, 0, 30, 0, 0, 30, 0])\n",
    "durations = np.asarray([1.3, 0.9, 1.1, 1.2, 1.2, 1.8, 0.9, 1.1])\n",
    "#calibrations = np.asarray([-0.623, 0.332, -0.0679, -0.356, -0.281, 0.113, 0.163, 0.206]) 87\n",
    "calibrations = np.asarray([-0.8593222, 0.29232981, -0.27243836,-0.33237107,-0.21629284,0.06499876,-0.07566869,-0.09450731])\n",
    "stations = ['KBIS', 'KDDC', 'KDGX', 'KDTX', 'KFWS', 'KICT', 'KLOT', 'KMPX']"
   ]
  },
  {
   "cell_type": "code",
   "execution_count": null,
   "metadata": {},
   "outputs": [],
   "source": [
    "#Storms 26, 27, 28, 29, 30, 32\n",
    "storm_relative_dirs = np.asarray([200, 160, 180, 180, 210, 160])\n",
    "zdrlevs = np.asarray([3.25, 3.25, 3.25, 3.25, 3.25, 3.25])\n",
    "kdplevs = np.asarray([1.5, 1.5, 1.5, 1.5, 1.5, 1.5])\n",
    "REFlevs = np.asarray([40, 45, 45, 45, 45, 45])\n",
    "REFlev1s = np.asarray([45, 50, 50, 50, 50, 50])\n",
    "big_storms = np.asarray([300, 300, 300, 300, 300, 300])\n",
    "zero_z_triggers = np.asarray([17, 17, 17, 17, 17, 17])\n",
    "storm_to_tracks = np.asarray([0, 0, 3, 0, 0, 0])\n",
    "years = np.asarray([2013, 2013, 2013, 2013, 2013,2014])\n",
    "months = np.asarray([4, 7, 5, 5, 7, 5])\n",
    "days = np.asarray([7, 9, 21, 25, 23, 20])\n",
    "hours = np.asarray([23, 23, 1, 21, 20, 21])\n",
    "start_mins = np.asarray([10, 20, 30, 0, 0, 0])\n",
    "durations = np.asarray([1.4, 1.0, 0.7, 1.1, 1.0, 1.0])\n",
    "#calibrations = np.asarray([-0.01, 0.095, 0.15, -0.2143, -0.415, 0.101])\n",
    "calibrations = np.asarray([-0.11826437,  0.13982464,  0.10946657, -0.22040076, -0.38976698, -0.13929619])\n",
    "stations = ['KSGF', 'KABR', 'KDMX', 'KUDX', 'KUDX', 'KFTG']"
   ]
  },
  {
   "cell_type": "code",
   "execution_count": null,
   "metadata": {},
   "outputs": [],
   "source": [
    "#Re-run storms 15 and 22\n",
    "storm_relative_dirs = np.asarray([170, 130])\n",
    "zdrlevs = np.asarray([3.25, 3.25])\n",
    "kdplevs = np.asarray([1.5, 1.5])\n",
    "REFlevs = np.asarray([43, 40])\n",
    "REFlev1s = np.asarray([48, 45])\n",
    "big_storms = np.asarray([300, 300])\n",
    "zero_z_triggers = np.asarray([17, 17])\n",
    "storm_to_tracks = np.asarray([0, 3])\n",
    "years = np.asarray([2013, 2013])\n",
    "months = np.asarray([8, 7])\n",
    "days = np.asarray([13, 4])\n",
    "hours = np.asarray([12, 23])\n",
    "start_mins = np.asarray([20, 0])\n",
    "durations = np.asarray([1.0, 1.6])\n",
    "#calibrations = np.asarray([-0.122, -0.1045])\n",
    "calibrations = np.asarray([-0.31812048,  0.04635963])\n",
    "stations = ['KDIX', 'KJKL']"
   ]
  },
  {
   "cell_type": "code",
   "execution_count": null,
   "metadata": {},
   "outputs": [],
   "source": [
    "#Rerun index 1\n",
    "#Let's start on the CI to tornadogenesis cases, using the tm ending\n",
    "#Case 3 (7/11/17 MVX) may need a slightly lower upper Z threshold\n",
    "storm_relative_dirs = np.asarray([180, 200, 225, 190, 225, 190, 180, 190, 160, 170, 190, 165, 150])\n",
    "zdrlevs = np.asarray([3.25, 3.25, 3.25, 3.25, 3.25, 3.25, 3.25, 3.25, 3.25, 3.25, 3.25, 3.25, 3.25])\n",
    "kdplevs = np.asarray([1.5, 1.5, 1.5, 1.5, 1.5, 1.5, 1.5, 1.5, 1.5, 1.5, 1.5, 1.5, 1.5])\n",
    "#Lowering both Z thresholds for storm 1 as an experiment to see if it tracks better\n",
    "#6/13 case (index 6) changed to higher thresholds for better tracking\n",
    "REFlevs = np.asarray([40, 45, 45, 45, 45, 45, 45, 45, 45, 45, 45, 40, 45])\n",
    "REFlev1s = np.asarray([45, 50, 50, 50, 50, 50, 51, 50, 50, 50, 50, 45, 50])\n",
    "#Storm 0 and 4 big_storm thresholds changed to 3000 to fix suprious storm issues\n",
    "big_storms = np.asarray([3000, 300, 300, 300, 3000, 300, 300, 600, 300, 300, 300, 300, 300])\n",
    "zero_z_triggers = np.asarray([25, 25, 25, 25, 25, 25, 25, 25, 25, 25, 25, 25, 25])\n",
    "\n",
    "storm_to_tracks = np.asarray([7, 6, 0, 0, 2, 5, 6, 4, 6, 1, 3, 7, 0])\n",
    "\n",
    "years = np.asarray([2017, 2016, 2017, 2017, 2015, 2018, 2016, 2014, 2014, 2017, 2016, 2018, 2015])\n",
    "months = np.asarray([4, 8, 2, 7, 7, 6, 6, 6, 5, 5, 5, 5, 11])\n",
    "#days = np.asarray([2, 27, 7, 11, 14, 11, 13, 18, 11, 18, 24, 29, 16])\n",
    "#Arrays for starting each before definite CI\n",
    "days = np.asarray([2, 27, 7, 11, 13, 11, 13, 18, 11, 18, 24, 29, 16])\n",
    "hours = np.asarray([17, 19, 20, 22, 23, 21, 22, 2, 19, 17, 22, 20, 22])#0 starts at 1700start time for 1 should be 1930\n",
    "start_mins = np.asarray([0, 30, 11, 0, 30, 30, 0, 30, 30, 30, 0, 35, 0])\n",
    "durations = np.asarray([2.5, 4.1, 2.7, 3.3, 3.5, 1.7, 3.6, 2.6, 2.2, 2.7, 2.1, 2.1, 3.2])#0 is 2.5 Duration for 1 should be 4.1\n",
    "#calibrations = np.asarray([0.0, 0.0, 0.0, 0.0, 0.0, 0.0, 0.0, 0.0, 0.0, 0.0, 0.0, 0.0, 0.0])\n",
    "#hours = np.asarray([17, 19, 20, 22, 0, 21, 22, 2, 19, 18, 22, 20, 22])\n",
    "#start_mins = np.asarray([30, 30, 30, 0, 0, 30, 0, 30, 55, 17, 18, 35, 25])\n",
    "#durations = np.asarray([2.0, 2.1, 2.2, 3.3, 3.0, 1.7, 3.6, 2.6, 1.7, 1.9, 1.5, 2.1, 2.7])\n",
    "h_calstm = np.asarray([4222, 2814, 3262, 3879, 4322, 4337, -9999, 4239, -9999, 3996, 3622, 3607, 2836])\n",
    "calibrations = np.asarray([0.24654077,-0.29092033,-0.04043363,-0.40814037,0.01141649,-0.10784184, 0.0, -0.37320317, -9999, 0.12815689,-0.11664482,0.13532972,-0.00115097])\n",
    "stations = ['KPOE', 'KMVX', 'KDGX', 'KMVX', 'KIND', 'KOAX', 'KAMA', 'KFSD', 'KUEX', 'KFDR', 'KDDC', 'KDDC', 'KAMA']"
   ]
  },
  {
   "cell_type": "code",
   "execution_count": null,
   "metadata": {},
   "outputs": [],
   "source": [
    "#Loses track of KTLX storm twice\n",
    "storm_relative_dirs = np.asarray([180, 155, 180, 120, 130])\n",
    "zdrlevs = np.asarray([3.25, 3.25, 3.25, 3.25, 3.25])\n",
    "kdplevs = np.asarray([1.5, 1.5, 1.5, 1.5, 1.5])\n",
    "REFlevs = np.asarray([45, 45, 45, 45, 45])\n",
    "REFlev1s = np.asarray([50, 50, 50, 50, 50])\n",
    "big_storms = np.asarray([300, 300, 300, 300, 300])\n",
    "zero_z_triggers = np.asarray([25, 25, 25, 25, 25])\n",
    "storm_to_tracks = np.asarray([13, 0, 9, 1, 0])\n",
    "years = np.asarray([2015, 2016, 2018, 2016, 2017])\n",
    "months = np.asarray([5, 3, 10, 5, 3])\n",
    "days = np.asarray([6, 30, 13, 9, 28])\n",
    "hours = np.asarray([20, 23, 11, 20, 18])\n",
    "start_mins = np.asarray([30, 0, 30, 30, 0])\n",
    "durations = np.asarray([2.7, 2.5, 2.6, 3.0, 2.5])\n",
    "#calibrations = np.asarray([0.0, 0.0, 0.0, 0.0, 0.0])\n",
    "calibrations = np.asarray([-0.52033732,  0.02887196,  0.00513626, -0.23103036, -0.25405067])\n",
    "stations = ['KTLX', 'KINX', 'KSJT', 'KOAX', 'KLBB']"
   ]
  },
  {
   "cell_type": "code",
   "execution_count": null,
   "metadata": {},
   "outputs": [],
   "source": [
    "#2015 cases that need the local radar files\n",
    "storm_relative_dirs = np.asarray([260, 190, 180, 140, 190])\n",
    "zdrlevs = np.asarray([3.25, 3.25, 3.25, 3.25, 3.25])\n",
    "kdplevs = np.asarray([1.5, 1.5, 1.5, 1.5, 1.5])\n",
    "REFlevs = np.asarray([45, 45, 45, 43, 45])\n",
    "REFlev1s = np.asarray([50, 48, 50, 48, 50])\n",
    "big_storms = np.asarray([300, 300, 300, 300, 300])\n",
    "zero_z_triggers = np.asarray([25, 25, 25, 25, 25])\n",
    "storm_to_tracks = np.asarray([6, 11, 2, 1, 0])\n",
    "years = np.asarray([2015, 2015, 2015, 2015, 2015])\n",
    "months = np.asarray([6, 6, 5, 5, 5])\n",
    "days = np.asarray([27, 23, 6, 9, 27])\n",
    "hours = np.asarray([21, 20, 20, 21, 19])\n",
    "start_mins = np.asarray([0, 30, 30, 0, 0])\n",
    "durations = np.asarray([3.0, 2.1, 2.6, 2.1, 2.6])\n",
    "#calibrations = np.asarray([0.0, 0.0, 0.0, 0.0, 0.0])\n",
    "calibrations = np.asarray([-0.33430473,  0.06680731,  0.04059035,  0.18540907, -0.01869792])\n",
    "stations = ['KMVX', 'KDVN', 'KVNX', 'KFDR', 'KDDC']\n",
    "localfolder = ['June27MVX','June22DVN','May6VNX','May9FDR','May27DDC']"
   ]
  },
  {
   "cell_type": "code",
   "execution_count": 4,
   "metadata": {},
   "outputs": [],
   "source": [
    "#Arrays for nontornadic storms\n",
    "#May need to rerun 0, 6\n",
    "storm_relative_dirs = np.asarray([180, 190, 190, 220, 180, 220, 170, 170, 160])\n",
    "zdrlevs = np.asarray([3.25, 3.25, 3.25, 3.25, 3.25, 3.25, 3.25, 3.25, 3.25])\n",
    "kdplevs = np.asarray([1.5, 1.5, 1.5, 1.5, 1.5, 1.5, 1.5, 1.5, 1.5])\n",
    "REFlevs = np.asarray([45, 45, 45, 45, 45, 45, 45, 45, 45])\n",
    "REFlev1s = np.asarray([50, 50, 50, 50, 50, 50, 50, 50, 50])\n",
    "big_storms = np.asarray([300, 300, 300, 300, 300, 300, 300, 300, 300])\n",
    "zero_z_triggers = np.asarray([25, 25, 25, 25, 25, 25, 25, 25, 25])\n",
    "storm_to_tracks = np.asarray([5, 4, 0, 2, 0, 2, 2, 8, 35])\n",
    "years = np.asarray([2018, 2018, 2018, 2017, 2016, 2017, 2018, 2016, 2016])\n",
    "months = np.asarray([5, 5, 7, 7, 7, 8, 5, 1, 1])\n",
    "days = np.asarray([1, 1, 2, 7, 18, 12, 19, 8, 21])\n",
    "hours = np.asarray([19, 21, 22, 23, 19, 19, 23, 23, 21])\n",
    "start_mins = np.asarray([30, 30, 0, 40, 30, 30, 0, 0, 0])\n",
    "durations = np.asarray([3.2, 1.6, 4.5, 2.3, 4.5, 4.4, 3.5, 3.0, 1.5])\n",
    "#calibrations = np.asarray([0.0, 0.0, 0.0, 0.0, 0.0, 0.0, 0.0, 0.0, 0.0])\n",
    "calibrations = np.asarray([-0.44381133,  0.23969144, -0.50558182, -0.4124405,  -0.08722788, -0.09027468, -9999, -0.20789162, -0.06548173])\n",
    "stations = ['KUEX', 'KDDC', 'KLNX', 'KGLD', 'KUDX', 'KLNX', 'KLBB', 'KHGX', 'KDGX']"
   ]
  },
  {
   "cell_type": "code",
   "execution_count": null,
   "metadata": {},
   "outputs": [],
   "source": [
    "#Arrays for 2015 nontor cases\n",
    "#indices 2, ... will need 2015 local files\n",
    "storm_relative_dirs = np.asarray([150, 215, 210, 190, 190, 200, 140])\n",
    "zdrlevs = np.asarray([3.25, 3.25, 3.25, 3.25, 3.25, 3.25, 3.25])\n",
    "kdplevs = np.asarray([1.5, 1.5, 1.5, 1.5, 1.5, 1.5, 1.5])\n",
    "REFlevs = np.asarray([45, 45, 45, 45, 45, 45, 45])\n",
    "REFlev1s = np.asarray([50, 50, 50, 50, 50, 50, 50])\n",
    "big_storms = np.asarray([300, 300, 300, 300, 300, 300, 300])\n",
    "zero_z_triggers = np.asarray([25, 25, 25, 25, 25, 25, 25])\n",
    "storm_to_tracks = np.asarray([13, 2, 5, 2, 2, 1, 8])\n",
    "years = np.asarray([2015, 2015, 2015, 2015, 2015, 2015, 2015])\n",
    "months = np.asarray([5, 6, 7, 8, 4, 5, 9])\n",
    "days = np.asarray([8, 4, 13, 4, 11, 27, 18])\n",
    "hours = np.asarray([19, 1, 21, 18, 21, 20, 12])\n",
    "start_mins = np.asarray([0, 0, 0, 0, 0, 0, 30])\n",
    "durations = np.asarray([1.5, 0.6, 2.5, 2.0, 4.0, 2.8, 1.6])#DDC should be 3.5\n",
    "#calibrations = np.asarray([0.0, 0.0, 0.0, 0.0, 0.0, 0.0, 0.0, 0.0])\n",
    "calibrations = np.asarray([-0.71047751, 0.0, 0.0557052622239, -9999, -9999,  0.10558389, -0.34540444])#DDC should be -9999\n",
    "stations = ['KLBB', 'KDDC', 'KDVN', 'KGLD', 'KAMA', 'KAMA', 'KUEX']\n",
    "localfolder = ['','','July13DVN','','','','']"
   ]
  },
  {
   "cell_type": "code",
   "execution_count": null,
   "metadata": {},
   "outputs": [],
   "source": [
    "#Array for KUEX 8/9/14 nontornadic cycling case\n",
    "storm_relative_dirs = np.asarray([195])\n",
    "zdrlevs = np.asarray([3.25])\n",
    "kdplevs = np.asarray([1.5])\n",
    "REFlevs = np.asarray([46])\n",
    "REFlev1s = np.asarray([51])\n",
    "big_storms = np.asarray([300])\n",
    "zero_z_triggers = np.asarray([25])\n",
    "storm_to_tracks = np.asarray([8])\n",
    "years = np.asarray([2014])\n",
    "months = np.asarray([8])\n",
    "days = np.asarray([9])\n",
    "hours = np.asarray([ 23])\n",
    "start_mins = np.asarray([30])\n",
    "durations = np.asarray([2.0])\n",
    "calibrations = np.asarray([-0.239268128574])\n",
    "stations = ['KUEX']"
   ]
  },
  {
   "cell_type": "code",
   "execution_count": null,
   "metadata": {},
   "outputs": [],
   "source": [
    "#Setting up arrays for new tornadic supercells\n",
    "storm_relative_dirs = np.asarray([190, 165, 160, 180, 185, 130, 210])\n",
    "zdrlevs = np.asarray([3.25, 3.25, 3.25, 3.25, 3.25, 3.25, 3.25])\n",
    "kdplevs = np.asarray([1.5, 1.5, 1.5, 1.5, 1.5, 1.5, 1.5])\n",
    "REFlevs = np.asarray([35, 45, 45, 45, 45, 40, 35])\n",
    "REFlev1s = np.asarray([40, 50, 50, 50, 50, 45, 40])\n",
    "big_storms = np.asarray([300, 300, 300, 300, 300, 300, 300])\n",
    "zero_z_triggers = np.asarray([25, 25, 25, 25, 25, 25, 25])\n",
    "storm_to_tracks = np.asarray([0, 6, 2, 3, 2, 8, 2])\n",
    "years = np.asarray([2016, 2016, 2017, 2016, 2016, 2015, 2014])\n",
    "months = np.asarray([5, 11, 10, 3, 11, 12, 9])\n",
    "days = np.asarray([10, 29, 21, 31, 30, 25, 10])\n",
    "hours = np.asarray([19, 20, 21, 22, 0, 21, 20])\n",
    "start_mins = np.asarray([0, 30, 0, 0, 40, 0, 0])\n",
    "durations = np.asarray([2.0, 2.6, 2.6, 3.0, 1.3, 2.6, 2.5])\n",
    "#calibrations = np.asarray([0.0, 0.0, 0.0, 0.0, 0.0, 0.0, 0.0])\n",
    "calibrations = np.asarray([-0.1070254,  -0.12881671, -0.13162509,  0.1080139,  -0.01120928,  0.24232373, -0.0229002])\n",
    "stations = ['KPAH', 'KDGX', 'KFDR', 'KGWX', 'KGWX', 'KBMX', 'KCLE']"
   ]
  },
  {
   "cell_type": "code",
   "execution_count": 2,
   "metadata": {},
   "outputs": [],
   "source": [
    "#Array for new nontornadic cases\n",
    "storm_relative_dirs = np.asarray([185, 185, 150, 165])\n",
    "zdrlevs = np.asarray([3.25, 3.25, 3.25, 3.25])\n",
    "kdplevs = np.asarray([1.5, 1.5, 1.5, 1.5])\n",
    "REFlevs = np.asarray([45, 45, 42, 45])\n",
    "REFlev1s = np.asarray([50, 50, 47, 50])\n",
    "big_storms = np.asarray([300, 300, 300, 300])\n",
    "zero_z_triggers = np.asarray([25, 25, 25, 25])\n",
    "storm_to_tracks = np.asarray([0, 5, 3, 7])\n",
    "years = np.asarray([2018, 2016, 2016, 2016])\n",
    "months = np.asarray([5, 5, 4, 4])\n",
    "days = np.asarray([14, 24, 10, 11])\n",
    "hours = np.asarray([19, 0, 20, 0])\n",
    "start_mins = np.asarray([30, 30, 30, 30])\n",
    "durations = np.asarray([3.0, 3.5, 2.6, 3.0])\n",
    "#calibrations = np.asarray([0.0, 0.0, 0.0, 0.0])\n",
    "calibrations = np.asarray([-0.30550674, -0.12547699, -0.05773242, -0.15629388])\n",
    "stations = ['KSJT', 'KUEX', 'KLBB', 'KFDR']"
   ]
  },
  {
   "cell_type": "code",
   "execution_count": null,
   "metadata": {},
   "outputs": [],
   "source": [
    "#Last array for new cases (NOT all including CI)\n",
    "storm_relative_dirs = np.asarray([165, 170, 155, 145, 175, 200, 185, 170])\n",
    "zdrlevs = np.asarray([3.25, 3.25, 3.25, 3.25, 3.25, 3.25, 3.25, 3.25])\n",
    "kdplevs = np.asarray([1.5, 1.5, 1.5, 1.5, 1.5, 1.5, 1.5, 1.5])\n",
    "REFlevs = np.asarray([45, 45, 45, 45, 45, 45, 45, 45])\n",
    "REFlev1s = np.asarray([50, 50, 50, 50, 50, 50, 50, 50])\n",
    "big_storms = np.asarray([300, 300, 300, 300, 300, 300, 300, 300])\n",
    "zero_z_triggers = np.asarray([25,25,25,25,25,25,25,25])\n",
    "storm_to_tracks = np.asarray([13,0,5,2,2,2,0,1])\n",
    "years = np.asarray([2015, 2016, 2017, 2018, 2015, 2019, 2019, 2019])\n",
    "months = np.asarray([5, 3, 2, 12, 6, 3, 3, 3])\n",
    "days = np.asarray([16, 16, 28, 1, 20, 3, 23, 14])\n",
    "hours = np.asarray([21, 0, 21, 22, 2, 19, 22, 23])\n",
    "start_mins = np.asarray([50, 0, 0, 0, 30, 0, 0, 0])\n",
    "durations = np.asarray([2.0, 2.0, 2.0, 2.0, 1.5, 1.5, 2.0, 3.0])\n",
    "calibrations = np.asarray([-0.065252547, -0.241651445, -0.076593783, -0.016421991, -0.535985114, -0.282475955, -0.247420073, -0.328112491])\n",
    "stations = ['KFDR', 'KILX', 'KDVN', 'KILX', 'KUDX', 'KMXX', 'KTLX', 'KBMX']\n",
    "localfolder = ['Elmer','','','','','','','']"
   ]
  },
  {
   "cell_type": "code",
   "execution_count": null,
   "metadata": {},
   "outputs": [],
   "source": [
    "#Arrays for environmental variability tor cases\n",
    "#Don't run 1, 2, 4, 5, 7\n",
    "storm_relative_dirs = np.asarray([180, 215, 205, 190, 120, 165, 190, 190, 180, 220])\n",
    "zdrlevs = np.asarray([3.25, 3.25, 3.25, 3.25, 3.25, 3.25, 3.25, 3.25, 3.25, 3.25])\n",
    "kdplevs = np.asarray([1.5, 1.5, 1.5, 1.5, 1.5, 1.5, 1.5, 1.5, 1.5, 1.5])\n",
    "REFlevs = np.asarray([45, 45, 45, 43, 45, 45, 45, 45, 45, 45])\n",
    "REFlev1s = np.asarray([50, 50, 50, 48, 50, 50, 50, 50, 50, 50])\n",
    "big_storms = np.asarray([300, 300, 300, 300, 300, 300, 300, 300, 300, 300])\n",
    "zero_z_triggers = np.asarray([25, 25, 25, 25, 25, 25, 25, 25, 25, 25])\n",
    "\n",
    "storm_to_tracks = np.asarray([1, 2, 2, 2, 2, 2, 0, 2, 1, 0])\n",
    "\n",
    "years = np.asarray([2012, 2013, 2013, 2013, 2013, 2013, 2012, 2013, 2012, 2012])\n",
    "months = np.asarray([4, 5, 5, 4, 4, 4, 2, 5, 3, 5])\n",
    "days = np.asarray([15, 17, 20, 18, 11, 9, 29, 23, 2, 30])\n",
    "hours = np.asarray([0, 23, 21, 0, 23, 2, 0, 19, 21, 22])\n",
    "start_mins = np.asarray([30, 30, 0, 30, 30, 0, 0, 0, 0, 15])\n",
    "durations = np.asarray([1.6, 1.6, 2.2, 1.6, 1.5, 1.1, 1.0, 1.6, 2.6, 2.8])\n",
    "#calibrations = np.asarray([0.04, -0.10, -0.14, 0.38, -0.09, -0.14, 0.07, -0.22, 0.12, -0.23])\n",
    "calibrations = np.asarray([ 0.14438501,-0.01733875,-0.09234088,0.05243196,-0.12549855,-0.44892982,0.09709701,-0.2125953,0.06406146,-0.36826425])\n",
    "stations = ['KDDC', 'KDYX', 'KDYX', 'KFDR', 'KFFC', 'KGLD', 'KICT', 'KLBB', 'KOHX', 'KSJT']"
   ]
  },
  {
   "cell_type": "code",
   "execution_count": null,
   "metadata": {},
   "outputs": [],
   "source": []
  },
  {
   "cell_type": "code",
   "execution_count": null,
   "metadata": {},
   "outputs": [],
   "source": [
    "#Next array for env var tor cases\n",
    "#Don't run 1, 5, 6, 8, 10\n",
    "storm_relative_dirs = np.asarray([145, 180, 170, 195, 170, 180, 125, 170, 175, 140, 120])\n",
    "zdrlevs = np.asarray([3.25, 3.25, 3.25, 3.25, 3.25, 3.25, 3.25, 3.25, 3.25, 3.25, 3.25])\n",
    "kdplevs = np.asarray([1.5, 1.5, 1.5, 1.5, 1.5, 1.5, 1.5, 1.5, 1.5, 1.5, 1.5])\n",
    "REFlevs = np.asarray([45, 45, 45, 45, 45, 47, 45, 45, 45, 45, 45])\n",
    "REFlev1s = np.asarray([50, 50, 50, 50, 50, 52, 50, 50, 50, 50, 50])\n",
    "big_storms = np.asarray([300, 300, 300, 300, 300, 300, 300, 300, 300, 300, 300])\n",
    "zero_z_triggers = np.asarray([25, 25, 25, 25, 25, 25, 25, 25, 25, 25, 25])\n",
    "storm_to_tracks = np.asarray([0, 2, 1, 2, 0, 2, 2, 0, 2, 0, 2])\n",
    "years = np.asarray([2013, 2013, 2013, 2013, 2012, 2013, 2013, 2013, 2014, 2013, 2013])\n",
    "months = np.asarray([1, 2, 4, 5, 2, 5, 6, 7, 7, 6, 6])\n",
    "days = np.asarray([29, 25, 14, 20, 29, 27, 6, 9, 7, 4, 27])\n",
    "hours = np.asarray([20, 18, 19, 19, 1, 22, 11, 20, 2, 18, 18])\n",
    "start_mins = np.asarray([30, 0, 30, 0, 30, 15, 45, 0, 30, 0, 0])\n",
    "durations = np.asarray([1.0, 1.0, 1.0, 2.0, 1.5, 2.7, 1.0, 1.0, 2.2, 2.0, 1.0])\n",
    "#calibrations = np.asarray([-0.52, -0.10, 0.0, -0.24, 0.21, -0.01, -0.12, -0.36, -0.40, -0.21, 0.04])\n",
    "calibrations = np.asarray([-0.34449871,0.04987141,-0.09060952,-0.53722918,0.07064053,-0.13477933,0.09973725,-0.22293442,-0.38307349,-0.05275349,0.16399596])\n",
    "stations = ['KSRX', 'KTLH', 'KTLH', 'KTLX', 'KTWX', 'KUEX', 'KAMX', 'KBIS', 'KBIS', 'KCAE', 'KCCX']"
   ]
  },
  {
   "cell_type": "code",
   "execution_count": null,
   "metadata": {},
   "outputs": [],
   "source": []
  },
  {
   "cell_type": "code",
   "execution_count": null,
   "metadata": {},
   "outputs": [],
   "source": [
    "#More env var tor cases\n",
    "#Don't run 1, 3, 4, 6, 9,  \n",
    "storm_relative_dirs = np.asarray([205, 150, 110, 190, 215, 165, 75, 150, 170, 135])\n",
    "zdrlevs = np.asarray([3.25, 3.25, 3.25, 3.25, 3.25, 3.25, 3.25, 3.25, 3.25, 3.25])\n",
    "kdplevs = np.asarray([1.5, 1.5, 1.5, 1.5, 1.5, 1.5, 1.5, 1.5, 1.5, 1.5])\n",
    "REFlevs = np.asarray([45, 45, 35, 45, 45, 45, 45, 45, 45, 45])\n",
    "REFlev1s = np.asarray([50, 50, 40, 50, 50, 50, 50, 50, 50, 50])\n",
    "big_storms = np.asarray([300, 300, 300, 300, 300, 300, 300, 300, 300, 300])\n",
    "zero_z_triggers = np.asarray([25, 25, 25, 25, 25, 25, 25, 25, 25, 25])\n",
    "storm_to_tracks = np.asarray([7, 2, 3, 2, 2, 10, 2, 3, 0, 2])\n",
    "years = np.asarray([2013, 2013, 2013, 2013, 2013, 2013, 2013, 2013, 2013, 2013])\n",
    "months = np.asarray([8, 6, 8, 7, 6, 6, 7, 11, 6, 6])\n",
    "days = np.asarray([7, 22, 18, 15, 17, 2, 7, 17, 12, 13])\n",
    "hours = np.asarray([18, 21, 23, 21, 22, 19, 0, 16, 21, 18])\n",
    "start_mins = np.asarray([0, 0, 0, 0, 0, 30, 0, 30, 0, 30])\n",
    "durations = np.asarray([2.0, 1.1, 1.1, 1.1, 1.5, 1.1, 1.0, 1.1, 1.0, 0.6])\n",
    "#calibrations = np.asarray([-0.20, -0.04, -0.42, -0.39, -0.40, -0.54, -0.45, -0.06, 0.06, 0.03])\n",
    "calibrations = np.asarray([-0.08850059,-0.0138818,0.03303496,-0.74955061,-0.40869113,-0.33007224,-0.13974519,-0.16262346,-0.05938777,-0.04589936])\n",
    "stations = ['KCLE', 'KCYS', 'KFFC', 'KGGW', 'KGLD', 'KGSP', 'KHPX', 'KILX', 'KLOT', 'KLWX']"
   ]
  },
  {
   "cell_type": "code",
   "execution_count": null,
   "metadata": {},
   "outputs": [],
   "source": []
  },
  {
   "cell_type": "code",
   "execution_count": null,
   "metadata": {},
   "outputs": [],
   "source": [
    "#Last array for env var tor cases\n",
    "storm_relative_dirs = np.asarray([125, 140, 220, 170, 180])\n",
    "zdrlevs = np.asarray([3.25, 3.25, 3.25, 3.25, 3.25, 3.25, 3.25, 3.25, 3.25, 3.25])\n",
    "kdplevs = np.asarray([1.5, 1.5, 1.5, 1.5, 1.5, 1.5, 1.5, 1.5, 1.5, 1.5])\n",
    "REFlevs = np.asarray([30, 45, 45, 45, 45, 45, 45, 45, 45, 45])\n",
    "REFlev1s = np.asarray([35, 50, 50, 50, 50, 50, 50, 50, 50, 50])\n",
    "big_storms = np.asarray([300, 300, 300, 300, 300, 300, 300, 300, 300, 300])\n",
    "zero_z_triggers = np.asarray([25, 25, 25, 25, 25, 25, 25, 25, 25, 25])\n",
    "storm_to_tracks = np.asarray([0, 1, 2, 3, 1])\n",
    "years = np.asarray([2013, 2013, 2013, 2013, 2013])\n",
    "months = np.asarray([7, 12, 7, 10, 11])\n",
    "days = np.asarray([1, 21, 21, 4, 17])\n",
    "hours = np.asarray([23, 0, 22, 3, 19])\n",
    "start_mins = np.asarray([0, 0, 30, 0, 0])\n",
    "durations = np.asarray([1.0, 1.0, 1.6, 1.0, 1.0])\n",
    "#calibrations = np.asarray([0.09, -0.23, 0.12, -0.38, -0.06])\n",
    "calibrations = np.asarray([0.26853497, -0.10508618, -0.04983709, -0.45382416, -0.00231145])\n",
    "stations = ['KLWX', 'KLZK', 'KMBX', 'KOAX', 'KPAH']"
   ]
  },
  {
   "cell_type": "code",
   "execution_count": null,
   "metadata": {},
   "outputs": [],
   "source": [
    "#Starting nontor env variability cases\n",
    "#Get rid of indices 5, 10, 11\n",
    "storm_relative_dirs = np.asarray([150, 140, 165, 170, 130, 170, 180, 170, 180, 125, 160, 150])\n",
    "zdrlevs = np.asarray([3.25, 3.25, 3.25, 3.25, 3.25, 3.25, 3.25, 3.25, 3.25, 3.25, 3.25, 3.25])\n",
    "kdplevs = np.asarray([1.5, 1.5, 1.5, 1.5, 1.5, 1.5, 1.5, 1.5, 1.5, 1.5, 1.5, 1.5])\n",
    "REFlevs = np.asarray([45, 45, 45, 45, 45, 45, 45, 45, 45, 45, 45, 45])\n",
    "REFlev1s = np.asarray([50, 50, 50, 50, 50, 50, 50, 50, 50, 50, 50, 50])\n",
    "big_storms = np.asarray([300, 300, 300, 300, 300, 300, 300, 300, 300, 300, 300, 300])\n",
    "zero_z_triggers = np.asarray([25, 25, 25, 25, 25, 25, 25, 25, 25, 25, 25, 25])\n",
    "storm_to_tracks = np.asarray([1, 2, 1, 0, 1, 2, 0, 0, 1, 3, 2, 2])\n",
    "years = np.asarray([2013, 2012, 2014, 2014, 2014, 2013, 2013, 2014, 2013, 2014, 2013, 2012])\n",
    "months = np.asarray([8, 4, 7, 3, 7, 2, 5, 5, 6, 4, 3, 4])\n",
    "days = np.asarray([10, 29, 7, 15, 3, 10, 10, 21, 17, 29, 20, 28])\n",
    "hours = np.asarray([18, 8, 20, 21, 19, 8, 2, 1, 19, 19, 7, 22])\n",
    "start_mins = np.asarray([0, 0, 30, 0, 30, 0, 0, 30, 30, 30, 0, 30])\n",
    "durations = np.asarray([1.0, 1.0, 1.6, 1.5, 1.7, 1.1, 1.1, 1.8, 2.3, 2.0, 1.0, 1.5])\n",
    "#calibrations = np.asarray([-0.05, -0.03, -0.36, -0.24, -0.11, -0.14, -0.31, -0.33, -0.57, 0.08, 0.20, 0.29])\n",
    "calibrations = np.asarray([-0.03755074,-0.02629698,-0.33006383,-0.22271409,-0.1494719,-0.2057301,-0.28715707,-0.24579403,-0.54047477,-0.01852107,-0.00469297,-0.07877997])\n",
    "stations = ['KAKQ', 'KAMA', 'KBOX', 'KDYX', 'KENX', 'KEWX', 'KEWX', 'KGLD', 'KGRB', 'KGRR', 'KHGX', 'KLSX']"
   ]
  },
  {
   "cell_type": "code",
   "execution_count": null,
   "metadata": {},
   "outputs": [],
   "source": []
  },
  {
   "cell_type": "code",
   "execution_count": null,
   "metadata": {},
   "outputs": [],
   "source": [
    "#Starting new cases collected in 2019\n",
    "#One skipped detection on 3 might be worth rerunning tracking for\n",
    "storm_relative_dirs = np.asarray([115, 150, 150, 175, 200, 115])\n",
    "zdrlevs = np.asarray([3.25, 3.25, 3.25, 3.25, 3.25, 3.25])\n",
    "kdplevs = np.asarray([1.5, 1.5, 1.5, 1.5, 1.5, 1.5])\n",
    "REFlevs = np.asarray([45, 45, 45, 45, 45, 45])\n",
    "REFlev1s = np.asarray([50, 50, 50, 50, 50, 50])\n",
    "big_storms = np.asarray([300, 300, 300, 300, 300, 300])\n",
    "zero_z_triggers = np.asarray([25, 25, 25, 25, 25, 25])\n",
    "storm_to_tracks = np.asarray([2, 2, 2, 2, 2, 2])\n",
    "years = np.asarray([2014, 2016, 2017, 2017, 2018, 2018])\n",
    "months = np.asarray([5, 11, 1, 1, 5, 5])\n",
    "days = np.asarray([21, 27, 21, 21, 14, 31])\n",
    "hours = np.asarray([19, 22, 22, 23, 22, 20])\n",
    "start_mins = np.asarray([0, 0, 0, 0, 0, 30])\n",
    "durations = np.asarray([2.1, 1.6, 2.1, 2.1, 2.1, 2.6])\n",
    "#calibrationstm = np.asarray([0.0])\n",
    "stations = ['KFTG', 'KUEX', 'KSHV', 'KPOE', 'KICT', 'KSFX']\n",
    "h_calstm = np.asarray([2587, 2227, 2999, 3259, 4099, 2300])\n",
    "calibrations = np.asarray([-0.201346984,0.084549832,0.010542098,0.258184749,-0.012327199,-0.104307122])"
   ]
  },
  {
   "cell_type": "code",
   "execution_count": null,
   "metadata": {},
   "outputs": [],
   "source": [
    "#Rerun 0,1,2,3--update: these have been run\n",
    "#Some duplicates/qc issues exist for 5\n",
    "storm_relative_dirs = np.asarray([160, 120, 180, 155, 160, 180])\n",
    "zdrlevs = np.asarray([3.25, 3.25, 3.25, 3.25, 3.25, 3.25])\n",
    "kdplevs = np.asarray([1.5, 1.5, 1.5, 1.5, 1.5, 1.5])\n",
    "REFlevs = np.asarray([43, 40, 40, 40, 40, 45])\n",
    "REFlev1s = np.asarray([48, 45, 45, 45, 45, 50])\n",
    "big_storms = np.asarray([10000, 300, 300, 300, 300, 300])\n",
    "zero_z_triggers = np.asarray([25, 25, 25, 25, 25, 25])\n",
    "storm_to_tracks = np.asarray([2, 2, 2, 2, 2, 2])\n",
    "years = np.asarray([2019, 2019, 2019, 2019, 2019, 2019])\n",
    "months = np.asarray([4, 4, 4, 5, 4, 5])\n",
    "days = np.asarray([13, 14, 30, 1, 30, 5])\n",
    "hours = np.asarray([14, 18, 18, 0, 20, 21])\n",
    "start_mins = np.asarray([0, 0, 0, 0, 30, 0])\n",
    "durations = np.asarray([2.1, 1.6, 3.1, 2.1, 2.6, 3.1])\n",
    "#calibrationstm = np.asarray([0.0])\n",
    "stations = ['KGRK', 'KILN', 'KINX', 'KSGF', 'KFDR', 'KLBB']\n",
    "h_calstm = np.asarray([3940, 2971, 4009, 3682, 4167, 3223])\n",
    "calibrations = np.asarray([-0.345184658,-0.141269421,-0.007423393,0.020613763,-0.34237761,-0.160463976])"
   ]
  },
  {
   "cell_type": "code",
   "execution_count": null,
   "metadata": {},
   "outputs": [],
   "source": [
    "#Rerun 1, 2, 3-successfully rerun\n",
    "#0 has some duplicate/qc issues\n",
    "storm_relative_dirs = np.asarray([225, 210, 180, 155, 180, 185])\n",
    "zdrlevs = np.asarray([3.25, 3.25, 3.25, 3.25, 3.25, 3.25])\n",
    "kdplevs = np.asarray([1.5, 1.5, 1.5, 1.5, 1.5, 1.5])\n",
    "REFlevs = np.asarray([45, 45, 45, 45, 45, 45])\n",
    "REFlev1s = np.asarray([50, 50, 50, 50, 50, 50])\n",
    "big_storms = np.asarray([300, 300, 300, 300, 300, 300])\n",
    "zero_z_triggers = np.asarray([25, 25, 25, 25, 25, 25])\n",
    "storm_to_tracks = np.asarray([2, 2, 2, 2, 2, 2])\n",
    "years = np.asarray([2019, 2019, 2019, 2019, 2019, 2019])\n",
    "months = np.asarray([5, 5, 5, 5, 5, 5])\n",
    "days = np.asarray([5, 6, 7, 18, 18, 18])\n",
    "hours = np.asarray([21, 0, 20, 0, 5, 10])\n",
    "start_mins = np.asarray([0, 0, 0, 30, 30, 0])\n",
    "durations = np.asarray([4.1, 3.1, 2.1, 3.1, 2.6, 1.6])\n",
    "#calibrationstm = np.asarray([0.0])\n",
    "stations = ['KDDC', 'KICT', 'KLBB', 'KDDC', 'KSJT', 'KDYX']\n",
    "h_calstm = np.asarray([3191, 3280, 3229, 3508, 3809, 3695])\n",
    "calibrations = np.asarray([-0.054343798,-0.03147713,-0.094012759,0.115299988,-0.138308572,0.011225569])"
   ]
  },
  {
   "cell_type": "code",
   "execution_count": null,
   "metadata": {},
   "outputs": [],
   "source": [
    "#rerun 0, 1 w/ better tracking--update: 0 is good, 1 needs smaller tracking radius?\n",
    "#2 has 1 duplicate storm 0 that should be manually removed, rerun it anyway--has been rerun\n",
    "#5 will need two tracks merged\n",
    "storm_relative_dirs = np.asarray([170, 135, 185, 195, 155, 160])\n",
    "zdrlevs = np.asarray([3.25, 3.25, 3.25, 3.25, 3.25, 3.25])\n",
    "kdplevs = np.asarray([1.5, 1.5, 1.5, 1.5, 1.5, 1.5])\n",
    "REFlevs = np.asarray([40, 40, 45, 45, 45, 45])\n",
    "REFlev1s = np.asarray([45, 45, 50, 50, 50, 50])\n",
    "big_storms = np.asarray([300, 300, 300, 300, 300, 300])\n",
    "zero_z_triggers = np.asarray([25, 25, 25, 25, 25, 25])\n",
    "storm_to_tracks = np.asarray([2, 2, 2, 2, 2, 2])\n",
    "years = np.asarray([2019, 2019, 2019, 2019, 2019, 2019])\n",
    "months = np.asarray([5, 5, 5, 5, 5, 5])\n",
    "days = np.asarray([20, 21, 23, 23, 24, 25])\n",
    "hours = np.asarray([19, 22, 1, 1, 18, 21])\n",
    "start_mins = np.asarray([30, 30, 0, 30, 0, 0])\n",
    "durations = np.asarray([1.5, 1.6, 2.1, 1.6, 2.1, 2.1])\n",
    "#calibrationstm = np.asarray([0.0])\n",
    "stations = ['KTLX', 'KTWX', 'KINX', 'KSGF', 'KILX', 'KLBB']\n",
    "h_calstm = np.asarray([4152, 2864, 4237, 4090, 4230, 3694])\n",
    "calibrations = np.asarray([-0.214722048,0.053339201,-0.094625008,0.141795146,0.050397762,-0.074167319])"
   ]
  },
  {
   "cell_type": "code",
   "execution_count": null,
   "metadata": {},
   "outputs": [],
   "source": [
    "#Redo tracking on 2, look into errors on 4, run 5 and 6 for first time-update : all except 4 ok, 4 may need to be tossed\n",
    "#due to tracking issues\n",
    "#Weird jump from 3:09 to 3:20 on 0\n",
    "storm_relative_dirs = np.asarray([230, 225, 180, 165, 175, 245, 155])\n",
    "zdrlevs = np.asarray([3.25, 3.25, 3.25, 3.25, 3.25, 3.25, 3.25])\n",
    "kdplevs = np.asarray([1.5, 1.5, 1.5, 1.5, 1.5, 1.5, 1.5])\n",
    "REFlevs = np.asarray([45, 45, 45, 45, 42, 45, 45])\n",
    "REFlev1s = np.asarray([50, 50, 50, 50, 47, 50, 50])\n",
    "big_storms = np.asarray([300, 300, 300, 300, 300, 300, 300])\n",
    "zero_z_triggers = np.asarray([25, 25, 25, 25, 25, 25, 25])\n",
    "storm_to_tracks = np.asarray([2, 2, 2, 2, 2, 2, 2])\n",
    "years = np.asarray([2019, 2019, 2019, 2019, 2019, 2019, 2019])\n",
    "months = np.asarray([5, 6, 6, 8, 8, 8, 9])\n",
    "days = np.asarray([28, 9, 24, 11, 13, 15, 29])\n",
    "hours = np.asarray([2, 1, 20, 23, 1, 23, 20])\n",
    "start_mins = np.asarray([0, 0, 0, 0, 0, 30, 0])#4 should be 0\n",
    "durations = np.asarray([2.1, 2.1, 4.1, 2.1, 2.1, 3.1, 2.1])#4 should be 2.1\n",
    "#calibrationstm = np.asarray([0.0])\n",
    "stations = ['KILN', 'KGLD', 'KSJT', 'KGLD', 'KILX', 'KTWX', 'KILX']\n",
    "h_calstm = np.asarray([3812, 3781, 3821, 4145, 4918, 4329, 4188])\n",
    "calibrations = np.asarray([-0.28598503,0.115038666,0.008330403,-0.065630999,0.180579129,-0.005830233,0.113976934])"
   ]
  },
  {
   "cell_type": "code",
   "execution_count": null,
   "metadata": {},
   "outputs": [],
   "source": [
    "#Start of 2019 nontor cases\n",
    "#Check on weird gap at 1:20 in KUEX 7/15, consider redoing tracking\n",
    "#redo tracking on 3, 4\n",
    "\n",
    "storm_relative_dirs = np.asarray([195, 160, 160, 175, 170, 180])\n",
    "zdrlevs = np.asarray([3.25, 3.25, 3.25, 3.25, 3.25, 3.25])\n",
    "kdplevs = np.asarray([1.5, 1.5, 1.5, 1.5, 1.5, 1.5])\n",
    "REFlevs = np.asarray([45, 45, 45, 42, 45, 45])\n",
    "REFlev1s = np.asarray([50, 50, 50, 47, 50, 50])\n",
    "big_storms = np.asarray([300, 300, 300, 300, 300, 300])\n",
    "zero_z_triggers = np.asarray([25, 25, 25, 25, 25, 25])\n",
    "storm_to_tracks = np.asarray([2, 2, 2, 2, 2, 2])\n",
    "years = np.asarray([2015, 2015, 2015, 2017, 2018, 2019])\n",
    "months = np.asarray([6, 7, 7, 3, 8, 4])\n",
    "days = np.asarray([1, 16, 15, 26, 6, 4])\n",
    "hours = np.asarray([23, 0, 23, 22, 20, 0])\n",
    "start_mins = np.asarray([0, 0, 0, 30, 0, 0])\n",
    "durations = np.asarray([2.1, 2.1, 2.1, 1.6, 2.1, 2.1])\n",
    "#calibrationstm = np.asarray([0.0])\n",
    "stations = ['KUDX', 'KUEX', 'KTWX', 'KTLX', 'KPUX', 'KFDR']\n",
    "h_calstm = np.asarray([3426, 4437, 4551, 3274, 3515, 3108])\n",
    "calibrations = np.asarray([-0.1087511,-0.119518411,0.18185671,-0.293961857,-0.166763571,-0.430197037])"
   ]
  },
  {
   "cell_type": "code",
   "execution_count": null,
   "metadata": {},
   "outputs": [],
   "source": [
    "storm_relative_dirs = np.asarray([145, 205, 200, 220, 180, 175])\n",
    "zdrlevs = np.asarray([3.25, 3.25, 3.25, 3.25, 3.25, 3.25])\n",
    "kdplevs = np.asarray([1.5, 1.5, 1.5, 1.5, 1.5, 1.5])\n",
    "REFlevs = np.asarray([45, 45, 45, 45, 45, 45])\n",
    "REFlev1s = np.asarray([50, 50, 50, 50, 50, 50])\n",
    "big_storms = np.asarray([300, 300, 300, 300, 300, 300])\n",
    "zero_z_triggers = np.asarray([25, 25, 25, 25, 25, 25])\n",
    "storm_to_tracks = np.asarray([2, 2, 2, 2, 2, 2])\n",
    "years = np.asarray([2019, 2019, 2019, 2019, 2019, 2019])\n",
    "months = np.asarray([4, 4, 5, 5, 5, 5])\n",
    "days = np.asarray([13, 28, 3, 5, 8, 22])\n",
    "hours = np.asarray([11, 22, 20, 21, 9, 23])\n",
    "start_mins = np.asarray([0, 0, 0, 30, 30, 0])\n",
    "durations = np.asarray([2.1, 2.1, 2.1, 1.5, 2.1, 2.1])\n",
    "#calibrationstm = np.asarray([0.0])\n",
    "stations = ['KDFX', 'KGLD', 'KMAF', 'KUEX', 'KSJT', 'KFDR']\n",
    "h_calstm = np.asarray([3438, 3047, 2946, 2821, 3631, 4535])\n",
    "calibrations = np.asarray([-0.328652651,0.022225182,-0.128828107,-0.122907107,-0.252498989,-0.143309465])"
   ]
  },
  {
   "cell_type": "code",
   "execution_count": null,
   "metadata": {},
   "outputs": [],
   "source": [
    "# Redo tracking on 0, 1\n",
    "storm_relative_dirs = np.asarray([135, 200, 235, 180, 180, 175, 225, 155])\n",
    "zdrlevs = np.asarray([3.25, 3.25, 3.25, 3.25, 3.25, 3.25, 3.25, 3.25])\n",
    "kdplevs = np.asarray([1.5, 1.5, 1.5, 1.5, 1.5, 1.5, 1.5, 1.5])\n",
    "REFlevs = np.asarray([45, 40, 45, 45, 45, 45, 45, 45])\n",
    "REFlev1s = np.asarray([50, 45, 50, 50, 50, 50, 50, 50])\n",
    "big_storms = np.asarray([300, 300, 300, 300, 300, 300, 300, 300])\n",
    "zero_z_triggers = np.asarray([25, 25, 25, 25, 25, 25, 25, 25])\n",
    "storm_to_tracks = np.asarray([2, 2, 2, 2, 2, 2, 2, 2])\n",
    "years = np.asarray([2019, 2019, 2019, 2019, 2019, 2019, 2019, 2019])\n",
    "months = np.asarray([5, 5, 6, 6, 6, 6, 7, 8])\n",
    "days = np.asarray([24, 23, 11, 16, 19, 25, 26, 10])\n",
    "hours = np.asarray([0, 22, 23, 23, 0, 1, 23, 22])\n",
    "start_mins = np.asarray([0, 0, 0, 30, 0, 0, 0, 0])\n",
    "durations = np.asarray([2.1, 3.1, 2.1, 2.6, 2.1, 2.1, 1.6, 1.1])\n",
    "#calibrationstm = np.asarray([0.0])\n",
    "stations = ['KLBB', 'KRLX', 'KDDC', 'KSJT', 'KAMA', 'KLBB', 'KMPX', 'KUDX']\n",
    "h_calstm = np.asarray([3860, 3865, 3230, 3828, 3521, 3716, 4002, 3181])\n",
    "calibrations = np.asarray([-0.099956282,0.185417253,-0.119196012,0.024559553,-0.237675289,-0.104838337,0.018243539,-0.198426286])"
   ]
  },
  {
   "cell_type": "code",
   "execution_count": null,
   "metadata": {},
   "outputs": [],
   "source": [
    "storm_relative_dirs = np.asarray([150, 155])\n",
    "zdrlevs = np.asarray([3.25, 3.25])\n",
    "kdplevs = np.asarray([1.5, 1.5])\n",
    "REFlevs = np.asarray([45, 45])\n",
    "REFlev1s = np.asarray([50, 50])\n",
    "big_storms = np.asarray([300, 300])\n",
    "zero_z_triggers = np.asarray([25, 25])\n",
    "storm_to_tracks = np.asarray([2, 2])\n",
    "years = np.asarray([2017, 2017])\n",
    "months = np.asarray([1, 10])\n",
    "days = np.asarray([19, 6])\n",
    "hours = np.asarray([13, 20])\n",
    "start_mins = np.asarray([0, 30])\n",
    "durations = np.asarray([1.1, 2.0])\n",
    "#calibrationstm = np.asarray([0.0])\n",
    "stations = ['KDGX', \"KDDC\"]\n",
    "h_calstm = np.asarray([3614, 3651])\n",
    "calibrations = np.asarray([0.0, 0.0])"
   ]
  },
  {
   "cell_type": "code",
   "execution_count": 5,
   "metadata": {},
   "outputs": [
    {
     "name": "stdout",
     "output_type": "stream",
     "text": [
      "2020-06-06 00:48:35.639033\n",
      "2016-01-08 23:00:00 2016-01-09 02:00:00\n",
      "Downloaded KHGX20160108_230933_V06.gz\n",
      "Downloaded KHGX20160108_231957_V06.gz\n",
      "Downloaded KHGX20160108_232509_V06.gz\n",
      "Downloaded KHGX20160108_230422_V06.gz\n",
      "Downloaded KHGX20160108_231445_V06.gz\n",
      "Downloaded KHGX20160108_233021_V06.gz\n",
      "Downloaded KHGX20160108_233532_V06.gz\n",
      "Downloaded KHGX20160108_234043_V06.gz\n",
      "Downloaded KHGX20160108_234555_V06.gz\n",
      "Downloaded KHGX20160108_235106_V06.gz\n",
      "Downloaded KHGX20160108_235618_V06.gz\n",
      "Downloaded KHGX20160109_000128_V06.gz\n",
      "Downloaded KHGX20160109_001150_V06.gz\n",
      "Downloaded KHGX20160109_000639_V06.gz\n",
      "Downloaded KHGX20160109_001700_V06.gz\n",
      "Downloaded KHGX20160109_002211_V06.gz\n",
      "Downloaded KHGX20160109_002724_V06.gz\n",
      "Downloaded KHGX20160109_003234_V06.gz\n",
      "Downloaded KHGX20160109_004255_V06.gz\n",
      "Downloaded KHGX20160109_003744_V06.gz\n",
      "Downloaded KHGX20160109_004805_V06.gz\n",
      "Downloaded KHGX20160109_005317_V06.gz\n",
      "Downloaded KHGX20160109_005827_V06.gz\n",
      "Downloaded KHGX20160109_010338_V06.gz\n",
      "Downloaded KHGX20160109_011909_V06.gz\n",
      "Downloaded KHGX20160109_012420_V06.gz\n",
      "Downloaded KHGX20160109_010849_V06.gz\n",
      "Downloaded KHGX20160109_012930_V06.gz\n",
      "Downloaded KHGX20160109_013441_V06.gz\n",
      "Downloaded KHGX20160109_011359_V06.gz\n",
      "Downloaded KHGX20160109_014506_V06.gz\n",
      "Downloaded KHGX20160109_015527_V06.gz\n",
      "Downloaded KHGX20160109_013954_V06.gz\n",
      "Downloaded KHGX20160109_015016_V06.gz\n",
      "34 out of 34 files downloaded...0 errors\n"
     ]
    },
    {
     "name": "stderr",
     "output_type": "stream",
     "text": [
      "C:\\Users\\gandalf\\anaconda3\\envs\\radar\\lib\\site-packages\\sklearn\\base.py:313: UserWarning: Trying to unpickle estimator DecisionTreeClassifier from version 0.19.0 when using version 0.22.1. This might lead to breaking code or invalid results. Use at your own risk.\n",
      "  warnings.warn(\n",
      "C:\\Users\\gandalf\\anaconda3\\envs\\radar\\lib\\site-packages\\sklearn\\base.py:313: UserWarning: Trying to unpickle estimator RandomForestClassifier from version 0.19.0 when using version 0.22.1. This might lead to breaking code or invalid results. Use at your own risk.\n",
      "  warnings.warn(\n"
     ]
    },
    {
     "name": "stdout",
     "output_type": "stream",
     "text": [
      "File Reading\n",
      "in loop\n",
      "19\n",
      "Pre-grid Organization Section\n",
      "KDP Section\n",
      "Grid Section\n"
     ]
    },
    {
     "name": "stderr",
     "output_type": "stream",
     "text": [
      "C:\\Users\\gandalf\\anaconda3\\envs\\radar\\lib\\site-packages\\pyart\\map\\gates_to_grid.py:160: DeprecationWarning: Barnes weighting function is deprecated. Please use Barnes 2 to be consistent with Pauley and Wu 1990.\n",
      "  warnings.warn(\"Barnes weighting function is deprecated.\"\n"
     ]
    },
    {
     "name": "stdout",
     "output_type": "stream",
     "text": [
      "Gradient Analysis and Masking\n",
      "(-96.0787353515625, 28.471900939941406, <cartopy.crs.PlateCarree object at 0x000001A91B964C70>)\n"
     ]
    },
    {
     "name": "stderr",
     "output_type": "stream",
     "text": [
      "C:\\Users\\gandalf\\anaconda3\\envs\\radar\\lib\\site-packages\\pyproj\\crs\\crs.py:53: FutureWarning: '+init=<authority>:<code>' syntax is deprecated. '<authority>:<code>' is the preferred initialization method. When making the change, be mindful of axis order changes: https://pyproj4.github.io/pyproj/stable/gotchas.html#axis-order-changes-in-proj-6\n",
      "  return _prepare_from_string(\" \".join(pjargs))\n",
      "C:\\Users\\gandalf\\anaconda3\\envs\\radar\\lib\\site-packages\\pyproj\\crs\\crs.py:294: FutureWarning: '+init=<authority>:<code>' syntax is deprecated. '<authority>:<code>' is the preferred initialization method. When making the change, be mindful of axis order changes: https://pyproj4.github.io/pyproj/stable/gotchas.html#axis-order-changes-in-proj-6\n",
      "  projstring = _prepare_from_string(\" \".join((projstring, projkwargs)))\n",
      "C:\\Users\\gandalf\\anaconda3\\envs\\radar\\lib\\site-packages\\pyproj\\crs\\crs.py:53: FutureWarning: '+init=<authority>:<code>' syntax is deprecated. '<authority>:<code>' is the preferred initialization method. When making the change, be mindful of axis order changes: https://pyproj4.github.io/pyproj/stable/gotchas.html#axis-order-changes-in-proj-6\n",
      "  return _prepare_from_string(\" \".join(pjargs))\n",
      "C:\\Users\\gandalf\\anaconda3\\envs\\radar\\lib\\site-packages\\pyproj\\crs\\crs.py:294: FutureWarning: '+init=<authority>:<code>' syntax is deprecated. '<authority>:<code>' is the preferred initialization method. When making the change, be mindful of axis order changes: https://pyproj4.github.io/pyproj/stable/gotchas.html#axis-order-changes-in-proj-6\n",
      "  projstring = _prepare_from_string(\" \".join((projstring, projkwargs)))\n"
     ]
    },
    {
     "name": "stdout",
     "output_type": "stream",
     "text": [
      "Testfig Saved\n"
     ]
    },
    {
     "name": "stderr",
     "output_type": "stream",
     "text": [
      "C:\\Users\\gandalf\\Documents\\Python Scripts\\SPORK-SPIN-master\\SPORK-SPIN-master\\arcalg_figure4.py:555: RuntimeWarning: invalid value encountered in true_divide\n",
      "  shaped_ang = (180-np.abs(shaped_ang))*(shaped_ang/np.abs(shaped_ang))\n"
     ]
    },
    {
     "name": "stdout",
     "output_type": "stream",
     "text": [
      "Figure Saved\n",
      "in loop\n",
      "19\n",
      "in loop\n",
      "19\n",
      "in loop\n",
      "19\n",
      "in loop\n",
      "19\n",
      "in loop\n",
      "19\n",
      "in loop\n",
      "19\n",
      "in loop\n",
      "19\n",
      "in loop\n",
      "19\n",
      "in loop\n",
      "19\n",
      "Pre-grid Organization Section\n",
      "KDP Section\n",
      "Grid Section\n"
     ]
    },
    {
     "name": "stderr",
     "output_type": "stream",
     "text": [
      "C:\\Users\\gandalf\\anaconda3\\envs\\radar\\lib\\site-packages\\pyart\\map\\gates_to_grid.py:160: DeprecationWarning: Barnes weighting function is deprecated. Please use Barnes 2 to be consistent with Pauley and Wu 1990.\n",
      "  warnings.warn(\"Barnes weighting function is deprecated.\"\n"
     ]
    },
    {
     "name": "stdout",
     "output_type": "stream",
     "text": [
      "Gradient Analysis and Masking\n",
      "(-96.0787353515625, 28.471900939941406, <cartopy.crs.PlateCarree object at 0x000001A91B9640E0>)\n"
     ]
    },
    {
     "name": "stderr",
     "output_type": "stream",
     "text": [
      "C:\\Users\\gandalf\\anaconda3\\envs\\radar\\lib\\site-packages\\pyproj\\crs\\crs.py:53: FutureWarning: '+init=<authority>:<code>' syntax is deprecated. '<authority>:<code>' is the preferred initialization method. When making the change, be mindful of axis order changes: https://pyproj4.github.io/pyproj/stable/gotchas.html#axis-order-changes-in-proj-6\n",
      "  return _prepare_from_string(\" \".join(pjargs))\n",
      "C:\\Users\\gandalf\\anaconda3\\envs\\radar\\lib\\site-packages\\pyproj\\crs\\crs.py:294: FutureWarning: '+init=<authority>:<code>' syntax is deprecated. '<authority>:<code>' is the preferred initialization method. When making the change, be mindful of axis order changes: https://pyproj4.github.io/pyproj/stable/gotchas.html#axis-order-changes-in-proj-6\n",
      "  projstring = _prepare_from_string(\" \".join((projstring, projkwargs)))\n",
      "C:\\Users\\gandalf\\anaconda3\\envs\\radar\\lib\\site-packages\\pyproj\\crs\\crs.py:53: FutureWarning: '+init=<authority>:<code>' syntax is deprecated. '<authority>:<code>' is the preferred initialization method. When making the change, be mindful of axis order changes: https://pyproj4.github.io/pyproj/stable/gotchas.html#axis-order-changes-in-proj-6\n",
      "  return _prepare_from_string(\" \".join(pjargs))\n",
      "C:\\Users\\gandalf\\anaconda3\\envs\\radar\\lib\\site-packages\\pyproj\\crs\\crs.py:294: FutureWarning: '+init=<authority>:<code>' syntax is deprecated. '<authority>:<code>' is the preferred initialization method. When making the change, be mindful of axis order changes: https://pyproj4.github.io/pyproj/stable/gotchas.html#axis-order-changes-in-proj-6\n",
      "  projstring = _prepare_from_string(\" \".join((projstring, projkwargs)))\n"
     ]
    },
    {
     "name": "stdout",
     "output_type": "stream",
     "text": [
      "Testfig Saved\n"
     ]
    },
    {
     "name": "stderr",
     "output_type": "stream",
     "text": [
      "C:\\Users\\gandalf\\Documents\\Python Scripts\\SPORK-SPIN-master\\SPORK-SPIN-master\\arcalg_figure4.py:555: RuntimeWarning: invalid value encountered in true_divide\n",
      "  shaped_ang = (180-np.abs(shaped_ang))*(shaped_ang/np.abs(shaped_ang))\n"
     ]
    },
    {
     "name": "stdout",
     "output_type": "stream",
     "text": [
      "Figure Saved\n",
      "in loop\n",
      "19\n",
      "in loop\n",
      "19\n",
      "in loop\n",
      "19\n",
      "in loop\n",
      "19\n",
      "in loop\n",
      "19\n",
      "in loop\n",
      "19\n",
      "in loop\n",
      "19\n",
      "in loop\n",
      "19\n",
      "in loop\n",
      "19\n",
      "File Reading\n",
      "in loop\n",
      "19\n",
      "Pre-grid Organization Section\n",
      "KDP Section\n",
      "Grid Section\n"
     ]
    },
    {
     "name": "stderr",
     "output_type": "stream",
     "text": [
      "C:\\Users\\gandalf\\anaconda3\\envs\\radar\\lib\\site-packages\\pyart\\map\\gates_to_grid.py:160: DeprecationWarning: Barnes weighting function is deprecated. Please use Barnes 2 to be consistent with Pauley and Wu 1990.\n",
      "  warnings.warn(\"Barnes weighting function is deprecated.\"\n"
     ]
    },
    {
     "name": "stdout",
     "output_type": "stream",
     "text": [
      "Gradient Analysis and Masking\n",
      "(-96.0787353515625, 28.471900939941406, <cartopy.crs.PlateCarree object at 0x000001A91D638270>)\n"
     ]
    },
    {
     "name": "stderr",
     "output_type": "stream",
     "text": [
      "C:\\Users\\gandalf\\anaconda3\\envs\\radar\\lib\\site-packages\\pyproj\\crs\\crs.py:53: FutureWarning: '+init=<authority>:<code>' syntax is deprecated. '<authority>:<code>' is the preferred initialization method. When making the change, be mindful of axis order changes: https://pyproj4.github.io/pyproj/stable/gotchas.html#axis-order-changes-in-proj-6\n",
      "  return _prepare_from_string(\" \".join(pjargs))\n",
      "C:\\Users\\gandalf\\anaconda3\\envs\\radar\\lib\\site-packages\\pyproj\\crs\\crs.py:294: FutureWarning: '+init=<authority>:<code>' syntax is deprecated. '<authority>:<code>' is the preferred initialization method. When making the change, be mindful of axis order changes: https://pyproj4.github.io/pyproj/stable/gotchas.html#axis-order-changes-in-proj-6\n",
      "  projstring = _prepare_from_string(\" \".join((projstring, projkwargs)))\n",
      "C:\\Users\\gandalf\\anaconda3\\envs\\radar\\lib\\site-packages\\pyproj\\crs\\crs.py:53: FutureWarning: '+init=<authority>:<code>' syntax is deprecated. '<authority>:<code>' is the preferred initialization method. When making the change, be mindful of axis order changes: https://pyproj4.github.io/pyproj/stable/gotchas.html#axis-order-changes-in-proj-6\n",
      "  return _prepare_from_string(\" \".join(pjargs))\n",
      "C:\\Users\\gandalf\\anaconda3\\envs\\radar\\lib\\site-packages\\pyproj\\crs\\crs.py:294: FutureWarning: '+init=<authority>:<code>' syntax is deprecated. '<authority>:<code>' is the preferred initialization method. When making the change, be mindful of axis order changes: https://pyproj4.github.io/pyproj/stable/gotchas.html#axis-order-changes-in-proj-6\n",
      "  projstring = _prepare_from_string(\" \".join((projstring, projkwargs)))\n"
     ]
    },
    {
     "name": "stdout",
     "output_type": "stream",
     "text": [
      "Testfig Saved\n"
     ]
    },
    {
     "name": "stderr",
     "output_type": "stream",
     "text": [
      "C:\\Users\\gandalf\\Documents\\Python Scripts\\SPORK-SPIN-master\\SPORK-SPIN-master\\arcalg_figure4.py:555: RuntimeWarning: invalid value encountered in true_divide\n",
      "  shaped_ang = (180-np.abs(shaped_ang))*(shaped_ang/np.abs(shaped_ang))\n"
     ]
    },
    {
     "name": "stdout",
     "output_type": "stream",
     "text": [
      "Figure Saved\n",
      "in loop\n",
      "19\n",
      "in loop\n",
      "19\n",
      "in loop\n",
      "19\n",
      "in loop\n",
      "19\n",
      "in loop\n",
      "19\n",
      "in loop\n",
      "19\n",
      "in loop\n",
      "19\n",
      "in loop\n",
      "19\n",
      "in loop\n",
      "19\n",
      "Pre-grid Organization Section\n",
      "KDP Section\n",
      "Grid Section\n"
     ]
    },
    {
     "name": "stderr",
     "output_type": "stream",
     "text": [
      "C:\\Users\\gandalf\\anaconda3\\envs\\radar\\lib\\site-packages\\pyart\\map\\gates_to_grid.py:160: DeprecationWarning: Barnes weighting function is deprecated. Please use Barnes 2 to be consistent with Pauley and Wu 1990.\n",
      "  warnings.warn(\"Barnes weighting function is deprecated.\"\n"
     ]
    },
    {
     "name": "stdout",
     "output_type": "stream",
     "text": [
      "Gradient Analysis and Masking\n",
      "(-96.0787353515625, 28.471900939941406, <cartopy.crs.PlateCarree object at 0x000001A91D638E50>)\n"
     ]
    },
    {
     "name": "stderr",
     "output_type": "stream",
     "text": [
      "C:\\Users\\gandalf\\anaconda3\\envs\\radar\\lib\\site-packages\\pyproj\\crs\\crs.py:53: FutureWarning: '+init=<authority>:<code>' syntax is deprecated. '<authority>:<code>' is the preferred initialization method. When making the change, be mindful of axis order changes: https://pyproj4.github.io/pyproj/stable/gotchas.html#axis-order-changes-in-proj-6\n",
      "  return _prepare_from_string(\" \".join(pjargs))\n",
      "C:\\Users\\gandalf\\anaconda3\\envs\\radar\\lib\\site-packages\\pyproj\\crs\\crs.py:294: FutureWarning: '+init=<authority>:<code>' syntax is deprecated. '<authority>:<code>' is the preferred initialization method. When making the change, be mindful of axis order changes: https://pyproj4.github.io/pyproj/stable/gotchas.html#axis-order-changes-in-proj-6\n",
      "  projstring = _prepare_from_string(\" \".join((projstring, projkwargs)))\n",
      "C:\\Users\\gandalf\\anaconda3\\envs\\radar\\lib\\site-packages\\pyproj\\crs\\crs.py:53: FutureWarning: '+init=<authority>:<code>' syntax is deprecated. '<authority>:<code>' is the preferred initialization method. When making the change, be mindful of axis order changes: https://pyproj4.github.io/pyproj/stable/gotchas.html#axis-order-changes-in-proj-6\n",
      "  return _prepare_from_string(\" \".join(pjargs))\n",
      "C:\\Users\\gandalf\\anaconda3\\envs\\radar\\lib\\site-packages\\pyproj\\crs\\crs.py:294: FutureWarning: '+init=<authority>:<code>' syntax is deprecated. '<authority>:<code>' is the preferred initialization method. When making the change, be mindful of axis order changes: https://pyproj4.github.io/pyproj/stable/gotchas.html#axis-order-changes-in-proj-6\n",
      "  projstring = _prepare_from_string(\" \".join((projstring, projkwargs)))\n"
     ]
    },
    {
     "name": "stdout",
     "output_type": "stream",
     "text": [
      "Testfig Saved\n"
     ]
    },
    {
     "name": "stderr",
     "output_type": "stream",
     "text": [
      "C:\\Users\\gandalf\\Documents\\Python Scripts\\SPORK-SPIN-master\\SPORK-SPIN-master\\arcalg_figure4.py:555: RuntimeWarning: invalid value encountered in true_divide\n",
      "  shaped_ang = (180-np.abs(shaped_ang))*(shaped_ang/np.abs(shaped_ang))\n"
     ]
    },
    {
     "name": "stdout",
     "output_type": "stream",
     "text": [
      "Figure Saved\n",
      "in loop\n",
      "19\n",
      "in loop\n",
      "19\n",
      "in loop\n",
      "19\n",
      "in loop\n",
      "19\n",
      "in loop\n",
      "19\n",
      "in loop\n",
      "19\n",
      "in loop\n",
      "19\n",
      "in loop\n",
      "19\n",
      "in loop\n",
      "19\n",
      "File Reading\n",
      "in loop\n",
      "19\n",
      "Pre-grid Organization Section\n",
      "KDP Section\n",
      "Grid Section\n"
     ]
    },
    {
     "name": "stderr",
     "output_type": "stream",
     "text": [
      "C:\\Users\\gandalf\\anaconda3\\envs\\radar\\lib\\site-packages\\pyart\\map\\gates_to_grid.py:160: DeprecationWarning: Barnes weighting function is deprecated. Please use Barnes 2 to be consistent with Pauley and Wu 1990.\n",
      "  warnings.warn(\"Barnes weighting function is deprecated.\"\n"
     ]
    },
    {
     "name": "stdout",
     "output_type": "stream",
     "text": [
      "Gradient Analysis and Masking\n",
      "(-96.0787353515625, 28.471900939941406, <cartopy.crs.PlateCarree object at 0x000001A91BD8B180>)\n"
     ]
    },
    {
     "name": "stderr",
     "output_type": "stream",
     "text": [
      "C:\\Users\\gandalf\\anaconda3\\envs\\radar\\lib\\site-packages\\pyproj\\crs\\crs.py:53: FutureWarning: '+init=<authority>:<code>' syntax is deprecated. '<authority>:<code>' is the preferred initialization method. When making the change, be mindful of axis order changes: https://pyproj4.github.io/pyproj/stable/gotchas.html#axis-order-changes-in-proj-6\n",
      "  return _prepare_from_string(\" \".join(pjargs))\n",
      "C:\\Users\\gandalf\\anaconda3\\envs\\radar\\lib\\site-packages\\pyproj\\crs\\crs.py:294: FutureWarning: '+init=<authority>:<code>' syntax is deprecated. '<authority>:<code>' is the preferred initialization method. When making the change, be mindful of axis order changes: https://pyproj4.github.io/pyproj/stable/gotchas.html#axis-order-changes-in-proj-6\n",
      "  projstring = _prepare_from_string(\" \".join((projstring, projkwargs)))\n",
      "C:\\Users\\gandalf\\anaconda3\\envs\\radar\\lib\\site-packages\\pyproj\\crs\\crs.py:53: FutureWarning: '+init=<authority>:<code>' syntax is deprecated. '<authority>:<code>' is the preferred initialization method. When making the change, be mindful of axis order changes: https://pyproj4.github.io/pyproj/stable/gotchas.html#axis-order-changes-in-proj-6\n",
      "  return _prepare_from_string(\" \".join(pjargs))\n",
      "C:\\Users\\gandalf\\anaconda3\\envs\\radar\\lib\\site-packages\\pyproj\\crs\\crs.py:294: FutureWarning: '+init=<authority>:<code>' syntax is deprecated. '<authority>:<code>' is the preferred initialization method. When making the change, be mindful of axis order changes: https://pyproj4.github.io/pyproj/stable/gotchas.html#axis-order-changes-in-proj-6\n",
      "  projstring = _prepare_from_string(\" \".join((projstring, projkwargs)))\n"
     ]
    },
    {
     "name": "stdout",
     "output_type": "stream",
     "text": [
      "Testfig Saved\n"
     ]
    },
    {
     "name": "stderr",
     "output_type": "stream",
     "text": [
      "C:\\Users\\gandalf\\Documents\\Python Scripts\\SPORK-SPIN-master\\SPORK-SPIN-master\\arcalg_figure4.py:555: RuntimeWarning: invalid value encountered in true_divide\n",
      "  shaped_ang = (180-np.abs(shaped_ang))*(shaped_ang/np.abs(shaped_ang))\n"
     ]
    },
    {
     "name": "stdout",
     "output_type": "stream",
     "text": [
      "Figure Saved\n",
      "in loop\n",
      "19\n",
      "in loop\n",
      "19\n",
      "in loop\n",
      "19\n",
      "in loop\n",
      "19\n",
      "in loop\n",
      "19\n",
      "in loop\n",
      "19\n",
      "in loop\n",
      "19\n",
      "in loop\n",
      "19\n",
      "in loop\n",
      "19\n",
      "Pre-grid Organization Section\n",
      "KDP Section\n",
      "Grid Section\n"
     ]
    },
    {
     "name": "stderr",
     "output_type": "stream",
     "text": [
      "C:\\Users\\gandalf\\anaconda3\\envs\\radar\\lib\\site-packages\\pyart\\map\\gates_to_grid.py:160: DeprecationWarning: Barnes weighting function is deprecated. Please use Barnes 2 to be consistent with Pauley and Wu 1990.\n",
      "  warnings.warn(\"Barnes weighting function is deprecated.\"\n"
     ]
    },
    {
     "name": "stdout",
     "output_type": "stream",
     "text": [
      "Gradient Analysis and Masking\n",
      "(-96.0787353515625, 28.471900939941406, <cartopy.crs.PlateCarree object at 0x000001A916E60040>)\n"
     ]
    },
    {
     "name": "stderr",
     "output_type": "stream",
     "text": [
      "C:\\Users\\gandalf\\anaconda3\\envs\\radar\\lib\\site-packages\\pyproj\\crs\\crs.py:53: FutureWarning: '+init=<authority>:<code>' syntax is deprecated. '<authority>:<code>' is the preferred initialization method. When making the change, be mindful of axis order changes: https://pyproj4.github.io/pyproj/stable/gotchas.html#axis-order-changes-in-proj-6\n",
      "  return _prepare_from_string(\" \".join(pjargs))\n",
      "C:\\Users\\gandalf\\anaconda3\\envs\\radar\\lib\\site-packages\\pyproj\\crs\\crs.py:294: FutureWarning: '+init=<authority>:<code>' syntax is deprecated. '<authority>:<code>' is the preferred initialization method. When making the change, be mindful of axis order changes: https://pyproj4.github.io/pyproj/stable/gotchas.html#axis-order-changes-in-proj-6\n",
      "  projstring = _prepare_from_string(\" \".join((projstring, projkwargs)))\n",
      "C:\\Users\\gandalf\\anaconda3\\envs\\radar\\lib\\site-packages\\pyproj\\crs\\crs.py:53: FutureWarning: '+init=<authority>:<code>' syntax is deprecated. '<authority>:<code>' is the preferred initialization method. When making the change, be mindful of axis order changes: https://pyproj4.github.io/pyproj/stable/gotchas.html#axis-order-changes-in-proj-6\n",
      "  return _prepare_from_string(\" \".join(pjargs))\n",
      "C:\\Users\\gandalf\\anaconda3\\envs\\radar\\lib\\site-packages\\pyproj\\crs\\crs.py:294: FutureWarning: '+init=<authority>:<code>' syntax is deprecated. '<authority>:<code>' is the preferred initialization method. When making the change, be mindful of axis order changes: https://pyproj4.github.io/pyproj/stable/gotchas.html#axis-order-changes-in-proj-6\n",
      "  projstring = _prepare_from_string(\" \".join((projstring, projkwargs)))\n"
     ]
    },
    {
     "name": "stdout",
     "output_type": "stream",
     "text": [
      "Testfig Saved\n"
     ]
    },
    {
     "name": "stderr",
     "output_type": "stream",
     "text": [
      "C:\\Users\\gandalf\\Documents\\Python Scripts\\SPORK-SPIN-master\\SPORK-SPIN-master\\arcalg_figure4.py:555: RuntimeWarning: invalid value encountered in true_divide\n",
      "  shaped_ang = (180-np.abs(shaped_ang))*(shaped_ang/np.abs(shaped_ang))\n"
     ]
    },
    {
     "name": "stdout",
     "output_type": "stream",
     "text": [
      "Figure Saved\n",
      "in loop\n",
      "19\n",
      "in loop\n",
      "19\n",
      "in loop\n",
      "19\n",
      "in loop\n",
      "19\n",
      "in loop\n",
      "19\n",
      "in loop\n",
      "19\n",
      "in loop\n",
      "19\n",
      "in loop\n",
      "19\n",
      "in loop\n",
      "19\n",
      "File Reading\n",
      "in loop\n",
      "19\n",
      "Pre-grid Organization Section\n",
      "KDP Section\n",
      "Grid Section\n"
     ]
    },
    {
     "name": "stderr",
     "output_type": "stream",
     "text": [
      "C:\\Users\\gandalf\\anaconda3\\envs\\radar\\lib\\site-packages\\pyart\\map\\gates_to_grid.py:160: DeprecationWarning: Barnes weighting function is deprecated. Please use Barnes 2 to be consistent with Pauley and Wu 1990.\n",
      "  warnings.warn(\"Barnes weighting function is deprecated.\"\n"
     ]
    },
    {
     "name": "stdout",
     "output_type": "stream",
     "text": [
      "Gradient Analysis and Masking\n",
      "(-96.0787353515625, 28.471900939941406, <cartopy.crs.PlateCarree object at 0x000001A93571F4A0>)\n"
     ]
    },
    {
     "name": "stderr",
     "output_type": "stream",
     "text": [
      "C:\\Users\\gandalf\\anaconda3\\envs\\radar\\lib\\site-packages\\pyproj\\crs\\crs.py:53: FutureWarning: '+init=<authority>:<code>' syntax is deprecated. '<authority>:<code>' is the preferred initialization method. When making the change, be mindful of axis order changes: https://pyproj4.github.io/pyproj/stable/gotchas.html#axis-order-changes-in-proj-6\n",
      "  return _prepare_from_string(\" \".join(pjargs))\n",
      "C:\\Users\\gandalf\\anaconda3\\envs\\radar\\lib\\site-packages\\pyproj\\crs\\crs.py:294: FutureWarning: '+init=<authority>:<code>' syntax is deprecated. '<authority>:<code>' is the preferred initialization method. When making the change, be mindful of axis order changes: https://pyproj4.github.io/pyproj/stable/gotchas.html#axis-order-changes-in-proj-6\n",
      "  projstring = _prepare_from_string(\" \".join((projstring, projkwargs)))\n",
      "C:\\Users\\gandalf\\anaconda3\\envs\\radar\\lib\\site-packages\\pyproj\\crs\\crs.py:53: FutureWarning: '+init=<authority>:<code>' syntax is deprecated. '<authority>:<code>' is the preferred initialization method. When making the change, be mindful of axis order changes: https://pyproj4.github.io/pyproj/stable/gotchas.html#axis-order-changes-in-proj-6\n",
      "  return _prepare_from_string(\" \".join(pjargs))\n",
      "C:\\Users\\gandalf\\anaconda3\\envs\\radar\\lib\\site-packages\\pyproj\\crs\\crs.py:294: FutureWarning: '+init=<authority>:<code>' syntax is deprecated. '<authority>:<code>' is the preferred initialization method. When making the change, be mindful of axis order changes: https://pyproj4.github.io/pyproj/stable/gotchas.html#axis-order-changes-in-proj-6\n",
      "  projstring = _prepare_from_string(\" \".join((projstring, projkwargs)))\n"
     ]
    },
    {
     "name": "stdout",
     "output_type": "stream",
     "text": [
      "Testfig Saved\n"
     ]
    },
    {
     "name": "stderr",
     "output_type": "stream",
     "text": [
      "C:\\Users\\gandalf\\Documents\\Python Scripts\\SPORK-SPIN-master\\SPORK-SPIN-master\\arcalg_figure4.py:555: RuntimeWarning: invalid value encountered in true_divide\n",
      "  shaped_ang = (180-np.abs(shaped_ang))*(shaped_ang/np.abs(shaped_ang))\n"
     ]
    },
    {
     "name": "stdout",
     "output_type": "stream",
     "text": [
      "Figure Saved\n",
      "in loop\n",
      "19\n",
      "in loop\n",
      "19\n",
      "in loop\n",
      "19\n",
      "in loop\n",
      "19\n",
      "in loop\n",
      "19\n",
      "in loop\n",
      "19\n",
      "in loop\n",
      "19\n",
      "in loop\n",
      "19\n",
      "in loop\n",
      "19\n",
      "Pre-grid Organization Section\n",
      "KDP Section\n",
      "Grid Section\n"
     ]
    },
    {
     "name": "stderr",
     "output_type": "stream",
     "text": [
      "C:\\Users\\gandalf\\anaconda3\\envs\\radar\\lib\\site-packages\\pyart\\map\\gates_to_grid.py:160: DeprecationWarning: Barnes weighting function is deprecated. Please use Barnes 2 to be consistent with Pauley and Wu 1990.\n",
      "  warnings.warn(\"Barnes weighting function is deprecated.\"\n"
     ]
    },
    {
     "name": "stdout",
     "output_type": "stream",
     "text": [
      "Gradient Analysis and Masking\n",
      "(-96.0787353515625, 28.471900939941406, <cartopy.crs.PlateCarree object at 0x000001A91EA3BE50>)\n"
     ]
    },
    {
     "name": "stderr",
     "output_type": "stream",
     "text": [
      "C:\\Users\\gandalf\\anaconda3\\envs\\radar\\lib\\site-packages\\pyproj\\crs\\crs.py:53: FutureWarning: '+init=<authority>:<code>' syntax is deprecated. '<authority>:<code>' is the preferred initialization method. When making the change, be mindful of axis order changes: https://pyproj4.github.io/pyproj/stable/gotchas.html#axis-order-changes-in-proj-6\n",
      "  return _prepare_from_string(\" \".join(pjargs))\n",
      "C:\\Users\\gandalf\\anaconda3\\envs\\radar\\lib\\site-packages\\pyproj\\crs\\crs.py:294: FutureWarning: '+init=<authority>:<code>' syntax is deprecated. '<authority>:<code>' is the preferred initialization method. When making the change, be mindful of axis order changes: https://pyproj4.github.io/pyproj/stable/gotchas.html#axis-order-changes-in-proj-6\n",
      "  projstring = _prepare_from_string(\" \".join((projstring, projkwargs)))\n",
      "C:\\Users\\gandalf\\anaconda3\\envs\\radar\\lib\\site-packages\\pyproj\\crs\\crs.py:53: FutureWarning: '+init=<authority>:<code>' syntax is deprecated. '<authority>:<code>' is the preferred initialization method. When making the change, be mindful of axis order changes: https://pyproj4.github.io/pyproj/stable/gotchas.html#axis-order-changes-in-proj-6\n",
      "  return _prepare_from_string(\" \".join(pjargs))\n",
      "C:\\Users\\gandalf\\anaconda3\\envs\\radar\\lib\\site-packages\\pyproj\\crs\\crs.py:294: FutureWarning: '+init=<authority>:<code>' syntax is deprecated. '<authority>:<code>' is the preferred initialization method. When making the change, be mindful of axis order changes: https://pyproj4.github.io/pyproj/stable/gotchas.html#axis-order-changes-in-proj-6\n",
      "  projstring = _prepare_from_string(\" \".join((projstring, projkwargs)))\n"
     ]
    },
    {
     "name": "stdout",
     "output_type": "stream",
     "text": [
      "Testfig Saved\n"
     ]
    },
    {
     "name": "stderr",
     "output_type": "stream",
     "text": [
      "C:\\Users\\gandalf\\anaconda3\\envs\\radar\\lib\\site-packages\\numpy\\core\\fromnumeric.py:3334: RuntimeWarning: Mean of empty slice.\n",
      "  return _methods._mean(a, axis=axis, dtype=dtype,\n",
      "C:\\Users\\gandalf\\anaconda3\\envs\\radar\\lib\\site-packages\\numpy\\core\\_methods.py:161: RuntimeWarning: invalid value encountered in true_divide\n",
      "  ret = ret.dtype.type(ret / rcount)\n",
      "C:\\Users\\gandalf\\Documents\\Python Scripts\\SPORK-SPIN-master\\SPORK-SPIN-master\\arcalg_figure4.py:555: RuntimeWarning: invalid value encountered in true_divide\n",
      "  shaped_ang = (180-np.abs(shaped_ang))*(shaped_ang/np.abs(shaped_ang))\n"
     ]
    },
    {
     "name": "stdout",
     "output_type": "stream",
     "text": [
      "Figure Saved\n",
      "in loop\n",
      "19\n",
      "in loop\n",
      "19\n",
      "in loop\n",
      "19\n",
      "in loop\n",
      "19\n",
      "in loop\n",
      "19\n",
      "in loop\n",
      "19\n",
      "in loop\n",
      "19\n",
      "in loop\n",
      "19\n",
      "in loop\n",
      "19\n",
      "File Reading\n",
      "in loop\n",
      "19\n",
      "Pre-grid Organization Section\n",
      "KDP Section\n",
      "Grid Section\n"
     ]
    },
    {
     "name": "stderr",
     "output_type": "stream",
     "text": [
      "C:\\Users\\gandalf\\anaconda3\\envs\\radar\\lib\\site-packages\\pyart\\map\\gates_to_grid.py:160: DeprecationWarning: Barnes weighting function is deprecated. Please use Barnes 2 to be consistent with Pauley and Wu 1990.\n",
      "  warnings.warn(\"Barnes weighting function is deprecated.\"\n"
     ]
    },
    {
     "name": "stdout",
     "output_type": "stream",
     "text": [
      "Gradient Analysis and Masking\n",
      "(-96.0787353515625, 28.471900939941406, <cartopy.crs.PlateCarree object at 0x000001A93571F7C0>)\n"
     ]
    },
    {
     "name": "stderr",
     "output_type": "stream",
     "text": [
      "C:\\Users\\gandalf\\anaconda3\\envs\\radar\\lib\\site-packages\\pyproj\\crs\\crs.py:53: FutureWarning: '+init=<authority>:<code>' syntax is deprecated. '<authority>:<code>' is the preferred initialization method. When making the change, be mindful of axis order changes: https://pyproj4.github.io/pyproj/stable/gotchas.html#axis-order-changes-in-proj-6\n",
      "  return _prepare_from_string(\" \".join(pjargs))\n",
      "C:\\Users\\gandalf\\anaconda3\\envs\\radar\\lib\\site-packages\\pyproj\\crs\\crs.py:294: FutureWarning: '+init=<authority>:<code>' syntax is deprecated. '<authority>:<code>' is the preferred initialization method. When making the change, be mindful of axis order changes: https://pyproj4.github.io/pyproj/stable/gotchas.html#axis-order-changes-in-proj-6\n",
      "  projstring = _prepare_from_string(\" \".join((projstring, projkwargs)))\n",
      "C:\\Users\\gandalf\\anaconda3\\envs\\radar\\lib\\site-packages\\pyproj\\crs\\crs.py:53: FutureWarning: '+init=<authority>:<code>' syntax is deprecated. '<authority>:<code>' is the preferred initialization method. When making the change, be mindful of axis order changes: https://pyproj4.github.io/pyproj/stable/gotchas.html#axis-order-changes-in-proj-6\n",
      "  return _prepare_from_string(\" \".join(pjargs))\n",
      "C:\\Users\\gandalf\\anaconda3\\envs\\radar\\lib\\site-packages\\pyproj\\crs\\crs.py:294: FutureWarning: '+init=<authority>:<code>' syntax is deprecated. '<authority>:<code>' is the preferred initialization method. When making the change, be mindful of axis order changes: https://pyproj4.github.io/pyproj/stable/gotchas.html#axis-order-changes-in-proj-6\n",
      "  projstring = _prepare_from_string(\" \".join((projstring, projkwargs)))\n"
     ]
    },
    {
     "name": "stdout",
     "output_type": "stream",
     "text": [
      "Testfig Saved\n"
     ]
    },
    {
     "name": "stderr",
     "output_type": "stream",
     "text": [
      "C:\\Users\\gandalf\\Documents\\Python Scripts\\SPORK-SPIN-master\\SPORK-SPIN-master\\arcalg_figure4.py:555: RuntimeWarning: invalid value encountered in true_divide\n",
      "  shaped_ang = (180-np.abs(shaped_ang))*(shaped_ang/np.abs(shaped_ang))\n"
     ]
    },
    {
     "name": "stdout",
     "output_type": "stream",
     "text": [
      "Figure Saved\n",
      "in loop\n",
      "19\n",
      "in loop\n",
      "19\n",
      "in loop\n",
      "19\n",
      "in loop\n",
      "19\n",
      "in loop\n",
      "19\n",
      "in loop\n",
      "19\n",
      "in loop\n",
      "19\n",
      "in loop\n",
      "19\n",
      "in loop\n",
      "19\n",
      "Pre-grid Organization Section\n",
      "KDP Section\n",
      "Grid Section\n"
     ]
    },
    {
     "name": "stderr",
     "output_type": "stream",
     "text": [
      "C:\\Users\\gandalf\\anaconda3\\envs\\radar\\lib\\site-packages\\pyart\\map\\gates_to_grid.py:160: DeprecationWarning: Barnes weighting function is deprecated. Please use Barnes 2 to be consistent with Pauley and Wu 1990.\n",
      "  warnings.warn(\"Barnes weighting function is deprecated.\"\n"
     ]
    },
    {
     "name": "stdout",
     "output_type": "stream",
     "text": [
      "Gradient Analysis and Masking\n",
      "(-96.0787353515625, 28.471900939941406, <cartopy.crs.PlateCarree object at 0x000001A93571F860>)\n"
     ]
    },
    {
     "name": "stderr",
     "output_type": "stream",
     "text": [
      "C:\\Users\\gandalf\\anaconda3\\envs\\radar\\lib\\site-packages\\pyproj\\crs\\crs.py:53: FutureWarning: '+init=<authority>:<code>' syntax is deprecated. '<authority>:<code>' is the preferred initialization method. When making the change, be mindful of axis order changes: https://pyproj4.github.io/pyproj/stable/gotchas.html#axis-order-changes-in-proj-6\n",
      "  return _prepare_from_string(\" \".join(pjargs))\n",
      "C:\\Users\\gandalf\\anaconda3\\envs\\radar\\lib\\site-packages\\pyproj\\crs\\crs.py:294: FutureWarning: '+init=<authority>:<code>' syntax is deprecated. '<authority>:<code>' is the preferred initialization method. When making the change, be mindful of axis order changes: https://pyproj4.github.io/pyproj/stable/gotchas.html#axis-order-changes-in-proj-6\n",
      "  projstring = _prepare_from_string(\" \".join((projstring, projkwargs)))\n",
      "C:\\Users\\gandalf\\anaconda3\\envs\\radar\\lib\\site-packages\\pyproj\\crs\\crs.py:53: FutureWarning: '+init=<authority>:<code>' syntax is deprecated. '<authority>:<code>' is the preferred initialization method. When making the change, be mindful of axis order changes: https://pyproj4.github.io/pyproj/stable/gotchas.html#axis-order-changes-in-proj-6\n",
      "  return _prepare_from_string(\" \".join(pjargs))\n",
      "C:\\Users\\gandalf\\anaconda3\\envs\\radar\\lib\\site-packages\\pyproj\\crs\\crs.py:294: FutureWarning: '+init=<authority>:<code>' syntax is deprecated. '<authority>:<code>' is the preferred initialization method. When making the change, be mindful of axis order changes: https://pyproj4.github.io/pyproj/stable/gotchas.html#axis-order-changes-in-proj-6\n",
      "  projstring = _prepare_from_string(\" \".join((projstring, projkwargs)))\n"
     ]
    },
    {
     "name": "stdout",
     "output_type": "stream",
     "text": [
      "Testfig Saved\n"
     ]
    },
    {
     "name": "stderr",
     "output_type": "stream",
     "text": [
      "C:\\Users\\gandalf\\Documents\\Python Scripts\\SPORK-SPIN-master\\SPORK-SPIN-master\\arcalg_figure4.py:555: RuntimeWarning: invalid value encountered in true_divide\n",
      "  shaped_ang = (180-np.abs(shaped_ang))*(shaped_ang/np.abs(shaped_ang))\n"
     ]
    },
    {
     "name": "stdout",
     "output_type": "stream",
     "text": [
      "Figure Saved\n",
      "in loop\n",
      "19\n",
      "in loop\n",
      "19\n",
      "in loop\n",
      "19\n",
      "in loop\n",
      "19\n",
      "in loop\n",
      "19\n",
      "in loop\n",
      "19\n",
      "in loop\n",
      "19\n",
      "in loop\n",
      "19\n",
      "in loop\n",
      "19\n",
      "File Reading\n",
      "in loop\n",
      "19\n",
      "Pre-grid Organization Section\n",
      "KDP Section\n",
      "Grid Section\n"
     ]
    },
    {
     "name": "stderr",
     "output_type": "stream",
     "text": [
      "C:\\Users\\gandalf\\anaconda3\\envs\\radar\\lib\\site-packages\\pyart\\map\\gates_to_grid.py:160: DeprecationWarning: Barnes weighting function is deprecated. Please use Barnes 2 to be consistent with Pauley and Wu 1990.\n",
      "  warnings.warn(\"Barnes weighting function is deprecated.\"\n"
     ]
    },
    {
     "name": "stdout",
     "output_type": "stream",
     "text": [
      "Gradient Analysis and Masking\n",
      "(-96.0787353515625, 28.471900939941406, <cartopy.crs.PlateCarree object at 0x000001A93B39CF40>)\n"
     ]
    },
    {
     "name": "stderr",
     "output_type": "stream",
     "text": [
      "C:\\Users\\gandalf\\anaconda3\\envs\\radar\\lib\\site-packages\\pyproj\\crs\\crs.py:53: FutureWarning: '+init=<authority>:<code>' syntax is deprecated. '<authority>:<code>' is the preferred initialization method. When making the change, be mindful of axis order changes: https://pyproj4.github.io/pyproj/stable/gotchas.html#axis-order-changes-in-proj-6\n",
      "  return _prepare_from_string(\" \".join(pjargs))\n",
      "C:\\Users\\gandalf\\anaconda3\\envs\\radar\\lib\\site-packages\\pyproj\\crs\\crs.py:294: FutureWarning: '+init=<authority>:<code>' syntax is deprecated. '<authority>:<code>' is the preferred initialization method. When making the change, be mindful of axis order changes: https://pyproj4.github.io/pyproj/stable/gotchas.html#axis-order-changes-in-proj-6\n",
      "  projstring = _prepare_from_string(\" \".join((projstring, projkwargs)))\n",
      "C:\\Users\\gandalf\\anaconda3\\envs\\radar\\lib\\site-packages\\pyproj\\crs\\crs.py:53: FutureWarning: '+init=<authority>:<code>' syntax is deprecated. '<authority>:<code>' is the preferred initialization method. When making the change, be mindful of axis order changes: https://pyproj4.github.io/pyproj/stable/gotchas.html#axis-order-changes-in-proj-6\n",
      "  return _prepare_from_string(\" \".join(pjargs))\n",
      "C:\\Users\\gandalf\\anaconda3\\envs\\radar\\lib\\site-packages\\pyproj\\crs\\crs.py:294: FutureWarning: '+init=<authority>:<code>' syntax is deprecated. '<authority>:<code>' is the preferred initialization method. When making the change, be mindful of axis order changes: https://pyproj4.github.io/pyproj/stable/gotchas.html#axis-order-changes-in-proj-6\n",
      "  projstring = _prepare_from_string(\" \".join((projstring, projkwargs)))\n"
     ]
    },
    {
     "name": "stdout",
     "output_type": "stream",
     "text": [
      "Testfig Saved\n"
     ]
    },
    {
     "name": "stderr",
     "output_type": "stream",
     "text": [
      "C:\\Users\\gandalf\\Documents\\Python Scripts\\SPORK-SPIN-master\\SPORK-SPIN-master\\arcalg_figure4.py:555: RuntimeWarning: invalid value encountered in true_divide\n",
      "  shaped_ang = (180-np.abs(shaped_ang))*(shaped_ang/np.abs(shaped_ang))\n"
     ]
    },
    {
     "name": "stdout",
     "output_type": "stream",
     "text": [
      "Figure Saved\n",
      "in loop\n",
      "19\n",
      "in loop\n",
      "19\n",
      "in loop\n",
      "19\n",
      "in loop\n",
      "19\n",
      "in loop\n",
      "19\n",
      "in loop\n",
      "19\n",
      "in loop\n",
      "19\n",
      "in loop\n",
      "19\n",
      "in loop\n",
      "19\n",
      "Pre-grid Organization Section\n",
      "KDP Section\n",
      "Grid Section\n"
     ]
    },
    {
     "name": "stderr",
     "output_type": "stream",
     "text": [
      "C:\\Users\\gandalf\\anaconda3\\envs\\radar\\lib\\site-packages\\pyart\\map\\gates_to_grid.py:160: DeprecationWarning: Barnes weighting function is deprecated. Please use Barnes 2 to be consistent with Pauley and Wu 1990.\n",
      "  warnings.warn(\"Barnes weighting function is deprecated.\"\n"
     ]
    },
    {
     "name": "stdout",
     "output_type": "stream",
     "text": [
      "Gradient Analysis and Masking\n",
      "(-96.0787353515625, 28.471900939941406, <cartopy.crs.PlateCarree object at 0x000001A93B3BE7C0>)\n"
     ]
    },
    {
     "name": "stderr",
     "output_type": "stream",
     "text": [
      "C:\\Users\\gandalf\\anaconda3\\envs\\radar\\lib\\site-packages\\pyproj\\crs\\crs.py:53: FutureWarning: '+init=<authority>:<code>' syntax is deprecated. '<authority>:<code>' is the preferred initialization method. When making the change, be mindful of axis order changes: https://pyproj4.github.io/pyproj/stable/gotchas.html#axis-order-changes-in-proj-6\n",
      "  return _prepare_from_string(\" \".join(pjargs))\n",
      "C:\\Users\\gandalf\\anaconda3\\envs\\radar\\lib\\site-packages\\pyproj\\crs\\crs.py:294: FutureWarning: '+init=<authority>:<code>' syntax is deprecated. '<authority>:<code>' is the preferred initialization method. When making the change, be mindful of axis order changes: https://pyproj4.github.io/pyproj/stable/gotchas.html#axis-order-changes-in-proj-6\n",
      "  projstring = _prepare_from_string(\" \".join((projstring, projkwargs)))\n",
      "C:\\Users\\gandalf\\anaconda3\\envs\\radar\\lib\\site-packages\\pyproj\\crs\\crs.py:53: FutureWarning: '+init=<authority>:<code>' syntax is deprecated. '<authority>:<code>' is the preferred initialization method. When making the change, be mindful of axis order changes: https://pyproj4.github.io/pyproj/stable/gotchas.html#axis-order-changes-in-proj-6\n",
      "  return _prepare_from_string(\" \".join(pjargs))\n",
      "C:\\Users\\gandalf\\anaconda3\\envs\\radar\\lib\\site-packages\\pyproj\\crs\\crs.py:294: FutureWarning: '+init=<authority>:<code>' syntax is deprecated. '<authority>:<code>' is the preferred initialization method. When making the change, be mindful of axis order changes: https://pyproj4.github.io/pyproj/stable/gotchas.html#axis-order-changes-in-proj-6\n",
      "  projstring = _prepare_from_string(\" \".join((projstring, projkwargs)))\n"
     ]
    },
    {
     "name": "stdout",
     "output_type": "stream",
     "text": [
      "Testfig Saved\n"
     ]
    },
    {
     "name": "stderr",
     "output_type": "stream",
     "text": [
      "C:\\Users\\gandalf\\Documents\\Python Scripts\\SPORK-SPIN-master\\SPORK-SPIN-master\\arcalg_figure4.py:555: RuntimeWarning: invalid value encountered in true_divide\n",
      "  shaped_ang = (180-np.abs(shaped_ang))*(shaped_ang/np.abs(shaped_ang))\n"
     ]
    },
    {
     "name": "stdout",
     "output_type": "stream",
     "text": [
      "Figure Saved\n",
      "in loop\n",
      "19\n",
      "in loop\n",
      "19\n",
      "in loop\n",
      "19\n",
      "in loop\n",
      "19\n",
      "in loop\n",
      "19\n",
      "in loop\n",
      "19\n",
      "in loop\n",
      "19\n",
      "in loop\n",
      "19\n",
      "in loop\n",
      "19\n",
      "File Reading\n",
      "in loop\n",
      "19\n",
      "Pre-grid Organization Section\n",
      "KDP Section\n",
      "Grid Section\n"
     ]
    },
    {
     "name": "stderr",
     "output_type": "stream",
     "text": [
      "C:\\Users\\gandalf\\anaconda3\\envs\\radar\\lib\\site-packages\\pyart\\map\\gates_to_grid.py:160: DeprecationWarning: Barnes weighting function is deprecated. Please use Barnes 2 to be consistent with Pauley and Wu 1990.\n",
      "  warnings.warn(\"Barnes weighting function is deprecated.\"\n"
     ]
    },
    {
     "name": "stdout",
     "output_type": "stream",
     "text": [
      "Gradient Analysis and Masking\n",
      "(-96.0787353515625, 28.471900939941406, <cartopy.crs.PlateCarree object at 0x000001A93B3BEAE0>)\n"
     ]
    },
    {
     "name": "stderr",
     "output_type": "stream",
     "text": [
      "C:\\Users\\gandalf\\anaconda3\\envs\\radar\\lib\\site-packages\\pyproj\\crs\\crs.py:53: FutureWarning: '+init=<authority>:<code>' syntax is deprecated. '<authority>:<code>' is the preferred initialization method. When making the change, be mindful of axis order changes: https://pyproj4.github.io/pyproj/stable/gotchas.html#axis-order-changes-in-proj-6\n",
      "  return _prepare_from_string(\" \".join(pjargs))\n",
      "C:\\Users\\gandalf\\anaconda3\\envs\\radar\\lib\\site-packages\\pyproj\\crs\\crs.py:294: FutureWarning: '+init=<authority>:<code>' syntax is deprecated. '<authority>:<code>' is the preferred initialization method. When making the change, be mindful of axis order changes: https://pyproj4.github.io/pyproj/stable/gotchas.html#axis-order-changes-in-proj-6\n",
      "  projstring = _prepare_from_string(\" \".join((projstring, projkwargs)))\n",
      "C:\\Users\\gandalf\\anaconda3\\envs\\radar\\lib\\site-packages\\pyproj\\crs\\crs.py:53: FutureWarning: '+init=<authority>:<code>' syntax is deprecated. '<authority>:<code>' is the preferred initialization method. When making the change, be mindful of axis order changes: https://pyproj4.github.io/pyproj/stable/gotchas.html#axis-order-changes-in-proj-6\n",
      "  return _prepare_from_string(\" \".join(pjargs))\n",
      "C:\\Users\\gandalf\\anaconda3\\envs\\radar\\lib\\site-packages\\pyproj\\crs\\crs.py:294: FutureWarning: '+init=<authority>:<code>' syntax is deprecated. '<authority>:<code>' is the preferred initialization method. When making the change, be mindful of axis order changes: https://pyproj4.github.io/pyproj/stable/gotchas.html#axis-order-changes-in-proj-6\n",
      "  projstring = _prepare_from_string(\" \".join((projstring, projkwargs)))\n"
     ]
    },
    {
     "name": "stdout",
     "output_type": "stream",
     "text": [
      "Testfig Saved\n"
     ]
    },
    {
     "name": "stderr",
     "output_type": "stream",
     "text": [
      "C:\\Users\\gandalf\\Documents\\Python Scripts\\SPORK-SPIN-master\\SPORK-SPIN-master\\arcalg_figure4.py:555: RuntimeWarning: invalid value encountered in true_divide\n",
      "  shaped_ang = (180-np.abs(shaped_ang))*(shaped_ang/np.abs(shaped_ang))\n"
     ]
    },
    {
     "name": "stdout",
     "output_type": "stream",
     "text": [
      "Figure Saved\n",
      "in loop\n",
      "19\n",
      "in loop\n",
      "19\n",
      "in loop\n",
      "19\n",
      "in loop\n",
      "19\n",
      "in loop\n",
      "19\n",
      "in loop\n",
      "19\n",
      "in loop\n",
      "19\n",
      "in loop\n",
      "19\n",
      "in loop\n",
      "19\n",
      "Pre-grid Organization Section\n",
      "KDP Section\n",
      "Grid Section\n"
     ]
    },
    {
     "name": "stderr",
     "output_type": "stream",
     "text": [
      "C:\\Users\\gandalf\\anaconda3\\envs\\radar\\lib\\site-packages\\pyart\\map\\gates_to_grid.py:160: DeprecationWarning: Barnes weighting function is deprecated. Please use Barnes 2 to be consistent with Pauley and Wu 1990.\n",
      "  warnings.warn(\"Barnes weighting function is deprecated.\"\n"
     ]
    },
    {
     "name": "stdout",
     "output_type": "stream",
     "text": [
      "Gradient Analysis and Masking\n",
      "(-96.0787353515625, 28.471900939941406, <cartopy.crs.PlateCarree object at 0x000001A914368F90>)\n"
     ]
    },
    {
     "name": "stderr",
     "output_type": "stream",
     "text": [
      "C:\\Users\\gandalf\\anaconda3\\envs\\radar\\lib\\site-packages\\pyproj\\crs\\crs.py:53: FutureWarning: '+init=<authority>:<code>' syntax is deprecated. '<authority>:<code>' is the preferred initialization method. When making the change, be mindful of axis order changes: https://pyproj4.github.io/pyproj/stable/gotchas.html#axis-order-changes-in-proj-6\n",
      "  return _prepare_from_string(\" \".join(pjargs))\n",
      "C:\\Users\\gandalf\\anaconda3\\envs\\radar\\lib\\site-packages\\pyproj\\crs\\crs.py:294: FutureWarning: '+init=<authority>:<code>' syntax is deprecated. '<authority>:<code>' is the preferred initialization method. When making the change, be mindful of axis order changes: https://pyproj4.github.io/pyproj/stable/gotchas.html#axis-order-changes-in-proj-6\n",
      "  projstring = _prepare_from_string(\" \".join((projstring, projkwargs)))\n",
      "C:\\Users\\gandalf\\anaconda3\\envs\\radar\\lib\\site-packages\\pyproj\\crs\\crs.py:53: FutureWarning: '+init=<authority>:<code>' syntax is deprecated. '<authority>:<code>' is the preferred initialization method. When making the change, be mindful of axis order changes: https://pyproj4.github.io/pyproj/stable/gotchas.html#axis-order-changes-in-proj-6\n",
      "  return _prepare_from_string(\" \".join(pjargs))\n",
      "C:\\Users\\gandalf\\anaconda3\\envs\\radar\\lib\\site-packages\\pyproj\\crs\\crs.py:294: FutureWarning: '+init=<authority>:<code>' syntax is deprecated. '<authority>:<code>' is the preferred initialization method. When making the change, be mindful of axis order changes: https://pyproj4.github.io/pyproj/stable/gotchas.html#axis-order-changes-in-proj-6\n",
      "  projstring = _prepare_from_string(\" \".join((projstring, projkwargs)))\n"
     ]
    },
    {
     "name": "stdout",
     "output_type": "stream",
     "text": [
      "Testfig Saved\n"
     ]
    },
    {
     "name": "stderr",
     "output_type": "stream",
     "text": [
      "C:\\Users\\gandalf\\Documents\\Python Scripts\\SPORK-SPIN-master\\SPORK-SPIN-master\\arcalg_figure4.py:555: RuntimeWarning: invalid value encountered in true_divide\n",
      "  shaped_ang = (180-np.abs(shaped_ang))*(shaped_ang/np.abs(shaped_ang))\n"
     ]
    },
    {
     "name": "stdout",
     "output_type": "stream",
     "text": [
      "Figure Saved\n",
      "in loop\n",
      "19\n",
      "in loop\n",
      "19\n",
      "in loop\n",
      "19\n",
      "in loop\n",
      "19\n",
      "in loop\n",
      "19\n",
      "in loop\n",
      "19\n",
      "in loop\n",
      "19\n",
      "in loop\n",
      "19\n",
      "in loop\n",
      "19\n",
      "File Reading\n",
      "in loop\n",
      "19\n",
      "Pre-grid Organization Section\n",
      "KDP Section\n",
      "Grid Section\n"
     ]
    },
    {
     "name": "stderr",
     "output_type": "stream",
     "text": [
      "C:\\Users\\gandalf\\anaconda3\\envs\\radar\\lib\\site-packages\\pyart\\map\\gates_to_grid.py:160: DeprecationWarning: Barnes weighting function is deprecated. Please use Barnes 2 to be consistent with Pauley and Wu 1990.\n",
      "  warnings.warn(\"Barnes weighting function is deprecated.\"\n"
     ]
    },
    {
     "name": "stdout",
     "output_type": "stream",
     "text": [
      "Gradient Analysis and Masking\n",
      "(-96.0787353515625, 28.471900939941406, <cartopy.crs.PlateCarree object at 0x000001A912929540>)\n"
     ]
    },
    {
     "name": "stderr",
     "output_type": "stream",
     "text": [
      "C:\\Users\\gandalf\\anaconda3\\envs\\radar\\lib\\site-packages\\pyproj\\crs\\crs.py:53: FutureWarning: '+init=<authority>:<code>' syntax is deprecated. '<authority>:<code>' is the preferred initialization method. When making the change, be mindful of axis order changes: https://pyproj4.github.io/pyproj/stable/gotchas.html#axis-order-changes-in-proj-6\n",
      "  return _prepare_from_string(\" \".join(pjargs))\n",
      "C:\\Users\\gandalf\\anaconda3\\envs\\radar\\lib\\site-packages\\pyproj\\crs\\crs.py:294: FutureWarning: '+init=<authority>:<code>' syntax is deprecated. '<authority>:<code>' is the preferred initialization method. When making the change, be mindful of axis order changes: https://pyproj4.github.io/pyproj/stable/gotchas.html#axis-order-changes-in-proj-6\n",
      "  projstring = _prepare_from_string(\" \".join((projstring, projkwargs)))\n",
      "C:\\Users\\gandalf\\anaconda3\\envs\\radar\\lib\\site-packages\\pyproj\\crs\\crs.py:53: FutureWarning: '+init=<authority>:<code>' syntax is deprecated. '<authority>:<code>' is the preferred initialization method. When making the change, be mindful of axis order changes: https://pyproj4.github.io/pyproj/stable/gotchas.html#axis-order-changes-in-proj-6\n",
      "  return _prepare_from_string(\" \".join(pjargs))\n",
      "C:\\Users\\gandalf\\anaconda3\\envs\\radar\\lib\\site-packages\\pyproj\\crs\\crs.py:294: FutureWarning: '+init=<authority>:<code>' syntax is deprecated. '<authority>:<code>' is the preferred initialization method. When making the change, be mindful of axis order changes: https://pyproj4.github.io/pyproj/stable/gotchas.html#axis-order-changes-in-proj-6\n",
      "  projstring = _prepare_from_string(\" \".join((projstring, projkwargs)))\n"
     ]
    },
    {
     "name": "stdout",
     "output_type": "stream",
     "text": [
      "Testfig Saved\n"
     ]
    },
    {
     "name": "stderr",
     "output_type": "stream",
     "text": [
      "C:\\Users\\gandalf\\Documents\\Python Scripts\\SPORK-SPIN-master\\SPORK-SPIN-master\\arcalg_figure4.py:555: RuntimeWarning: invalid value encountered in true_divide\n",
      "  shaped_ang = (180-np.abs(shaped_ang))*(shaped_ang/np.abs(shaped_ang))\n"
     ]
    },
    {
     "name": "stdout",
     "output_type": "stream",
     "text": [
      "Figure Saved\n",
      "in loop\n",
      "19\n",
      "in loop\n",
      "19\n",
      "in loop\n",
      "19\n",
      "in loop\n",
      "19\n",
      "in loop\n",
      "19\n",
      "in loop\n",
      "19\n",
      "in loop\n",
      "19\n",
      "in loop\n",
      "19\n",
      "in loop\n",
      "19\n",
      "Pre-grid Organization Section\n",
      "KDP Section\n",
      "Grid Section\n"
     ]
    },
    {
     "name": "stderr",
     "output_type": "stream",
     "text": [
      "C:\\Users\\gandalf\\anaconda3\\envs\\radar\\lib\\site-packages\\pyart\\map\\gates_to_grid.py:160: DeprecationWarning: Barnes weighting function is deprecated. Please use Barnes 2 to be consistent with Pauley and Wu 1990.\n",
      "  warnings.warn(\"Barnes weighting function is deprecated.\"\n"
     ]
    },
    {
     "name": "stdout",
     "output_type": "stream",
     "text": [
      "Gradient Analysis and Masking\n",
      "(-96.0787353515625, 28.471900939941406, <cartopy.crs.PlateCarree object at 0x000001A912929900>)\n"
     ]
    },
    {
     "name": "stderr",
     "output_type": "stream",
     "text": [
      "C:\\Users\\gandalf\\anaconda3\\envs\\radar\\lib\\site-packages\\pyproj\\crs\\crs.py:53: FutureWarning: '+init=<authority>:<code>' syntax is deprecated. '<authority>:<code>' is the preferred initialization method. When making the change, be mindful of axis order changes: https://pyproj4.github.io/pyproj/stable/gotchas.html#axis-order-changes-in-proj-6\n",
      "  return _prepare_from_string(\" \".join(pjargs))\n",
      "C:\\Users\\gandalf\\anaconda3\\envs\\radar\\lib\\site-packages\\pyproj\\crs\\crs.py:294: FutureWarning: '+init=<authority>:<code>' syntax is deprecated. '<authority>:<code>' is the preferred initialization method. When making the change, be mindful of axis order changes: https://pyproj4.github.io/pyproj/stable/gotchas.html#axis-order-changes-in-proj-6\n",
      "  projstring = _prepare_from_string(\" \".join((projstring, projkwargs)))\n",
      "C:\\Users\\gandalf\\anaconda3\\envs\\radar\\lib\\site-packages\\pyproj\\crs\\crs.py:53: FutureWarning: '+init=<authority>:<code>' syntax is deprecated. '<authority>:<code>' is the preferred initialization method. When making the change, be mindful of axis order changes: https://pyproj4.github.io/pyproj/stable/gotchas.html#axis-order-changes-in-proj-6\n",
      "  return _prepare_from_string(\" \".join(pjargs))\n",
      "C:\\Users\\gandalf\\anaconda3\\envs\\radar\\lib\\site-packages\\pyproj\\crs\\crs.py:294: FutureWarning: '+init=<authority>:<code>' syntax is deprecated. '<authority>:<code>' is the preferred initialization method. When making the change, be mindful of axis order changes: https://pyproj4.github.io/pyproj/stable/gotchas.html#axis-order-changes-in-proj-6\n",
      "  projstring = _prepare_from_string(\" \".join((projstring, projkwargs)))\n"
     ]
    },
    {
     "name": "stdout",
     "output_type": "stream",
     "text": [
      "Testfig Saved\n"
     ]
    },
    {
     "name": "stderr",
     "output_type": "stream",
     "text": [
      "C:\\Users\\gandalf\\Documents\\Python Scripts\\SPORK-SPIN-master\\SPORK-SPIN-master\\arcalg_figure4.py:555: RuntimeWarning: invalid value encountered in true_divide\n",
      "  shaped_ang = (180-np.abs(shaped_ang))*(shaped_ang/np.abs(shaped_ang))\n"
     ]
    },
    {
     "name": "stdout",
     "output_type": "stream",
     "text": [
      "Figure Saved\n",
      "in loop\n",
      "19\n",
      "in loop\n",
      "19\n",
      "in loop\n",
      "19\n",
      "in loop\n",
      "19\n",
      "in loop\n",
      "19\n",
      "in loop\n",
      "19\n",
      "in loop\n",
      "19\n",
      "in loop\n",
      "19\n",
      "in loop\n",
      "19\n",
      "File Reading\n",
      "in loop\n",
      "19\n",
      "Pre-grid Organization Section\n",
      "KDP Section\n",
      "Grid Section\n"
     ]
    },
    {
     "name": "stderr",
     "output_type": "stream",
     "text": [
      "C:\\Users\\gandalf\\anaconda3\\envs\\radar\\lib\\site-packages\\pyart\\map\\gates_to_grid.py:160: DeprecationWarning: Barnes weighting function is deprecated. Please use Barnes 2 to be consistent with Pauley and Wu 1990.\n",
      "  warnings.warn(\"Barnes weighting function is deprecated.\"\n"
     ]
    },
    {
     "name": "stdout",
     "output_type": "stream",
     "text": [
      "Gradient Analysis and Masking\n",
      "(-96.0787353515625, 28.471900939941406, <cartopy.crs.PlateCarree object at 0x000001A9856C7B30>)\n"
     ]
    },
    {
     "name": "stderr",
     "output_type": "stream",
     "text": [
      "C:\\Users\\gandalf\\anaconda3\\envs\\radar\\lib\\site-packages\\pyproj\\crs\\crs.py:53: FutureWarning: '+init=<authority>:<code>' syntax is deprecated. '<authority>:<code>' is the preferred initialization method. When making the change, be mindful of axis order changes: https://pyproj4.github.io/pyproj/stable/gotchas.html#axis-order-changes-in-proj-6\n",
      "  return _prepare_from_string(\" \".join(pjargs))\n",
      "C:\\Users\\gandalf\\anaconda3\\envs\\radar\\lib\\site-packages\\pyproj\\crs\\crs.py:294: FutureWarning: '+init=<authority>:<code>' syntax is deprecated. '<authority>:<code>' is the preferred initialization method. When making the change, be mindful of axis order changes: https://pyproj4.github.io/pyproj/stable/gotchas.html#axis-order-changes-in-proj-6\n",
      "  projstring = _prepare_from_string(\" \".join((projstring, projkwargs)))\n",
      "C:\\Users\\gandalf\\anaconda3\\envs\\radar\\lib\\site-packages\\pyproj\\crs\\crs.py:53: FutureWarning: '+init=<authority>:<code>' syntax is deprecated. '<authority>:<code>' is the preferred initialization method. When making the change, be mindful of axis order changes: https://pyproj4.github.io/pyproj/stable/gotchas.html#axis-order-changes-in-proj-6\n",
      "  return _prepare_from_string(\" \".join(pjargs))\n",
      "C:\\Users\\gandalf\\anaconda3\\envs\\radar\\lib\\site-packages\\pyproj\\crs\\crs.py:294: FutureWarning: '+init=<authority>:<code>' syntax is deprecated. '<authority>:<code>' is the preferred initialization method. When making the change, be mindful of axis order changes: https://pyproj4.github.io/pyproj/stable/gotchas.html#axis-order-changes-in-proj-6\n",
      "  projstring = _prepare_from_string(\" \".join((projstring, projkwargs)))\n"
     ]
    },
    {
     "name": "stdout",
     "output_type": "stream",
     "text": [
      "Testfig Saved\n"
     ]
    },
    {
     "name": "stderr",
     "output_type": "stream",
     "text": [
      "C:\\Users\\gandalf\\Documents\\Python Scripts\\SPORK-SPIN-master\\SPORK-SPIN-master\\arcalg_figure4.py:555: RuntimeWarning: invalid value encountered in true_divide\n",
      "  shaped_ang = (180-np.abs(shaped_ang))*(shaped_ang/np.abs(shaped_ang))\n"
     ]
    },
    {
     "name": "stdout",
     "output_type": "stream",
     "text": [
      "Figure Saved\n",
      "in loop\n",
      "19\n",
      "in loop\n",
      "19\n",
      "in loop\n",
      "19\n",
      "in loop\n",
      "19\n",
      "in loop\n",
      "19\n",
      "in loop\n",
      "19\n",
      "in loop\n",
      "19\n",
      "in loop\n",
      "19\n",
      "in loop\n",
      "19\n",
      "Pre-grid Organization Section\n",
      "KDP Section\n",
      "Grid Section\n"
     ]
    },
    {
     "name": "stderr",
     "output_type": "stream",
     "text": [
      "C:\\Users\\gandalf\\anaconda3\\envs\\radar\\lib\\site-packages\\pyart\\map\\gates_to_grid.py:160: DeprecationWarning: Barnes weighting function is deprecated. Please use Barnes 2 to be consistent with Pauley and Wu 1990.\n",
      "  warnings.warn(\"Barnes weighting function is deprecated.\"\n"
     ]
    },
    {
     "name": "stdout",
     "output_type": "stream",
     "text": [
      "Gradient Analysis and Masking\n",
      "(-96.0787353515625, 28.471900939941406, <cartopy.crs.PlateCarree object at 0x000001A912958720>)\n"
     ]
    },
    {
     "name": "stderr",
     "output_type": "stream",
     "text": [
      "C:\\Users\\gandalf\\anaconda3\\envs\\radar\\lib\\site-packages\\pyproj\\crs\\crs.py:53: FutureWarning: '+init=<authority>:<code>' syntax is deprecated. '<authority>:<code>' is the preferred initialization method. When making the change, be mindful of axis order changes: https://pyproj4.github.io/pyproj/stable/gotchas.html#axis-order-changes-in-proj-6\n",
      "  return _prepare_from_string(\" \".join(pjargs))\n",
      "C:\\Users\\gandalf\\anaconda3\\envs\\radar\\lib\\site-packages\\pyproj\\crs\\crs.py:294: FutureWarning: '+init=<authority>:<code>' syntax is deprecated. '<authority>:<code>' is the preferred initialization method. When making the change, be mindful of axis order changes: https://pyproj4.github.io/pyproj/stable/gotchas.html#axis-order-changes-in-proj-6\n",
      "  projstring = _prepare_from_string(\" \".join((projstring, projkwargs)))\n",
      "C:\\Users\\gandalf\\anaconda3\\envs\\radar\\lib\\site-packages\\pyproj\\crs\\crs.py:53: FutureWarning: '+init=<authority>:<code>' syntax is deprecated. '<authority>:<code>' is the preferred initialization method. When making the change, be mindful of axis order changes: https://pyproj4.github.io/pyproj/stable/gotchas.html#axis-order-changes-in-proj-6\n",
      "  return _prepare_from_string(\" \".join(pjargs))\n",
      "C:\\Users\\gandalf\\anaconda3\\envs\\radar\\lib\\site-packages\\pyproj\\crs\\crs.py:294: FutureWarning: '+init=<authority>:<code>' syntax is deprecated. '<authority>:<code>' is the preferred initialization method. When making the change, be mindful of axis order changes: https://pyproj4.github.io/pyproj/stable/gotchas.html#axis-order-changes-in-proj-6\n",
      "  projstring = _prepare_from_string(\" \".join((projstring, projkwargs)))\n"
     ]
    },
    {
     "name": "stdout",
     "output_type": "stream",
     "text": [
      "Testfig Saved\n"
     ]
    },
    {
     "name": "stderr",
     "output_type": "stream",
     "text": [
      "C:\\Users\\gandalf\\Documents\\Python Scripts\\SPORK-SPIN-master\\SPORK-SPIN-master\\arcalg_figure4.py:555: RuntimeWarning: invalid value encountered in true_divide\n",
      "  shaped_ang = (180-np.abs(shaped_ang))*(shaped_ang/np.abs(shaped_ang))\n"
     ]
    },
    {
     "name": "stdout",
     "output_type": "stream",
     "text": [
      "Figure Saved\n",
      "in loop\n",
      "19\n",
      "in loop\n",
      "19\n",
      "in loop\n",
      "19\n",
      "in loop\n",
      "19\n",
      "in loop\n",
      "19\n",
      "in loop\n",
      "19\n",
      "in loop\n",
      "19\n",
      "in loop\n",
      "19\n",
      "in loop\n",
      "19\n",
      "File Reading\n",
      "in loop\n",
      "19\n",
      "Pre-grid Organization Section\n",
      "KDP Section\n",
      "Grid Section\n"
     ]
    },
    {
     "name": "stderr",
     "output_type": "stream",
     "text": [
      "C:\\Users\\gandalf\\anaconda3\\envs\\radar\\lib\\site-packages\\pyart\\map\\gates_to_grid.py:160: DeprecationWarning: Barnes weighting function is deprecated. Please use Barnes 2 to be consistent with Pauley and Wu 1990.\n",
      "  warnings.warn(\"Barnes weighting function is deprecated.\"\n"
     ]
    },
    {
     "name": "stdout",
     "output_type": "stream",
     "text": [
      "Gradient Analysis and Masking\n",
      "(-96.0787353515625, 28.471900939941406, <cartopy.crs.PlateCarree object at 0x000001A912929EF0>)\n"
     ]
    },
    {
     "name": "stderr",
     "output_type": "stream",
     "text": [
      "C:\\Users\\gandalf\\anaconda3\\envs\\radar\\lib\\site-packages\\pyproj\\crs\\crs.py:53: FutureWarning: '+init=<authority>:<code>' syntax is deprecated. '<authority>:<code>' is the preferred initialization method. When making the change, be mindful of axis order changes: https://pyproj4.github.io/pyproj/stable/gotchas.html#axis-order-changes-in-proj-6\n",
      "  return _prepare_from_string(\" \".join(pjargs))\n",
      "C:\\Users\\gandalf\\anaconda3\\envs\\radar\\lib\\site-packages\\pyproj\\crs\\crs.py:294: FutureWarning: '+init=<authority>:<code>' syntax is deprecated. '<authority>:<code>' is the preferred initialization method. When making the change, be mindful of axis order changes: https://pyproj4.github.io/pyproj/stable/gotchas.html#axis-order-changes-in-proj-6\n",
      "  projstring = _prepare_from_string(\" \".join((projstring, projkwargs)))\n",
      "C:\\Users\\gandalf\\anaconda3\\envs\\radar\\lib\\site-packages\\pyproj\\crs\\crs.py:53: FutureWarning: '+init=<authority>:<code>' syntax is deprecated. '<authority>:<code>' is the preferred initialization method. When making the change, be mindful of axis order changes: https://pyproj4.github.io/pyproj/stable/gotchas.html#axis-order-changes-in-proj-6\n",
      "  return _prepare_from_string(\" \".join(pjargs))\n",
      "C:\\Users\\gandalf\\anaconda3\\envs\\radar\\lib\\site-packages\\pyproj\\crs\\crs.py:294: FutureWarning: '+init=<authority>:<code>' syntax is deprecated. '<authority>:<code>' is the preferred initialization method. When making the change, be mindful of axis order changes: https://pyproj4.github.io/pyproj/stable/gotchas.html#axis-order-changes-in-proj-6\n",
      "  projstring = _prepare_from_string(\" \".join((projstring, projkwargs)))\n"
     ]
    },
    {
     "name": "stdout",
     "output_type": "stream",
     "text": [
      "Testfig Saved\n"
     ]
    },
    {
     "name": "stderr",
     "output_type": "stream",
     "text": [
      "C:\\Users\\gandalf\\Documents\\Python Scripts\\SPORK-SPIN-master\\SPORK-SPIN-master\\arcalg_figure4.py:555: RuntimeWarning: invalid value encountered in true_divide\n",
      "  shaped_ang = (180-np.abs(shaped_ang))*(shaped_ang/np.abs(shaped_ang))\n"
     ]
    },
    {
     "name": "stdout",
     "output_type": "stream",
     "text": [
      "Figure Saved\n",
      "in loop\n",
      "19\n",
      "in loop\n",
      "19\n",
      "in loop\n",
      "19\n",
      "in loop\n",
      "19\n",
      "in loop\n",
      "19\n",
      "in loop\n",
      "19\n",
      "in loop\n",
      "19\n",
      "in loop\n",
      "19\n",
      "in loop\n",
      "19\n",
      "Pre-grid Organization Section\n",
      "KDP Section\n",
      "Grid Section\n"
     ]
    },
    {
     "name": "stderr",
     "output_type": "stream",
     "text": [
      "C:\\Users\\gandalf\\anaconda3\\envs\\radar\\lib\\site-packages\\pyart\\map\\gates_to_grid.py:160: DeprecationWarning: Barnes weighting function is deprecated. Please use Barnes 2 to be consistent with Pauley and Wu 1990.\n",
      "  warnings.warn(\"Barnes weighting function is deprecated.\"\n"
     ]
    },
    {
     "name": "stdout",
     "output_type": "stream",
     "text": [
      "Gradient Analysis and Masking\n",
      "(-96.0787353515625, 28.471900939941406, <cartopy.crs.PlateCarree object at 0x000001A91EA9B1D0>)\n"
     ]
    },
    {
     "name": "stderr",
     "output_type": "stream",
     "text": [
      "C:\\Users\\gandalf\\anaconda3\\envs\\radar\\lib\\site-packages\\pyproj\\crs\\crs.py:53: FutureWarning: '+init=<authority>:<code>' syntax is deprecated. '<authority>:<code>' is the preferred initialization method. When making the change, be mindful of axis order changes: https://pyproj4.github.io/pyproj/stable/gotchas.html#axis-order-changes-in-proj-6\n",
      "  return _prepare_from_string(\" \".join(pjargs))\n",
      "C:\\Users\\gandalf\\anaconda3\\envs\\radar\\lib\\site-packages\\pyproj\\crs\\crs.py:294: FutureWarning: '+init=<authority>:<code>' syntax is deprecated. '<authority>:<code>' is the preferred initialization method. When making the change, be mindful of axis order changes: https://pyproj4.github.io/pyproj/stable/gotchas.html#axis-order-changes-in-proj-6\n",
      "  projstring = _prepare_from_string(\" \".join((projstring, projkwargs)))\n",
      "C:\\Users\\gandalf\\anaconda3\\envs\\radar\\lib\\site-packages\\pyproj\\crs\\crs.py:53: FutureWarning: '+init=<authority>:<code>' syntax is deprecated. '<authority>:<code>' is the preferred initialization method. When making the change, be mindful of axis order changes: https://pyproj4.github.io/pyproj/stable/gotchas.html#axis-order-changes-in-proj-6\n",
      "  return _prepare_from_string(\" \".join(pjargs))\n",
      "C:\\Users\\gandalf\\anaconda3\\envs\\radar\\lib\\site-packages\\pyproj\\crs\\crs.py:294: FutureWarning: '+init=<authority>:<code>' syntax is deprecated. '<authority>:<code>' is the preferred initialization method. When making the change, be mindful of axis order changes: https://pyproj4.github.io/pyproj/stable/gotchas.html#axis-order-changes-in-proj-6\n",
      "  projstring = _prepare_from_string(\" \".join((projstring, projkwargs)))\n"
     ]
    },
    {
     "name": "stdout",
     "output_type": "stream",
     "text": [
      "Testfig Saved\n"
     ]
    },
    {
     "name": "stderr",
     "output_type": "stream",
     "text": [
      "C:\\Users\\gandalf\\Documents\\Python Scripts\\SPORK-SPIN-master\\SPORK-SPIN-master\\arcalg_figure4.py:555: RuntimeWarning: invalid value encountered in true_divide\n",
      "  shaped_ang = (180-np.abs(shaped_ang))*(shaped_ang/np.abs(shaped_ang))\n"
     ]
    },
    {
     "name": "stdout",
     "output_type": "stream",
     "text": [
      "Figure Saved\n",
      "in loop\n",
      "19\n",
      "in loop\n",
      "19\n",
      "in loop\n",
      "19\n",
      "in loop\n",
      "19\n",
      "in loop\n",
      "19\n",
      "in loop\n",
      "19\n",
      "in loop\n",
      "19\n",
      "in loop\n",
      "19\n",
      "in loop\n",
      "19\n",
      "File Reading\n",
      "in loop\n",
      "19\n",
      "Pre-grid Organization Section\n",
      "KDP Section\n",
      "Grid Section\n"
     ]
    },
    {
     "name": "stderr",
     "output_type": "stream",
     "text": [
      "C:\\Users\\gandalf\\anaconda3\\envs\\radar\\lib\\site-packages\\pyart\\map\\gates_to_grid.py:160: DeprecationWarning: Barnes weighting function is deprecated. Please use Barnes 2 to be consistent with Pauley and Wu 1990.\n",
      "  warnings.warn(\"Barnes weighting function is deprecated.\"\n"
     ]
    },
    {
     "name": "stdout",
     "output_type": "stream",
     "text": [
      "Gradient Analysis and Masking\n",
      "(-96.0787353515625, 28.471900939941406, <cartopy.crs.PlateCarree object at 0x000001A94018A7C0>)\n"
     ]
    },
    {
     "name": "stderr",
     "output_type": "stream",
     "text": [
      "C:\\Users\\gandalf\\anaconda3\\envs\\radar\\lib\\site-packages\\pyproj\\crs\\crs.py:53: FutureWarning: '+init=<authority>:<code>' syntax is deprecated. '<authority>:<code>' is the preferred initialization method. When making the change, be mindful of axis order changes: https://pyproj4.github.io/pyproj/stable/gotchas.html#axis-order-changes-in-proj-6\n",
      "  return _prepare_from_string(\" \".join(pjargs))\n",
      "C:\\Users\\gandalf\\anaconda3\\envs\\radar\\lib\\site-packages\\pyproj\\crs\\crs.py:294: FutureWarning: '+init=<authority>:<code>' syntax is deprecated. '<authority>:<code>' is the preferred initialization method. When making the change, be mindful of axis order changes: https://pyproj4.github.io/pyproj/stable/gotchas.html#axis-order-changes-in-proj-6\n",
      "  projstring = _prepare_from_string(\" \".join((projstring, projkwargs)))\n",
      "C:\\Users\\gandalf\\anaconda3\\envs\\radar\\lib\\site-packages\\pyproj\\crs\\crs.py:53: FutureWarning: '+init=<authority>:<code>' syntax is deprecated. '<authority>:<code>' is the preferred initialization method. When making the change, be mindful of axis order changes: https://pyproj4.github.io/pyproj/stable/gotchas.html#axis-order-changes-in-proj-6\n",
      "  return _prepare_from_string(\" \".join(pjargs))\n",
      "C:\\Users\\gandalf\\anaconda3\\envs\\radar\\lib\\site-packages\\pyproj\\crs\\crs.py:294: FutureWarning: '+init=<authority>:<code>' syntax is deprecated. '<authority>:<code>' is the preferred initialization method. When making the change, be mindful of axis order changes: https://pyproj4.github.io/pyproj/stable/gotchas.html#axis-order-changes-in-proj-6\n",
      "  projstring = _prepare_from_string(\" \".join((projstring, projkwargs)))\n"
     ]
    },
    {
     "name": "stdout",
     "output_type": "stream",
     "text": [
      "Testfig Saved\n"
     ]
    },
    {
     "name": "stderr",
     "output_type": "stream",
     "text": [
      "C:\\Users\\gandalf\\Documents\\Python Scripts\\SPORK-SPIN-master\\SPORK-SPIN-master\\arcalg_figure4.py:555: RuntimeWarning: invalid value encountered in true_divide\n",
      "  shaped_ang = (180-np.abs(shaped_ang))*(shaped_ang/np.abs(shaped_ang))\n"
     ]
    },
    {
     "name": "stdout",
     "output_type": "stream",
     "text": [
      "Figure Saved\n",
      "in loop\n",
      "19\n",
      "in loop\n",
      "19\n",
      "in loop\n",
      "19\n",
      "in loop\n",
      "19\n",
      "in loop\n",
      "19\n",
      "in loop\n",
      "19\n",
      "in loop\n",
      "19\n",
      "in loop\n",
      "19\n",
      "in loop\n",
      "19\n",
      "Pre-grid Organization Section\n",
      "KDP Section\n",
      "Grid Section\n"
     ]
    },
    {
     "name": "stderr",
     "output_type": "stream",
     "text": [
      "C:\\Users\\gandalf\\anaconda3\\envs\\radar\\lib\\site-packages\\pyart\\map\\gates_to_grid.py:160: DeprecationWarning: Barnes weighting function is deprecated. Please use Barnes 2 to be consistent with Pauley and Wu 1990.\n",
      "  warnings.warn(\"Barnes weighting function is deprecated.\"\n"
     ]
    },
    {
     "name": "stdout",
     "output_type": "stream",
     "text": [
      "Gradient Analysis and Masking\n",
      "(-96.0787353515625, 28.471900939941406, <cartopy.crs.PlateCarree object at 0x000001A94018A810>)\n"
     ]
    },
    {
     "name": "stderr",
     "output_type": "stream",
     "text": [
      "C:\\Users\\gandalf\\anaconda3\\envs\\radar\\lib\\site-packages\\pyproj\\crs\\crs.py:53: FutureWarning: '+init=<authority>:<code>' syntax is deprecated. '<authority>:<code>' is the preferred initialization method. When making the change, be mindful of axis order changes: https://pyproj4.github.io/pyproj/stable/gotchas.html#axis-order-changes-in-proj-6\n",
      "  return _prepare_from_string(\" \".join(pjargs))\n",
      "C:\\Users\\gandalf\\anaconda3\\envs\\radar\\lib\\site-packages\\pyproj\\crs\\crs.py:294: FutureWarning: '+init=<authority>:<code>' syntax is deprecated. '<authority>:<code>' is the preferred initialization method. When making the change, be mindful of axis order changes: https://pyproj4.github.io/pyproj/stable/gotchas.html#axis-order-changes-in-proj-6\n",
      "  projstring = _prepare_from_string(\" \".join((projstring, projkwargs)))\n",
      "C:\\Users\\gandalf\\anaconda3\\envs\\radar\\lib\\site-packages\\pyproj\\crs\\crs.py:53: FutureWarning: '+init=<authority>:<code>' syntax is deprecated. '<authority>:<code>' is the preferred initialization method. When making the change, be mindful of axis order changes: https://pyproj4.github.io/pyproj/stable/gotchas.html#axis-order-changes-in-proj-6\n",
      "  return _prepare_from_string(\" \".join(pjargs))\n",
      "C:\\Users\\gandalf\\anaconda3\\envs\\radar\\lib\\site-packages\\pyproj\\crs\\crs.py:294: FutureWarning: '+init=<authority>:<code>' syntax is deprecated. '<authority>:<code>' is the preferred initialization method. When making the change, be mindful of axis order changes: https://pyproj4.github.io/pyproj/stable/gotchas.html#axis-order-changes-in-proj-6\n",
      "  projstring = _prepare_from_string(\" \".join((projstring, projkwargs)))\n"
     ]
    },
    {
     "name": "stdout",
     "output_type": "stream",
     "text": [
      "Testfig Saved\n"
     ]
    },
    {
     "name": "stderr",
     "output_type": "stream",
     "text": [
      "C:\\Users\\gandalf\\Documents\\Python Scripts\\SPORK-SPIN-master\\SPORK-SPIN-master\\arcalg_figure4.py:555: RuntimeWarning: invalid value encountered in true_divide\n",
      "  shaped_ang = (180-np.abs(shaped_ang))*(shaped_ang/np.abs(shaped_ang))\n"
     ]
    },
    {
     "name": "stdout",
     "output_type": "stream",
     "text": [
      "Figure Saved\n",
      "in loop\n",
      "19\n",
      "in loop\n",
      "19\n",
      "in loop\n",
      "19\n",
      "in loop\n",
      "19\n",
      "in loop\n",
      "19\n",
      "in loop\n",
      "19\n",
      "in loop\n",
      "19\n",
      "in loop\n",
      "19\n",
      "in loop\n",
      "19\n",
      "File Reading\n",
      "in loop\n",
      "19\n",
      "Pre-grid Organization Section\n",
      "KDP Section\n",
      "Grid Section\n"
     ]
    },
    {
     "name": "stderr",
     "output_type": "stream",
     "text": [
      "C:\\Users\\gandalf\\anaconda3\\envs\\radar\\lib\\site-packages\\pyart\\map\\gates_to_grid.py:160: DeprecationWarning: Barnes weighting function is deprecated. Please use Barnes 2 to be consistent with Pauley and Wu 1990.\n",
      "  warnings.warn(\"Barnes weighting function is deprecated.\"\n"
     ]
    },
    {
     "name": "stdout",
     "output_type": "stream",
     "text": [
      "Gradient Analysis and Masking\n",
      "(-96.0787353515625, 28.471900939941406, <cartopy.crs.PlateCarree object at 0x000001A904B86D60>)\n"
     ]
    },
    {
     "name": "stderr",
     "output_type": "stream",
     "text": [
      "C:\\Users\\gandalf\\anaconda3\\envs\\radar\\lib\\site-packages\\pyproj\\crs\\crs.py:53: FutureWarning: '+init=<authority>:<code>' syntax is deprecated. '<authority>:<code>' is the preferred initialization method. When making the change, be mindful of axis order changes: https://pyproj4.github.io/pyproj/stable/gotchas.html#axis-order-changes-in-proj-6\n",
      "  return _prepare_from_string(\" \".join(pjargs))\n",
      "C:\\Users\\gandalf\\anaconda3\\envs\\radar\\lib\\site-packages\\pyproj\\crs\\crs.py:294: FutureWarning: '+init=<authority>:<code>' syntax is deprecated. '<authority>:<code>' is the preferred initialization method. When making the change, be mindful of axis order changes: https://pyproj4.github.io/pyproj/stable/gotchas.html#axis-order-changes-in-proj-6\n",
      "  projstring = _prepare_from_string(\" \".join((projstring, projkwargs)))\n",
      "C:\\Users\\gandalf\\anaconda3\\envs\\radar\\lib\\site-packages\\pyproj\\crs\\crs.py:53: FutureWarning: '+init=<authority>:<code>' syntax is deprecated. '<authority>:<code>' is the preferred initialization method. When making the change, be mindful of axis order changes: https://pyproj4.github.io/pyproj/stable/gotchas.html#axis-order-changes-in-proj-6\n",
      "  return _prepare_from_string(\" \".join(pjargs))\n",
      "C:\\Users\\gandalf\\anaconda3\\envs\\radar\\lib\\site-packages\\pyproj\\crs\\crs.py:294: FutureWarning: '+init=<authority>:<code>' syntax is deprecated. '<authority>:<code>' is the preferred initialization method. When making the change, be mindful of axis order changes: https://pyproj4.github.io/pyproj/stable/gotchas.html#axis-order-changes-in-proj-6\n",
      "  projstring = _prepare_from_string(\" \".join((projstring, projkwargs)))\n",
      "C:\\Users\\gandalf\\anaconda3\\envs\\radar\\lib\\site-packages\\cartopy\\mpl\\geoaxes.py:1366: UserWarning: The following kwargs were not used by contour: 'linestyle'\n",
      "  result = matplotlib.axes.Axes.contour(self, *args, **kwargs)\n"
     ]
    },
    {
     "name": "stdout",
     "output_type": "stream",
     "text": [
      "Testfig Saved\n"
     ]
    },
    {
     "name": "stderr",
     "output_type": "stream",
     "text": [
      "C:\\Users\\gandalf\\Documents\\Python Scripts\\SPORK-SPIN-master\\SPORK-SPIN-master\\arcalg_figure4.py:555: RuntimeWarning: invalid value encountered in true_divide\n",
      "  shaped_ang = (180-np.abs(shaped_ang))*(shaped_ang/np.abs(shaped_ang))\n"
     ]
    },
    {
     "name": "stdout",
     "output_type": "stream",
     "text": [
      "Figure Saved\n",
      "in loop\n",
      "19\n",
      "in loop\n",
      "19\n",
      "in loop\n",
      "19\n",
      "in loop\n",
      "19\n",
      "in loop\n",
      "19\n",
      "in loop\n",
      "19\n",
      "in loop\n",
      "19\n",
      "in loop\n",
      "19\n",
      "in loop\n",
      "19\n",
      "Pre-grid Organization Section\n",
      "KDP Section\n",
      "Grid Section\n"
     ]
    },
    {
     "name": "stderr",
     "output_type": "stream",
     "text": [
      "C:\\Users\\gandalf\\anaconda3\\envs\\radar\\lib\\site-packages\\pyart\\map\\gates_to_grid.py:160: DeprecationWarning: Barnes weighting function is deprecated. Please use Barnes 2 to be consistent with Pauley and Wu 1990.\n",
      "  warnings.warn(\"Barnes weighting function is deprecated.\"\n"
     ]
    },
    {
     "name": "stdout",
     "output_type": "stream",
     "text": [
      "Gradient Analysis and Masking\n",
      "(-96.0787353515625, 28.471900939941406, <cartopy.crs.PlateCarree object at 0x000001A904B865E0>)\n"
     ]
    },
    {
     "name": "stderr",
     "output_type": "stream",
     "text": [
      "C:\\Users\\gandalf\\anaconda3\\envs\\radar\\lib\\site-packages\\pyproj\\crs\\crs.py:53: FutureWarning: '+init=<authority>:<code>' syntax is deprecated. '<authority>:<code>' is the preferred initialization method. When making the change, be mindful of axis order changes: https://pyproj4.github.io/pyproj/stable/gotchas.html#axis-order-changes-in-proj-6\n",
      "  return _prepare_from_string(\" \".join(pjargs))\n",
      "C:\\Users\\gandalf\\anaconda3\\envs\\radar\\lib\\site-packages\\pyproj\\crs\\crs.py:294: FutureWarning: '+init=<authority>:<code>' syntax is deprecated. '<authority>:<code>' is the preferred initialization method. When making the change, be mindful of axis order changes: https://pyproj4.github.io/pyproj/stable/gotchas.html#axis-order-changes-in-proj-6\n",
      "  projstring = _prepare_from_string(\" \".join((projstring, projkwargs)))\n",
      "C:\\Users\\gandalf\\anaconda3\\envs\\radar\\lib\\site-packages\\pyproj\\crs\\crs.py:53: FutureWarning: '+init=<authority>:<code>' syntax is deprecated. '<authority>:<code>' is the preferred initialization method. When making the change, be mindful of axis order changes: https://pyproj4.github.io/pyproj/stable/gotchas.html#axis-order-changes-in-proj-6\n",
      "  return _prepare_from_string(\" \".join(pjargs))\n",
      "C:\\Users\\gandalf\\anaconda3\\envs\\radar\\lib\\site-packages\\pyproj\\crs\\crs.py:294: FutureWarning: '+init=<authority>:<code>' syntax is deprecated. '<authority>:<code>' is the preferred initialization method. When making the change, be mindful of axis order changes: https://pyproj4.github.io/pyproj/stable/gotchas.html#axis-order-changes-in-proj-6\n",
      "  projstring = _prepare_from_string(\" \".join((projstring, projkwargs)))\n",
      "C:\\Users\\gandalf\\anaconda3\\envs\\radar\\lib\\site-packages\\cartopy\\mpl\\geoaxes.py:1366: UserWarning: The following kwargs were not used by contour: 'linestyle'\n",
      "  result = matplotlib.axes.Axes.contour(self, *args, **kwargs)\n"
     ]
    },
    {
     "name": "stdout",
     "output_type": "stream",
     "text": [
      "Testfig Saved\n"
     ]
    },
    {
     "name": "stderr",
     "output_type": "stream",
     "text": [
      "C:\\Users\\gandalf\\Documents\\Python Scripts\\SPORK-SPIN-master\\SPORK-SPIN-master\\arcalg_figure4.py:555: RuntimeWarning: invalid value encountered in true_divide\n",
      "  shaped_ang = (180-np.abs(shaped_ang))*(shaped_ang/np.abs(shaped_ang))\n"
     ]
    },
    {
     "name": "stdout",
     "output_type": "stream",
     "text": [
      "Figure Saved\n",
      "in loop\n",
      "19\n",
      "in loop\n",
      "19\n",
      "in loop\n",
      "19\n",
      "in loop\n",
      "19\n",
      "in loop\n",
      "19\n",
      "in loop\n",
      "19\n",
      "in loop\n",
      "19\n",
      "in loop\n",
      "19\n",
      "in loop\n",
      "19\n",
      "File Reading\n",
      "in loop\n",
      "19\n",
      "Pre-grid Organization Section\n",
      "KDP Section\n",
      "Grid Section\n"
     ]
    },
    {
     "name": "stderr",
     "output_type": "stream",
     "text": [
      "C:\\Users\\gandalf\\anaconda3\\envs\\radar\\lib\\site-packages\\pyart\\map\\gates_to_grid.py:160: DeprecationWarning: Barnes weighting function is deprecated. Please use Barnes 2 to be consistent with Pauley and Wu 1990.\n",
      "  warnings.warn(\"Barnes weighting function is deprecated.\"\n"
     ]
    },
    {
     "name": "stdout",
     "output_type": "stream",
     "text": [
      "Gradient Analysis and Masking\n",
      "(-96.0787353515625, 28.471900939941406, <cartopy.crs.PlateCarree object at 0x000001A904B863B0>)\n"
     ]
    },
    {
     "name": "stderr",
     "output_type": "stream",
     "text": [
      "C:\\Users\\gandalf\\anaconda3\\envs\\radar\\lib\\site-packages\\pyproj\\crs\\crs.py:53: FutureWarning: '+init=<authority>:<code>' syntax is deprecated. '<authority>:<code>' is the preferred initialization method. When making the change, be mindful of axis order changes: https://pyproj4.github.io/pyproj/stable/gotchas.html#axis-order-changes-in-proj-6\n",
      "  return _prepare_from_string(\" \".join(pjargs))\n",
      "C:\\Users\\gandalf\\anaconda3\\envs\\radar\\lib\\site-packages\\pyproj\\crs\\crs.py:294: FutureWarning: '+init=<authority>:<code>' syntax is deprecated. '<authority>:<code>' is the preferred initialization method. When making the change, be mindful of axis order changes: https://pyproj4.github.io/pyproj/stable/gotchas.html#axis-order-changes-in-proj-6\n",
      "  projstring = _prepare_from_string(\" \".join((projstring, projkwargs)))\n",
      "C:\\Users\\gandalf\\anaconda3\\envs\\radar\\lib\\site-packages\\pyproj\\crs\\crs.py:53: FutureWarning: '+init=<authority>:<code>' syntax is deprecated. '<authority>:<code>' is the preferred initialization method. When making the change, be mindful of axis order changes: https://pyproj4.github.io/pyproj/stable/gotchas.html#axis-order-changes-in-proj-6\n",
      "  return _prepare_from_string(\" \".join(pjargs))\n",
      "C:\\Users\\gandalf\\anaconda3\\envs\\radar\\lib\\site-packages\\pyproj\\crs\\crs.py:294: FutureWarning: '+init=<authority>:<code>' syntax is deprecated. '<authority>:<code>' is the preferred initialization method. When making the change, be mindful of axis order changes: https://pyproj4.github.io/pyproj/stable/gotchas.html#axis-order-changes-in-proj-6\n",
      "  projstring = _prepare_from_string(\" \".join((projstring, projkwargs)))\n"
     ]
    },
    {
     "name": "stdout",
     "output_type": "stream",
     "text": [
      "Testfig Saved\n"
     ]
    },
    {
     "name": "stderr",
     "output_type": "stream",
     "text": [
      "C:\\Users\\gandalf\\Documents\\Python Scripts\\SPORK-SPIN-master\\SPORK-SPIN-master\\arcalg_figure4.py:555: RuntimeWarning: invalid value encountered in true_divide\n",
      "  shaped_ang = (180-np.abs(shaped_ang))*(shaped_ang/np.abs(shaped_ang))\n"
     ]
    },
    {
     "name": "stdout",
     "output_type": "stream",
     "text": [
      "Figure Saved\n",
      "in loop\n",
      "19\n",
      "in loop\n",
      "19\n",
      "in loop\n",
      "19\n",
      "in loop\n",
      "19\n",
      "in loop\n",
      "19\n",
      "in loop\n",
      "19\n",
      "in loop\n",
      "19\n",
      "in loop\n",
      "19\n",
      "in loop\n",
      "19\n",
      "Pre-grid Organization Section\n",
      "KDP Section\n",
      "Grid Section\n"
     ]
    },
    {
     "name": "stderr",
     "output_type": "stream",
     "text": [
      "C:\\Users\\gandalf\\anaconda3\\envs\\radar\\lib\\site-packages\\pyart\\map\\gates_to_grid.py:160: DeprecationWarning: Barnes weighting function is deprecated. Please use Barnes 2 to be consistent with Pauley and Wu 1990.\n",
      "  warnings.warn(\"Barnes weighting function is deprecated.\"\n"
     ]
    },
    {
     "name": "stdout",
     "output_type": "stream",
     "text": [
      "Gradient Analysis and Masking\n",
      "(-96.0787353515625, 28.471900939941406, <cartopy.crs.PlateCarree object at 0x000001A9142E3810>)\n"
     ]
    },
    {
     "name": "stderr",
     "output_type": "stream",
     "text": [
      "C:\\Users\\gandalf\\anaconda3\\envs\\radar\\lib\\site-packages\\pyproj\\crs\\crs.py:53: FutureWarning: '+init=<authority>:<code>' syntax is deprecated. '<authority>:<code>' is the preferred initialization method. When making the change, be mindful of axis order changes: https://pyproj4.github.io/pyproj/stable/gotchas.html#axis-order-changes-in-proj-6\n",
      "  return _prepare_from_string(\" \".join(pjargs))\n",
      "C:\\Users\\gandalf\\anaconda3\\envs\\radar\\lib\\site-packages\\pyproj\\crs\\crs.py:294: FutureWarning: '+init=<authority>:<code>' syntax is deprecated. '<authority>:<code>' is the preferred initialization method. When making the change, be mindful of axis order changes: https://pyproj4.github.io/pyproj/stable/gotchas.html#axis-order-changes-in-proj-6\n",
      "  projstring = _prepare_from_string(\" \".join((projstring, projkwargs)))\n",
      "C:\\Users\\gandalf\\anaconda3\\envs\\radar\\lib\\site-packages\\pyproj\\crs\\crs.py:53: FutureWarning: '+init=<authority>:<code>' syntax is deprecated. '<authority>:<code>' is the preferred initialization method. When making the change, be mindful of axis order changes: https://pyproj4.github.io/pyproj/stable/gotchas.html#axis-order-changes-in-proj-6\n",
      "  return _prepare_from_string(\" \".join(pjargs))\n",
      "C:\\Users\\gandalf\\anaconda3\\envs\\radar\\lib\\site-packages\\pyproj\\crs\\crs.py:294: FutureWarning: '+init=<authority>:<code>' syntax is deprecated. '<authority>:<code>' is the preferred initialization method. When making the change, be mindful of axis order changes: https://pyproj4.github.io/pyproj/stable/gotchas.html#axis-order-changes-in-proj-6\n",
      "  projstring = _prepare_from_string(\" \".join((projstring, projkwargs)))\n"
     ]
    },
    {
     "name": "stdout",
     "output_type": "stream",
     "text": [
      "Testfig Saved\n"
     ]
    },
    {
     "name": "stderr",
     "output_type": "stream",
     "text": [
      "C:\\Users\\gandalf\\Documents\\Python Scripts\\SPORK-SPIN-master\\SPORK-SPIN-master\\arcalg_figure4.py:555: RuntimeWarning: invalid value encountered in true_divide\n",
      "  shaped_ang = (180-np.abs(shaped_ang))*(shaped_ang/np.abs(shaped_ang))\n"
     ]
    },
    {
     "name": "stdout",
     "output_type": "stream",
     "text": [
      "Figure Saved\n",
      "in loop\n",
      "19\n",
      "in loop\n",
      "19\n",
      "in loop\n",
      "19\n",
      "in loop\n",
      "19\n",
      "in loop\n",
      "19\n",
      "in loop\n",
      "19\n",
      "in loop\n",
      "19\n",
      "in loop\n",
      "19\n",
      "in loop\n",
      "19\n",
      "File Reading\n",
      "in loop\n",
      "19\n",
      "Pre-grid Organization Section\n",
      "KDP Section\n",
      "Grid Section\n"
     ]
    },
    {
     "name": "stderr",
     "output_type": "stream",
     "text": [
      "C:\\Users\\gandalf\\anaconda3\\envs\\radar\\lib\\site-packages\\pyart\\map\\gates_to_grid.py:160: DeprecationWarning: Barnes weighting function is deprecated. Please use Barnes 2 to be consistent with Pauley and Wu 1990.\n",
      "  warnings.warn(\"Barnes weighting function is deprecated.\"\n"
     ]
    },
    {
     "name": "stdout",
     "output_type": "stream",
     "text": [
      "Gradient Analysis and Masking\n",
      "(-96.0787353515625, 28.471900939941406, <cartopy.crs.PlateCarree object at 0x000001A9102CC680>)\n"
     ]
    },
    {
     "name": "stderr",
     "output_type": "stream",
     "text": [
      "C:\\Users\\gandalf\\anaconda3\\envs\\radar\\lib\\site-packages\\pyproj\\crs\\crs.py:53: FutureWarning: '+init=<authority>:<code>' syntax is deprecated. '<authority>:<code>' is the preferred initialization method. When making the change, be mindful of axis order changes: https://pyproj4.github.io/pyproj/stable/gotchas.html#axis-order-changes-in-proj-6\n",
      "  return _prepare_from_string(\" \".join(pjargs))\n",
      "C:\\Users\\gandalf\\anaconda3\\envs\\radar\\lib\\site-packages\\pyproj\\crs\\crs.py:294: FutureWarning: '+init=<authority>:<code>' syntax is deprecated. '<authority>:<code>' is the preferred initialization method. When making the change, be mindful of axis order changes: https://pyproj4.github.io/pyproj/stable/gotchas.html#axis-order-changes-in-proj-6\n",
      "  projstring = _prepare_from_string(\" \".join((projstring, projkwargs)))\n",
      "C:\\Users\\gandalf\\anaconda3\\envs\\radar\\lib\\site-packages\\pyproj\\crs\\crs.py:53: FutureWarning: '+init=<authority>:<code>' syntax is deprecated. '<authority>:<code>' is the preferred initialization method. When making the change, be mindful of axis order changes: https://pyproj4.github.io/pyproj/stable/gotchas.html#axis-order-changes-in-proj-6\n",
      "  return _prepare_from_string(\" \".join(pjargs))\n",
      "C:\\Users\\gandalf\\anaconda3\\envs\\radar\\lib\\site-packages\\pyproj\\crs\\crs.py:294: FutureWarning: '+init=<authority>:<code>' syntax is deprecated. '<authority>:<code>' is the preferred initialization method. When making the change, be mindful of axis order changes: https://pyproj4.github.io/pyproj/stable/gotchas.html#axis-order-changes-in-proj-6\n",
      "  projstring = _prepare_from_string(\" \".join((projstring, projkwargs)))\n"
     ]
    },
    {
     "name": "stdout",
     "output_type": "stream",
     "text": [
      "Testfig Saved\n"
     ]
    },
    {
     "name": "stderr",
     "output_type": "stream",
     "text": [
      "C:\\Users\\gandalf\\Documents\\Python Scripts\\SPORK-SPIN-master\\SPORK-SPIN-master\\arcalg_figure4.py:555: RuntimeWarning: invalid value encountered in true_divide\n",
      "  shaped_ang = (180-np.abs(shaped_ang))*(shaped_ang/np.abs(shaped_ang))\n"
     ]
    },
    {
     "name": "stdout",
     "output_type": "stream",
     "text": [
      "Figure Saved\n",
      "in loop\n",
      "19\n",
      "in loop\n",
      "19\n",
      "in loop\n",
      "19\n",
      "in loop\n",
      "19\n",
      "in loop\n",
      "19\n",
      "in loop\n",
      "19\n",
      "in loop\n",
      "19\n",
      "in loop\n",
      "19\n",
      "in loop\n",
      "19\n",
      "Pre-grid Organization Section\n",
      "KDP Section\n",
      "Grid Section\n"
     ]
    },
    {
     "name": "stderr",
     "output_type": "stream",
     "text": [
      "C:\\Users\\gandalf\\anaconda3\\envs\\radar\\lib\\site-packages\\pyart\\map\\gates_to_grid.py:160: DeprecationWarning: Barnes weighting function is deprecated. Please use Barnes 2 to be consistent with Pauley and Wu 1990.\n",
      "  warnings.warn(\"Barnes weighting function is deprecated.\"\n"
     ]
    },
    {
     "name": "stdout",
     "output_type": "stream",
     "text": [
      "Gradient Analysis and Masking\n",
      "(-96.0787353515625, 28.471900939941406, <cartopy.crs.PlateCarree object at 0x000001A9102CC310>)\n"
     ]
    },
    {
     "name": "stderr",
     "output_type": "stream",
     "text": [
      "C:\\Users\\gandalf\\anaconda3\\envs\\radar\\lib\\site-packages\\pyproj\\crs\\crs.py:53: FutureWarning: '+init=<authority>:<code>' syntax is deprecated. '<authority>:<code>' is the preferred initialization method. When making the change, be mindful of axis order changes: https://pyproj4.github.io/pyproj/stable/gotchas.html#axis-order-changes-in-proj-6\n",
      "  return _prepare_from_string(\" \".join(pjargs))\n",
      "C:\\Users\\gandalf\\anaconda3\\envs\\radar\\lib\\site-packages\\pyproj\\crs\\crs.py:294: FutureWarning: '+init=<authority>:<code>' syntax is deprecated. '<authority>:<code>' is the preferred initialization method. When making the change, be mindful of axis order changes: https://pyproj4.github.io/pyproj/stable/gotchas.html#axis-order-changes-in-proj-6\n",
      "  projstring = _prepare_from_string(\" \".join((projstring, projkwargs)))\n",
      "C:\\Users\\gandalf\\anaconda3\\envs\\radar\\lib\\site-packages\\pyproj\\crs\\crs.py:53: FutureWarning: '+init=<authority>:<code>' syntax is deprecated. '<authority>:<code>' is the preferred initialization method. When making the change, be mindful of axis order changes: https://pyproj4.github.io/pyproj/stable/gotchas.html#axis-order-changes-in-proj-6\n",
      "  return _prepare_from_string(\" \".join(pjargs))\n",
      "C:\\Users\\gandalf\\anaconda3\\envs\\radar\\lib\\site-packages\\pyproj\\crs\\crs.py:294: FutureWarning: '+init=<authority>:<code>' syntax is deprecated. '<authority>:<code>' is the preferred initialization method. When making the change, be mindful of axis order changes: https://pyproj4.github.io/pyproj/stable/gotchas.html#axis-order-changes-in-proj-6\n",
      "  projstring = _prepare_from_string(\" \".join((projstring, projkwargs)))\n"
     ]
    },
    {
     "name": "stdout",
     "output_type": "stream",
     "text": [
      "Testfig Saved\n"
     ]
    },
    {
     "name": "stderr",
     "output_type": "stream",
     "text": [
      "C:\\Users\\gandalf\\Documents\\Python Scripts\\SPORK-SPIN-master\\SPORK-SPIN-master\\arcalg_figure4.py:555: RuntimeWarning: invalid value encountered in true_divide\n",
      "  shaped_ang = (180-np.abs(shaped_ang))*(shaped_ang/np.abs(shaped_ang))\n"
     ]
    },
    {
     "name": "stdout",
     "output_type": "stream",
     "text": [
      "Figure Saved\n",
      "in loop\n",
      "19\n",
      "in loop\n",
      "19\n",
      "in loop\n",
      "19\n",
      "in loop\n",
      "19\n",
      "in loop\n",
      "19\n",
      "in loop\n",
      "19\n",
      "in loop\n",
      "19\n",
      "in loop\n",
      "19\n",
      "in loop\n",
      "19\n",
      "File Reading\n",
      "in loop\n",
      "19\n",
      "Pre-grid Organization Section\n",
      "KDP Section\n",
      "Grid Section\n"
     ]
    },
    {
     "name": "stderr",
     "output_type": "stream",
     "text": [
      "C:\\Users\\gandalf\\anaconda3\\envs\\radar\\lib\\site-packages\\pyart\\map\\gates_to_grid.py:160: DeprecationWarning: Barnes weighting function is deprecated. Please use Barnes 2 to be consistent with Pauley and Wu 1990.\n",
      "  warnings.warn(\"Barnes weighting function is deprecated.\"\n"
     ]
    },
    {
     "name": "stdout",
     "output_type": "stream",
     "text": [
      "Gradient Analysis and Masking\n",
      "(-96.0787353515625, 28.471900939941406, <cartopy.crs.PlateCarree object at 0x000001A94842C590>)\n"
     ]
    },
    {
     "name": "stderr",
     "output_type": "stream",
     "text": [
      "C:\\Users\\gandalf\\anaconda3\\envs\\radar\\lib\\site-packages\\pyproj\\crs\\crs.py:53: FutureWarning: '+init=<authority>:<code>' syntax is deprecated. '<authority>:<code>' is the preferred initialization method. When making the change, be mindful of axis order changes: https://pyproj4.github.io/pyproj/stable/gotchas.html#axis-order-changes-in-proj-6\n",
      "  return _prepare_from_string(\" \".join(pjargs))\n",
      "C:\\Users\\gandalf\\anaconda3\\envs\\radar\\lib\\site-packages\\pyproj\\crs\\crs.py:294: FutureWarning: '+init=<authority>:<code>' syntax is deprecated. '<authority>:<code>' is the preferred initialization method. When making the change, be mindful of axis order changes: https://pyproj4.github.io/pyproj/stable/gotchas.html#axis-order-changes-in-proj-6\n",
      "  projstring = _prepare_from_string(\" \".join((projstring, projkwargs)))\n",
      "C:\\Users\\gandalf\\anaconda3\\envs\\radar\\lib\\site-packages\\pyproj\\crs\\crs.py:53: FutureWarning: '+init=<authority>:<code>' syntax is deprecated. '<authority>:<code>' is the preferred initialization method. When making the change, be mindful of axis order changes: https://pyproj4.github.io/pyproj/stable/gotchas.html#axis-order-changes-in-proj-6\n",
      "  return _prepare_from_string(\" \".join(pjargs))\n",
      "C:\\Users\\gandalf\\anaconda3\\envs\\radar\\lib\\site-packages\\pyproj\\crs\\crs.py:294: FutureWarning: '+init=<authority>:<code>' syntax is deprecated. '<authority>:<code>' is the preferred initialization method. When making the change, be mindful of axis order changes: https://pyproj4.github.io/pyproj/stable/gotchas.html#axis-order-changes-in-proj-6\n",
      "  projstring = _prepare_from_string(\" \".join((projstring, projkwargs)))\n"
     ]
    },
    {
     "name": "stdout",
     "output_type": "stream",
     "text": [
      "Testfig Saved\n"
     ]
    },
    {
     "name": "stderr",
     "output_type": "stream",
     "text": [
      "C:\\Users\\gandalf\\Documents\\Python Scripts\\SPORK-SPIN-master\\SPORK-SPIN-master\\arcalg_figure4.py:555: RuntimeWarning: invalid value encountered in true_divide\n",
      "  shaped_ang = (180-np.abs(shaped_ang))*(shaped_ang/np.abs(shaped_ang))\n"
     ]
    },
    {
     "name": "stdout",
     "output_type": "stream",
     "text": [
      "Figure Saved\n",
      "in loop\n",
      "19\n",
      "in loop\n",
      "19\n",
      "in loop\n",
      "19\n",
      "in loop\n",
      "19\n",
      "in loop\n",
      "19\n",
      "in loop\n",
      "19\n",
      "in loop\n",
      "19\n",
      "in loop\n",
      "19\n",
      "in loop\n",
      "19\n",
      "Pre-grid Organization Section\n",
      "KDP Section\n",
      "Grid Section\n"
     ]
    },
    {
     "name": "stderr",
     "output_type": "stream",
     "text": [
      "C:\\Users\\gandalf\\anaconda3\\envs\\radar\\lib\\site-packages\\pyart\\map\\gates_to_grid.py:160: DeprecationWarning: Barnes weighting function is deprecated. Please use Barnes 2 to be consistent with Pauley and Wu 1990.\n",
      "  warnings.warn(\"Barnes weighting function is deprecated.\"\n"
     ]
    },
    {
     "name": "stdout",
     "output_type": "stream",
     "text": [
      "Gradient Analysis and Masking\n",
      "(-96.0787353515625, 28.471900939941406, <cartopy.crs.PlateCarree object at 0x000001A944D93220>)\n"
     ]
    },
    {
     "name": "stderr",
     "output_type": "stream",
     "text": [
      "C:\\Users\\gandalf\\anaconda3\\envs\\radar\\lib\\site-packages\\pyproj\\crs\\crs.py:53: FutureWarning: '+init=<authority>:<code>' syntax is deprecated. '<authority>:<code>' is the preferred initialization method. When making the change, be mindful of axis order changes: https://pyproj4.github.io/pyproj/stable/gotchas.html#axis-order-changes-in-proj-6\n",
      "  return _prepare_from_string(\" \".join(pjargs))\n",
      "C:\\Users\\gandalf\\anaconda3\\envs\\radar\\lib\\site-packages\\pyproj\\crs\\crs.py:294: FutureWarning: '+init=<authority>:<code>' syntax is deprecated. '<authority>:<code>' is the preferred initialization method. When making the change, be mindful of axis order changes: https://pyproj4.github.io/pyproj/stable/gotchas.html#axis-order-changes-in-proj-6\n",
      "  projstring = _prepare_from_string(\" \".join((projstring, projkwargs)))\n",
      "C:\\Users\\gandalf\\anaconda3\\envs\\radar\\lib\\site-packages\\pyproj\\crs\\crs.py:53: FutureWarning: '+init=<authority>:<code>' syntax is deprecated. '<authority>:<code>' is the preferred initialization method. When making the change, be mindful of axis order changes: https://pyproj4.github.io/pyproj/stable/gotchas.html#axis-order-changes-in-proj-6\n",
      "  return _prepare_from_string(\" \".join(pjargs))\n",
      "C:\\Users\\gandalf\\anaconda3\\envs\\radar\\lib\\site-packages\\pyproj\\crs\\crs.py:294: FutureWarning: '+init=<authority>:<code>' syntax is deprecated. '<authority>:<code>' is the preferred initialization method. When making the change, be mindful of axis order changes: https://pyproj4.github.io/pyproj/stable/gotchas.html#axis-order-changes-in-proj-6\n",
      "  projstring = _prepare_from_string(\" \".join((projstring, projkwargs)))\n",
      "C:\\Users\\gandalf\\anaconda3\\envs\\radar\\lib\\site-packages\\cartopy\\mpl\\geoaxes.py:1366: UserWarning: The following kwargs were not used by contour: 'linestyle'\n",
      "  result = matplotlib.axes.Axes.contour(self, *args, **kwargs)\n"
     ]
    },
    {
     "name": "stdout",
     "output_type": "stream",
     "text": [
      "Testfig Saved\n"
     ]
    },
    {
     "name": "stderr",
     "output_type": "stream",
     "text": [
      "C:\\Users\\gandalf\\Documents\\Python Scripts\\SPORK-SPIN-master\\SPORK-SPIN-master\\arcalg_figure4.py:555: RuntimeWarning: invalid value encountered in true_divide\n",
      "  shaped_ang = (180-np.abs(shaped_ang))*(shaped_ang/np.abs(shaped_ang))\n"
     ]
    },
    {
     "name": "stdout",
     "output_type": "stream",
     "text": [
      "Figure Saved\n",
      "in loop\n",
      "19\n",
      "in loop\n",
      "19\n",
      "in loop\n",
      "19\n",
      "in loop\n",
      "19\n",
      "in loop\n",
      "19\n",
      "in loop\n",
      "19\n",
      "in loop\n",
      "19\n",
      "in loop\n",
      "19\n",
      "in loop\n",
      "19\n",
      "File Reading\n",
      "in loop\n",
      "19\n",
      "Pre-grid Organization Section\n",
      "KDP Section\n",
      "Grid Section\n"
     ]
    },
    {
     "name": "stderr",
     "output_type": "stream",
     "text": [
      "C:\\Users\\gandalf\\anaconda3\\envs\\radar\\lib\\site-packages\\pyart\\map\\gates_to_grid.py:160: DeprecationWarning: Barnes weighting function is deprecated. Please use Barnes 2 to be consistent with Pauley and Wu 1990.\n",
      "  warnings.warn(\"Barnes weighting function is deprecated.\"\n"
     ]
    },
    {
     "name": "stdout",
     "output_type": "stream",
     "text": [
      "Gradient Analysis and Masking\n",
      "(-96.0787353515625, 28.471900939941406, <cartopy.crs.PlateCarree object at 0x000001A90E6147C0>)\n"
     ]
    },
    {
     "name": "stderr",
     "output_type": "stream",
     "text": [
      "C:\\Users\\gandalf\\anaconda3\\envs\\radar\\lib\\site-packages\\pyproj\\crs\\crs.py:53: FutureWarning: '+init=<authority>:<code>' syntax is deprecated. '<authority>:<code>' is the preferred initialization method. When making the change, be mindful of axis order changes: https://pyproj4.github.io/pyproj/stable/gotchas.html#axis-order-changes-in-proj-6\n",
      "  return _prepare_from_string(\" \".join(pjargs))\n",
      "C:\\Users\\gandalf\\anaconda3\\envs\\radar\\lib\\site-packages\\pyproj\\crs\\crs.py:294: FutureWarning: '+init=<authority>:<code>' syntax is deprecated. '<authority>:<code>' is the preferred initialization method. When making the change, be mindful of axis order changes: https://pyproj4.github.io/pyproj/stable/gotchas.html#axis-order-changes-in-proj-6\n",
      "  projstring = _prepare_from_string(\" \".join((projstring, projkwargs)))\n",
      "C:\\Users\\gandalf\\anaconda3\\envs\\radar\\lib\\site-packages\\pyproj\\crs\\crs.py:53: FutureWarning: '+init=<authority>:<code>' syntax is deprecated. '<authority>:<code>' is the preferred initialization method. When making the change, be mindful of axis order changes: https://pyproj4.github.io/pyproj/stable/gotchas.html#axis-order-changes-in-proj-6\n",
      "  return _prepare_from_string(\" \".join(pjargs))\n",
      "C:\\Users\\gandalf\\anaconda3\\envs\\radar\\lib\\site-packages\\pyproj\\crs\\crs.py:294: FutureWarning: '+init=<authority>:<code>' syntax is deprecated. '<authority>:<code>' is the preferred initialization method. When making the change, be mindful of axis order changes: https://pyproj4.github.io/pyproj/stable/gotchas.html#axis-order-changes-in-proj-6\n",
      "  projstring = _prepare_from_string(\" \".join((projstring, projkwargs)))\n",
      "C:\\Users\\gandalf\\anaconda3\\envs\\radar\\lib\\site-packages\\cartopy\\mpl\\geoaxes.py:1366: UserWarning: The following kwargs were not used by contour: 'linestyle'\n",
      "  result = matplotlib.axes.Axes.contour(self, *args, **kwargs)\n"
     ]
    },
    {
     "name": "stdout",
     "output_type": "stream",
     "text": [
      "Testfig Saved\n"
     ]
    },
    {
     "name": "stderr",
     "output_type": "stream",
     "text": [
      "C:\\Users\\gandalf\\Documents\\Python Scripts\\SPORK-SPIN-master\\SPORK-SPIN-master\\arcalg_figure4.py:555: RuntimeWarning: invalid value encountered in true_divide\n",
      "  shaped_ang = (180-np.abs(shaped_ang))*(shaped_ang/np.abs(shaped_ang))\n"
     ]
    },
    {
     "name": "stdout",
     "output_type": "stream",
     "text": [
      "Figure Saved\n",
      "in loop\n",
      "19\n",
      "in loop\n",
      "19\n",
      "in loop\n",
      "19\n",
      "in loop\n",
      "19\n",
      "in loop\n",
      "19\n",
      "in loop\n",
      "19\n",
      "in loop\n",
      "19\n",
      "in loop\n",
      "19\n",
      "in loop\n",
      "19\n",
      "Pre-grid Organization Section\n",
      "KDP Section\n",
      "Grid Section\n"
     ]
    },
    {
     "name": "stderr",
     "output_type": "stream",
     "text": [
      "C:\\Users\\gandalf\\anaconda3\\envs\\radar\\lib\\site-packages\\pyart\\map\\gates_to_grid.py:160: DeprecationWarning: Barnes weighting function is deprecated. Please use Barnes 2 to be consistent with Pauley and Wu 1990.\n",
      "  warnings.warn(\"Barnes weighting function is deprecated.\"\n"
     ]
    },
    {
     "name": "stdout",
     "output_type": "stream",
     "text": [
      "Gradient Analysis and Masking\n",
      "(-96.0787353515625, 28.471900939941406, <cartopy.crs.PlateCarree object at 0x000001A95E79CBD0>)\n"
     ]
    },
    {
     "name": "stderr",
     "output_type": "stream",
     "text": [
      "C:\\Users\\gandalf\\anaconda3\\envs\\radar\\lib\\site-packages\\pyproj\\crs\\crs.py:53: FutureWarning: '+init=<authority>:<code>' syntax is deprecated. '<authority>:<code>' is the preferred initialization method. When making the change, be mindful of axis order changes: https://pyproj4.github.io/pyproj/stable/gotchas.html#axis-order-changes-in-proj-6\n",
      "  return _prepare_from_string(\" \".join(pjargs))\n",
      "C:\\Users\\gandalf\\anaconda3\\envs\\radar\\lib\\site-packages\\pyproj\\crs\\crs.py:294: FutureWarning: '+init=<authority>:<code>' syntax is deprecated. '<authority>:<code>' is the preferred initialization method. When making the change, be mindful of axis order changes: https://pyproj4.github.io/pyproj/stable/gotchas.html#axis-order-changes-in-proj-6\n",
      "  projstring = _prepare_from_string(\" \".join((projstring, projkwargs)))\n",
      "C:\\Users\\gandalf\\anaconda3\\envs\\radar\\lib\\site-packages\\pyproj\\crs\\crs.py:53: FutureWarning: '+init=<authority>:<code>' syntax is deprecated. '<authority>:<code>' is the preferred initialization method. When making the change, be mindful of axis order changes: https://pyproj4.github.io/pyproj/stable/gotchas.html#axis-order-changes-in-proj-6\n",
      "  return _prepare_from_string(\" \".join(pjargs))\n",
      "C:\\Users\\gandalf\\anaconda3\\envs\\radar\\lib\\site-packages\\pyproj\\crs\\crs.py:294: FutureWarning: '+init=<authority>:<code>' syntax is deprecated. '<authority>:<code>' is the preferred initialization method. When making the change, be mindful of axis order changes: https://pyproj4.github.io/pyproj/stable/gotchas.html#axis-order-changes-in-proj-6\n",
      "  projstring = _prepare_from_string(\" \".join((projstring, projkwargs)))\n",
      "C:\\Users\\gandalf\\anaconda3\\envs\\radar\\lib\\site-packages\\cartopy\\mpl\\geoaxes.py:1366: UserWarning: The following kwargs were not used by contour: 'linestyle'\n",
      "  result = matplotlib.axes.Axes.contour(self, *args, **kwargs)\n"
     ]
    },
    {
     "name": "stdout",
     "output_type": "stream",
     "text": [
      "Testfig Saved\n"
     ]
    },
    {
     "name": "stderr",
     "output_type": "stream",
     "text": [
      "C:\\Users\\gandalf\\Documents\\Python Scripts\\SPORK-SPIN-master\\SPORK-SPIN-master\\arcalg_figure4.py:555: RuntimeWarning: invalid value encountered in true_divide\n",
      "  shaped_ang = (180-np.abs(shaped_ang))*(shaped_ang/np.abs(shaped_ang))\n"
     ]
    },
    {
     "name": "stdout",
     "output_type": "stream",
     "text": [
      "Figure Saved\n",
      "in loop\n",
      "19\n",
      "in loop\n",
      "19\n",
      "in loop\n",
      "19\n",
      "in loop\n",
      "19\n",
      "in loop\n",
      "19\n",
      "in loop\n",
      "19\n",
      "in loop\n",
      "19\n",
      "in loop\n",
      "19\n",
      "in loop\n",
      "19\n",
      "File Reading\n",
      "in loop\n",
      "19\n",
      "Pre-grid Organization Section\n",
      "KDP Section\n",
      "Grid Section\n"
     ]
    },
    {
     "name": "stderr",
     "output_type": "stream",
     "text": [
      "C:\\Users\\gandalf\\anaconda3\\envs\\radar\\lib\\site-packages\\pyart\\map\\gates_to_grid.py:160: DeprecationWarning: Barnes weighting function is deprecated. Please use Barnes 2 to be consistent with Pauley and Wu 1990.\n",
      "  warnings.warn(\"Barnes weighting function is deprecated.\"\n"
     ]
    },
    {
     "name": "stdout",
     "output_type": "stream",
     "text": [
      "Gradient Analysis and Masking\n",
      "(-96.0787353515625, 28.471900939941406, <cartopy.crs.PlateCarree object at 0x000001A90E614400>)\n"
     ]
    },
    {
     "name": "stderr",
     "output_type": "stream",
     "text": [
      "C:\\Users\\gandalf\\anaconda3\\envs\\radar\\lib\\site-packages\\pyproj\\crs\\crs.py:53: FutureWarning: '+init=<authority>:<code>' syntax is deprecated. '<authority>:<code>' is the preferred initialization method. When making the change, be mindful of axis order changes: https://pyproj4.github.io/pyproj/stable/gotchas.html#axis-order-changes-in-proj-6\n",
      "  return _prepare_from_string(\" \".join(pjargs))\n",
      "C:\\Users\\gandalf\\anaconda3\\envs\\radar\\lib\\site-packages\\pyproj\\crs\\crs.py:294: FutureWarning: '+init=<authority>:<code>' syntax is deprecated. '<authority>:<code>' is the preferred initialization method. When making the change, be mindful of axis order changes: https://pyproj4.github.io/pyproj/stable/gotchas.html#axis-order-changes-in-proj-6\n",
      "  projstring = _prepare_from_string(\" \".join((projstring, projkwargs)))\n",
      "C:\\Users\\gandalf\\anaconda3\\envs\\radar\\lib\\site-packages\\pyproj\\crs\\crs.py:53: FutureWarning: '+init=<authority>:<code>' syntax is deprecated. '<authority>:<code>' is the preferred initialization method. When making the change, be mindful of axis order changes: https://pyproj4.github.io/pyproj/stable/gotchas.html#axis-order-changes-in-proj-6\n",
      "  return _prepare_from_string(\" \".join(pjargs))\n",
      "C:\\Users\\gandalf\\anaconda3\\envs\\radar\\lib\\site-packages\\pyproj\\crs\\crs.py:294: FutureWarning: '+init=<authority>:<code>' syntax is deprecated. '<authority>:<code>' is the preferred initialization method. When making the change, be mindful of axis order changes: https://pyproj4.github.io/pyproj/stable/gotchas.html#axis-order-changes-in-proj-6\n",
      "  projstring = _prepare_from_string(\" \".join((projstring, projkwargs)))\n",
      "C:\\Users\\gandalf\\anaconda3\\envs\\radar\\lib\\site-packages\\cartopy\\mpl\\geoaxes.py:1366: UserWarning: The following kwargs were not used by contour: 'linestyle'\n",
      "  result = matplotlib.axes.Axes.contour(self, *args, **kwargs)\n"
     ]
    },
    {
     "name": "stdout",
     "output_type": "stream",
     "text": [
      "Testfig Saved\n"
     ]
    },
    {
     "name": "stderr",
     "output_type": "stream",
     "text": [
      "C:\\Users\\gandalf\\Documents\\Python Scripts\\SPORK-SPIN-master\\SPORK-SPIN-master\\arcalg_figure4.py:555: RuntimeWarning: invalid value encountered in true_divide\n",
      "  shaped_ang = (180-np.abs(shaped_ang))*(shaped_ang/np.abs(shaped_ang))\n"
     ]
    },
    {
     "name": "stdout",
     "output_type": "stream",
     "text": [
      "Figure Saved\n",
      "in loop\n",
      "19\n",
      "in loop\n",
      "19\n",
      "in loop\n",
      "19\n",
      "in loop\n",
      "19\n",
      "in loop\n",
      "19\n",
      "in loop\n",
      "19\n",
      "in loop\n",
      "19\n",
      "in loop\n",
      "19\n",
      "in loop\n",
      "19\n",
      "Pre-grid Organization Section\n",
      "KDP Section\n",
      "Grid Section\n"
     ]
    },
    {
     "name": "stderr",
     "output_type": "stream",
     "text": [
      "C:\\Users\\gandalf\\anaconda3\\envs\\radar\\lib\\site-packages\\pyart\\map\\gates_to_grid.py:160: DeprecationWarning: Barnes weighting function is deprecated. Please use Barnes 2 to be consistent with Pauley and Wu 1990.\n",
      "  warnings.warn(\"Barnes weighting function is deprecated.\"\n"
     ]
    },
    {
     "name": "stdout",
     "output_type": "stream",
     "text": [
      "Gradient Analysis and Masking\n",
      "(-96.0787353515625, 28.471900939941406, <cartopy.crs.PlateCarree object at 0x000001A90E614770>)\n"
     ]
    },
    {
     "name": "stderr",
     "output_type": "stream",
     "text": [
      "C:\\Users\\gandalf\\anaconda3\\envs\\radar\\lib\\site-packages\\pyproj\\crs\\crs.py:53: FutureWarning: '+init=<authority>:<code>' syntax is deprecated. '<authority>:<code>' is the preferred initialization method. When making the change, be mindful of axis order changes: https://pyproj4.github.io/pyproj/stable/gotchas.html#axis-order-changes-in-proj-6\n",
      "  return _prepare_from_string(\" \".join(pjargs))\n",
      "C:\\Users\\gandalf\\anaconda3\\envs\\radar\\lib\\site-packages\\pyproj\\crs\\crs.py:294: FutureWarning: '+init=<authority>:<code>' syntax is deprecated. '<authority>:<code>' is the preferred initialization method. When making the change, be mindful of axis order changes: https://pyproj4.github.io/pyproj/stable/gotchas.html#axis-order-changes-in-proj-6\n",
      "  projstring = _prepare_from_string(\" \".join((projstring, projkwargs)))\n",
      "C:\\Users\\gandalf\\anaconda3\\envs\\radar\\lib\\site-packages\\pyproj\\crs\\crs.py:53: FutureWarning: '+init=<authority>:<code>' syntax is deprecated. '<authority>:<code>' is the preferred initialization method. When making the change, be mindful of axis order changes: https://pyproj4.github.io/pyproj/stable/gotchas.html#axis-order-changes-in-proj-6\n",
      "  return _prepare_from_string(\" \".join(pjargs))\n",
      "C:\\Users\\gandalf\\anaconda3\\envs\\radar\\lib\\site-packages\\pyproj\\crs\\crs.py:294: FutureWarning: '+init=<authority>:<code>' syntax is deprecated. '<authority>:<code>' is the preferred initialization method. When making the change, be mindful of axis order changes: https://pyproj4.github.io/pyproj/stable/gotchas.html#axis-order-changes-in-proj-6\n",
      "  projstring = _prepare_from_string(\" \".join((projstring, projkwargs)))\n",
      "C:\\Users\\gandalf\\anaconda3\\envs\\radar\\lib\\site-packages\\cartopy\\mpl\\geoaxes.py:1366: UserWarning: The following kwargs were not used by contour: 'linestyle'\n",
      "  result = matplotlib.axes.Axes.contour(self, *args, **kwargs)\n"
     ]
    },
    {
     "name": "stdout",
     "output_type": "stream",
     "text": [
      "Testfig Saved\n"
     ]
    },
    {
     "name": "stderr",
     "output_type": "stream",
     "text": [
      "C:\\Users\\gandalf\\Documents\\Python Scripts\\SPORK-SPIN-master\\SPORK-SPIN-master\\arcalg_figure4.py:555: RuntimeWarning: invalid value encountered in true_divide\n",
      "  shaped_ang = (180-np.abs(shaped_ang))*(shaped_ang/np.abs(shaped_ang))\n"
     ]
    },
    {
     "name": "stdout",
     "output_type": "stream",
     "text": [
      "Figure Saved\n",
      "in loop\n",
      "19\n",
      "in loop\n",
      "19\n",
      "in loop\n",
      "19\n",
      "in loop\n",
      "19\n",
      "in loop\n",
      "19\n",
      "in loop\n",
      "19\n",
      "in loop\n",
      "19\n",
      "in loop\n",
      "19\n",
      "in loop\n",
      "19\n",
      "File Reading\n",
      "in loop\n",
      "19\n",
      "Pre-grid Organization Section\n",
      "KDP Section\n",
      "Grid Section\n"
     ]
    },
    {
     "name": "stderr",
     "output_type": "stream",
     "text": [
      "C:\\Users\\gandalf\\anaconda3\\envs\\radar\\lib\\site-packages\\pyart\\map\\gates_to_grid.py:160: DeprecationWarning: Barnes weighting function is deprecated. Please use Barnes 2 to be consistent with Pauley and Wu 1990.\n",
      "  warnings.warn(\"Barnes weighting function is deprecated.\"\n"
     ]
    },
    {
     "name": "stdout",
     "output_type": "stream",
     "text": [
      "Gradient Analysis and Masking\n",
      "(-96.0787353515625, 28.471900939941406, <cartopy.crs.PlateCarree object at 0x000001A93B3A48B0>)\n"
     ]
    },
    {
     "name": "stderr",
     "output_type": "stream",
     "text": [
      "C:\\Users\\gandalf\\anaconda3\\envs\\radar\\lib\\site-packages\\pyproj\\crs\\crs.py:53: FutureWarning: '+init=<authority>:<code>' syntax is deprecated. '<authority>:<code>' is the preferred initialization method. When making the change, be mindful of axis order changes: https://pyproj4.github.io/pyproj/stable/gotchas.html#axis-order-changes-in-proj-6\n",
      "  return _prepare_from_string(\" \".join(pjargs))\n",
      "C:\\Users\\gandalf\\anaconda3\\envs\\radar\\lib\\site-packages\\pyproj\\crs\\crs.py:294: FutureWarning: '+init=<authority>:<code>' syntax is deprecated. '<authority>:<code>' is the preferred initialization method. When making the change, be mindful of axis order changes: https://pyproj4.github.io/pyproj/stable/gotchas.html#axis-order-changes-in-proj-6\n",
      "  projstring = _prepare_from_string(\" \".join((projstring, projkwargs)))\n",
      "C:\\Users\\gandalf\\anaconda3\\envs\\radar\\lib\\site-packages\\pyproj\\crs\\crs.py:53: FutureWarning: '+init=<authority>:<code>' syntax is deprecated. '<authority>:<code>' is the preferred initialization method. When making the change, be mindful of axis order changes: https://pyproj4.github.io/pyproj/stable/gotchas.html#axis-order-changes-in-proj-6\n",
      "  return _prepare_from_string(\" \".join(pjargs))\n",
      "C:\\Users\\gandalf\\anaconda3\\envs\\radar\\lib\\site-packages\\pyproj\\crs\\crs.py:294: FutureWarning: '+init=<authority>:<code>' syntax is deprecated. '<authority>:<code>' is the preferred initialization method. When making the change, be mindful of axis order changes: https://pyproj4.github.io/pyproj/stable/gotchas.html#axis-order-changes-in-proj-6\n",
      "  projstring = _prepare_from_string(\" \".join((projstring, projkwargs)))\n",
      "C:\\Users\\gandalf\\anaconda3\\envs\\radar\\lib\\site-packages\\cartopy\\mpl\\geoaxes.py:1366: UserWarning: The following kwargs were not used by contour: 'linestyle'\n",
      "  result = matplotlib.axes.Axes.contour(self, *args, **kwargs)\n"
     ]
    },
    {
     "name": "stdout",
     "output_type": "stream",
     "text": [
      "Testfig Saved\n"
     ]
    },
    {
     "name": "stderr",
     "output_type": "stream",
     "text": [
      "C:\\Users\\gandalf\\Documents\\Python Scripts\\SPORK-SPIN-master\\SPORK-SPIN-master\\arcalg_figure4.py:555: RuntimeWarning: invalid value encountered in true_divide\n",
      "  shaped_ang = (180-np.abs(shaped_ang))*(shaped_ang/np.abs(shaped_ang))\n"
     ]
    },
    {
     "name": "stdout",
     "output_type": "stream",
     "text": [
      "Figure Saved\n",
      "in loop\n",
      "19\n",
      "in loop\n",
      "19\n",
      "in loop\n",
      "19\n",
      "in loop\n",
      "19\n",
      "in loop\n",
      "19\n",
      "in loop\n",
      "19\n",
      "in loop\n",
      "19\n",
      "in loop\n",
      "19\n",
      "in loop\n",
      "19\n",
      "Pre-grid Organization Section\n",
      "KDP Section\n",
      "Grid Section\n"
     ]
    },
    {
     "name": "stderr",
     "output_type": "stream",
     "text": [
      "C:\\Users\\gandalf\\anaconda3\\envs\\radar\\lib\\site-packages\\pyart\\map\\gates_to_grid.py:160: DeprecationWarning: Barnes weighting function is deprecated. Please use Barnes 2 to be consistent with Pauley and Wu 1990.\n",
      "  warnings.warn(\"Barnes weighting function is deprecated.\"\n"
     ]
    },
    {
     "name": "stdout",
     "output_type": "stream",
     "text": [
      "Gradient Analysis and Masking\n",
      "(-96.0787353515625, 28.471900939941406, <cartopy.crs.PlateCarree object at 0x000001A9A1B64F90>)\n"
     ]
    },
    {
     "name": "stderr",
     "output_type": "stream",
     "text": [
      "C:\\Users\\gandalf\\anaconda3\\envs\\radar\\lib\\site-packages\\pyproj\\crs\\crs.py:53: FutureWarning: '+init=<authority>:<code>' syntax is deprecated. '<authority>:<code>' is the preferred initialization method. When making the change, be mindful of axis order changes: https://pyproj4.github.io/pyproj/stable/gotchas.html#axis-order-changes-in-proj-6\n",
      "  return _prepare_from_string(\" \".join(pjargs))\n",
      "C:\\Users\\gandalf\\anaconda3\\envs\\radar\\lib\\site-packages\\pyproj\\crs\\crs.py:294: FutureWarning: '+init=<authority>:<code>' syntax is deprecated. '<authority>:<code>' is the preferred initialization method. When making the change, be mindful of axis order changes: https://pyproj4.github.io/pyproj/stable/gotchas.html#axis-order-changes-in-proj-6\n",
      "  projstring = _prepare_from_string(\" \".join((projstring, projkwargs)))\n",
      "C:\\Users\\gandalf\\anaconda3\\envs\\radar\\lib\\site-packages\\pyproj\\crs\\crs.py:53: FutureWarning: '+init=<authority>:<code>' syntax is deprecated. '<authority>:<code>' is the preferred initialization method. When making the change, be mindful of axis order changes: https://pyproj4.github.io/pyproj/stable/gotchas.html#axis-order-changes-in-proj-6\n",
      "  return _prepare_from_string(\" \".join(pjargs))\n",
      "C:\\Users\\gandalf\\anaconda3\\envs\\radar\\lib\\site-packages\\pyproj\\crs\\crs.py:294: FutureWarning: '+init=<authority>:<code>' syntax is deprecated. '<authority>:<code>' is the preferred initialization method. When making the change, be mindful of axis order changes: https://pyproj4.github.io/pyproj/stable/gotchas.html#axis-order-changes-in-proj-6\n",
      "  projstring = _prepare_from_string(\" \".join((projstring, projkwargs)))\n",
      "C:\\Users\\gandalf\\anaconda3\\envs\\radar\\lib\\site-packages\\cartopy\\mpl\\geoaxes.py:1366: UserWarning: The following kwargs were not used by contour: 'linestyle'\n",
      "  result = matplotlib.axes.Axes.contour(self, *args, **kwargs)\n"
     ]
    },
    {
     "name": "stdout",
     "output_type": "stream",
     "text": [
      "Testfig Saved\n"
     ]
    },
    {
     "name": "stderr",
     "output_type": "stream",
     "text": [
      "C:\\Users\\gandalf\\Documents\\Python Scripts\\SPORK-SPIN-master\\SPORK-SPIN-master\\arcalg_figure4.py:555: RuntimeWarning: invalid value encountered in true_divide\n",
      "  shaped_ang = (180-np.abs(shaped_ang))*(shaped_ang/np.abs(shaped_ang))\n"
     ]
    },
    {
     "name": "stdout",
     "output_type": "stream",
     "text": [
      "Figure Saved\n",
      "in loop\n",
      "19\n",
      "in loop\n",
      "19\n",
      "in loop\n",
      "19\n",
      "in loop\n",
      "19\n",
      "in loop\n",
      "19\n",
      "in loop\n",
      "19\n",
      "in loop\n",
      "19\n",
      "in loop\n",
      "19\n",
      "in loop\n",
      "19\n",
      "File Reading\n",
      "in loop\n",
      "19\n",
      "Pre-grid Organization Section\n",
      "KDP Section\n",
      "Grid Section\n"
     ]
    },
    {
     "name": "stderr",
     "output_type": "stream",
     "text": [
      "C:\\Users\\gandalf\\anaconda3\\envs\\radar\\lib\\site-packages\\pyart\\map\\gates_to_grid.py:160: DeprecationWarning: Barnes weighting function is deprecated. Please use Barnes 2 to be consistent with Pauley and Wu 1990.\n",
      "  warnings.warn(\"Barnes weighting function is deprecated.\"\n"
     ]
    },
    {
     "name": "stdout",
     "output_type": "stream",
     "text": [
      "Gradient Analysis and Masking\n",
      "(-96.0787353515625, 28.471900939941406, <cartopy.crs.PlateCarree object at 0x000001A9179791D0>)\n"
     ]
    },
    {
     "name": "stderr",
     "output_type": "stream",
     "text": [
      "C:\\Users\\gandalf\\anaconda3\\envs\\radar\\lib\\site-packages\\pyproj\\crs\\crs.py:53: FutureWarning: '+init=<authority>:<code>' syntax is deprecated. '<authority>:<code>' is the preferred initialization method. When making the change, be mindful of axis order changes: https://pyproj4.github.io/pyproj/stable/gotchas.html#axis-order-changes-in-proj-6\n",
      "  return _prepare_from_string(\" \".join(pjargs))\n",
      "C:\\Users\\gandalf\\anaconda3\\envs\\radar\\lib\\site-packages\\pyproj\\crs\\crs.py:294: FutureWarning: '+init=<authority>:<code>' syntax is deprecated. '<authority>:<code>' is the preferred initialization method. When making the change, be mindful of axis order changes: https://pyproj4.github.io/pyproj/stable/gotchas.html#axis-order-changes-in-proj-6\n",
      "  projstring = _prepare_from_string(\" \".join((projstring, projkwargs)))\n",
      "C:\\Users\\gandalf\\anaconda3\\envs\\radar\\lib\\site-packages\\pyproj\\crs\\crs.py:53: FutureWarning: '+init=<authority>:<code>' syntax is deprecated. '<authority>:<code>' is the preferred initialization method. When making the change, be mindful of axis order changes: https://pyproj4.github.io/pyproj/stable/gotchas.html#axis-order-changes-in-proj-6\n",
      "  return _prepare_from_string(\" \".join(pjargs))\n",
      "C:\\Users\\gandalf\\anaconda3\\envs\\radar\\lib\\site-packages\\pyproj\\crs\\crs.py:294: FutureWarning: '+init=<authority>:<code>' syntax is deprecated. '<authority>:<code>' is the preferred initialization method. When making the change, be mindful of axis order changes: https://pyproj4.github.io/pyproj/stable/gotchas.html#axis-order-changes-in-proj-6\n",
      "  projstring = _prepare_from_string(\" \".join((projstring, projkwargs)))\n",
      "C:\\Users\\gandalf\\anaconda3\\envs\\radar\\lib\\site-packages\\cartopy\\mpl\\geoaxes.py:1366: UserWarning: The following kwargs were not used by contour: 'linestyle'\n",
      "  result = matplotlib.axes.Axes.contour(self, *args, **kwargs)\n"
     ]
    },
    {
     "name": "stdout",
     "output_type": "stream",
     "text": [
      "Testfig Saved\n"
     ]
    },
    {
     "name": "stderr",
     "output_type": "stream",
     "text": [
      "C:\\Users\\gandalf\\Documents\\Python Scripts\\SPORK-SPIN-master\\SPORK-SPIN-master\\arcalg_figure4.py:555: RuntimeWarning: invalid value encountered in true_divide\n",
      "  shaped_ang = (180-np.abs(shaped_ang))*(shaped_ang/np.abs(shaped_ang))\n"
     ]
    },
    {
     "name": "stdout",
     "output_type": "stream",
     "text": [
      "Figure Saved\n",
      "in loop\n",
      "19\n",
      "in loop\n",
      "19\n",
      "in loop\n",
      "19\n",
      "in loop\n",
      "19\n",
      "in loop\n",
      "19\n",
      "in loop\n",
      "19\n",
      "in loop\n",
      "19\n",
      "in loop\n",
      "19\n",
      "in loop\n",
      "19\n",
      "Pre-grid Organization Section\n",
      "KDP Section\n",
      "Grid Section\n"
     ]
    },
    {
     "name": "stderr",
     "output_type": "stream",
     "text": [
      "C:\\Users\\gandalf\\anaconda3\\envs\\radar\\lib\\site-packages\\pyart\\map\\gates_to_grid.py:160: DeprecationWarning: Barnes weighting function is deprecated. Please use Barnes 2 to be consistent with Pauley and Wu 1990.\n",
      "  warnings.warn(\"Barnes weighting function is deprecated.\"\n"
     ]
    },
    {
     "name": "stdout",
     "output_type": "stream",
     "text": [
      "Gradient Analysis and Masking\n",
      "(-96.0787353515625, 28.471900939941406, <cartopy.crs.PlateCarree object at 0x000001A956E727C0>)\n"
     ]
    },
    {
     "name": "stderr",
     "output_type": "stream",
     "text": [
      "C:\\Users\\gandalf\\anaconda3\\envs\\radar\\lib\\site-packages\\pyproj\\crs\\crs.py:53: FutureWarning: '+init=<authority>:<code>' syntax is deprecated. '<authority>:<code>' is the preferred initialization method. When making the change, be mindful of axis order changes: https://pyproj4.github.io/pyproj/stable/gotchas.html#axis-order-changes-in-proj-6\n",
      "  return _prepare_from_string(\" \".join(pjargs))\n",
      "C:\\Users\\gandalf\\anaconda3\\envs\\radar\\lib\\site-packages\\pyproj\\crs\\crs.py:294: FutureWarning: '+init=<authority>:<code>' syntax is deprecated. '<authority>:<code>' is the preferred initialization method. When making the change, be mindful of axis order changes: https://pyproj4.github.io/pyproj/stable/gotchas.html#axis-order-changes-in-proj-6\n",
      "  projstring = _prepare_from_string(\" \".join((projstring, projkwargs)))\n",
      "C:\\Users\\gandalf\\anaconda3\\envs\\radar\\lib\\site-packages\\pyproj\\crs\\crs.py:53: FutureWarning: '+init=<authority>:<code>' syntax is deprecated. '<authority>:<code>' is the preferred initialization method. When making the change, be mindful of axis order changes: https://pyproj4.github.io/pyproj/stable/gotchas.html#axis-order-changes-in-proj-6\n",
      "  return _prepare_from_string(\" \".join(pjargs))\n",
      "C:\\Users\\gandalf\\anaconda3\\envs\\radar\\lib\\site-packages\\pyproj\\crs\\crs.py:294: FutureWarning: '+init=<authority>:<code>' syntax is deprecated. '<authority>:<code>' is the preferred initialization method. When making the change, be mindful of axis order changes: https://pyproj4.github.io/pyproj/stable/gotchas.html#axis-order-changes-in-proj-6\n",
      "  projstring = _prepare_from_string(\" \".join((projstring, projkwargs)))\n",
      "C:\\Users\\gandalf\\anaconda3\\envs\\radar\\lib\\site-packages\\cartopy\\mpl\\geoaxes.py:1366: UserWarning: The following kwargs were not used by contour: 'linestyle'\n",
      "  result = matplotlib.axes.Axes.contour(self, *args, **kwargs)\n"
     ]
    },
    {
     "name": "stdout",
     "output_type": "stream",
     "text": [
      "Testfig Saved\n"
     ]
    },
    {
     "name": "stderr",
     "output_type": "stream",
     "text": [
      "C:\\Users\\gandalf\\Documents\\Python Scripts\\SPORK-SPIN-master\\SPORK-SPIN-master\\arcalg_figure4.py:555: RuntimeWarning: invalid value encountered in true_divide\n",
      "  shaped_ang = (180-np.abs(shaped_ang))*(shaped_ang/np.abs(shaped_ang))\n"
     ]
    },
    {
     "name": "stdout",
     "output_type": "stream",
     "text": [
      "Figure Saved\n",
      "in loop\n",
      "19\n",
      "in loop\n",
      "19\n",
      "in loop\n",
      "19\n",
      "in loop\n",
      "19\n",
      "in loop\n",
      "19\n",
      "in loop\n",
      "19\n",
      "in loop\n",
      "19\n",
      "in loop\n",
      "19\n",
      "in loop\n",
      "19\n",
      "File Reading\n",
      "in loop\n",
      "19\n",
      "Pre-grid Organization Section\n",
      "KDP Section\n",
      "Grid Section\n"
     ]
    },
    {
     "name": "stderr",
     "output_type": "stream",
     "text": [
      "C:\\Users\\gandalf\\anaconda3\\envs\\radar\\lib\\site-packages\\pyart\\map\\gates_to_grid.py:160: DeprecationWarning: Barnes weighting function is deprecated. Please use Barnes 2 to be consistent with Pauley and Wu 1990.\n",
      "  warnings.warn(\"Barnes weighting function is deprecated.\"\n"
     ]
    },
    {
     "name": "stdout",
     "output_type": "stream",
     "text": [
      "Gradient Analysis and Masking\n",
      "(-96.0787353515625, 28.471900939941406, <cartopy.crs.PlateCarree object at 0x000001A983FB2450>)\n"
     ]
    },
    {
     "name": "stderr",
     "output_type": "stream",
     "text": [
      "C:\\Users\\gandalf\\anaconda3\\envs\\radar\\lib\\site-packages\\pyproj\\crs\\crs.py:53: FutureWarning: '+init=<authority>:<code>' syntax is deprecated. '<authority>:<code>' is the preferred initialization method. When making the change, be mindful of axis order changes: https://pyproj4.github.io/pyproj/stable/gotchas.html#axis-order-changes-in-proj-6\n",
      "  return _prepare_from_string(\" \".join(pjargs))\n",
      "C:\\Users\\gandalf\\anaconda3\\envs\\radar\\lib\\site-packages\\pyproj\\crs\\crs.py:294: FutureWarning: '+init=<authority>:<code>' syntax is deprecated. '<authority>:<code>' is the preferred initialization method. When making the change, be mindful of axis order changes: https://pyproj4.github.io/pyproj/stable/gotchas.html#axis-order-changes-in-proj-6\n",
      "  projstring = _prepare_from_string(\" \".join((projstring, projkwargs)))\n",
      "C:\\Users\\gandalf\\anaconda3\\envs\\radar\\lib\\site-packages\\pyproj\\crs\\crs.py:53: FutureWarning: '+init=<authority>:<code>' syntax is deprecated. '<authority>:<code>' is the preferred initialization method. When making the change, be mindful of axis order changes: https://pyproj4.github.io/pyproj/stable/gotchas.html#axis-order-changes-in-proj-6\n",
      "  return _prepare_from_string(\" \".join(pjargs))\n",
      "C:\\Users\\gandalf\\anaconda3\\envs\\radar\\lib\\site-packages\\pyproj\\crs\\crs.py:294: FutureWarning: '+init=<authority>:<code>' syntax is deprecated. '<authority>:<code>' is the preferred initialization method. When making the change, be mindful of axis order changes: https://pyproj4.github.io/pyproj/stable/gotchas.html#axis-order-changes-in-proj-6\n",
      "  projstring = _prepare_from_string(\" \".join((projstring, projkwargs)))\n",
      "C:\\Users\\gandalf\\anaconda3\\envs\\radar\\lib\\site-packages\\cartopy\\mpl\\geoaxes.py:1366: UserWarning: The following kwargs were not used by contour: 'linestyle'\n",
      "  result = matplotlib.axes.Axes.contour(self, *args, **kwargs)\n"
     ]
    },
    {
     "name": "stdout",
     "output_type": "stream",
     "text": [
      "Testfig Saved\n"
     ]
    },
    {
     "name": "stderr",
     "output_type": "stream",
     "text": [
      "C:\\Users\\gandalf\\Documents\\Python Scripts\\SPORK-SPIN-master\\SPORK-SPIN-master\\arcalg_figure4.py:555: RuntimeWarning: invalid value encountered in true_divide\n",
      "  shaped_ang = (180-np.abs(shaped_ang))*(shaped_ang/np.abs(shaped_ang))\n"
     ]
    },
    {
     "name": "stdout",
     "output_type": "stream",
     "text": [
      "Figure Saved\n",
      "in loop\n",
      "19\n",
      "in loop\n",
      "19\n",
      "in loop\n",
      "19\n",
      "in loop\n",
      "19\n",
      "in loop\n",
      "19\n",
      "in loop\n",
      "19\n",
      "in loop\n",
      "19\n",
      "in loop\n",
      "19\n",
      "in loop\n",
      "19\n",
      "Pre-grid Organization Section\n",
      "KDP Section\n",
      "Grid Section\n"
     ]
    },
    {
     "name": "stderr",
     "output_type": "stream",
     "text": [
      "C:\\Users\\gandalf\\anaconda3\\envs\\radar\\lib\\site-packages\\pyart\\map\\gates_to_grid.py:160: DeprecationWarning: Barnes weighting function is deprecated. Please use Barnes 2 to be consistent with Pauley and Wu 1990.\n",
      "  warnings.warn(\"Barnes weighting function is deprecated.\"\n"
     ]
    },
    {
     "name": "stdout",
     "output_type": "stream",
     "text": [
      "Gradient Analysis and Masking\n",
      "(-96.0787353515625, 28.471900939941406, <cartopy.crs.PlateCarree object at 0x000001A9167888B0>)\n"
     ]
    },
    {
     "name": "stderr",
     "output_type": "stream",
     "text": [
      "C:\\Users\\gandalf\\anaconda3\\envs\\radar\\lib\\site-packages\\pyproj\\crs\\crs.py:53: FutureWarning: '+init=<authority>:<code>' syntax is deprecated. '<authority>:<code>' is the preferred initialization method. When making the change, be mindful of axis order changes: https://pyproj4.github.io/pyproj/stable/gotchas.html#axis-order-changes-in-proj-6\n",
      "  return _prepare_from_string(\" \".join(pjargs))\n",
      "C:\\Users\\gandalf\\anaconda3\\envs\\radar\\lib\\site-packages\\pyproj\\crs\\crs.py:294: FutureWarning: '+init=<authority>:<code>' syntax is deprecated. '<authority>:<code>' is the preferred initialization method. When making the change, be mindful of axis order changes: https://pyproj4.github.io/pyproj/stable/gotchas.html#axis-order-changes-in-proj-6\n",
      "  projstring = _prepare_from_string(\" \".join((projstring, projkwargs)))\n",
      "C:\\Users\\gandalf\\anaconda3\\envs\\radar\\lib\\site-packages\\pyproj\\crs\\crs.py:53: FutureWarning: '+init=<authority>:<code>' syntax is deprecated. '<authority>:<code>' is the preferred initialization method. When making the change, be mindful of axis order changes: https://pyproj4.github.io/pyproj/stable/gotchas.html#axis-order-changes-in-proj-6\n",
      "  return _prepare_from_string(\" \".join(pjargs))\n",
      "C:\\Users\\gandalf\\anaconda3\\envs\\radar\\lib\\site-packages\\pyproj\\crs\\crs.py:294: FutureWarning: '+init=<authority>:<code>' syntax is deprecated. '<authority>:<code>' is the preferred initialization method. When making the change, be mindful of axis order changes: https://pyproj4.github.io/pyproj/stable/gotchas.html#axis-order-changes-in-proj-6\n",
      "  projstring = _prepare_from_string(\" \".join((projstring, projkwargs)))\n",
      "C:\\Users\\gandalf\\anaconda3\\envs\\radar\\lib\\site-packages\\cartopy\\mpl\\geoaxes.py:1366: UserWarning: The following kwargs were not used by contour: 'linestyle'\n",
      "  result = matplotlib.axes.Axes.contour(self, *args, **kwargs)\n"
     ]
    },
    {
     "name": "stdout",
     "output_type": "stream",
     "text": [
      "Testfig Saved\n"
     ]
    },
    {
     "name": "stderr",
     "output_type": "stream",
     "text": [
      "C:\\Users\\gandalf\\Documents\\Python Scripts\\SPORK-SPIN-master\\SPORK-SPIN-master\\arcalg_figure4.py:555: RuntimeWarning: invalid value encountered in true_divide\n",
      "  shaped_ang = (180-np.abs(shaped_ang))*(shaped_ang/np.abs(shaped_ang))\n"
     ]
    },
    {
     "name": "stdout",
     "output_type": "stream",
     "text": [
      "Figure Saved\n",
      "in loop\n",
      "19\n",
      "in loop\n",
      "19\n",
      "in loop\n",
      "19\n",
      "in loop\n",
      "19\n",
      "in loop\n",
      "19\n",
      "in loop\n",
      "19\n",
      "in loop\n",
      "19\n",
      "in loop\n",
      "19\n",
      "in loop\n",
      "19\n",
      "File Reading\n",
      "in loop\n",
      "19\n",
      "Pre-grid Organization Section\n",
      "KDP Section\n",
      "Grid Section\n"
     ]
    },
    {
     "name": "stderr",
     "output_type": "stream",
     "text": [
      "C:\\Users\\gandalf\\anaconda3\\envs\\radar\\lib\\site-packages\\pyart\\map\\gates_to_grid.py:160: DeprecationWarning: Barnes weighting function is deprecated. Please use Barnes 2 to be consistent with Pauley and Wu 1990.\n",
      "  warnings.warn(\"Barnes weighting function is deprecated.\"\n"
     ]
    },
    {
     "name": "stdout",
     "output_type": "stream",
     "text": [
      "Gradient Analysis and Masking\n",
      "(-96.0787353515625, 28.471900939941406, <cartopy.crs.PlateCarree object at 0x000001A955C055E0>)\n"
     ]
    },
    {
     "name": "stderr",
     "output_type": "stream",
     "text": [
      "C:\\Users\\gandalf\\anaconda3\\envs\\radar\\lib\\site-packages\\pyproj\\crs\\crs.py:53: FutureWarning: '+init=<authority>:<code>' syntax is deprecated. '<authority>:<code>' is the preferred initialization method. When making the change, be mindful of axis order changes: https://pyproj4.github.io/pyproj/stable/gotchas.html#axis-order-changes-in-proj-6\n",
      "  return _prepare_from_string(\" \".join(pjargs))\n",
      "C:\\Users\\gandalf\\anaconda3\\envs\\radar\\lib\\site-packages\\pyproj\\crs\\crs.py:294: FutureWarning: '+init=<authority>:<code>' syntax is deprecated. '<authority>:<code>' is the preferred initialization method. When making the change, be mindful of axis order changes: https://pyproj4.github.io/pyproj/stable/gotchas.html#axis-order-changes-in-proj-6\n",
      "  projstring = _prepare_from_string(\" \".join((projstring, projkwargs)))\n",
      "C:\\Users\\gandalf\\anaconda3\\envs\\radar\\lib\\site-packages\\pyproj\\crs\\crs.py:53: FutureWarning: '+init=<authority>:<code>' syntax is deprecated. '<authority>:<code>' is the preferred initialization method. When making the change, be mindful of axis order changes: https://pyproj4.github.io/pyproj/stable/gotchas.html#axis-order-changes-in-proj-6\n",
      "  return _prepare_from_string(\" \".join(pjargs))\n",
      "C:\\Users\\gandalf\\anaconda3\\envs\\radar\\lib\\site-packages\\pyproj\\crs\\crs.py:294: FutureWarning: '+init=<authority>:<code>' syntax is deprecated. '<authority>:<code>' is the preferred initialization method. When making the change, be mindful of axis order changes: https://pyproj4.github.io/pyproj/stable/gotchas.html#axis-order-changes-in-proj-6\n",
      "  projstring = _prepare_from_string(\" \".join((projstring, projkwargs)))\n",
      "C:\\Users\\gandalf\\anaconda3\\envs\\radar\\lib\\site-packages\\cartopy\\mpl\\geoaxes.py:1366: UserWarning: The following kwargs were not used by contour: 'linestyle'\n",
      "  result = matplotlib.axes.Axes.contour(self, *args, **kwargs)\n"
     ]
    },
    {
     "name": "stdout",
     "output_type": "stream",
     "text": [
      "Testfig Saved\n"
     ]
    },
    {
     "name": "stderr",
     "output_type": "stream",
     "text": [
      "C:\\Users\\gandalf\\Documents\\Python Scripts\\SPORK-SPIN-master\\SPORK-SPIN-master\\arcalg_figure4.py:555: RuntimeWarning: invalid value encountered in true_divide\n",
      "  shaped_ang = (180-np.abs(shaped_ang))*(shaped_ang/np.abs(shaped_ang))\n"
     ]
    },
    {
     "name": "stdout",
     "output_type": "stream",
     "text": [
      "Figure Saved\n",
      "in loop\n",
      "19\n",
      "in loop\n",
      "19\n",
      "in loop\n",
      "19\n",
      "in loop\n",
      "19\n",
      "in loop\n",
      "19\n",
      "in loop\n",
      "19\n",
      "in loop\n",
      "19\n",
      "in loop\n",
      "19\n",
      "in loop\n",
      "19\n",
      "Pre-grid Organization Section\n",
      "KDP Section\n",
      "Grid Section\n"
     ]
    },
    {
     "name": "stderr",
     "output_type": "stream",
     "text": [
      "C:\\Users\\gandalf\\anaconda3\\envs\\radar\\lib\\site-packages\\pyart\\map\\gates_to_grid.py:160: DeprecationWarning: Barnes weighting function is deprecated. Please use Barnes 2 to be consistent with Pauley and Wu 1990.\n",
      "  warnings.warn(\"Barnes weighting function is deprecated.\"\n"
     ]
    },
    {
     "name": "stdout",
     "output_type": "stream",
     "text": [
      "Gradient Analysis and Masking\n",
      "(-96.0787353515625, 28.471900939941406, <cartopy.crs.PlateCarree object at 0x000001A955C05AE0>)\n"
     ]
    },
    {
     "name": "stderr",
     "output_type": "stream",
     "text": [
      "C:\\Users\\gandalf\\anaconda3\\envs\\radar\\lib\\site-packages\\pyproj\\crs\\crs.py:53: FutureWarning: '+init=<authority>:<code>' syntax is deprecated. '<authority>:<code>' is the preferred initialization method. When making the change, be mindful of axis order changes: https://pyproj4.github.io/pyproj/stable/gotchas.html#axis-order-changes-in-proj-6\n",
      "  return _prepare_from_string(\" \".join(pjargs))\n",
      "C:\\Users\\gandalf\\anaconda3\\envs\\radar\\lib\\site-packages\\pyproj\\crs\\crs.py:294: FutureWarning: '+init=<authority>:<code>' syntax is deprecated. '<authority>:<code>' is the preferred initialization method. When making the change, be mindful of axis order changes: https://pyproj4.github.io/pyproj/stable/gotchas.html#axis-order-changes-in-proj-6\n",
      "  projstring = _prepare_from_string(\" \".join((projstring, projkwargs)))\n",
      "C:\\Users\\gandalf\\anaconda3\\envs\\radar\\lib\\site-packages\\pyproj\\crs\\crs.py:53: FutureWarning: '+init=<authority>:<code>' syntax is deprecated. '<authority>:<code>' is the preferred initialization method. When making the change, be mindful of axis order changes: https://pyproj4.github.io/pyproj/stable/gotchas.html#axis-order-changes-in-proj-6\n",
      "  return _prepare_from_string(\" \".join(pjargs))\n",
      "C:\\Users\\gandalf\\anaconda3\\envs\\radar\\lib\\site-packages\\pyproj\\crs\\crs.py:294: FutureWarning: '+init=<authority>:<code>' syntax is deprecated. '<authority>:<code>' is the preferred initialization method. When making the change, be mindful of axis order changes: https://pyproj4.github.io/pyproj/stable/gotchas.html#axis-order-changes-in-proj-6\n",
      "  projstring = _prepare_from_string(\" \".join((projstring, projkwargs)))\n",
      "C:\\Users\\gandalf\\anaconda3\\envs\\radar\\lib\\site-packages\\cartopy\\mpl\\geoaxes.py:1366: UserWarning: The following kwargs were not used by contour: 'linestyle'\n",
      "  result = matplotlib.axes.Axes.contour(self, *args, **kwargs)\n"
     ]
    },
    {
     "name": "stdout",
     "output_type": "stream",
     "text": [
      "Testfig Saved\n"
     ]
    },
    {
     "name": "stderr",
     "output_type": "stream",
     "text": [
      "C:\\Users\\gandalf\\Documents\\Python Scripts\\SPORK-SPIN-master\\SPORK-SPIN-master\\arcalg_figure4.py:555: RuntimeWarning: invalid value encountered in true_divide\n",
      "  shaped_ang = (180-np.abs(shaped_ang))*(shaped_ang/np.abs(shaped_ang))\n"
     ]
    },
    {
     "name": "stdout",
     "output_type": "stream",
     "text": [
      "Figure Saved\n",
      "in loop\n",
      "19\n",
      "in loop\n",
      "19\n",
      "in loop\n",
      "19\n",
      "in loop\n",
      "19\n",
      "in loop\n",
      "19\n",
      "in loop\n",
      "19\n",
      "in loop\n",
      "19\n",
      "in loop\n",
      "19\n",
      "in loop\n",
      "19\n",
      "File Reading\n",
      "in loop\n",
      "19\n",
      "Pre-grid Organization Section\n",
      "KDP Section\n",
      "Grid Section\n"
     ]
    },
    {
     "name": "stderr",
     "output_type": "stream",
     "text": [
      "C:\\Users\\gandalf\\anaconda3\\envs\\radar\\lib\\site-packages\\pyart\\map\\gates_to_grid.py:160: DeprecationWarning: Barnes weighting function is deprecated. Please use Barnes 2 to be consistent with Pauley and Wu 1990.\n",
      "  warnings.warn(\"Barnes weighting function is deprecated.\"\n"
     ]
    },
    {
     "name": "stdout",
     "output_type": "stream",
     "text": [
      "Gradient Analysis and Masking\n",
      "(-96.0787353515625, 28.471900939941406, <cartopy.crs.PlateCarree object at 0x000001A91B04E1D0>)\n"
     ]
    },
    {
     "name": "stderr",
     "output_type": "stream",
     "text": [
      "C:\\Users\\gandalf\\anaconda3\\envs\\radar\\lib\\site-packages\\pyproj\\crs\\crs.py:53: FutureWarning: '+init=<authority>:<code>' syntax is deprecated. '<authority>:<code>' is the preferred initialization method. When making the change, be mindful of axis order changes: https://pyproj4.github.io/pyproj/stable/gotchas.html#axis-order-changes-in-proj-6\n",
      "  return _prepare_from_string(\" \".join(pjargs))\n",
      "C:\\Users\\gandalf\\anaconda3\\envs\\radar\\lib\\site-packages\\pyproj\\crs\\crs.py:294: FutureWarning: '+init=<authority>:<code>' syntax is deprecated. '<authority>:<code>' is the preferred initialization method. When making the change, be mindful of axis order changes: https://pyproj4.github.io/pyproj/stable/gotchas.html#axis-order-changes-in-proj-6\n",
      "  projstring = _prepare_from_string(\" \".join((projstring, projkwargs)))\n",
      "C:\\Users\\gandalf\\anaconda3\\envs\\radar\\lib\\site-packages\\pyproj\\crs\\crs.py:53: FutureWarning: '+init=<authority>:<code>' syntax is deprecated. '<authority>:<code>' is the preferred initialization method. When making the change, be mindful of axis order changes: https://pyproj4.github.io/pyproj/stable/gotchas.html#axis-order-changes-in-proj-6\n",
      "  return _prepare_from_string(\" \".join(pjargs))\n",
      "C:\\Users\\gandalf\\anaconda3\\envs\\radar\\lib\\site-packages\\pyproj\\crs\\crs.py:294: FutureWarning: '+init=<authority>:<code>' syntax is deprecated. '<authority>:<code>' is the preferred initialization method. When making the change, be mindful of axis order changes: https://pyproj4.github.io/pyproj/stable/gotchas.html#axis-order-changes-in-proj-6\n",
      "  projstring = _prepare_from_string(\" \".join((projstring, projkwargs)))\n",
      "C:\\Users\\gandalf\\anaconda3\\envs\\radar\\lib\\site-packages\\cartopy\\mpl\\geoaxes.py:1366: UserWarning: The following kwargs were not used by contour: 'linestyle'\n",
      "  result = matplotlib.axes.Axes.contour(self, *args, **kwargs)\n"
     ]
    },
    {
     "name": "stdout",
     "output_type": "stream",
     "text": [
      "Testfig Saved\n"
     ]
    },
    {
     "name": "stderr",
     "output_type": "stream",
     "text": [
      "C:\\Users\\gandalf\\Documents\\Python Scripts\\SPORK-SPIN-master\\SPORK-SPIN-master\\arcalg_figure4.py:555: RuntimeWarning: invalid value encountered in true_divide\n",
      "  shaped_ang = (180-np.abs(shaped_ang))*(shaped_ang/np.abs(shaped_ang))\n"
     ]
    },
    {
     "name": "stdout",
     "output_type": "stream",
     "text": [
      "Figure Saved\n",
      "in loop\n",
      "19\n",
      "in loop\n",
      "19\n",
      "in loop\n",
      "19\n",
      "in loop\n",
      "19\n",
      "in loop\n",
      "19\n",
      "in loop\n",
      "19\n",
      "in loop\n",
      "19\n",
      "in loop\n",
      "19\n",
      "in loop\n",
      "19\n",
      "Pre-grid Organization Section\n",
      "KDP Section\n",
      "Grid Section\n"
     ]
    },
    {
     "name": "stderr",
     "output_type": "stream",
     "text": [
      "C:\\Users\\gandalf\\anaconda3\\envs\\radar\\lib\\site-packages\\pyart\\map\\gates_to_grid.py:160: DeprecationWarning: Barnes weighting function is deprecated. Please use Barnes 2 to be consistent with Pauley and Wu 1990.\n",
      "  warnings.warn(\"Barnes weighting function is deprecated.\"\n"
     ]
    },
    {
     "name": "stdout",
     "output_type": "stream",
     "text": [
      "Gradient Analysis and Masking\n",
      "(-96.0787353515625, 28.471900939941406, <cartopy.crs.PlateCarree object at 0x000001A91CDC4590>)\n"
     ]
    },
    {
     "name": "stderr",
     "output_type": "stream",
     "text": [
      "C:\\Users\\gandalf\\anaconda3\\envs\\radar\\lib\\site-packages\\pyproj\\crs\\crs.py:53: FutureWarning: '+init=<authority>:<code>' syntax is deprecated. '<authority>:<code>' is the preferred initialization method. When making the change, be mindful of axis order changes: https://pyproj4.github.io/pyproj/stable/gotchas.html#axis-order-changes-in-proj-6\n",
      "  return _prepare_from_string(\" \".join(pjargs))\n",
      "C:\\Users\\gandalf\\anaconda3\\envs\\radar\\lib\\site-packages\\pyproj\\crs\\crs.py:294: FutureWarning: '+init=<authority>:<code>' syntax is deprecated. '<authority>:<code>' is the preferred initialization method. When making the change, be mindful of axis order changes: https://pyproj4.github.io/pyproj/stable/gotchas.html#axis-order-changes-in-proj-6\n",
      "  projstring = _prepare_from_string(\" \".join((projstring, projkwargs)))\n",
      "C:\\Users\\gandalf\\anaconda3\\envs\\radar\\lib\\site-packages\\pyproj\\crs\\crs.py:53: FutureWarning: '+init=<authority>:<code>' syntax is deprecated. '<authority>:<code>' is the preferred initialization method. When making the change, be mindful of axis order changes: https://pyproj4.github.io/pyproj/stable/gotchas.html#axis-order-changes-in-proj-6\n",
      "  return _prepare_from_string(\" \".join(pjargs))\n",
      "C:\\Users\\gandalf\\anaconda3\\envs\\radar\\lib\\site-packages\\pyproj\\crs\\crs.py:294: FutureWarning: '+init=<authority>:<code>' syntax is deprecated. '<authority>:<code>' is the preferred initialization method. When making the change, be mindful of axis order changes: https://pyproj4.github.io/pyproj/stable/gotchas.html#axis-order-changes-in-proj-6\n",
      "  projstring = _prepare_from_string(\" \".join((projstring, projkwargs)))\n",
      "C:\\Users\\gandalf\\anaconda3\\envs\\radar\\lib\\site-packages\\cartopy\\mpl\\geoaxes.py:1366: UserWarning: The following kwargs were not used by contour: 'linestyle'\n",
      "  result = matplotlib.axes.Axes.contour(self, *args, **kwargs)\n"
     ]
    },
    {
     "name": "stdout",
     "output_type": "stream",
     "text": [
      "Testfig Saved\n"
     ]
    },
    {
     "name": "stderr",
     "output_type": "stream",
     "text": [
      "C:\\Users\\gandalf\\Documents\\Python Scripts\\SPORK-SPIN-master\\SPORK-SPIN-master\\arcalg_figure4.py:555: RuntimeWarning: invalid value encountered in true_divide\n",
      "  shaped_ang = (180-np.abs(shaped_ang))*(shaped_ang/np.abs(shaped_ang))\n"
     ]
    },
    {
     "name": "stdout",
     "output_type": "stream",
     "text": [
      "Figure Saved\n",
      "in loop\n",
      "19\n",
      "in loop\n",
      "19\n",
      "in loop\n",
      "19\n",
      "in loop\n",
      "19\n",
      "in loop\n",
      "19\n",
      "in loop\n",
      "19\n",
      "in loop\n",
      "19\n",
      "in loop\n",
      "19\n",
      "in loop\n",
      "19\n",
      "File Reading\n",
      "in loop\n",
      "19\n",
      "Pre-grid Organization Section\n",
      "KDP Section\n",
      "Grid Section\n"
     ]
    },
    {
     "name": "stderr",
     "output_type": "stream",
     "text": [
      "C:\\Users\\gandalf\\anaconda3\\envs\\radar\\lib\\site-packages\\pyart\\map\\gates_to_grid.py:160: DeprecationWarning: Barnes weighting function is deprecated. Please use Barnes 2 to be consistent with Pauley and Wu 1990.\n",
      "  warnings.warn(\"Barnes weighting function is deprecated.\"\n"
     ]
    },
    {
     "name": "stdout",
     "output_type": "stream",
     "text": [
      "Gradient Analysis and Masking\n",
      "(-96.0787353515625, 28.471900939941406, <cartopy.crs.PlateCarree object at 0x000001A91B06D770>)\n"
     ]
    },
    {
     "name": "stderr",
     "output_type": "stream",
     "text": [
      "C:\\Users\\gandalf\\anaconda3\\envs\\radar\\lib\\site-packages\\pyproj\\crs\\crs.py:53: FutureWarning: '+init=<authority>:<code>' syntax is deprecated. '<authority>:<code>' is the preferred initialization method. When making the change, be mindful of axis order changes: https://pyproj4.github.io/pyproj/stable/gotchas.html#axis-order-changes-in-proj-6\n",
      "  return _prepare_from_string(\" \".join(pjargs))\n",
      "C:\\Users\\gandalf\\anaconda3\\envs\\radar\\lib\\site-packages\\pyproj\\crs\\crs.py:294: FutureWarning: '+init=<authority>:<code>' syntax is deprecated. '<authority>:<code>' is the preferred initialization method. When making the change, be mindful of axis order changes: https://pyproj4.github.io/pyproj/stable/gotchas.html#axis-order-changes-in-proj-6\n",
      "  projstring = _prepare_from_string(\" \".join((projstring, projkwargs)))\n",
      "C:\\Users\\gandalf\\anaconda3\\envs\\radar\\lib\\site-packages\\pyproj\\crs\\crs.py:53: FutureWarning: '+init=<authority>:<code>' syntax is deprecated. '<authority>:<code>' is the preferred initialization method. When making the change, be mindful of axis order changes: https://pyproj4.github.io/pyproj/stable/gotchas.html#axis-order-changes-in-proj-6\n",
      "  return _prepare_from_string(\" \".join(pjargs))\n",
      "C:\\Users\\gandalf\\anaconda3\\envs\\radar\\lib\\site-packages\\pyproj\\crs\\crs.py:294: FutureWarning: '+init=<authority>:<code>' syntax is deprecated. '<authority>:<code>' is the preferred initialization method. When making the change, be mindful of axis order changes: https://pyproj4.github.io/pyproj/stable/gotchas.html#axis-order-changes-in-proj-6\n",
      "  projstring = _prepare_from_string(\" \".join((projstring, projkwargs)))\n",
      "C:\\Users\\gandalf\\anaconda3\\envs\\radar\\lib\\site-packages\\cartopy\\mpl\\geoaxes.py:1366: UserWarning: The following kwargs were not used by contour: 'linestyle'\n",
      "  result = matplotlib.axes.Axes.contour(self, *args, **kwargs)\n"
     ]
    },
    {
     "name": "stdout",
     "output_type": "stream",
     "text": [
      "Testfig Saved\n"
     ]
    },
    {
     "name": "stderr",
     "output_type": "stream",
     "text": [
      "C:\\Users\\gandalf\\Documents\\Python Scripts\\SPORK-SPIN-master\\SPORK-SPIN-master\\arcalg_figure4.py:555: RuntimeWarning: invalid value encountered in true_divide\n",
      "  shaped_ang = (180-np.abs(shaped_ang))*(shaped_ang/np.abs(shaped_ang))\n"
     ]
    },
    {
     "name": "stdout",
     "output_type": "stream",
     "text": [
      "Figure Saved\n",
      "in loop\n",
      "19\n",
      "in loop\n",
      "19\n",
      "in loop\n",
      "19\n",
      "in loop\n",
      "19\n",
      "in loop\n",
      "19\n",
      "in loop\n",
      "19\n",
      "in loop\n",
      "19\n",
      "in loop\n",
      "19\n",
      "in loop\n",
      "19\n",
      "Pre-grid Organization Section\n",
      "KDP Section\n",
      "Grid Section\n"
     ]
    },
    {
     "name": "stderr",
     "output_type": "stream",
     "text": [
      "C:\\Users\\gandalf\\anaconda3\\envs\\radar\\lib\\site-packages\\pyart\\map\\gates_to_grid.py:160: DeprecationWarning: Barnes weighting function is deprecated. Please use Barnes 2 to be consistent with Pauley and Wu 1990.\n",
      "  warnings.warn(\"Barnes weighting function is deprecated.\"\n"
     ]
    },
    {
     "name": "stdout",
     "output_type": "stream",
     "text": [
      "Gradient Analysis and Masking\n",
      "(-96.0787353515625, 28.471900939941406, <cartopy.crs.PlateCarree object at 0x000001A91696E7C0>)\n"
     ]
    },
    {
     "name": "stderr",
     "output_type": "stream",
     "text": [
      "C:\\Users\\gandalf\\anaconda3\\envs\\radar\\lib\\site-packages\\pyproj\\crs\\crs.py:53: FutureWarning: '+init=<authority>:<code>' syntax is deprecated. '<authority>:<code>' is the preferred initialization method. When making the change, be mindful of axis order changes: https://pyproj4.github.io/pyproj/stable/gotchas.html#axis-order-changes-in-proj-6\n",
      "  return _prepare_from_string(\" \".join(pjargs))\n",
      "C:\\Users\\gandalf\\anaconda3\\envs\\radar\\lib\\site-packages\\pyproj\\crs\\crs.py:294: FutureWarning: '+init=<authority>:<code>' syntax is deprecated. '<authority>:<code>' is the preferred initialization method. When making the change, be mindful of axis order changes: https://pyproj4.github.io/pyproj/stable/gotchas.html#axis-order-changes-in-proj-6\n",
      "  projstring = _prepare_from_string(\" \".join((projstring, projkwargs)))\n",
      "C:\\Users\\gandalf\\anaconda3\\envs\\radar\\lib\\site-packages\\pyproj\\crs\\crs.py:53: FutureWarning: '+init=<authority>:<code>' syntax is deprecated. '<authority>:<code>' is the preferred initialization method. When making the change, be mindful of axis order changes: https://pyproj4.github.io/pyproj/stable/gotchas.html#axis-order-changes-in-proj-6\n",
      "  return _prepare_from_string(\" \".join(pjargs))\n",
      "C:\\Users\\gandalf\\anaconda3\\envs\\radar\\lib\\site-packages\\pyproj\\crs\\crs.py:294: FutureWarning: '+init=<authority>:<code>' syntax is deprecated. '<authority>:<code>' is the preferred initialization method. When making the change, be mindful of axis order changes: https://pyproj4.github.io/pyproj/stable/gotchas.html#axis-order-changes-in-proj-6\n",
      "  projstring = _prepare_from_string(\" \".join((projstring, projkwargs)))\n",
      "C:\\Users\\gandalf\\anaconda3\\envs\\radar\\lib\\site-packages\\cartopy\\mpl\\geoaxes.py:1366: UserWarning: The following kwargs were not used by contour: 'linestyle'\n",
      "  result = matplotlib.axes.Axes.contour(self, *args, **kwargs)\n"
     ]
    },
    {
     "name": "stdout",
     "output_type": "stream",
     "text": [
      "Testfig Saved\n"
     ]
    },
    {
     "name": "stderr",
     "output_type": "stream",
     "text": [
      "C:\\Users\\gandalf\\Documents\\Python Scripts\\SPORK-SPIN-master\\SPORK-SPIN-master\\arcalg_figure4.py:555: RuntimeWarning: invalid value encountered in true_divide\n",
      "  shaped_ang = (180-np.abs(shaped_ang))*(shaped_ang/np.abs(shaped_ang))\n"
     ]
    },
    {
     "name": "stdout",
     "output_type": "stream",
     "text": [
      "Figure Saved\n",
      "in loop\n",
      "19\n",
      "in loop\n",
      "19\n",
      "in loop\n",
      "19\n",
      "in loop\n",
      "19\n",
      "in loop\n",
      "19\n",
      "in loop\n",
      "19\n",
      "in loop\n",
      "19\n",
      "in loop\n",
      "19\n",
      "in loop\n",
      "19\n",
      "File Reading\n",
      "in loop\n",
      "19\n",
      "Pre-grid Organization Section\n",
      "KDP Section\n",
      "Grid Section\n"
     ]
    },
    {
     "name": "stderr",
     "output_type": "stream",
     "text": [
      "C:\\Users\\gandalf\\anaconda3\\envs\\radar\\lib\\site-packages\\pyart\\map\\gates_to_grid.py:160: DeprecationWarning: Barnes weighting function is deprecated. Please use Barnes 2 to be consistent with Pauley and Wu 1990.\n",
      "  warnings.warn(\"Barnes weighting function is deprecated.\"\n"
     ]
    },
    {
     "name": "stdout",
     "output_type": "stream",
     "text": [
      "Gradient Analysis and Masking\n",
      "(-96.0787353515625, 28.471900939941406, <cartopy.crs.PlateCarree object at 0x000001A91696E860>)\n"
     ]
    },
    {
     "name": "stderr",
     "output_type": "stream",
     "text": [
      "C:\\Users\\gandalf\\anaconda3\\envs\\radar\\lib\\site-packages\\pyproj\\crs\\crs.py:53: FutureWarning: '+init=<authority>:<code>' syntax is deprecated. '<authority>:<code>' is the preferred initialization method. When making the change, be mindful of axis order changes: https://pyproj4.github.io/pyproj/stable/gotchas.html#axis-order-changes-in-proj-6\n",
      "  return _prepare_from_string(\" \".join(pjargs))\n",
      "C:\\Users\\gandalf\\anaconda3\\envs\\radar\\lib\\site-packages\\pyproj\\crs\\crs.py:294: FutureWarning: '+init=<authority>:<code>' syntax is deprecated. '<authority>:<code>' is the preferred initialization method. When making the change, be mindful of axis order changes: https://pyproj4.github.io/pyproj/stable/gotchas.html#axis-order-changes-in-proj-6\n",
      "  projstring = _prepare_from_string(\" \".join((projstring, projkwargs)))\n",
      "C:\\Users\\gandalf\\anaconda3\\envs\\radar\\lib\\site-packages\\pyproj\\crs\\crs.py:53: FutureWarning: '+init=<authority>:<code>' syntax is deprecated. '<authority>:<code>' is the preferred initialization method. When making the change, be mindful of axis order changes: https://pyproj4.github.io/pyproj/stable/gotchas.html#axis-order-changes-in-proj-6\n",
      "  return _prepare_from_string(\" \".join(pjargs))\n",
      "C:\\Users\\gandalf\\anaconda3\\envs\\radar\\lib\\site-packages\\pyproj\\crs\\crs.py:294: FutureWarning: '+init=<authority>:<code>' syntax is deprecated. '<authority>:<code>' is the preferred initialization method. When making the change, be mindful of axis order changes: https://pyproj4.github.io/pyproj/stable/gotchas.html#axis-order-changes-in-proj-6\n",
      "  projstring = _prepare_from_string(\" \".join((projstring, projkwargs)))\n",
      "C:\\Users\\gandalf\\anaconda3\\envs\\radar\\lib\\site-packages\\cartopy\\mpl\\geoaxes.py:1366: UserWarning: The following kwargs were not used by contour: 'linestyle'\n",
      "  result = matplotlib.axes.Axes.contour(self, *args, **kwargs)\n"
     ]
    },
    {
     "name": "stdout",
     "output_type": "stream",
     "text": [
      "Testfig Saved\n"
     ]
    },
    {
     "name": "stderr",
     "output_type": "stream",
     "text": [
      "C:\\Users\\gandalf\\Documents\\Python Scripts\\SPORK-SPIN-master\\SPORK-SPIN-master\\arcalg_figure4.py:555: RuntimeWarning: invalid value encountered in true_divide\n",
      "  shaped_ang = (180-np.abs(shaped_ang))*(shaped_ang/np.abs(shaped_ang))\n"
     ]
    },
    {
     "name": "stdout",
     "output_type": "stream",
     "text": [
      "Figure Saved\n",
      "in loop\n",
      "19\n",
      "in loop\n",
      "19\n",
      "in loop\n",
      "19\n",
      "in loop\n",
      "19\n",
      "in loop\n",
      "19\n",
      "in loop\n",
      "19\n",
      "in loop\n",
      "19\n",
      "in loop\n",
      "19\n",
      "in loop\n",
      "19\n",
      "Pre-grid Organization Section\n",
      "KDP Section\n",
      "Grid Section\n"
     ]
    },
    {
     "name": "stderr",
     "output_type": "stream",
     "text": [
      "C:\\Users\\gandalf\\anaconda3\\envs\\radar\\lib\\site-packages\\pyart\\map\\gates_to_grid.py:160: DeprecationWarning: Barnes weighting function is deprecated. Please use Barnes 2 to be consistent with Pauley and Wu 1990.\n",
      "  warnings.warn(\"Barnes weighting function is deprecated.\"\n"
     ]
    },
    {
     "name": "stdout",
     "output_type": "stream",
     "text": [
      "Gradient Analysis and Masking\n",
      "(-96.0787353515625, 28.471900939941406, <cartopy.crs.PlateCarree object at 0x000001A91D636EA0>)\n"
     ]
    },
    {
     "name": "stderr",
     "output_type": "stream",
     "text": [
      "C:\\Users\\gandalf\\anaconda3\\envs\\radar\\lib\\site-packages\\pyproj\\crs\\crs.py:53: FutureWarning: '+init=<authority>:<code>' syntax is deprecated. '<authority>:<code>' is the preferred initialization method. When making the change, be mindful of axis order changes: https://pyproj4.github.io/pyproj/stable/gotchas.html#axis-order-changes-in-proj-6\n",
      "  return _prepare_from_string(\" \".join(pjargs))\n",
      "C:\\Users\\gandalf\\anaconda3\\envs\\radar\\lib\\site-packages\\pyproj\\crs\\crs.py:294: FutureWarning: '+init=<authority>:<code>' syntax is deprecated. '<authority>:<code>' is the preferred initialization method. When making the change, be mindful of axis order changes: https://pyproj4.github.io/pyproj/stable/gotchas.html#axis-order-changes-in-proj-6\n",
      "  projstring = _prepare_from_string(\" \".join((projstring, projkwargs)))\n",
      "C:\\Users\\gandalf\\anaconda3\\envs\\radar\\lib\\site-packages\\pyproj\\crs\\crs.py:53: FutureWarning: '+init=<authority>:<code>' syntax is deprecated. '<authority>:<code>' is the preferred initialization method. When making the change, be mindful of axis order changes: https://pyproj4.github.io/pyproj/stable/gotchas.html#axis-order-changes-in-proj-6\n",
      "  return _prepare_from_string(\" \".join(pjargs))\n",
      "C:\\Users\\gandalf\\anaconda3\\envs\\radar\\lib\\site-packages\\pyproj\\crs\\crs.py:294: FutureWarning: '+init=<authority>:<code>' syntax is deprecated. '<authority>:<code>' is the preferred initialization method. When making the change, be mindful of axis order changes: https://pyproj4.github.io/pyproj/stable/gotchas.html#axis-order-changes-in-proj-6\n",
      "  projstring = _prepare_from_string(\" \".join((projstring, projkwargs)))\n",
      "C:\\Users\\gandalf\\anaconda3\\envs\\radar\\lib\\site-packages\\cartopy\\mpl\\geoaxes.py:1366: UserWarning: The following kwargs were not used by contour: 'linestyle'\n",
      "  result = matplotlib.axes.Axes.contour(self, *args, **kwargs)\n"
     ]
    },
    {
     "name": "stdout",
     "output_type": "stream",
     "text": [
      "Testfig Saved\n"
     ]
    },
    {
     "name": "stderr",
     "output_type": "stream",
     "text": [
      "C:\\Users\\gandalf\\Documents\\Python Scripts\\SPORK-SPIN-master\\SPORK-SPIN-master\\arcalg_figure4.py:555: RuntimeWarning: invalid value encountered in true_divide\n",
      "  shaped_ang = (180-np.abs(shaped_ang))*(shaped_ang/np.abs(shaped_ang))\n"
     ]
    },
    {
     "name": "stdout",
     "output_type": "stream",
     "text": [
      "Figure Saved\n",
      "in loop\n",
      "19\n",
      "in loop\n",
      "19\n",
      "in loop\n",
      "19\n",
      "in loop\n",
      "19\n",
      "in loop\n",
      "19\n",
      "in loop\n",
      "19\n",
      "in loop\n",
      "19\n",
      "in loop\n",
      "19\n",
      "in loop\n",
      "19\n",
      "File Reading\n",
      "in loop\n",
      "19\n",
      "Pre-grid Organization Section\n",
      "KDP Section\n",
      "Grid Section\n"
     ]
    },
    {
     "name": "stderr",
     "output_type": "stream",
     "text": [
      "C:\\Users\\gandalf\\anaconda3\\envs\\radar\\lib\\site-packages\\pyart\\map\\gates_to_grid.py:160: DeprecationWarning: Barnes weighting function is deprecated. Please use Barnes 2 to be consistent with Pauley and Wu 1990.\n",
      "  warnings.warn(\"Barnes weighting function is deprecated.\"\n"
     ]
    },
    {
     "name": "stdout",
     "output_type": "stream",
     "text": [
      "Gradient Analysis and Masking\n",
      "(-96.0787353515625, 28.471900939941406, <cartopy.crs.PlateCarree object at 0x000001A91D686D10>)\n"
     ]
    },
    {
     "name": "stderr",
     "output_type": "stream",
     "text": [
      "C:\\Users\\gandalf\\anaconda3\\envs\\radar\\lib\\site-packages\\pyproj\\crs\\crs.py:53: FutureWarning: '+init=<authority>:<code>' syntax is deprecated. '<authority>:<code>' is the preferred initialization method. When making the change, be mindful of axis order changes: https://pyproj4.github.io/pyproj/stable/gotchas.html#axis-order-changes-in-proj-6\n",
      "  return _prepare_from_string(\" \".join(pjargs))\n",
      "C:\\Users\\gandalf\\anaconda3\\envs\\radar\\lib\\site-packages\\pyproj\\crs\\crs.py:294: FutureWarning: '+init=<authority>:<code>' syntax is deprecated. '<authority>:<code>' is the preferred initialization method. When making the change, be mindful of axis order changes: https://pyproj4.github.io/pyproj/stable/gotchas.html#axis-order-changes-in-proj-6\n",
      "  projstring = _prepare_from_string(\" \".join((projstring, projkwargs)))\n",
      "C:\\Users\\gandalf\\anaconda3\\envs\\radar\\lib\\site-packages\\pyproj\\crs\\crs.py:53: FutureWarning: '+init=<authority>:<code>' syntax is deprecated. '<authority>:<code>' is the preferred initialization method. When making the change, be mindful of axis order changes: https://pyproj4.github.io/pyproj/stable/gotchas.html#axis-order-changes-in-proj-6\n",
      "  return _prepare_from_string(\" \".join(pjargs))\n",
      "C:\\Users\\gandalf\\anaconda3\\envs\\radar\\lib\\site-packages\\pyproj\\crs\\crs.py:294: FutureWarning: '+init=<authority>:<code>' syntax is deprecated. '<authority>:<code>' is the preferred initialization method. When making the change, be mindful of axis order changes: https://pyproj4.github.io/pyproj/stable/gotchas.html#axis-order-changes-in-proj-6\n",
      "  projstring = _prepare_from_string(\" \".join((projstring, projkwargs)))\n",
      "C:\\Users\\gandalf\\anaconda3\\envs\\radar\\lib\\site-packages\\cartopy\\mpl\\geoaxes.py:1366: UserWarning: The following kwargs were not used by contour: 'linestyle'\n",
      "  result = matplotlib.axes.Axes.contour(self, *args, **kwargs)\n"
     ]
    },
    {
     "name": "stdout",
     "output_type": "stream",
     "text": [
      "Testfig Saved\n"
     ]
    },
    {
     "name": "stderr",
     "output_type": "stream",
     "text": [
      "C:\\Users\\gandalf\\Documents\\Python Scripts\\SPORK-SPIN-master\\SPORK-SPIN-master\\arcalg_figure4.py:555: RuntimeWarning: invalid value encountered in true_divide\n",
      "  shaped_ang = (180-np.abs(shaped_ang))*(shaped_ang/np.abs(shaped_ang))\n"
     ]
    },
    {
     "name": "stdout",
     "output_type": "stream",
     "text": [
      "Figure Saved\n",
      "in loop\n",
      "19\n",
      "in loop\n",
      "19\n",
      "in loop\n",
      "19\n",
      "in loop\n",
      "19\n",
      "in loop\n",
      "19\n",
      "in loop\n",
      "19\n",
      "in loop\n",
      "19\n",
      "in loop\n",
      "19\n",
      "in loop\n",
      "19\n",
      "Pre-grid Organization Section\n",
      "KDP Section\n",
      "Grid Section\n"
     ]
    },
    {
     "name": "stderr",
     "output_type": "stream",
     "text": [
      "C:\\Users\\gandalf\\anaconda3\\envs\\radar\\lib\\site-packages\\pyart\\map\\gates_to_grid.py:160: DeprecationWarning: Barnes weighting function is deprecated. Please use Barnes 2 to be consistent with Pauley and Wu 1990.\n",
      "  warnings.warn(\"Barnes weighting function is deprecated.\"\n"
     ]
    },
    {
     "name": "stdout",
     "output_type": "stream",
     "text": [
      "Gradient Analysis and Masking\n",
      "(-96.0787353515625, 28.471900939941406, <cartopy.crs.PlateCarree object at 0x000001A93B387DB0>)\n"
     ]
    },
    {
     "name": "stderr",
     "output_type": "stream",
     "text": [
      "C:\\Users\\gandalf\\anaconda3\\envs\\radar\\lib\\site-packages\\pyproj\\crs\\crs.py:53: FutureWarning: '+init=<authority>:<code>' syntax is deprecated. '<authority>:<code>' is the preferred initialization method. When making the change, be mindful of axis order changes: https://pyproj4.github.io/pyproj/stable/gotchas.html#axis-order-changes-in-proj-6\n",
      "  return _prepare_from_string(\" \".join(pjargs))\n",
      "C:\\Users\\gandalf\\anaconda3\\envs\\radar\\lib\\site-packages\\pyproj\\crs\\crs.py:294: FutureWarning: '+init=<authority>:<code>' syntax is deprecated. '<authority>:<code>' is the preferred initialization method. When making the change, be mindful of axis order changes: https://pyproj4.github.io/pyproj/stable/gotchas.html#axis-order-changes-in-proj-6\n",
      "  projstring = _prepare_from_string(\" \".join((projstring, projkwargs)))\n",
      "C:\\Users\\gandalf\\anaconda3\\envs\\radar\\lib\\site-packages\\pyproj\\crs\\crs.py:53: FutureWarning: '+init=<authority>:<code>' syntax is deprecated. '<authority>:<code>' is the preferred initialization method. When making the change, be mindful of axis order changes: https://pyproj4.github.io/pyproj/stable/gotchas.html#axis-order-changes-in-proj-6\n",
      "  return _prepare_from_string(\" \".join(pjargs))\n",
      "C:\\Users\\gandalf\\anaconda3\\envs\\radar\\lib\\site-packages\\pyproj\\crs\\crs.py:294: FutureWarning: '+init=<authority>:<code>' syntax is deprecated. '<authority>:<code>' is the preferred initialization method. When making the change, be mindful of axis order changes: https://pyproj4.github.io/pyproj/stable/gotchas.html#axis-order-changes-in-proj-6\n",
      "  projstring = _prepare_from_string(\" \".join((projstring, projkwargs)))\n",
      "C:\\Users\\gandalf\\anaconda3\\envs\\radar\\lib\\site-packages\\cartopy\\mpl\\geoaxes.py:1366: UserWarning: The following kwargs were not used by contour: 'linestyle'\n",
      "  result = matplotlib.axes.Axes.contour(self, *args, **kwargs)\n"
     ]
    },
    {
     "name": "stdout",
     "output_type": "stream",
     "text": [
      "Testfig Saved\n"
     ]
    },
    {
     "name": "stderr",
     "output_type": "stream",
     "text": [
      "C:\\Users\\gandalf\\Documents\\Python Scripts\\SPORK-SPIN-master\\SPORK-SPIN-master\\arcalg_figure4.py:555: RuntimeWarning: invalid value encountered in true_divide\n",
      "  shaped_ang = (180-np.abs(shaped_ang))*(shaped_ang/np.abs(shaped_ang))\n"
     ]
    },
    {
     "name": "stdout",
     "output_type": "stream",
     "text": [
      "Figure Saved\n",
      "in loop\n",
      "19\n",
      "in loop\n",
      "19\n",
      "in loop\n",
      "19\n",
      "in loop\n",
      "19\n",
      "in loop\n",
      "19\n",
      "in loop\n",
      "19\n",
      "in loop\n",
      "19\n",
      "in loop\n",
      "19\n",
      "in loop\n",
      "19\n",
      "File Reading\n",
      "in loop\n",
      "19\n",
      "Pre-grid Organization Section\n",
      "KDP Section\n",
      "Grid Section\n"
     ]
    },
    {
     "name": "stderr",
     "output_type": "stream",
     "text": [
      "C:\\Users\\gandalf\\anaconda3\\envs\\radar\\lib\\site-packages\\pyart\\map\\gates_to_grid.py:160: DeprecationWarning: Barnes weighting function is deprecated. Please use Barnes 2 to be consistent with Pauley and Wu 1990.\n",
      "  warnings.warn(\"Barnes weighting function is deprecated.\"\n"
     ]
    },
    {
     "name": "stdout",
     "output_type": "stream",
     "text": [
      "Gradient Analysis and Masking\n",
      "(-96.0787353515625, 28.471900939941406, <cartopy.crs.PlateCarree object at 0x000001A900D6A860>)\n"
     ]
    },
    {
     "name": "stderr",
     "output_type": "stream",
     "text": [
      "C:\\Users\\gandalf\\anaconda3\\envs\\radar\\lib\\site-packages\\pyproj\\crs\\crs.py:53: FutureWarning: '+init=<authority>:<code>' syntax is deprecated. '<authority>:<code>' is the preferred initialization method. When making the change, be mindful of axis order changes: https://pyproj4.github.io/pyproj/stable/gotchas.html#axis-order-changes-in-proj-6\n",
      "  return _prepare_from_string(\" \".join(pjargs))\n",
      "C:\\Users\\gandalf\\anaconda3\\envs\\radar\\lib\\site-packages\\pyproj\\crs\\crs.py:294: FutureWarning: '+init=<authority>:<code>' syntax is deprecated. '<authority>:<code>' is the preferred initialization method. When making the change, be mindful of axis order changes: https://pyproj4.github.io/pyproj/stable/gotchas.html#axis-order-changes-in-proj-6\n",
      "  projstring = _prepare_from_string(\" \".join((projstring, projkwargs)))\n",
      "C:\\Users\\gandalf\\anaconda3\\envs\\radar\\lib\\site-packages\\pyproj\\crs\\crs.py:53: FutureWarning: '+init=<authority>:<code>' syntax is deprecated. '<authority>:<code>' is the preferred initialization method. When making the change, be mindful of axis order changes: https://pyproj4.github.io/pyproj/stable/gotchas.html#axis-order-changes-in-proj-6\n",
      "  return _prepare_from_string(\" \".join(pjargs))\n",
      "C:\\Users\\gandalf\\anaconda3\\envs\\radar\\lib\\site-packages\\pyproj\\crs\\crs.py:294: FutureWarning: '+init=<authority>:<code>' syntax is deprecated. '<authority>:<code>' is the preferred initialization method. When making the change, be mindful of axis order changes: https://pyproj4.github.io/pyproj/stable/gotchas.html#axis-order-changes-in-proj-6\n",
      "  projstring = _prepare_from_string(\" \".join((projstring, projkwargs)))\n",
      "C:\\Users\\gandalf\\anaconda3\\envs\\radar\\lib\\site-packages\\cartopy\\mpl\\geoaxes.py:1366: UserWarning: The following kwargs were not used by contour: 'linestyle'\n",
      "  result = matplotlib.axes.Axes.contour(self, *args, **kwargs)\n"
     ]
    },
    {
     "name": "stdout",
     "output_type": "stream",
     "text": [
      "Testfig Saved\n"
     ]
    },
    {
     "name": "stderr",
     "output_type": "stream",
     "text": [
      "C:\\Users\\gandalf\\Documents\\Python Scripts\\SPORK-SPIN-master\\SPORK-SPIN-master\\arcalg_figure4.py:555: RuntimeWarning: invalid value encountered in true_divide\n",
      "  shaped_ang = (180-np.abs(shaped_ang))*(shaped_ang/np.abs(shaped_ang))\n"
     ]
    },
    {
     "name": "stdout",
     "output_type": "stream",
     "text": [
      "Figure Saved\n",
      "in loop\n",
      "19\n",
      "in loop\n",
      "19\n",
      "in loop\n",
      "19\n",
      "in loop\n",
      "19\n",
      "in loop\n",
      "19\n",
      "in loop\n",
      "19\n",
      "in loop\n",
      "19\n",
      "in loop\n",
      "19\n",
      "in loop\n",
      "19\n",
      "Pre-grid Organization Section\n",
      "KDP Section\n",
      "Grid Section\n"
     ]
    },
    {
     "name": "stderr",
     "output_type": "stream",
     "text": [
      "C:\\Users\\gandalf\\anaconda3\\envs\\radar\\lib\\site-packages\\pyart\\map\\gates_to_grid.py:160: DeprecationWarning: Barnes weighting function is deprecated. Please use Barnes 2 to be consistent with Pauley and Wu 1990.\n",
      "  warnings.warn(\"Barnes weighting function is deprecated.\"\n"
     ]
    },
    {
     "name": "stdout",
     "output_type": "stream",
     "text": [
      "Gradient Analysis and Masking\n",
      "(-96.0787353515625, 28.471900939941406, <cartopy.crs.PlateCarree object at 0x000001A93B387C20>)\n"
     ]
    },
    {
     "name": "stderr",
     "output_type": "stream",
     "text": [
      "C:\\Users\\gandalf\\anaconda3\\envs\\radar\\lib\\site-packages\\pyproj\\crs\\crs.py:53: FutureWarning: '+init=<authority>:<code>' syntax is deprecated. '<authority>:<code>' is the preferred initialization method. When making the change, be mindful of axis order changes: https://pyproj4.github.io/pyproj/stable/gotchas.html#axis-order-changes-in-proj-6\n",
      "  return _prepare_from_string(\" \".join(pjargs))\n",
      "C:\\Users\\gandalf\\anaconda3\\envs\\radar\\lib\\site-packages\\pyproj\\crs\\crs.py:294: FutureWarning: '+init=<authority>:<code>' syntax is deprecated. '<authority>:<code>' is the preferred initialization method. When making the change, be mindful of axis order changes: https://pyproj4.github.io/pyproj/stable/gotchas.html#axis-order-changes-in-proj-6\n",
      "  projstring = _prepare_from_string(\" \".join((projstring, projkwargs)))\n",
      "C:\\Users\\gandalf\\anaconda3\\envs\\radar\\lib\\site-packages\\pyproj\\crs\\crs.py:53: FutureWarning: '+init=<authority>:<code>' syntax is deprecated. '<authority>:<code>' is the preferred initialization method. When making the change, be mindful of axis order changes: https://pyproj4.github.io/pyproj/stable/gotchas.html#axis-order-changes-in-proj-6\n",
      "  return _prepare_from_string(\" \".join(pjargs))\n",
      "C:\\Users\\gandalf\\anaconda3\\envs\\radar\\lib\\site-packages\\pyproj\\crs\\crs.py:294: FutureWarning: '+init=<authority>:<code>' syntax is deprecated. '<authority>:<code>' is the preferred initialization method. When making the change, be mindful of axis order changes: https://pyproj4.github.io/pyproj/stable/gotchas.html#axis-order-changes-in-proj-6\n",
      "  projstring = _prepare_from_string(\" \".join((projstring, projkwargs)))\n",
      "C:\\Users\\gandalf\\anaconda3\\envs\\radar\\lib\\site-packages\\cartopy\\mpl\\geoaxes.py:1366: UserWarning: The following kwargs were not used by contour: 'linestyle'\n",
      "  result = matplotlib.axes.Axes.contour(self, *args, **kwargs)\n"
     ]
    },
    {
     "name": "stdout",
     "output_type": "stream",
     "text": [
      "Testfig Saved\n"
     ]
    },
    {
     "name": "stderr",
     "output_type": "stream",
     "text": [
      "C:\\Users\\gandalf\\Documents\\Python Scripts\\SPORK-SPIN-master\\SPORK-SPIN-master\\arcalg_figure4.py:555: RuntimeWarning: invalid value encountered in true_divide\n",
      "  shaped_ang = (180-np.abs(shaped_ang))*(shaped_ang/np.abs(shaped_ang))\n"
     ]
    },
    {
     "name": "stdout",
     "output_type": "stream",
     "text": [
      "Figure Saved\n",
      "in loop\n",
      "19\n",
      "in loop\n",
      "19\n",
      "in loop\n",
      "19\n",
      "in loop\n",
      "19\n",
      "in loop\n",
      "19\n",
      "in loop\n",
      "19\n",
      "in loop\n",
      "19\n",
      "in loop\n",
      "19\n",
      "in loop\n",
      "19\n",
      "File Reading\n",
      "in loop\n",
      "19\n",
      "Pre-grid Organization Section\n",
      "KDP Section\n",
      "Grid Section\n"
     ]
    },
    {
     "name": "stderr",
     "output_type": "stream",
     "text": [
      "C:\\Users\\gandalf\\anaconda3\\envs\\radar\\lib\\site-packages\\pyart\\map\\gates_to_grid.py:160: DeprecationWarning: Barnes weighting function is deprecated. Please use Barnes 2 to be consistent with Pauley and Wu 1990.\n",
      "  warnings.warn(\"Barnes weighting function is deprecated.\"\n"
     ]
    },
    {
     "name": "stdout",
     "output_type": "stream",
     "text": [
      "Gradient Analysis and Masking\n",
      "(-96.0787353515625, 28.471900939941406, <cartopy.crs.PlateCarree object at 0x000001A93B387F40>)\n"
     ]
    },
    {
     "name": "stderr",
     "output_type": "stream",
     "text": [
      "C:\\Users\\gandalf\\anaconda3\\envs\\radar\\lib\\site-packages\\pyproj\\crs\\crs.py:53: FutureWarning: '+init=<authority>:<code>' syntax is deprecated. '<authority>:<code>' is the preferred initialization method. When making the change, be mindful of axis order changes: https://pyproj4.github.io/pyproj/stable/gotchas.html#axis-order-changes-in-proj-6\n",
      "  return _prepare_from_string(\" \".join(pjargs))\n",
      "C:\\Users\\gandalf\\anaconda3\\envs\\radar\\lib\\site-packages\\pyproj\\crs\\crs.py:294: FutureWarning: '+init=<authority>:<code>' syntax is deprecated. '<authority>:<code>' is the preferred initialization method. When making the change, be mindful of axis order changes: https://pyproj4.github.io/pyproj/stable/gotchas.html#axis-order-changes-in-proj-6\n",
      "  projstring = _prepare_from_string(\" \".join((projstring, projkwargs)))\n",
      "C:\\Users\\gandalf\\anaconda3\\envs\\radar\\lib\\site-packages\\pyproj\\crs\\crs.py:53: FutureWarning: '+init=<authority>:<code>' syntax is deprecated. '<authority>:<code>' is the preferred initialization method. When making the change, be mindful of axis order changes: https://pyproj4.github.io/pyproj/stable/gotchas.html#axis-order-changes-in-proj-6\n",
      "  return _prepare_from_string(\" \".join(pjargs))\n",
      "C:\\Users\\gandalf\\anaconda3\\envs\\radar\\lib\\site-packages\\pyproj\\crs\\crs.py:294: FutureWarning: '+init=<authority>:<code>' syntax is deprecated. '<authority>:<code>' is the preferred initialization method. When making the change, be mindful of axis order changes: https://pyproj4.github.io/pyproj/stable/gotchas.html#axis-order-changes-in-proj-6\n",
      "  projstring = _prepare_from_string(\" \".join((projstring, projkwargs)))\n",
      "C:\\Users\\gandalf\\anaconda3\\envs\\radar\\lib\\site-packages\\cartopy\\mpl\\geoaxes.py:1366: UserWarning: The following kwargs were not used by contour: 'linestyle'\n",
      "  result = matplotlib.axes.Axes.contour(self, *args, **kwargs)\n"
     ]
    },
    {
     "name": "stdout",
     "output_type": "stream",
     "text": [
      "Testfig Saved\n"
     ]
    },
    {
     "name": "stderr",
     "output_type": "stream",
     "text": [
      "C:\\Users\\gandalf\\Documents\\Python Scripts\\SPORK-SPIN-master\\SPORK-SPIN-master\\arcalg_figure4.py:555: RuntimeWarning: invalid value encountered in true_divide\n",
      "  shaped_ang = (180-np.abs(shaped_ang))*(shaped_ang/np.abs(shaped_ang))\n"
     ]
    },
    {
     "name": "stdout",
     "output_type": "stream",
     "text": [
      "Figure Saved\n",
      "in loop\n",
      "19\n",
      "in loop\n",
      "19\n",
      "in loop\n",
      "19\n",
      "in loop\n",
      "19\n",
      "in loop\n",
      "19\n",
      "in loop\n",
      "19\n",
      "in loop\n",
      "19\n",
      "in loop\n",
      "19\n",
      "in loop\n",
      "19\n",
      "Pre-grid Organization Section\n",
      "KDP Section\n",
      "Grid Section\n"
     ]
    },
    {
     "name": "stderr",
     "output_type": "stream",
     "text": [
      "C:\\Users\\gandalf\\anaconda3\\envs\\radar\\lib\\site-packages\\pyart\\map\\gates_to_grid.py:160: DeprecationWarning: Barnes weighting function is deprecated. Please use Barnes 2 to be consistent with Pauley and Wu 1990.\n",
      "  warnings.warn(\"Barnes weighting function is deprecated.\"\n"
     ]
    },
    {
     "name": "stdout",
     "output_type": "stream",
     "text": [
      "Gradient Analysis and Masking\n",
      "(-96.0787353515625, 28.471900939941406, <cartopy.crs.PlateCarree object at 0x000001A91EA4B3B0>)\n"
     ]
    },
    {
     "name": "stderr",
     "output_type": "stream",
     "text": [
      "C:\\Users\\gandalf\\anaconda3\\envs\\radar\\lib\\site-packages\\pyproj\\crs\\crs.py:53: FutureWarning: '+init=<authority>:<code>' syntax is deprecated. '<authority>:<code>' is the preferred initialization method. When making the change, be mindful of axis order changes: https://pyproj4.github.io/pyproj/stable/gotchas.html#axis-order-changes-in-proj-6\n",
      "  return _prepare_from_string(\" \".join(pjargs))\n",
      "C:\\Users\\gandalf\\anaconda3\\envs\\radar\\lib\\site-packages\\pyproj\\crs\\crs.py:294: FutureWarning: '+init=<authority>:<code>' syntax is deprecated. '<authority>:<code>' is the preferred initialization method. When making the change, be mindful of axis order changes: https://pyproj4.github.io/pyproj/stable/gotchas.html#axis-order-changes-in-proj-6\n",
      "  projstring = _prepare_from_string(\" \".join((projstring, projkwargs)))\n",
      "C:\\Users\\gandalf\\anaconda3\\envs\\radar\\lib\\site-packages\\pyproj\\crs\\crs.py:53: FutureWarning: '+init=<authority>:<code>' syntax is deprecated. '<authority>:<code>' is the preferred initialization method. When making the change, be mindful of axis order changes: https://pyproj4.github.io/pyproj/stable/gotchas.html#axis-order-changes-in-proj-6\n",
      "  return _prepare_from_string(\" \".join(pjargs))\n",
      "C:\\Users\\gandalf\\anaconda3\\envs\\radar\\lib\\site-packages\\pyproj\\crs\\crs.py:294: FutureWarning: '+init=<authority>:<code>' syntax is deprecated. '<authority>:<code>' is the preferred initialization method. When making the change, be mindful of axis order changes: https://pyproj4.github.io/pyproj/stable/gotchas.html#axis-order-changes-in-proj-6\n",
      "  projstring = _prepare_from_string(\" \".join((projstring, projkwargs)))\n",
      "C:\\Users\\gandalf\\anaconda3\\envs\\radar\\lib\\site-packages\\cartopy\\mpl\\geoaxes.py:1366: UserWarning: The following kwargs were not used by contour: 'linestyle'\n",
      "  result = matplotlib.axes.Axes.contour(self, *args, **kwargs)\n"
     ]
    },
    {
     "name": "stdout",
     "output_type": "stream",
     "text": [
      "Testfig Saved\n"
     ]
    },
    {
     "name": "stderr",
     "output_type": "stream",
     "text": [
      "C:\\Users\\gandalf\\Documents\\Python Scripts\\SPORK-SPIN-master\\SPORK-SPIN-master\\arcalg_figure4.py:555: RuntimeWarning: invalid value encountered in true_divide\n",
      "  shaped_ang = (180-np.abs(shaped_ang))*(shaped_ang/np.abs(shaped_ang))\n"
     ]
    },
    {
     "name": "stdout",
     "output_type": "stream",
     "text": [
      "Figure Saved\n",
      "in loop\n",
      "19\n",
      "in loop\n",
      "19\n",
      "in loop\n",
      "19\n",
      "in loop\n",
      "19\n",
      "in loop\n",
      "19\n",
      "in loop\n",
      "19\n",
      "in loop\n",
      "19\n",
      "in loop\n",
      "19\n",
      "in loop\n",
      "19\n",
      "File Reading\n",
      "in loop\n",
      "19\n",
      "Pre-grid Organization Section\n",
      "KDP Section\n",
      "Grid Section\n"
     ]
    },
    {
     "name": "stderr",
     "output_type": "stream",
     "text": [
      "C:\\Users\\gandalf\\anaconda3\\envs\\radar\\lib\\site-packages\\pyart\\map\\gates_to_grid.py:160: DeprecationWarning: Barnes weighting function is deprecated. Please use Barnes 2 to be consistent with Pauley and Wu 1990.\n",
      "  warnings.warn(\"Barnes weighting function is deprecated.\"\n"
     ]
    },
    {
     "name": "stdout",
     "output_type": "stream",
     "text": [
      "Gradient Analysis and Masking\n",
      "(-96.0787353515625, 28.471900939941406, <cartopy.crs.PlateCarree object at 0x000001A95EF62400>)\n"
     ]
    },
    {
     "name": "stderr",
     "output_type": "stream",
     "text": [
      "C:\\Users\\gandalf\\anaconda3\\envs\\radar\\lib\\site-packages\\pyproj\\crs\\crs.py:53: FutureWarning: '+init=<authority>:<code>' syntax is deprecated. '<authority>:<code>' is the preferred initialization method. When making the change, be mindful of axis order changes: https://pyproj4.github.io/pyproj/stable/gotchas.html#axis-order-changes-in-proj-6\n",
      "  return _prepare_from_string(\" \".join(pjargs))\n",
      "C:\\Users\\gandalf\\anaconda3\\envs\\radar\\lib\\site-packages\\pyproj\\crs\\crs.py:294: FutureWarning: '+init=<authority>:<code>' syntax is deprecated. '<authority>:<code>' is the preferred initialization method. When making the change, be mindful of axis order changes: https://pyproj4.github.io/pyproj/stable/gotchas.html#axis-order-changes-in-proj-6\n",
      "  projstring = _prepare_from_string(\" \".join((projstring, projkwargs)))\n",
      "C:\\Users\\gandalf\\anaconda3\\envs\\radar\\lib\\site-packages\\pyproj\\crs\\crs.py:53: FutureWarning: '+init=<authority>:<code>' syntax is deprecated. '<authority>:<code>' is the preferred initialization method. When making the change, be mindful of axis order changes: https://pyproj4.github.io/pyproj/stable/gotchas.html#axis-order-changes-in-proj-6\n",
      "  return _prepare_from_string(\" \".join(pjargs))\n",
      "C:\\Users\\gandalf\\anaconda3\\envs\\radar\\lib\\site-packages\\pyproj\\crs\\crs.py:294: FutureWarning: '+init=<authority>:<code>' syntax is deprecated. '<authority>:<code>' is the preferred initialization method. When making the change, be mindful of axis order changes: https://pyproj4.github.io/pyproj/stable/gotchas.html#axis-order-changes-in-proj-6\n",
      "  projstring = _prepare_from_string(\" \".join((projstring, projkwargs)))\n",
      "C:\\Users\\gandalf\\anaconda3\\envs\\radar\\lib\\site-packages\\cartopy\\mpl\\geoaxes.py:1366: UserWarning: The following kwargs were not used by contour: 'linestyle'\n",
      "  result = matplotlib.axes.Axes.contour(self, *args, **kwargs)\n"
     ]
    },
    {
     "name": "stdout",
     "output_type": "stream",
     "text": [
      "Testfig Saved\n"
     ]
    },
    {
     "name": "stderr",
     "output_type": "stream",
     "text": [
      "C:\\Users\\gandalf\\Documents\\Python Scripts\\SPORK-SPIN-master\\SPORK-SPIN-master\\arcalg_figure4.py:555: RuntimeWarning: invalid value encountered in true_divide\n",
      "  shaped_ang = (180-np.abs(shaped_ang))*(shaped_ang/np.abs(shaped_ang))\n"
     ]
    },
    {
     "name": "stdout",
     "output_type": "stream",
     "text": [
      "Figure Saved\n",
      "in loop\n",
      "19\n",
      "in loop\n",
      "19\n",
      "in loop\n",
      "19\n",
      "in loop\n",
      "19\n",
      "in loop\n",
      "19\n",
      "in loop\n",
      "19\n",
      "in loop\n",
      "19\n",
      "in loop\n",
      "19\n",
      "in loop\n",
      "19\n",
      "Pre-grid Organization Section\n",
      "KDP Section\n",
      "Grid Section\n"
     ]
    },
    {
     "name": "stderr",
     "output_type": "stream",
     "text": [
      "C:\\Users\\gandalf\\anaconda3\\envs\\radar\\lib\\site-packages\\pyart\\map\\gates_to_grid.py:160: DeprecationWarning: Barnes weighting function is deprecated. Please use Barnes 2 to be consistent with Pauley and Wu 1990.\n",
      "  warnings.warn(\"Barnes weighting function is deprecated.\"\n"
     ]
    },
    {
     "name": "stdout",
     "output_type": "stream",
     "text": [
      "Gradient Analysis and Masking\n",
      "(-96.0787353515625, 28.471900939941406, <cartopy.crs.PlateCarree object at 0x000001A95EA4A180>)\n"
     ]
    },
    {
     "name": "stderr",
     "output_type": "stream",
     "text": [
      "C:\\Users\\gandalf\\anaconda3\\envs\\radar\\lib\\site-packages\\pyproj\\crs\\crs.py:53: FutureWarning: '+init=<authority>:<code>' syntax is deprecated. '<authority>:<code>' is the preferred initialization method. When making the change, be mindful of axis order changes: https://pyproj4.github.io/pyproj/stable/gotchas.html#axis-order-changes-in-proj-6\n",
      "  return _prepare_from_string(\" \".join(pjargs))\n",
      "C:\\Users\\gandalf\\anaconda3\\envs\\radar\\lib\\site-packages\\pyproj\\crs\\crs.py:294: FutureWarning: '+init=<authority>:<code>' syntax is deprecated. '<authority>:<code>' is the preferred initialization method. When making the change, be mindful of axis order changes: https://pyproj4.github.io/pyproj/stable/gotchas.html#axis-order-changes-in-proj-6\n",
      "  projstring = _prepare_from_string(\" \".join((projstring, projkwargs)))\n",
      "C:\\Users\\gandalf\\anaconda3\\envs\\radar\\lib\\site-packages\\pyproj\\crs\\crs.py:53: FutureWarning: '+init=<authority>:<code>' syntax is deprecated. '<authority>:<code>' is the preferred initialization method. When making the change, be mindful of axis order changes: https://pyproj4.github.io/pyproj/stable/gotchas.html#axis-order-changes-in-proj-6\n",
      "  return _prepare_from_string(\" \".join(pjargs))\n",
      "C:\\Users\\gandalf\\anaconda3\\envs\\radar\\lib\\site-packages\\pyproj\\crs\\crs.py:294: FutureWarning: '+init=<authority>:<code>' syntax is deprecated. '<authority>:<code>' is the preferred initialization method. When making the change, be mindful of axis order changes: https://pyproj4.github.io/pyproj/stable/gotchas.html#axis-order-changes-in-proj-6\n",
      "  projstring = _prepare_from_string(\" \".join((projstring, projkwargs)))\n",
      "C:\\Users\\gandalf\\anaconda3\\envs\\radar\\lib\\site-packages\\cartopy\\mpl\\geoaxes.py:1366: UserWarning: The following kwargs were not used by contour: 'linestyle'\n",
      "  result = matplotlib.axes.Axes.contour(self, *args, **kwargs)\n"
     ]
    },
    {
     "name": "stdout",
     "output_type": "stream",
     "text": [
      "Testfig Saved\n"
     ]
    },
    {
     "name": "stderr",
     "output_type": "stream",
     "text": [
      "C:\\Users\\gandalf\\Documents\\Python Scripts\\SPORK-SPIN-master\\SPORK-SPIN-master\\arcalg_figure4.py:555: RuntimeWarning: invalid value encountered in true_divide\n",
      "  shaped_ang = (180-np.abs(shaped_ang))*(shaped_ang/np.abs(shaped_ang))\n"
     ]
    },
    {
     "name": "stdout",
     "output_type": "stream",
     "text": [
      "Figure Saved\n",
      "in loop\n",
      "19\n",
      "in loop\n",
      "19\n",
      "in loop\n",
      "19\n",
      "in loop\n",
      "19\n",
      "in loop\n",
      "19\n",
      "in loop\n",
      "19\n",
      "in loop\n",
      "19\n",
      "in loop\n",
      "19\n",
      "in loop\n",
      "19\n",
      "File Reading\n",
      "in loop\n",
      "19\n",
      "Pre-grid Organization Section\n",
      "KDP Section\n",
      "Grid Section\n"
     ]
    },
    {
     "name": "stderr",
     "output_type": "stream",
     "text": [
      "C:\\Users\\gandalf\\anaconda3\\envs\\radar\\lib\\site-packages\\pyart\\map\\gates_to_grid.py:160: DeprecationWarning: Barnes weighting function is deprecated. Please use Barnes 2 to be consistent with Pauley and Wu 1990.\n",
      "  warnings.warn(\"Barnes weighting function is deprecated.\"\n"
     ]
    },
    {
     "name": "stdout",
     "output_type": "stream",
     "text": [
      "Gradient Analysis and Masking\n",
      "(-96.0787353515625, 28.471900939941406, <cartopy.crs.PlateCarree object at 0x000001A91674F630>)\n"
     ]
    },
    {
     "name": "stderr",
     "output_type": "stream",
     "text": [
      "C:\\Users\\gandalf\\anaconda3\\envs\\radar\\lib\\site-packages\\pyproj\\crs\\crs.py:53: FutureWarning: '+init=<authority>:<code>' syntax is deprecated. '<authority>:<code>' is the preferred initialization method. When making the change, be mindful of axis order changes: https://pyproj4.github.io/pyproj/stable/gotchas.html#axis-order-changes-in-proj-6\n",
      "  return _prepare_from_string(\" \".join(pjargs))\n",
      "C:\\Users\\gandalf\\anaconda3\\envs\\radar\\lib\\site-packages\\pyproj\\crs\\crs.py:294: FutureWarning: '+init=<authority>:<code>' syntax is deprecated. '<authority>:<code>' is the preferred initialization method. When making the change, be mindful of axis order changes: https://pyproj4.github.io/pyproj/stable/gotchas.html#axis-order-changes-in-proj-6\n",
      "  projstring = _prepare_from_string(\" \".join((projstring, projkwargs)))\n",
      "C:\\Users\\gandalf\\anaconda3\\envs\\radar\\lib\\site-packages\\pyproj\\crs\\crs.py:53: FutureWarning: '+init=<authority>:<code>' syntax is deprecated. '<authority>:<code>' is the preferred initialization method. When making the change, be mindful of axis order changes: https://pyproj4.github.io/pyproj/stable/gotchas.html#axis-order-changes-in-proj-6\n",
      "  return _prepare_from_string(\" \".join(pjargs))\n",
      "C:\\Users\\gandalf\\anaconda3\\envs\\radar\\lib\\site-packages\\pyproj\\crs\\crs.py:294: FutureWarning: '+init=<authority>:<code>' syntax is deprecated. '<authority>:<code>' is the preferred initialization method. When making the change, be mindful of axis order changes: https://pyproj4.github.io/pyproj/stable/gotchas.html#axis-order-changes-in-proj-6\n",
      "  projstring = _prepare_from_string(\" \".join((projstring, projkwargs)))\n",
      "C:\\Users\\gandalf\\anaconda3\\envs\\radar\\lib\\site-packages\\cartopy\\mpl\\geoaxes.py:1366: UserWarning: The following kwargs were not used by contour: 'linestyle'\n",
      "  result = matplotlib.axes.Axes.contour(self, *args, **kwargs)\n"
     ]
    },
    {
     "name": "stdout",
     "output_type": "stream",
     "text": [
      "Testfig Saved\n"
     ]
    },
    {
     "name": "stderr",
     "output_type": "stream",
     "text": [
      "C:\\Users\\gandalf\\Documents\\Python Scripts\\SPORK-SPIN-master\\SPORK-SPIN-master\\arcalg_figure4.py:555: RuntimeWarning: invalid value encountered in true_divide\n",
      "  shaped_ang = (180-np.abs(shaped_ang))*(shaped_ang/np.abs(shaped_ang))\n"
     ]
    },
    {
     "name": "stdout",
     "output_type": "stream",
     "text": [
      "Figure Saved\n",
      "in loop\n",
      "19\n",
      "in loop\n",
      "19\n",
      "in loop\n",
      "19\n",
      "in loop\n",
      "19\n",
      "in loop\n",
      "19\n",
      "in loop\n",
      "19\n",
      "in loop\n",
      "19\n",
      "in loop\n",
      "19\n",
      "in loop\n",
      "19\n",
      "Pre-grid Organization Section\n",
      "KDP Section\n",
      "Grid Section\n"
     ]
    },
    {
     "name": "stderr",
     "output_type": "stream",
     "text": [
      "C:\\Users\\gandalf\\anaconda3\\envs\\radar\\lib\\site-packages\\pyart\\map\\gates_to_grid.py:160: DeprecationWarning: Barnes weighting function is deprecated. Please use Barnes 2 to be consistent with Pauley and Wu 1990.\n",
      "  warnings.warn(\"Barnes weighting function is deprecated.\"\n"
     ]
    },
    {
     "name": "stdout",
     "output_type": "stream",
     "text": [
      "Gradient Analysis and Masking\n",
      "(-96.0787353515625, 28.471900939941406, <cartopy.crs.PlateCarree object at 0x000001A940EBDD10>)\n"
     ]
    },
    {
     "name": "stderr",
     "output_type": "stream",
     "text": [
      "C:\\Users\\gandalf\\anaconda3\\envs\\radar\\lib\\site-packages\\pyproj\\crs\\crs.py:53: FutureWarning: '+init=<authority>:<code>' syntax is deprecated. '<authority>:<code>' is the preferred initialization method. When making the change, be mindful of axis order changes: https://pyproj4.github.io/pyproj/stable/gotchas.html#axis-order-changes-in-proj-6\n",
      "  return _prepare_from_string(\" \".join(pjargs))\n",
      "C:\\Users\\gandalf\\anaconda3\\envs\\radar\\lib\\site-packages\\pyproj\\crs\\crs.py:294: FutureWarning: '+init=<authority>:<code>' syntax is deprecated. '<authority>:<code>' is the preferred initialization method. When making the change, be mindful of axis order changes: https://pyproj4.github.io/pyproj/stable/gotchas.html#axis-order-changes-in-proj-6\n",
      "  projstring = _prepare_from_string(\" \".join((projstring, projkwargs)))\n",
      "C:\\Users\\gandalf\\anaconda3\\envs\\radar\\lib\\site-packages\\pyproj\\crs\\crs.py:53: FutureWarning: '+init=<authority>:<code>' syntax is deprecated. '<authority>:<code>' is the preferred initialization method. When making the change, be mindful of axis order changes: https://pyproj4.github.io/pyproj/stable/gotchas.html#axis-order-changes-in-proj-6\n",
      "  return _prepare_from_string(\" \".join(pjargs))\n",
      "C:\\Users\\gandalf\\anaconda3\\envs\\radar\\lib\\site-packages\\pyproj\\crs\\crs.py:294: FutureWarning: '+init=<authority>:<code>' syntax is deprecated. '<authority>:<code>' is the preferred initialization method. When making the change, be mindful of axis order changes: https://pyproj4.github.io/pyproj/stable/gotchas.html#axis-order-changes-in-proj-6\n",
      "  projstring = _prepare_from_string(\" \".join((projstring, projkwargs)))\n",
      "C:\\Users\\gandalf\\anaconda3\\envs\\radar\\lib\\site-packages\\cartopy\\mpl\\geoaxes.py:1366: UserWarning: The following kwargs were not used by contour: 'linestyle'\n",
      "  result = matplotlib.axes.Axes.contour(self, *args, **kwargs)\n"
     ]
    },
    {
     "name": "stdout",
     "output_type": "stream",
     "text": [
      "Testfig Saved\n"
     ]
    },
    {
     "name": "stderr",
     "output_type": "stream",
     "text": [
      "C:\\Users\\gandalf\\Documents\\Python Scripts\\SPORK-SPIN-master\\SPORK-SPIN-master\\arcalg_figure4.py:555: RuntimeWarning: invalid value encountered in true_divide\n",
      "  shaped_ang = (180-np.abs(shaped_ang))*(shaped_ang/np.abs(shaped_ang))\n"
     ]
    },
    {
     "name": "stdout",
     "output_type": "stream",
     "text": [
      "Figure Saved\n",
      "in loop\n",
      "19\n",
      "in loop\n",
      "19\n",
      "in loop\n",
      "19\n",
      "in loop\n",
      "19\n",
      "in loop\n",
      "19\n",
      "in loop\n",
      "19\n",
      "in loop\n",
      "19\n",
      "in loop\n",
      "19\n",
      "in loop\n",
      "19\n",
      "File Reading\n",
      "in loop\n",
      "19\n",
      "Pre-grid Organization Section\n",
      "KDP Section\n",
      "Grid Section\n"
     ]
    },
    {
     "name": "stderr",
     "output_type": "stream",
     "text": [
      "C:\\Users\\gandalf\\anaconda3\\envs\\radar\\lib\\site-packages\\pyart\\map\\gates_to_grid.py:160: DeprecationWarning: Barnes weighting function is deprecated. Please use Barnes 2 to be consistent with Pauley and Wu 1990.\n",
      "  warnings.warn(\"Barnes weighting function is deprecated.\"\n"
     ]
    },
    {
     "name": "stdout",
     "output_type": "stream",
     "text": [
      "Gradient Analysis and Masking\n",
      "(-96.0787353515625, 28.471900939941406, <cartopy.crs.PlateCarree object at 0x000001A9377FB630>)\n"
     ]
    },
    {
     "name": "stderr",
     "output_type": "stream",
     "text": [
      "C:\\Users\\gandalf\\anaconda3\\envs\\radar\\lib\\site-packages\\pyproj\\crs\\crs.py:53: FutureWarning: '+init=<authority>:<code>' syntax is deprecated. '<authority>:<code>' is the preferred initialization method. When making the change, be mindful of axis order changes: https://pyproj4.github.io/pyproj/stable/gotchas.html#axis-order-changes-in-proj-6\n",
      "  return _prepare_from_string(\" \".join(pjargs))\n",
      "C:\\Users\\gandalf\\anaconda3\\envs\\radar\\lib\\site-packages\\pyproj\\crs\\crs.py:294: FutureWarning: '+init=<authority>:<code>' syntax is deprecated. '<authority>:<code>' is the preferred initialization method. When making the change, be mindful of axis order changes: https://pyproj4.github.io/pyproj/stable/gotchas.html#axis-order-changes-in-proj-6\n",
      "  projstring = _prepare_from_string(\" \".join((projstring, projkwargs)))\n",
      "C:\\Users\\gandalf\\anaconda3\\envs\\radar\\lib\\site-packages\\pyproj\\crs\\crs.py:53: FutureWarning: '+init=<authority>:<code>' syntax is deprecated. '<authority>:<code>' is the preferred initialization method. When making the change, be mindful of axis order changes: https://pyproj4.github.io/pyproj/stable/gotchas.html#axis-order-changes-in-proj-6\n",
      "  return _prepare_from_string(\" \".join(pjargs))\n",
      "C:\\Users\\gandalf\\anaconda3\\envs\\radar\\lib\\site-packages\\pyproj\\crs\\crs.py:294: FutureWarning: '+init=<authority>:<code>' syntax is deprecated. '<authority>:<code>' is the preferred initialization method. When making the change, be mindful of axis order changes: https://pyproj4.github.io/pyproj/stable/gotchas.html#axis-order-changes-in-proj-6\n",
      "  projstring = _prepare_from_string(\" \".join((projstring, projkwargs)))\n",
      "C:\\Users\\gandalf\\anaconda3\\envs\\radar\\lib\\site-packages\\cartopy\\mpl\\geoaxes.py:1366: UserWarning: The following kwargs were not used by contour: 'linestyle'\n",
      "  result = matplotlib.axes.Axes.contour(self, *args, **kwargs)\n"
     ]
    },
    {
     "name": "stdout",
     "output_type": "stream",
     "text": [
      "Testfig Saved\n"
     ]
    },
    {
     "name": "stderr",
     "output_type": "stream",
     "text": [
      "C:\\Users\\gandalf\\Documents\\Python Scripts\\SPORK-SPIN-master\\SPORK-SPIN-master\\arcalg_figure4.py:555: RuntimeWarning: invalid value encountered in true_divide\n",
      "  shaped_ang = (180-np.abs(shaped_ang))*(shaped_ang/np.abs(shaped_ang))\n"
     ]
    },
    {
     "name": "stdout",
     "output_type": "stream",
     "text": [
      "Figure Saved\n",
      "in loop\n",
      "19\n",
      "in loop\n",
      "19\n",
      "in loop\n",
      "19\n",
      "in loop\n",
      "19\n",
      "in loop\n",
      "19\n",
      "in loop\n",
      "19\n",
      "in loop\n",
      "19\n",
      "in loop\n",
      "19\n",
      "in loop\n",
      "19\n",
      "Pre-grid Organization Section\n",
      "KDP Section\n",
      "Grid Section\n"
     ]
    },
    {
     "name": "stderr",
     "output_type": "stream",
     "text": [
      "C:\\Users\\gandalf\\anaconda3\\envs\\radar\\lib\\site-packages\\pyart\\map\\gates_to_grid.py:160: DeprecationWarning: Barnes weighting function is deprecated. Please use Barnes 2 to be consistent with Pauley and Wu 1990.\n",
      "  warnings.warn(\"Barnes weighting function is deprecated.\"\n"
     ]
    },
    {
     "name": "stdout",
     "output_type": "stream",
     "text": [
      "Gradient Analysis and Masking\n",
      "(-96.0787353515625, 28.471900939941406, <cartopy.crs.PlateCarree object at 0x000001A95EA3E4F0>)\n"
     ]
    },
    {
     "name": "stderr",
     "output_type": "stream",
     "text": [
      "C:\\Users\\gandalf\\anaconda3\\envs\\radar\\lib\\site-packages\\pyproj\\crs\\crs.py:53: FutureWarning: '+init=<authority>:<code>' syntax is deprecated. '<authority>:<code>' is the preferred initialization method. When making the change, be mindful of axis order changes: https://pyproj4.github.io/pyproj/stable/gotchas.html#axis-order-changes-in-proj-6\n",
      "  return _prepare_from_string(\" \".join(pjargs))\n",
      "C:\\Users\\gandalf\\anaconda3\\envs\\radar\\lib\\site-packages\\pyproj\\crs\\crs.py:294: FutureWarning: '+init=<authority>:<code>' syntax is deprecated. '<authority>:<code>' is the preferred initialization method. When making the change, be mindful of axis order changes: https://pyproj4.github.io/pyproj/stable/gotchas.html#axis-order-changes-in-proj-6\n",
      "  projstring = _prepare_from_string(\" \".join((projstring, projkwargs)))\n",
      "C:\\Users\\gandalf\\anaconda3\\envs\\radar\\lib\\site-packages\\pyproj\\crs\\crs.py:53: FutureWarning: '+init=<authority>:<code>' syntax is deprecated. '<authority>:<code>' is the preferred initialization method. When making the change, be mindful of axis order changes: https://pyproj4.github.io/pyproj/stable/gotchas.html#axis-order-changes-in-proj-6\n",
      "  return _prepare_from_string(\" \".join(pjargs))\n",
      "C:\\Users\\gandalf\\anaconda3\\envs\\radar\\lib\\site-packages\\pyproj\\crs\\crs.py:294: FutureWarning: '+init=<authority>:<code>' syntax is deprecated. '<authority>:<code>' is the preferred initialization method. When making the change, be mindful of axis order changes: https://pyproj4.github.io/pyproj/stable/gotchas.html#axis-order-changes-in-proj-6\n",
      "  projstring = _prepare_from_string(\" \".join((projstring, projkwargs)))\n",
      "C:\\Users\\gandalf\\anaconda3\\envs\\radar\\lib\\site-packages\\cartopy\\mpl\\geoaxes.py:1366: UserWarning: The following kwargs were not used by contour: 'linestyle'\n",
      "  result = matplotlib.axes.Axes.contour(self, *args, **kwargs)\n"
     ]
    },
    {
     "name": "stdout",
     "output_type": "stream",
     "text": [
      "Testfig Saved\n"
     ]
    },
    {
     "name": "stderr",
     "output_type": "stream",
     "text": [
      "C:\\Users\\gandalf\\Documents\\Python Scripts\\SPORK-SPIN-master\\SPORK-SPIN-master\\arcalg_figure4.py:555: RuntimeWarning: invalid value encountered in true_divide\n",
      "  shaped_ang = (180-np.abs(shaped_ang))*(shaped_ang/np.abs(shaped_ang))\n"
     ]
    },
    {
     "name": "stdout",
     "output_type": "stream",
     "text": [
      "Figure Saved\n",
      "in loop\n",
      "19\n",
      "in loop\n",
      "19\n",
      "in loop\n",
      "19\n",
      "in loop\n",
      "19\n",
      "in loop\n",
      "19\n",
      "in loop\n",
      "19\n",
      "in loop\n",
      "19\n",
      "in loop\n",
      "19\n",
      "in loop\n",
      "19\n",
      "File Reading\n",
      "in loop\n",
      "19\n",
      "Pre-grid Organization Section\n",
      "KDP Section\n",
      "Grid Section\n"
     ]
    },
    {
     "name": "stderr",
     "output_type": "stream",
     "text": [
      "C:\\Users\\gandalf\\anaconda3\\envs\\radar\\lib\\site-packages\\pyart\\map\\gates_to_grid.py:160: DeprecationWarning: Barnes weighting function is deprecated. Please use Barnes 2 to be consistent with Pauley and Wu 1990.\n",
      "  warnings.warn(\"Barnes weighting function is deprecated.\"\n"
     ]
    },
    {
     "name": "stdout",
     "output_type": "stream",
     "text": [
      "Gradient Analysis and Masking\n",
      "(-96.0787353515625, 28.471900939941406, <cartopy.crs.PlateCarree object at 0x000001A956EABA90>)\n"
     ]
    },
    {
     "name": "stderr",
     "output_type": "stream",
     "text": [
      "C:\\Users\\gandalf\\anaconda3\\envs\\radar\\lib\\site-packages\\pyproj\\crs\\crs.py:53: FutureWarning: '+init=<authority>:<code>' syntax is deprecated. '<authority>:<code>' is the preferred initialization method. When making the change, be mindful of axis order changes: https://pyproj4.github.io/pyproj/stable/gotchas.html#axis-order-changes-in-proj-6\n",
      "  return _prepare_from_string(\" \".join(pjargs))\n",
      "C:\\Users\\gandalf\\anaconda3\\envs\\radar\\lib\\site-packages\\pyproj\\crs\\crs.py:294: FutureWarning: '+init=<authority>:<code>' syntax is deprecated. '<authority>:<code>' is the preferred initialization method. When making the change, be mindful of axis order changes: https://pyproj4.github.io/pyproj/stable/gotchas.html#axis-order-changes-in-proj-6\n",
      "  projstring = _prepare_from_string(\" \".join((projstring, projkwargs)))\n",
      "C:\\Users\\gandalf\\anaconda3\\envs\\radar\\lib\\site-packages\\pyproj\\crs\\crs.py:53: FutureWarning: '+init=<authority>:<code>' syntax is deprecated. '<authority>:<code>' is the preferred initialization method. When making the change, be mindful of axis order changes: https://pyproj4.github.io/pyproj/stable/gotchas.html#axis-order-changes-in-proj-6\n",
      "  return _prepare_from_string(\" \".join(pjargs))\n",
      "C:\\Users\\gandalf\\anaconda3\\envs\\radar\\lib\\site-packages\\pyproj\\crs\\crs.py:294: FutureWarning: '+init=<authority>:<code>' syntax is deprecated. '<authority>:<code>' is the preferred initialization method. When making the change, be mindful of axis order changes: https://pyproj4.github.io/pyproj/stable/gotchas.html#axis-order-changes-in-proj-6\n",
      "  projstring = _prepare_from_string(\" \".join((projstring, projkwargs)))\n",
      "C:\\Users\\gandalf\\anaconda3\\envs\\radar\\lib\\site-packages\\cartopy\\mpl\\geoaxes.py:1366: UserWarning: The following kwargs were not used by contour: 'linestyle'\n",
      "  result = matplotlib.axes.Axes.contour(self, *args, **kwargs)\n"
     ]
    },
    {
     "name": "stdout",
     "output_type": "stream",
     "text": [
      "Testfig Saved\n"
     ]
    },
    {
     "name": "stderr",
     "output_type": "stream",
     "text": [
      "C:\\Users\\gandalf\\Documents\\Python Scripts\\SPORK-SPIN-master\\SPORK-SPIN-master\\arcalg_figure4.py:555: RuntimeWarning: invalid value encountered in true_divide\n",
      "  shaped_ang = (180-np.abs(shaped_ang))*(shaped_ang/np.abs(shaped_ang))\n"
     ]
    },
    {
     "name": "stdout",
     "output_type": "stream",
     "text": [
      "Figure Saved\n",
      "in loop\n",
      "19\n",
      "in loop\n",
      "19\n",
      "in loop\n",
      "19\n",
      "in loop\n",
      "19\n",
      "in loop\n",
      "19\n",
      "in loop\n",
      "19\n",
      "in loop\n",
      "19\n",
      "in loop\n",
      "19\n",
      "in loop\n",
      "19\n",
      "Pre-grid Organization Section\n",
      "KDP Section\n",
      "Grid Section\n"
     ]
    },
    {
     "name": "stderr",
     "output_type": "stream",
     "text": [
      "C:\\Users\\gandalf\\anaconda3\\envs\\radar\\lib\\site-packages\\pyart\\map\\gates_to_grid.py:160: DeprecationWarning: Barnes weighting function is deprecated. Please use Barnes 2 to be consistent with Pauley and Wu 1990.\n",
      "  warnings.warn(\"Barnes weighting function is deprecated.\"\n"
     ]
    },
    {
     "name": "stdout",
     "output_type": "stream",
     "text": [
      "Gradient Analysis and Masking\n",
      "(-96.0787353515625, 28.471900939941406, <cartopy.crs.PlateCarree object at 0x000001A956EAB9F0>)\n"
     ]
    },
    {
     "name": "stderr",
     "output_type": "stream",
     "text": [
      "C:\\Users\\gandalf\\anaconda3\\envs\\radar\\lib\\site-packages\\pyproj\\crs\\crs.py:53: FutureWarning: '+init=<authority>:<code>' syntax is deprecated. '<authority>:<code>' is the preferred initialization method. When making the change, be mindful of axis order changes: https://pyproj4.github.io/pyproj/stable/gotchas.html#axis-order-changes-in-proj-6\n",
      "  return _prepare_from_string(\" \".join(pjargs))\n",
      "C:\\Users\\gandalf\\anaconda3\\envs\\radar\\lib\\site-packages\\pyproj\\crs\\crs.py:294: FutureWarning: '+init=<authority>:<code>' syntax is deprecated. '<authority>:<code>' is the preferred initialization method. When making the change, be mindful of axis order changes: https://pyproj4.github.io/pyproj/stable/gotchas.html#axis-order-changes-in-proj-6\n",
      "  projstring = _prepare_from_string(\" \".join((projstring, projkwargs)))\n",
      "C:\\Users\\gandalf\\anaconda3\\envs\\radar\\lib\\site-packages\\pyproj\\crs\\crs.py:53: FutureWarning: '+init=<authority>:<code>' syntax is deprecated. '<authority>:<code>' is the preferred initialization method. When making the change, be mindful of axis order changes: https://pyproj4.github.io/pyproj/stable/gotchas.html#axis-order-changes-in-proj-6\n",
      "  return _prepare_from_string(\" \".join(pjargs))\n",
      "C:\\Users\\gandalf\\anaconda3\\envs\\radar\\lib\\site-packages\\pyproj\\crs\\crs.py:294: FutureWarning: '+init=<authority>:<code>' syntax is deprecated. '<authority>:<code>' is the preferred initialization method. When making the change, be mindful of axis order changes: https://pyproj4.github.io/pyproj/stable/gotchas.html#axis-order-changes-in-proj-6\n",
      "  projstring = _prepare_from_string(\" \".join((projstring, projkwargs)))\n",
      "C:\\Users\\gandalf\\anaconda3\\envs\\radar\\lib\\site-packages\\cartopy\\mpl\\geoaxes.py:1366: UserWarning: The following kwargs were not used by contour: 'linestyle'\n",
      "  result = matplotlib.axes.Axes.contour(self, *args, **kwargs)\n"
     ]
    },
    {
     "name": "stdout",
     "output_type": "stream",
     "text": [
      "Testfig Saved\n"
     ]
    },
    {
     "name": "stderr",
     "output_type": "stream",
     "text": [
      "C:\\Users\\gandalf\\Documents\\Python Scripts\\SPORK-SPIN-master\\SPORK-SPIN-master\\arcalg_figure4.py:555: RuntimeWarning: invalid value encountered in true_divide\n",
      "  shaped_ang = (180-np.abs(shaped_ang))*(shaped_ang/np.abs(shaped_ang))\n"
     ]
    },
    {
     "name": "stdout",
     "output_type": "stream",
     "text": [
      "Figure Saved\n",
      "in loop\n",
      "19\n",
      "in loop\n",
      "19\n",
      "in loop\n",
      "19\n",
      "in loop\n",
      "19\n",
      "in loop\n",
      "19\n",
      "in loop\n",
      "19\n",
      "in loop\n",
      "19\n",
      "in loop\n",
      "19\n",
      "in loop\n",
      "19\n",
      "File Reading\n",
      "in loop\n",
      "19\n",
      "Pre-grid Organization Section\n",
      "KDP Section\n",
      "Grid Section\n"
     ]
    },
    {
     "name": "stderr",
     "output_type": "stream",
     "text": [
      "C:\\Users\\gandalf\\anaconda3\\envs\\radar\\lib\\site-packages\\pyart\\map\\gates_to_grid.py:160: DeprecationWarning: Barnes weighting function is deprecated. Please use Barnes 2 to be consistent with Pauley and Wu 1990.\n",
      "  warnings.warn(\"Barnes weighting function is deprecated.\"\n"
     ]
    },
    {
     "name": "stdout",
     "output_type": "stream",
     "text": [
      "Gradient Analysis and Masking\n",
      "(-96.0787353515625, 28.471900939941406, <cartopy.crs.PlateCarree object at 0x000001A956EABB80>)\n"
     ]
    },
    {
     "name": "stderr",
     "output_type": "stream",
     "text": [
      "C:\\Users\\gandalf\\anaconda3\\envs\\radar\\lib\\site-packages\\pyproj\\crs\\crs.py:53: FutureWarning: '+init=<authority>:<code>' syntax is deprecated. '<authority>:<code>' is the preferred initialization method. When making the change, be mindful of axis order changes: https://pyproj4.github.io/pyproj/stable/gotchas.html#axis-order-changes-in-proj-6\n",
      "  return _prepare_from_string(\" \".join(pjargs))\n",
      "C:\\Users\\gandalf\\anaconda3\\envs\\radar\\lib\\site-packages\\pyproj\\crs\\crs.py:294: FutureWarning: '+init=<authority>:<code>' syntax is deprecated. '<authority>:<code>' is the preferred initialization method. When making the change, be mindful of axis order changes: https://pyproj4.github.io/pyproj/stable/gotchas.html#axis-order-changes-in-proj-6\n",
      "  projstring = _prepare_from_string(\" \".join((projstring, projkwargs)))\n",
      "C:\\Users\\gandalf\\anaconda3\\envs\\radar\\lib\\site-packages\\pyproj\\crs\\crs.py:53: FutureWarning: '+init=<authority>:<code>' syntax is deprecated. '<authority>:<code>' is the preferred initialization method. When making the change, be mindful of axis order changes: https://pyproj4.github.io/pyproj/stable/gotchas.html#axis-order-changes-in-proj-6\n",
      "  return _prepare_from_string(\" \".join(pjargs))\n",
      "C:\\Users\\gandalf\\anaconda3\\envs\\radar\\lib\\site-packages\\pyproj\\crs\\crs.py:294: FutureWarning: '+init=<authority>:<code>' syntax is deprecated. '<authority>:<code>' is the preferred initialization method. When making the change, be mindful of axis order changes: https://pyproj4.github.io/pyproj/stable/gotchas.html#axis-order-changes-in-proj-6\n",
      "  projstring = _prepare_from_string(\" \".join((projstring, projkwargs)))\n",
      "C:\\Users\\gandalf\\anaconda3\\envs\\radar\\lib\\site-packages\\cartopy\\mpl\\geoaxes.py:1366: UserWarning: The following kwargs were not used by contour: 'linestyle'\n",
      "  result = matplotlib.axes.Axes.contour(self, *args, **kwargs)\n"
     ]
    },
    {
     "name": "stdout",
     "output_type": "stream",
     "text": [
      "Testfig Saved\n"
     ]
    },
    {
     "name": "stderr",
     "output_type": "stream",
     "text": [
      "C:\\Users\\gandalf\\Documents\\Python Scripts\\SPORK-SPIN-master\\SPORK-SPIN-master\\arcalg_figure4.py:555: RuntimeWarning: invalid value encountered in true_divide\n",
      "  shaped_ang = (180-np.abs(shaped_ang))*(shaped_ang/np.abs(shaped_ang))\n"
     ]
    },
    {
     "name": "stdout",
     "output_type": "stream",
     "text": [
      "Figure Saved\n",
      "in loop\n",
      "19\n",
      "in loop\n",
      "19\n",
      "in loop\n",
      "19\n",
      "in loop\n",
      "19\n",
      "in loop\n",
      "19\n",
      "in loop\n",
      "19\n",
      "in loop\n",
      "19\n",
      "in loop\n",
      "19\n",
      "in loop\n",
      "19\n",
      "Pre-grid Organization Section\n",
      "KDP Section\n",
      "Grid Section\n"
     ]
    },
    {
     "name": "stderr",
     "output_type": "stream",
     "text": [
      "C:\\Users\\gandalf\\anaconda3\\envs\\radar\\lib\\site-packages\\pyart\\map\\gates_to_grid.py:160: DeprecationWarning: Barnes weighting function is deprecated. Please use Barnes 2 to be consistent with Pauley and Wu 1990.\n",
      "  warnings.warn(\"Barnes weighting function is deprecated.\"\n"
     ]
    },
    {
     "name": "stdout",
     "output_type": "stream",
     "text": [
      "Gradient Analysis and Masking\n",
      "(-96.0787353515625, 28.471900939941406, <cartopy.crs.PlateCarree object at 0x000001A91B08CDB0>)\n"
     ]
    },
    {
     "name": "stderr",
     "output_type": "stream",
     "text": [
      "C:\\Users\\gandalf\\anaconda3\\envs\\radar\\lib\\site-packages\\pyproj\\crs\\crs.py:53: FutureWarning: '+init=<authority>:<code>' syntax is deprecated. '<authority>:<code>' is the preferred initialization method. When making the change, be mindful of axis order changes: https://pyproj4.github.io/pyproj/stable/gotchas.html#axis-order-changes-in-proj-6\n",
      "  return _prepare_from_string(\" \".join(pjargs))\n",
      "C:\\Users\\gandalf\\anaconda3\\envs\\radar\\lib\\site-packages\\pyproj\\crs\\crs.py:294: FutureWarning: '+init=<authority>:<code>' syntax is deprecated. '<authority>:<code>' is the preferred initialization method. When making the change, be mindful of axis order changes: https://pyproj4.github.io/pyproj/stable/gotchas.html#axis-order-changes-in-proj-6\n",
      "  projstring = _prepare_from_string(\" \".join((projstring, projkwargs)))\n",
      "C:\\Users\\gandalf\\anaconda3\\envs\\radar\\lib\\site-packages\\pyproj\\crs\\crs.py:53: FutureWarning: '+init=<authority>:<code>' syntax is deprecated. '<authority>:<code>' is the preferred initialization method. When making the change, be mindful of axis order changes: https://pyproj4.github.io/pyproj/stable/gotchas.html#axis-order-changes-in-proj-6\n",
      "  return _prepare_from_string(\" \".join(pjargs))\n",
      "C:\\Users\\gandalf\\anaconda3\\envs\\radar\\lib\\site-packages\\pyproj\\crs\\crs.py:294: FutureWarning: '+init=<authority>:<code>' syntax is deprecated. '<authority>:<code>' is the preferred initialization method. When making the change, be mindful of axis order changes: https://pyproj4.github.io/pyproj/stable/gotchas.html#axis-order-changes-in-proj-6\n",
      "  projstring = _prepare_from_string(\" \".join((projstring, projkwargs)))\n",
      "C:\\Users\\gandalf\\anaconda3\\envs\\radar\\lib\\site-packages\\cartopy\\mpl\\geoaxes.py:1366: UserWarning: The following kwargs were not used by contour: 'linestyle'\n",
      "  result = matplotlib.axes.Axes.contour(self, *args, **kwargs)\n"
     ]
    },
    {
     "name": "stdout",
     "output_type": "stream",
     "text": [
      "Testfig Saved\n"
     ]
    },
    {
     "name": "stderr",
     "output_type": "stream",
     "text": [
      "C:\\Users\\gandalf\\Documents\\Python Scripts\\SPORK-SPIN-master\\SPORK-SPIN-master\\arcalg_figure4.py:555: RuntimeWarning: invalid value encountered in true_divide\n",
      "  shaped_ang = (180-np.abs(shaped_ang))*(shaped_ang/np.abs(shaped_ang))\n"
     ]
    },
    {
     "name": "stdout",
     "output_type": "stream",
     "text": [
      "Figure Saved\n",
      "in loop\n",
      "19\n",
      "in loop\n",
      "19\n",
      "in loop\n",
      "19\n",
      "in loop\n",
      "19\n",
      "in loop\n",
      "19\n",
      "in loop\n",
      "19\n",
      "in loop\n",
      "19\n",
      "in loop\n",
      "19\n",
      "in loop\n",
      "19\n",
      "File Reading\n",
      "in loop\n",
      "19\n",
      "Pre-grid Organization Section\n",
      "KDP Section\n",
      "Grid Section\n"
     ]
    },
    {
     "name": "stderr",
     "output_type": "stream",
     "text": [
      "C:\\Users\\gandalf\\anaconda3\\envs\\radar\\lib\\site-packages\\pyart\\map\\gates_to_grid.py:160: DeprecationWarning: Barnes weighting function is deprecated. Please use Barnes 2 to be consistent with Pauley and Wu 1990.\n",
      "  warnings.warn(\"Barnes weighting function is deprecated.\"\n"
     ]
    },
    {
     "name": "stdout",
     "output_type": "stream",
     "text": [
      "Gradient Analysis and Masking\n",
      "(-96.0787353515625, 28.471900939941406, <cartopy.crs.PlateCarree object at 0x000001A956EABEA0>)\n"
     ]
    },
    {
     "name": "stderr",
     "output_type": "stream",
     "text": [
      "C:\\Users\\gandalf\\anaconda3\\envs\\radar\\lib\\site-packages\\pyproj\\crs\\crs.py:53: FutureWarning: '+init=<authority>:<code>' syntax is deprecated. '<authority>:<code>' is the preferred initialization method. When making the change, be mindful of axis order changes: https://pyproj4.github.io/pyproj/stable/gotchas.html#axis-order-changes-in-proj-6\n",
      "  return _prepare_from_string(\" \".join(pjargs))\n",
      "C:\\Users\\gandalf\\anaconda3\\envs\\radar\\lib\\site-packages\\pyproj\\crs\\crs.py:294: FutureWarning: '+init=<authority>:<code>' syntax is deprecated. '<authority>:<code>' is the preferred initialization method. When making the change, be mindful of axis order changes: https://pyproj4.github.io/pyproj/stable/gotchas.html#axis-order-changes-in-proj-6\n",
      "  projstring = _prepare_from_string(\" \".join((projstring, projkwargs)))\n",
      "C:\\Users\\gandalf\\anaconda3\\envs\\radar\\lib\\site-packages\\pyproj\\crs\\crs.py:53: FutureWarning: '+init=<authority>:<code>' syntax is deprecated. '<authority>:<code>' is the preferred initialization method. When making the change, be mindful of axis order changes: https://pyproj4.github.io/pyproj/stable/gotchas.html#axis-order-changes-in-proj-6\n",
      "  return _prepare_from_string(\" \".join(pjargs))\n",
      "C:\\Users\\gandalf\\anaconda3\\envs\\radar\\lib\\site-packages\\pyproj\\crs\\crs.py:294: FutureWarning: '+init=<authority>:<code>' syntax is deprecated. '<authority>:<code>' is the preferred initialization method. When making the change, be mindful of axis order changes: https://pyproj4.github.io/pyproj/stable/gotchas.html#axis-order-changes-in-proj-6\n",
      "  projstring = _prepare_from_string(\" \".join((projstring, projkwargs)))\n",
      "C:\\Users\\gandalf\\anaconda3\\envs\\radar\\lib\\site-packages\\cartopy\\mpl\\geoaxes.py:1366: UserWarning: The following kwargs were not used by contour: 'linestyle'\n",
      "  result = matplotlib.axes.Axes.contour(self, *args, **kwargs)\n"
     ]
    },
    {
     "name": "stdout",
     "output_type": "stream",
     "text": [
      "Testfig Saved\n"
     ]
    },
    {
     "name": "stderr",
     "output_type": "stream",
     "text": [
      "C:\\Users\\gandalf\\Documents\\Python Scripts\\SPORK-SPIN-master\\SPORK-SPIN-master\\arcalg_figure4.py:555: RuntimeWarning: invalid value encountered in true_divide\n",
      "  shaped_ang = (180-np.abs(shaped_ang))*(shaped_ang/np.abs(shaped_ang))\n"
     ]
    },
    {
     "name": "stdout",
     "output_type": "stream",
     "text": [
      "Figure Saved\n",
      "in loop\n",
      "19\n",
      "in loop\n",
      "19\n",
      "in loop\n",
      "19\n",
      "in loop\n",
      "19\n",
      "in loop\n",
      "19\n",
      "in loop\n",
      "19\n",
      "in loop\n",
      "19\n",
      "in loop\n",
      "19\n",
      "in loop\n",
      "19\n",
      "Pre-grid Organization Section\n",
      "KDP Section\n",
      "Grid Section\n"
     ]
    },
    {
     "name": "stderr",
     "output_type": "stream",
     "text": [
      "C:\\Users\\gandalf\\anaconda3\\envs\\radar\\lib\\site-packages\\pyart\\map\\gates_to_grid.py:160: DeprecationWarning: Barnes weighting function is deprecated. Please use Barnes 2 to be consistent with Pauley and Wu 1990.\n",
      "  warnings.warn(\"Barnes weighting function is deprecated.\"\n"
     ]
    },
    {
     "name": "stdout",
     "output_type": "stream",
     "text": [
      "Gradient Analysis and Masking\n",
      "(-96.0787353515625, 28.471900939941406, <cartopy.crs.PlateCarree object at 0x000001A98A8BD590>)\n"
     ]
    },
    {
     "name": "stderr",
     "output_type": "stream",
     "text": [
      "C:\\Users\\gandalf\\anaconda3\\envs\\radar\\lib\\site-packages\\pyproj\\crs\\crs.py:53: FutureWarning: '+init=<authority>:<code>' syntax is deprecated. '<authority>:<code>' is the preferred initialization method. When making the change, be mindful of axis order changes: https://pyproj4.github.io/pyproj/stable/gotchas.html#axis-order-changes-in-proj-6\n",
      "  return _prepare_from_string(\" \".join(pjargs))\n",
      "C:\\Users\\gandalf\\anaconda3\\envs\\radar\\lib\\site-packages\\pyproj\\crs\\crs.py:294: FutureWarning: '+init=<authority>:<code>' syntax is deprecated. '<authority>:<code>' is the preferred initialization method. When making the change, be mindful of axis order changes: https://pyproj4.github.io/pyproj/stable/gotchas.html#axis-order-changes-in-proj-6\n",
      "  projstring = _prepare_from_string(\" \".join((projstring, projkwargs)))\n",
      "C:\\Users\\gandalf\\anaconda3\\envs\\radar\\lib\\site-packages\\pyproj\\crs\\crs.py:53: FutureWarning: '+init=<authority>:<code>' syntax is deprecated. '<authority>:<code>' is the preferred initialization method. When making the change, be mindful of axis order changes: https://pyproj4.github.io/pyproj/stable/gotchas.html#axis-order-changes-in-proj-6\n",
      "  return _prepare_from_string(\" \".join(pjargs))\n",
      "C:\\Users\\gandalf\\anaconda3\\envs\\radar\\lib\\site-packages\\pyproj\\crs\\crs.py:294: FutureWarning: '+init=<authority>:<code>' syntax is deprecated. '<authority>:<code>' is the preferred initialization method. When making the change, be mindful of axis order changes: https://pyproj4.github.io/pyproj/stable/gotchas.html#axis-order-changes-in-proj-6\n",
      "  projstring = _prepare_from_string(\" \".join((projstring, projkwargs)))\n",
      "C:\\Users\\gandalf\\anaconda3\\envs\\radar\\lib\\site-packages\\cartopy\\mpl\\geoaxes.py:1366: UserWarning: The following kwargs were not used by contour: 'linestyle'\n",
      "  result = matplotlib.axes.Axes.contour(self, *args, **kwargs)\n"
     ]
    },
    {
     "name": "stdout",
     "output_type": "stream",
     "text": [
      "Testfig Saved\n"
     ]
    },
    {
     "name": "stderr",
     "output_type": "stream",
     "text": [
      "C:\\Users\\gandalf\\Documents\\Python Scripts\\SPORK-SPIN-master\\SPORK-SPIN-master\\arcalg_figure4.py:555: RuntimeWarning: invalid value encountered in true_divide\n",
      "  shaped_ang = (180-np.abs(shaped_ang))*(shaped_ang/np.abs(shaped_ang))\n"
     ]
    },
    {
     "name": "stdout",
     "output_type": "stream",
     "text": [
      "Figure Saved\n",
      "in loop\n",
      "19\n",
      "in loop\n",
      "19\n",
      "in loop\n",
      "19\n",
      "in loop\n",
      "19\n",
      "in loop\n",
      "19\n",
      "in loop\n",
      "19\n",
      "in loop\n",
      "19\n",
      "in loop\n",
      "19\n",
      "in loop\n",
      "19\n",
      "File Reading\n",
      "in loop\n",
      "19\n",
      "Pre-grid Organization Section\n",
      "KDP Section\n",
      "Grid Section\n"
     ]
    },
    {
     "name": "stderr",
     "output_type": "stream",
     "text": [
      "C:\\Users\\gandalf\\anaconda3\\envs\\radar\\lib\\site-packages\\pyart\\map\\gates_to_grid.py:160: DeprecationWarning: Barnes weighting function is deprecated. Please use Barnes 2 to be consistent with Pauley and Wu 1990.\n",
      "  warnings.warn(\"Barnes weighting function is deprecated.\"\n"
     ]
    },
    {
     "name": "stdout",
     "output_type": "stream",
     "text": [
      "Gradient Analysis and Masking\n",
      "(-96.0787353515625, 28.471900939941406, <cartopy.crs.PlateCarree object at 0x000001A900124360>)\n"
     ]
    },
    {
     "name": "stderr",
     "output_type": "stream",
     "text": [
      "C:\\Users\\gandalf\\anaconda3\\envs\\radar\\lib\\site-packages\\pyproj\\crs\\crs.py:53: FutureWarning: '+init=<authority>:<code>' syntax is deprecated. '<authority>:<code>' is the preferred initialization method. When making the change, be mindful of axis order changes: https://pyproj4.github.io/pyproj/stable/gotchas.html#axis-order-changes-in-proj-6\n",
      "  return _prepare_from_string(\" \".join(pjargs))\n",
      "C:\\Users\\gandalf\\anaconda3\\envs\\radar\\lib\\site-packages\\pyproj\\crs\\crs.py:294: FutureWarning: '+init=<authority>:<code>' syntax is deprecated. '<authority>:<code>' is the preferred initialization method. When making the change, be mindful of axis order changes: https://pyproj4.github.io/pyproj/stable/gotchas.html#axis-order-changes-in-proj-6\n",
      "  projstring = _prepare_from_string(\" \".join((projstring, projkwargs)))\n",
      "C:\\Users\\gandalf\\anaconda3\\envs\\radar\\lib\\site-packages\\pyproj\\crs\\crs.py:53: FutureWarning: '+init=<authority>:<code>' syntax is deprecated. '<authority>:<code>' is the preferred initialization method. When making the change, be mindful of axis order changes: https://pyproj4.github.io/pyproj/stable/gotchas.html#axis-order-changes-in-proj-6\n",
      "  return _prepare_from_string(\" \".join(pjargs))\n",
      "C:\\Users\\gandalf\\anaconda3\\envs\\radar\\lib\\site-packages\\pyproj\\crs\\crs.py:294: FutureWarning: '+init=<authority>:<code>' syntax is deprecated. '<authority>:<code>' is the preferred initialization method. When making the change, be mindful of axis order changes: https://pyproj4.github.io/pyproj/stable/gotchas.html#axis-order-changes-in-proj-6\n",
      "  projstring = _prepare_from_string(\" \".join((projstring, projkwargs)))\n",
      "C:\\Users\\gandalf\\anaconda3\\envs\\radar\\lib\\site-packages\\cartopy\\mpl\\geoaxes.py:1366: UserWarning: The following kwargs were not used by contour: 'linestyle'\n",
      "  result = matplotlib.axes.Axes.contour(self, *args, **kwargs)\n"
     ]
    },
    {
     "name": "stdout",
     "output_type": "stream",
     "text": [
      "Testfig Saved\n"
     ]
    },
    {
     "name": "stderr",
     "output_type": "stream",
     "text": [
      "C:\\Users\\gandalf\\Documents\\Python Scripts\\SPORK-SPIN-master\\SPORK-SPIN-master\\arcalg_figure4.py:555: RuntimeWarning: invalid value encountered in true_divide\n",
      "  shaped_ang = (180-np.abs(shaped_ang))*(shaped_ang/np.abs(shaped_ang))\n"
     ]
    },
    {
     "name": "stdout",
     "output_type": "stream",
     "text": [
      "Figure Saved\n",
      "in loop\n",
      "19\n",
      "in loop\n",
      "19\n",
      "in loop\n",
      "19\n",
      "in loop\n",
      "19\n",
      "in loop\n",
      "19\n",
      "in loop\n",
      "19\n",
      "in loop\n",
      "19\n",
      "in loop\n",
      "19\n",
      "in loop\n",
      "19\n",
      "Pre-grid Organization Section\n",
      "KDP Section\n",
      "Grid Section\n"
     ]
    },
    {
     "name": "stderr",
     "output_type": "stream",
     "text": [
      "C:\\Users\\gandalf\\anaconda3\\envs\\radar\\lib\\site-packages\\pyart\\map\\gates_to_grid.py:160: DeprecationWarning: Barnes weighting function is deprecated. Please use Barnes 2 to be consistent with Pauley and Wu 1990.\n",
      "  warnings.warn(\"Barnes weighting function is deprecated.\"\n"
     ]
    },
    {
     "name": "stdout",
     "output_type": "stream",
     "text": [
      "Gradient Analysis and Masking\n",
      "(-96.0787353515625, 28.471900939941406, <cartopy.crs.PlateCarree object at 0x000001A90DFA66D0>)\n"
     ]
    },
    {
     "name": "stderr",
     "output_type": "stream",
     "text": [
      "C:\\Users\\gandalf\\anaconda3\\envs\\radar\\lib\\site-packages\\pyproj\\crs\\crs.py:53: FutureWarning: '+init=<authority>:<code>' syntax is deprecated. '<authority>:<code>' is the preferred initialization method. When making the change, be mindful of axis order changes: https://pyproj4.github.io/pyproj/stable/gotchas.html#axis-order-changes-in-proj-6\n",
      "  return _prepare_from_string(\" \".join(pjargs))\n",
      "C:\\Users\\gandalf\\anaconda3\\envs\\radar\\lib\\site-packages\\pyproj\\crs\\crs.py:294: FutureWarning: '+init=<authority>:<code>' syntax is deprecated. '<authority>:<code>' is the preferred initialization method. When making the change, be mindful of axis order changes: https://pyproj4.github.io/pyproj/stable/gotchas.html#axis-order-changes-in-proj-6\n",
      "  projstring = _prepare_from_string(\" \".join((projstring, projkwargs)))\n",
      "C:\\Users\\gandalf\\anaconda3\\envs\\radar\\lib\\site-packages\\pyproj\\crs\\crs.py:53: FutureWarning: '+init=<authority>:<code>' syntax is deprecated. '<authority>:<code>' is the preferred initialization method. When making the change, be mindful of axis order changes: https://pyproj4.github.io/pyproj/stable/gotchas.html#axis-order-changes-in-proj-6\n",
      "  return _prepare_from_string(\" \".join(pjargs))\n",
      "C:\\Users\\gandalf\\anaconda3\\envs\\radar\\lib\\site-packages\\pyproj\\crs\\crs.py:294: FutureWarning: '+init=<authority>:<code>' syntax is deprecated. '<authority>:<code>' is the preferred initialization method. When making the change, be mindful of axis order changes: https://pyproj4.github.io/pyproj/stable/gotchas.html#axis-order-changes-in-proj-6\n",
      "  projstring = _prepare_from_string(\" \".join((projstring, projkwargs)))\n"
     ]
    },
    {
     "name": "stdout",
     "output_type": "stream",
     "text": [
      "Testfig Saved\n"
     ]
    },
    {
     "name": "stderr",
     "output_type": "stream",
     "text": [
      "C:\\Users\\gandalf\\Documents\\Python Scripts\\SPORK-SPIN-master\\SPORK-SPIN-master\\arcalg_figure4.py:555: RuntimeWarning: invalid value encountered in true_divide\n",
      "  shaped_ang = (180-np.abs(shaped_ang))*(shaped_ang/np.abs(shaped_ang))\n"
     ]
    },
    {
     "name": "stdout",
     "output_type": "stream",
     "text": [
      "Figure Saved\n",
      "in loop\n",
      "19\n",
      "in loop\n",
      "19\n",
      "in loop\n",
      "19\n",
      "in loop\n",
      "19\n",
      "in loop\n",
      "19\n",
      "in loop\n",
      "19\n",
      "in loop\n",
      "19\n",
      "in loop\n",
      "19\n",
      "in loop\n",
      "19\n",
      "Fin\n",
      "2020-06-06 01:25:28.806461\n"
     ]
    }
   ],
   "source": [
    "#TEST LOOP-to test modifications of the algorithm\n",
    "#Track_distance should be 10 by default\n",
    "track_distance=7\n",
    "print(datetime.utcnow())\n",
    "#for i in range(len(durations)):\n",
    "#Re-run: 0, 2, 4, 6, 8, 9, 10, 11 (for z thresholds), 12\n",
    "#for i in [5]:\n",
    "\n",
    "for i in [7]:\n",
    "    #print(multi_case_algorithm_ML1(150,3.25,1.5,45,50,300,25,2,2013,8,10,18,0,1.0,-0.03755074,'KAKQ',4623))\n",
    "    tracks_dataframe, zdroutlines = multi_case_algorithm_ML1_figure4(storm_relative_dirs[i],3.25,1.5,REFlevs[i],REFlev1s[i],big_storms[i],70,storm_to_tracks[i],years[i],months[i],days[i],hours[i],start_mins[i],durations[i],calibrations[i],stations[i], 259, track_dis=track_distance, GR_mins = 1.0)\n",
    "    #tracks_dataframe, zdroutlines, col_areas, col_lon, col_storm_lon = multi_case_algorithm_ML1_devLOCAL(storm_relative_dirs[i],3.25,1.5,REFlevs[i],REFlev1s[i],big_storms[i],70,storm_to_tracks[i],years[i],months[i],days[i],hours[i],start_mins[i],durations[i],calibrations[i],stations[i],h_calstm[i], localfolder[i], track_dis=10)\n",
    "\n",
    "    #tracks_dataframe.to_pickle('ARCDEV'+str(years[i])+str(months[i])+str(days[i])+str(stations[i])+'.pkl')\n",
    "print(datetime.utcnow())"
   ]
  },
  {
   "cell_type": "code",
   "execution_count": null,
   "metadata": {},
   "outputs": [],
   "source": []
  }
 ],
 "metadata": {
  "kernelspec": {
   "display_name": "Python 3",
   "language": "python",
   "name": "python3"
  },
  "language_info": {
   "codemirror_mode": {
    "name": "ipython",
    "version": 3
   },
   "file_extension": ".py",
   "mimetype": "text/x-python",
   "name": "python",
   "nbconvert_exporter": "python",
   "pygments_lexer": "ipython3",
   "version": "3.8.1"
  }
 },
 "nbformat": 4,
 "nbformat_minor": 2
}
