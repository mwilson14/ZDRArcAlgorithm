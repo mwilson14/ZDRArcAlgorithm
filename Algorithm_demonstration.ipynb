{
 "cells": [
  {
   "cell_type": "code",
   "execution_count": 1,
   "metadata": {},
   "outputs": [
    {
     "name": "stdout",
     "output_type": "stream",
     "text": [
      "\n",
      "## You are using the Python ARM Radar Toolkit (Py-ART), an open source\n",
      "## library for working with weather radar data. Py-ART is partly\n",
      "## supported by the U.S. Department of Energy as part of the Atmospheric\n",
      "## Radiation Measurement (ARM) Climate Research Facility, an Office of\n",
      "## Science user facility.\n",
      "##\n",
      "## If you use this software to prepare a publication, please cite:\n",
      "##\n",
      "##     JJ Helmus and SM Collis, JORS 2016, doi: 10.5334/jors.119\n",
      "\n"
     ]
    },
    {
     "name": "stderr",
     "output_type": "stream",
     "text": [
      "C:\\Users\\matts\\AppData\\Local\\Continuum\\anaconda3\\envs\\radar\\lib\\site-packages\\pyart\\graph\\cm.py:104: FutureWarning: elementwise comparison failed; returning scalar instead, but in the future will perform elementwise comparison\n",
      "  if 'red' in spec:\n",
      "C:\\Users\\matts\\AppData\\Local\\Continuum\\anaconda3\\envs\\radar\\lib\\site-packages\\pyart\\graph\\cm_colorblind.py:32: FutureWarning: elementwise comparison failed; returning scalar instead, but in the future will perform elementwise comparison\n",
      "  if 'red' in spec:\n"
     ]
    }
   ],
   "source": [
    "from arcalg_framework import multi_case_algorithm_ML1_arcdev\n",
    "\n",
    "import numpy as np\n",
    "import pandas as pd\n",
    "from datetime import datetime, timedelta\n",
    "#from partone import multi_case_algorithm_ML1\n",
    "#from RidiculousUnaltered import multi_case_algorithm_ML1"
   ]
  },
  {
   "cell_type": "code",
   "execution_count": 2,
   "metadata": {},
   "outputs": [],
   "source": [
    "#Array for storms A, B, BB, CC, D, DD, EE\n",
    "#FFD angle (in degrees)\n",
    "storm_relative_dirs = np.asarray([190, 180, 190, 190, 180, 160, 200])\n",
    "#ZDR threshold\n",
    "zdrlevs = np.asarray([3.25, 3.25, 3.25, 3.25, 3.25, 3.25, 3.25])\n",
    "#KDP threshold for KDP foot\n",
    "kdplevs = np.asarray([1.5, 1.5, 1.5, 1.5, 1.5, 1.5, 1.5])\n",
    "#First Z level used in tracking algorithm\n",
    "REFlevs = np.asarray([45, 45, 45, 45, 45, 45, 30])\n",
    "#Second Z level used in tracking algorithm\n",
    "REFlev1s = np.asarray([50, 50, 50, 50, 50, 50, 35])\n",
    "#Storm size above which the second tracking level will be used to look for embedded cores\n",
    "big_storms = np.asarray([300, 300, 300, 300, 300, 300, 300])\n",
    "#Obsolete parameter\n",
    "zero_z_triggers = np.asarray([17, 17, 17, 17, 17, 17, 17])\n",
    "#Another obsolete parameter\n",
    "storm_to_tracks = np.asarray([1, 2, 2, 0, 2, 4, 6])\n",
    "#Start year for each case\n",
    "years = np.asarray([2013, 2013, 2013, 2013, 2012, 2013, 2012])\n",
    "#Start month\n",
    "months = np.asarray([8, 4, 5, 6, 3, 11, 6])\n",
    "#Start day\n",
    "days = np.asarray([31, 17, 20, 19, 3, 17, 9])\n",
    "#Start hour (UTC)\n",
    "hours = np.asarray([0, 22, 20, 22, 1, 17, 0])\n",
    "#Start minute\n",
    "start_mins = np.asarray([0, 0, 24, 10, 15, 50, 0])\n",
    "#Case duration after the starting time\n",
    "durations = np.asarray([1.1, 2.1, 1.6, 1.1, 1.8, 0.9, 1.1])#0 should should be 1.1\n",
    "#ZDR calibration\n",
    "calibrations = np.asarray([-0.31838281, -0.09084971,  0.10155261, -0.23676067, -0.12648345, -0.46375372, -0.08756084])\n",
    "#Radar station for each case\n",
    "stations = ['KBIS', 'KFDR', 'KINX', 'KLBB', 'KFFC', 'KLOT', 'KMQT']"
   ]
  },
  {
   "cell_type": "code",
   "execution_count": 3,
   "metadata": {},
   "outputs": [
    {
     "name": "stdout",
     "output_type": "stream",
     "text": [
      "2020-02-14 17:28:42.253778\n",
      "Downloaded KBIS20130831_000147_V06.gz\n",
      "Downloaded KBIS20130831_000603_V06.gz\n",
      "Downloaded KBIS20130831_001018_V06.gz\n",
      "3 out of 3 files downloaded...0 errors\n"
     ]
    },
    {
     "name": "stderr",
     "output_type": "stream",
     "text": [
      "C:\\Users\\matts\\AppData\\Local\\Continuum\\anaconda3\\envs\\radar\\lib\\site-packages\\sklearn\\base.py:306: UserWarning: Trying to unpickle estimator DecisionTreeClassifier from version 0.19.0 when using version 0.21.2. This might lead to breaking code or invalid results. Use at your own risk.\n",
      "  UserWarning)\n",
      "C:\\Users\\matts\\AppData\\Local\\Continuum\\anaconda3\\envs\\radar\\lib\\site-packages\\sklearn\\base.py:306: UserWarning: Trying to unpickle estimator RandomForestClassifier from version 0.19.0 when using version 0.21.2. This might lead to breaking code or invalid results. Use at your own risk.\n",
      "  UserWarning)\n"
     ]
    },
    {
     "name": "stdout",
     "output_type": "stream",
     "text": [
      "File Reading\n",
      "in loop\n",
      "17\n",
      "Pre-grid Organization Section\n",
      "KDP Section\n",
      "Grid Section\n"
     ]
    },
    {
     "name": "stderr",
     "output_type": "stream",
     "text": [
      "C:\\Users\\matts\\AppData\\Local\\Continuum\\anaconda3\\envs\\radar\\lib\\site-packages\\pyart\\map\\gates_to_grid.py:177: DeprecationWarning: Barnes weighting function is deprecated. Please use Barnes 2 to be consistent with Pauley and Wu 1990.\n",
      "  \" Pauley and Wu 1990.\", DeprecationWarning)\n"
     ]
    },
    {
     "name": "stdout",
     "output_type": "stream",
     "text": [
      "Gradient Analysis and Masking\n",
      "(-101.7602767944336, 45.77083206176758, <cartopy.crs.PlateCarree object at 0x0000017F5CDC8948>)\n",
      "Testfig Saved\n"
     ]
    },
    {
     "name": "stderr",
     "output_type": "stream",
     "text": [
      "C:\\Users\\matts\\Documents\\Python Scripts\\SPORK\\arcalg_framework.py:539: RuntimeWarning: invalid value encountered in true_divide\n",
      "  shaped_ang = (180-np.abs(shaped_ang))*(shaped_ang/np.abs(shaped_ang))\n"
     ]
    },
    {
     "name": "stdout",
     "output_type": "stream",
     "text": [
      "Figure Saved\n",
      "in loop\n",
      "17\n",
      "in loop\n",
      "17\n",
      "in loop\n",
      "17\n",
      "in loop\n",
      "17\n",
      "in loop\n",
      "17\n",
      "in loop\n",
      "17\n",
      "in loop\n",
      "17\n",
      "in loop\n",
      "17\n",
      "in loop\n",
      "17\n",
      "in loop\n",
      "17\n",
      "in loop\n",
      "17\n",
      "in loop\n",
      "17\n",
      "in loop\n",
      "17\n",
      "in loop\n",
      "17\n",
      "in loop\n",
      "17\n",
      "in loop\n",
      "17\n",
      "File Reading\n",
      "in loop\n",
      "17\n",
      "Pre-grid Organization Section\n",
      "KDP Section\n",
      "Grid Section\n"
     ]
    },
    {
     "name": "stderr",
     "output_type": "stream",
     "text": [
      "C:\\Users\\matts\\AppData\\Local\\Continuum\\anaconda3\\envs\\radar\\lib\\site-packages\\pyart\\map\\gates_to_grid.py:177: DeprecationWarning: Barnes weighting function is deprecated. Please use Barnes 2 to be consistent with Pauley and Wu 1990.\n",
      "  \" Pauley and Wu 1990.\", DeprecationWarning)\n"
     ]
    },
    {
     "name": "stdout",
     "output_type": "stream",
     "text": [
      "Gradient Analysis and Masking\n",
      "(-101.7602767944336, 45.77083206176758, <cartopy.crs.PlateCarree object at 0x0000017F5CDC8D08>)\n",
      "Testfig Saved\n"
     ]
    },
    {
     "name": "stderr",
     "output_type": "stream",
     "text": [
      "C:\\Users\\matts\\Documents\\Python Scripts\\SPORK\\arcalg_framework.py:539: RuntimeWarning: invalid value encountered in true_divide\n",
      "  shaped_ang = (180-np.abs(shaped_ang))*(shaped_ang/np.abs(shaped_ang))\n"
     ]
    },
    {
     "name": "stdout",
     "output_type": "stream",
     "text": [
      "Figure Saved\n",
      "in loop\n",
      "17\n",
      "in loop\n",
      "17\n",
      "in loop\n",
      "17\n",
      "in loop\n",
      "17\n",
      "in loop\n",
      "17\n",
      "in loop\n",
      "17\n",
      "in loop\n",
      "17\n",
      "in loop\n",
      "17\n",
      "in loop\n",
      "17\n",
      "in loop\n",
      "17\n",
      "in loop\n",
      "17\n",
      "in loop\n",
      "17\n",
      "in loop\n",
      "17\n",
      "in loop\n",
      "17\n",
      "in loop\n",
      "17\n",
      "in loop\n",
      "17\n",
      "File Reading\n",
      "in loop\n",
      "17\n",
      "Pre-grid Organization Section\n",
      "KDP Section\n",
      "Grid Section\n"
     ]
    },
    {
     "name": "stderr",
     "output_type": "stream",
     "text": [
      "C:\\Users\\matts\\AppData\\Local\\Continuum\\anaconda3\\envs\\radar\\lib\\site-packages\\pyart\\map\\gates_to_grid.py:177: DeprecationWarning: Barnes weighting function is deprecated. Please use Barnes 2 to be consistent with Pauley and Wu 1990.\n",
      "  \" Pauley and Wu 1990.\", DeprecationWarning)\n"
     ]
    },
    {
     "name": "stdout",
     "output_type": "stream",
     "text": [
      "Gradient Analysis and Masking\n",
      "(-101.7602767944336, 45.77083206176758, <cartopy.crs.PlateCarree object at 0x0000017F0086E888>)\n",
      "Testfig Saved\n"
     ]
    },
    {
     "name": "stderr",
     "output_type": "stream",
     "text": [
      "C:\\Users\\matts\\AppData\\Local\\Continuum\\anaconda3\\envs\\radar\\lib\\site-packages\\numpy\\core\\fromnumeric.py:3335: RuntimeWarning: Mean of empty slice.\n",
      "  out=out, **kwargs)\n",
      "C:\\Users\\matts\\AppData\\Local\\Continuum\\anaconda3\\envs\\radar\\lib\\site-packages\\numpy\\core\\_methods.py:161: RuntimeWarning: invalid value encountered in true_divide\n",
      "  ret = ret.dtype.type(ret / rcount)\n",
      "C:\\Users\\matts\\Documents\\Python Scripts\\SPORK\\arcalg_framework.py:539: RuntimeWarning: invalid value encountered in true_divide\n",
      "  shaped_ang = (180-np.abs(shaped_ang))*(shaped_ang/np.abs(shaped_ang))\n"
     ]
    },
    {
     "name": "stdout",
     "output_type": "stream",
     "text": [
      "Figure Saved\n",
      "in loop\n",
      "17\n",
      "in loop\n",
      "17\n",
      "in loop\n",
      "17\n",
      "in loop\n",
      "17\n",
      "in loop\n",
      "17\n",
      "in loop\n",
      "17\n",
      "in loop\n",
      "17\n",
      "in loop\n",
      "17\n",
      "in loop\n",
      "17\n",
      "in loop\n",
      "17\n",
      "in loop\n",
      "17\n",
      "in loop\n",
      "17\n",
      "in loop\n",
      "17\n",
      "in loop\n",
      "17\n",
      "in loop\n",
      "17\n",
      "in loop\n",
      "17\n",
      "Fin\n",
      "2020-02-14 18:00:43.311615\n"
     ]
    }
   ],
   "source": [
    "#Loop to run through multiple cases. At the moment, it's only set to run through the first case (KBIS on 31 August 2013)\n",
    "print(datetime.utcnow())\n",
    "#for i in range(len(durations)):\n",
    "#Uncomment line above and comment out the line below to run all of the cases from the cell above\n",
    "#In the call to multi_case_algorithm_ML1_arcdev, the 3.25 and 1.5 are the ZDR and KDP thresholds, the 70 is a placeholder for zero_z_triggers to prevent errors, \n",
    "#the 290 is the storm motion direction used in calculating the separation angle, and track_dis is a tracking threshold\n",
    "#(in km) for the storm tracking algorithm.\n",
    "for i in [0]:\n",
    "    tracks_dataframe, zdroutlines = multi_case_algorithm_ML1_arcdev(storm_relative_dirs[i],3.25,1.5,REFlevs[i],REFlev1s[i],big_storms[i],70,storm_to_tracks[i],years[i],months[i],days[i],hours[i],start_mins[i],durations[i],calibrations[i],stations[i], 290, track_dis=10)\n",
    "\n",
    "    tracks_dataframe.to_pickle('ARCDEV'+str(years[i])+str(months[i])+str(days[i])+str(stations[i])+'.pkl')\n",
    "print(datetime.utcnow())"
   ]
  },
  {
   "cell_type": "code",
   "execution_count": null,
   "metadata": {},
   "outputs": [],
   "source": []
  }
 ],
 "metadata": {
  "kernelspec": {
   "display_name": "Python 3",
   "language": "python",
   "name": "python3"
  },
  "language_info": {
   "codemirror_mode": {
    "name": "ipython",
    "version": 3
   },
   "file_extension": ".py",
   "mimetype": "text/x-python",
   "name": "python",
   "nbconvert_exporter": "python",
   "pygments_lexer": "ipython3",
   "version": "3.7.6"
  }
 },
 "nbformat": 4,
 "nbformat_minor": 2
}
