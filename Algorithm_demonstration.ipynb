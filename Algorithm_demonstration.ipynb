{
 "cells": [
  {
   "cell_type": "code",
   "execution_count": 1,
   "metadata": {},
   "outputs": [
    {
     "name": "stdout",
     "output_type": "stream",
     "text": [
      "\n",
      "## You are using the Python ARM Radar Toolkit (Py-ART), an open source\n",
      "## library for working with weather radar data. Py-ART is partly\n",
      "## supported by the U.S. Department of Energy as part of the Atmospheric\n",
      "## Radiation Measurement (ARM) Climate Research Facility, an Office of\n",
      "## Science user facility.\n",
      "##\n",
      "## If you use this software to prepare a publication, please cite:\n",
      "##\n",
      "##     JJ Helmus and SM Collis, JORS 2016, doi: 10.5334/jors.119\n",
      "\n"
     ]
    }
   ],
   "source": [
    "from arcalg_framework import multi_case_algorithm_ML1_arcdev\n",
    "from arcalg_framework_newforest import multi_case_algorithm_ML1_newforest\n",
    "\n",
    "import numpy as np\n",
    "import pandas as pd\n",
    "from datetime import datetime, timedelta\n",
    "#from partone import multi_case_algorithm_ML1\n",
    "#from RidiculousUnaltered import multi_case_algorithm_ML1"
   ]
  },
  {
   "cell_type": "code",
   "execution_count": null,
   "metadata": {},
   "outputs": [],
   "source": [
    "#Array for storms A, B, BB, CC, D, DD, EE\n",
    "#FFD angle (in degrees)\n",
    "storm_relative_dirs = np.asarray([190, 180, 190, 190, 180, 160, 200])\n",
    "#ZDR threshold\n",
    "zdrlevs = np.asarray([3.25, 3.25, 3.25, 3.25, 3.25, 3.25, 3.25])\n",
    "#KDP threshold for KDP foot\n",
    "kdplevs = np.asarray([1.5, 1.5, 1.5, 1.5, 1.5, 1.5, 1.5])\n",
    "#First Z level used in tracking algorithm\n",
    "REFlevs = np.asarray([45, 45, 45, 45, 45, 45, 30])\n",
    "#Second Z level used in tracking algorithm\n",
    "REFlev1s = np.asarray([50, 50, 50, 50, 50, 50, 35])\n",
    "#Storm size above which the second tracking level will be used to look for embedded cores\n",
    "big_storms = np.asarray([300, 300, 300, 300, 300, 300, 300])\n",
    "#Obsolete parameter\n",
    "zero_z_triggers = np.asarray([17, 17, 17, 17, 17, 17, 17])\n",
    "#Another obsolete parameter\n",
    "storm_to_tracks = np.asarray([1, 2, 2, 0, 2, 4, 6])\n",
    "#Start year for each case\n",
    "years = np.asarray([2013, 2013, 2013, 2013, 2012, 2013, 2012])\n",
    "#Start month\n",
    "months = np.asarray([8, 4, 5, 6, 3, 11, 6])\n",
    "#Start day\n",
    "days = np.asarray([31, 17, 20, 19, 3, 17, 9])\n",
    "#Start hour (UTC)\n",
    "hours = np.asarray([0, 22, 20, 22, 1, 17, 0])\n",
    "#Start minute\n",
    "start_mins = np.asarray([0, 0, 24, 10, 15, 50, 0])\n",
    "#Case duration after the starting time\n",
    "durations = np.asarray([1.1, 2.1, 1.6, 1.1, 1.8, 0.9, 1.1])#0 should should be 1.1\n",
    "#ZDR calibration\n",
    "calibrations = np.asarray([-0.31838281, -0.09084971,  0.10155261, -0.23676067, -0.12648345, -0.46375372, -0.08756084])\n",
    "#Radar station for each case\n",
    "stations = ['KBIS', 'KFDR', 'KINX', 'KLBB', 'KFFC', 'KLOT', 'KMQT']"
   ]
  },
  {
   "cell_type": "code",
   "execution_count": 2,
   "metadata": {},
   "outputs": [],
   "source": [
    "#Array for storms A, B, BB, CC, D, DD, EE\n",
    "#FFD angle (in degrees)\n",
    "storm_relative_dirs = np.asarray([175, 190, 170, 170, 165, 190])\n",
    "#ZDR threshold\n",
    "zdrlevs = np.asarray([3.25, 3.25, 3.25, 3.25, 3.25, 3.25])\n",
    "#KDP threshold for KDP foot\n",
    "kdplevs = np.asarray([1.5, 1.5, 1.5, 1.5, 1.5, 1.5])\n",
    "#First Z level used in tracking algorithm\n",
    "REFlevs = np.asarray([45, 45, 45, 45, 45, 45])\n",
    "#Second Z level used in tracking algorithm\n",
    "REFlev1s = np.asarray([50, 50, 50, 50, 50, 50])\n",
    "#Storm size above which the second tracking level will be used to look for embedded cores\n",
    "big_storms = np.asarray([300, 300, 300, 300, 300, 300])\n",
    "#Obsolete parameter\n",
    "zero_z_triggers = np.asarray([17, 17, 17, 17, 17, 17])\n",
    "#Another obsolete parameter\n",
    "storm_to_tracks = np.asarray([1, 1, 1, 1, 2, 2])\n",
    "#Start year for each case\n",
    "years = np.asarray([2020, 2020, 2020, 2019, 2019, 2020])\n",
    "#Start month\n",
    "months = np.asarray([3, 3, 4, 5, 12, 5])\n",
    "#Start day\n",
    "days = np.asarray([28, 3, 12, 18, 16, 14])\n",
    "#Start hour (UTC)\n",
    "hours = np.asarray([19, 6, 1, 10, 16, 21])\n",
    "#Start minute\n",
    "start_mins = np.asarray([0, 0, 0, 0, 40, 0])\n",
    "#Case duration after the starting time\n",
    "durations = np.asarray([2.0, 2.0, 2.0, 2.0, 1.0, 2.0])#0 should should be 1.1\n",
    "#ZDR calibration\n",
    "calibrations = np.asarray([0.0, 0.0, 0.0, 0.0, 0.0, 0.4114614407221476])\n",
    "#Radar station for each case\n",
    "stations = ['KPBZ', 'KOHX', 'KDFX', 'KDYX', 'KPOE', 'KDMX']"
   ]
  },
  {
   "cell_type": "code",
   "execution_count": 3,
   "metadata": {},
   "outputs": [
    {
     "name": "stdout",
     "output_type": "stream",
     "text": [
      "2020-05-19 01:15:09.075839\n",
      "Downloaded KDMX20200514_210022_V06\n",
      "Downloaded KDMX20200514_212704_V06\n",
      "Downloaded KDMX20200514_211025_V06\n",
      "Downloaded KDMX20200514_211533_V06\n",
      "Downloaded KDMX20200514_212119_V06\n",
      "Downloaded KDMX20200514_210524_V06\n",
      "Downloaded KDMX20200514_213259_V06\n",
      "Downloaded KDMX20200514_215655_V06_MDM\n",
      "Downloaded KDMX20200514_213854_V06\n",
      "Downloaded KDMX20200514_215052_V06\n",
      "Downloaded KDMX20200514_215655_V06\n",
      "Downloaded KDMX20200514_220242_V06\n",
      "Downloaded KDMX20200514_214448_V06\n",
      "Downloaded KDMX20200514_220821_V06\n",
      "Downloaded KDMX20200514_221407_V06\n",
      "Downloaded KDMX20200514_223717_V06\n",
      "Downloaded KDMX20200514_222522_V06\n",
      "Downloaded KDMX20200514_223138_V06\n",
      "Downloaded KDMX20200514_224910_V06\n",
      "Downloaded KDMX20200514_224255_V06\n",
      "Downloaded KDMX20200514_225525_V06_MDM\n",
      "Downloaded KDMX20200514_221944_V06\n",
      "Downloaded KDMX20200514_225525_V06\n",
      "23 out of 23 files downloaded...0 errors\n"
     ]
    },
    {
     "name": "stderr",
     "output_type": "stream",
     "text": [
      "C:\\Users\\matts\\AppData\\Local\\Continuum\\anaconda3\\envs\\SPORK_SP\\lib\\site-packages\\sklearn\\utils\\deprecation.py:144: FutureWarning: The sklearn.ensemble.forest module is  deprecated in version 0.22 and will be removed in version 0.24. The corresponding classes / functions should instead be imported from sklearn.ensemble. Anything that cannot be imported from sklearn.ensemble is now part of the private API.\n",
      "  warnings.warn(message, FutureWarning)\n",
      "C:\\Users\\matts\\AppData\\Local\\Continuum\\anaconda3\\envs\\SPORK_SP\\lib\\site-packages\\sklearn\\utils\\deprecation.py:144: FutureWarning: The sklearn.tree.tree module is  deprecated in version 0.22 and will be removed in version 0.24. The corresponding classes / functions should instead be imported from sklearn.tree. Anything that cannot be imported from sklearn.tree is now part of the private API.\n",
      "  warnings.warn(message, FutureWarning)\n",
      "C:\\Users\\matts\\AppData\\Local\\Continuum\\anaconda3\\envs\\SPORK_SP\\lib\\site-packages\\sklearn\\base.py:313: UserWarning: Trying to unpickle estimator DecisionTreeClassifier from version 0.19.0 when using version 0.22.1. This might lead to breaking code or invalid results. Use at your own risk.\n",
      "  warnings.warn(\n",
      "C:\\Users\\matts\\AppData\\Local\\Continuum\\anaconda3\\envs\\SPORK_SP\\lib\\site-packages\\sklearn\\base.py:313: UserWarning: Trying to unpickle estimator RandomForestClassifier from version 0.19.0 when using version 0.22.1. This might lead to breaking code or invalid results. Use at your own risk.\n",
      "  warnings.warn(\n"
     ]
    },
    {
     "name": "stdout",
     "output_type": "stream",
     "text": [
      "File Reading\n",
      "in loop\n",
      "19\n",
      "Pre-grid Organization Section\n",
      "KDP Section\n",
      "Grid Section\n"
     ]
    },
    {
     "name": "stderr",
     "output_type": "stream",
     "text": [
      "C:\\Users\\matts\\AppData\\Local\\Continuum\\anaconda3\\envs\\SPORK_SP\\lib\\site-packages\\pyart\\map\\gates_to_grid.py:160: DeprecationWarning: Barnes weighting function is deprecated. Please use Barnes 2 to be consistent with Pauley and Wu 1990.\n",
      "  warnings.warn(\"Barnes weighting function is deprecated.\"\n"
     ]
    },
    {
     "name": "stdout",
     "output_type": "stream",
     "text": [
      "Gradient Analysis and Masking\n",
      "(-94.72286987304688, 40.731201171875, <cartopy.crs.PlateCarree object at 0x00000239EB78C860>)\n"
     ]
    },
    {
     "name": "stderr",
     "output_type": "stream",
     "text": [
      "C:\\Users\\matts\\AppData\\Local\\Continuum\\anaconda3\\envs\\SPORK_SP\\lib\\site-packages\\pyproj\\crs\\crs.py:53: FutureWarning: '+init=<authority>:<code>' syntax is deprecated. '<authority>:<code>' is the preferred initialization method. When making the change, be mindful of axis order changes: https://pyproj4.github.io/pyproj/stable/gotchas.html#axis-order-changes-in-proj-6\n",
      "  return _prepare_from_string(\" \".join(pjargs))\n",
      "C:\\Users\\matts\\AppData\\Local\\Continuum\\anaconda3\\envs\\SPORK_SP\\lib\\site-packages\\pyproj\\crs\\crs.py:294: FutureWarning: '+init=<authority>:<code>' syntax is deprecated. '<authority>:<code>' is the preferred initialization method. When making the change, be mindful of axis order changes: https://pyproj4.github.io/pyproj/stable/gotchas.html#axis-order-changes-in-proj-6\n",
      "  projstring = _prepare_from_string(\" \".join((projstring, projkwargs)))\n",
      "C:\\Users\\matts\\AppData\\Local\\Continuum\\anaconda3\\envs\\SPORK_SP\\lib\\site-packages\\pyproj\\crs\\crs.py:53: FutureWarning: '+init=<authority>:<code>' syntax is deprecated. '<authority>:<code>' is the preferred initialization method. When making the change, be mindful of axis order changes: https://pyproj4.github.io/pyproj/stable/gotchas.html#axis-order-changes-in-proj-6\n",
      "  return _prepare_from_string(\" \".join(pjargs))\n",
      "C:\\Users\\matts\\AppData\\Local\\Continuum\\anaconda3\\envs\\SPORK_SP\\lib\\site-packages\\pyproj\\crs\\crs.py:294: FutureWarning: '+init=<authority>:<code>' syntax is deprecated. '<authority>:<code>' is the preferred initialization method. When making the change, be mindful of axis order changes: https://pyproj4.github.io/pyproj/stable/gotchas.html#axis-order-changes-in-proj-6\n",
      "  projstring = _prepare_from_string(\" \".join((projstring, projkwargs)))\n"
     ]
    },
    {
     "name": "stdout",
     "output_type": "stream",
     "text": [
      "Testfig Saved\n"
     ]
    },
    {
     "name": "stderr",
     "output_type": "stream",
     "text": [
      "C:\\Users\\matts\\Documents\\Python Scripts\\SPORK\\arcalg_framework.py:539: RuntimeWarning: invalid value encountered in true_divide\n",
      "  shaped_ang = (180-np.abs(shaped_ang))*(shaped_ang/np.abs(shaped_ang))\n"
     ]
    },
    {
     "name": "stdout",
     "output_type": "stream",
     "text": [
      "Figure Saved\n",
      "in loop\n",
      "19\n",
      "in loop\n",
      "19\n",
      "in loop\n",
      "19\n",
      "in loop\n",
      "19\n",
      "in loop\n",
      "19\n",
      "in loop\n",
      "19\n",
      "in loop\n",
      "19\n",
      "in loop\n",
      "19\n",
      "in loop\n",
      "19\n",
      "Pre-grid Organization Section\n",
      "KDP Section\n",
      "Grid Section\n"
     ]
    },
    {
     "name": "stderr",
     "output_type": "stream",
     "text": [
      "C:\\Users\\matts\\AppData\\Local\\Continuum\\anaconda3\\envs\\SPORK_SP\\lib\\site-packages\\pyart\\map\\gates_to_grid.py:160: DeprecationWarning: Barnes weighting function is deprecated. Please use Barnes 2 to be consistent with Pauley and Wu 1990.\n",
      "  warnings.warn(\"Barnes weighting function is deprecated.\"\n"
     ]
    },
    {
     "name": "stdout",
     "output_type": "stream",
     "text": [
      "Gradient Analysis and Masking\n",
      "(-94.72286987304688, 40.731201171875, <cartopy.crs.PlateCarree object at 0x00000239EB78CB80>)\n"
     ]
    },
    {
     "name": "stderr",
     "output_type": "stream",
     "text": [
      "C:\\Users\\matts\\AppData\\Local\\Continuum\\anaconda3\\envs\\SPORK_SP\\lib\\site-packages\\pyproj\\crs\\crs.py:53: FutureWarning: '+init=<authority>:<code>' syntax is deprecated. '<authority>:<code>' is the preferred initialization method. When making the change, be mindful of axis order changes: https://pyproj4.github.io/pyproj/stable/gotchas.html#axis-order-changes-in-proj-6\n",
      "  return _prepare_from_string(\" \".join(pjargs))\n",
      "C:\\Users\\matts\\AppData\\Local\\Continuum\\anaconda3\\envs\\SPORK_SP\\lib\\site-packages\\pyproj\\crs\\crs.py:294: FutureWarning: '+init=<authority>:<code>' syntax is deprecated. '<authority>:<code>' is the preferred initialization method. When making the change, be mindful of axis order changes: https://pyproj4.github.io/pyproj/stable/gotchas.html#axis-order-changes-in-proj-6\n",
      "  projstring = _prepare_from_string(\" \".join((projstring, projkwargs)))\n",
      "C:\\Users\\matts\\AppData\\Local\\Continuum\\anaconda3\\envs\\SPORK_SP\\lib\\site-packages\\pyproj\\crs\\crs.py:53: FutureWarning: '+init=<authority>:<code>' syntax is deprecated. '<authority>:<code>' is the preferred initialization method. When making the change, be mindful of axis order changes: https://pyproj4.github.io/pyproj/stable/gotchas.html#axis-order-changes-in-proj-6\n",
      "  return _prepare_from_string(\" \".join(pjargs))\n",
      "C:\\Users\\matts\\AppData\\Local\\Continuum\\anaconda3\\envs\\SPORK_SP\\lib\\site-packages\\pyproj\\crs\\crs.py:294: FutureWarning: '+init=<authority>:<code>' syntax is deprecated. '<authority>:<code>' is the preferred initialization method. When making the change, be mindful of axis order changes: https://pyproj4.github.io/pyproj/stable/gotchas.html#axis-order-changes-in-proj-6\n",
      "  projstring = _prepare_from_string(\" \".join((projstring, projkwargs)))\n"
     ]
    },
    {
     "name": "stdout",
     "output_type": "stream",
     "text": [
      "Testfig Saved\n"
     ]
    },
    {
     "name": "stderr",
     "output_type": "stream",
     "text": [
      "C:\\Users\\matts\\Documents\\Python Scripts\\SPORK\\arcalg_framework.py:539: RuntimeWarning: invalid value encountered in true_divide\n",
      "  shaped_ang = (180-np.abs(shaped_ang))*(shaped_ang/np.abs(shaped_ang))\n"
     ]
    },
    {
     "name": "stdout",
     "output_type": "stream",
     "text": [
      "Figure Saved\n",
      "in loop\n",
      "19\n",
      "in loop\n",
      "19\n",
      "in loop\n",
      "19\n",
      "in loop\n",
      "19\n",
      "in loop\n",
      "19\n",
      "in loop\n",
      "19\n",
      "in loop\n",
      "19\n",
      "in loop\n",
      "19\n",
      "in loop\n",
      "19\n",
      "File Reading\n",
      "in loop\n",
      "19\n",
      "Pre-grid Organization Section\n",
      "KDP Section\n",
      "Grid Section\n"
     ]
    },
    {
     "name": "stderr",
     "output_type": "stream",
     "text": [
      "C:\\Users\\matts\\AppData\\Local\\Continuum\\anaconda3\\envs\\SPORK_SP\\lib\\site-packages\\pyart\\map\\gates_to_grid.py:160: DeprecationWarning: Barnes weighting function is deprecated. Please use Barnes 2 to be consistent with Pauley and Wu 1990.\n",
      "  warnings.warn(\"Barnes weighting function is deprecated.\"\n"
     ]
    },
    {
     "name": "stdout",
     "output_type": "stream",
     "text": [
      "Gradient Analysis and Masking\n",
      "(-94.72286987304688, 40.731201171875, <cartopy.crs.PlateCarree object at 0x000002398DCE5720>)\n"
     ]
    },
    {
     "name": "stderr",
     "output_type": "stream",
     "text": [
      "C:\\Users\\matts\\AppData\\Local\\Continuum\\anaconda3\\envs\\SPORK_SP\\lib\\site-packages\\pyproj\\crs\\crs.py:53: FutureWarning: '+init=<authority>:<code>' syntax is deprecated. '<authority>:<code>' is the preferred initialization method. When making the change, be mindful of axis order changes: https://pyproj4.github.io/pyproj/stable/gotchas.html#axis-order-changes-in-proj-6\n",
      "  return _prepare_from_string(\" \".join(pjargs))\n",
      "C:\\Users\\matts\\AppData\\Local\\Continuum\\anaconda3\\envs\\SPORK_SP\\lib\\site-packages\\pyproj\\crs\\crs.py:294: FutureWarning: '+init=<authority>:<code>' syntax is deprecated. '<authority>:<code>' is the preferred initialization method. When making the change, be mindful of axis order changes: https://pyproj4.github.io/pyproj/stable/gotchas.html#axis-order-changes-in-proj-6\n",
      "  projstring = _prepare_from_string(\" \".join((projstring, projkwargs)))\n",
      "C:\\Users\\matts\\AppData\\Local\\Continuum\\anaconda3\\envs\\SPORK_SP\\lib\\site-packages\\pyproj\\crs\\crs.py:53: FutureWarning: '+init=<authority>:<code>' syntax is deprecated. '<authority>:<code>' is the preferred initialization method. When making the change, be mindful of axis order changes: https://pyproj4.github.io/pyproj/stable/gotchas.html#axis-order-changes-in-proj-6\n",
      "  return _prepare_from_string(\" \".join(pjargs))\n",
      "C:\\Users\\matts\\AppData\\Local\\Continuum\\anaconda3\\envs\\SPORK_SP\\lib\\site-packages\\pyproj\\crs\\crs.py:294: FutureWarning: '+init=<authority>:<code>' syntax is deprecated. '<authority>:<code>' is the preferred initialization method. When making the change, be mindful of axis order changes: https://pyproj4.github.io/pyproj/stable/gotchas.html#axis-order-changes-in-proj-6\n",
      "  projstring = _prepare_from_string(\" \".join((projstring, projkwargs)))\n"
     ]
    },
    {
     "name": "stdout",
     "output_type": "stream",
     "text": [
      "Testfig Saved\n"
     ]
    },
    {
     "name": "stderr",
     "output_type": "stream",
     "text": [
      "C:\\Users\\matts\\Documents\\Python Scripts\\SPORK\\arcalg_framework.py:539: RuntimeWarning: invalid value encountered in true_divide\n",
      "  shaped_ang = (180-np.abs(shaped_ang))*(shaped_ang/np.abs(shaped_ang))\n"
     ]
    },
    {
     "name": "stdout",
     "output_type": "stream",
     "text": [
      "Figure Saved\n",
      "in loop\n",
      "19\n",
      "in loop\n",
      "19\n",
      "in loop\n",
      "19\n",
      "in loop\n",
      "19\n",
      "in loop\n",
      "19\n",
      "in loop\n",
      "19\n",
      "in loop\n",
      "19\n",
      "in loop\n",
      "19\n",
      "in loop\n",
      "19\n",
      "Pre-grid Organization Section\n",
      "KDP Section\n",
      "Grid Section\n"
     ]
    },
    {
     "name": "stderr",
     "output_type": "stream",
     "text": [
      "C:\\Users\\matts\\AppData\\Local\\Continuum\\anaconda3\\envs\\SPORK_SP\\lib\\site-packages\\pyart\\map\\gates_to_grid.py:160: DeprecationWarning: Barnes weighting function is deprecated. Please use Barnes 2 to be consistent with Pauley and Wu 1990.\n",
      "  warnings.warn(\"Barnes weighting function is deprecated.\"\n"
     ]
    },
    {
     "name": "stdout",
     "output_type": "stream",
     "text": [
      "Gradient Analysis and Masking\n",
      "(-94.72286987304688, 40.731201171875, <cartopy.crs.PlateCarree object at 0x000002398DCE5C20>)\n"
     ]
    },
    {
     "name": "stderr",
     "output_type": "stream",
     "text": [
      "C:\\Users\\matts\\AppData\\Local\\Continuum\\anaconda3\\envs\\SPORK_SP\\lib\\site-packages\\pyproj\\crs\\crs.py:53: FutureWarning: '+init=<authority>:<code>' syntax is deprecated. '<authority>:<code>' is the preferred initialization method. When making the change, be mindful of axis order changes: https://pyproj4.github.io/pyproj/stable/gotchas.html#axis-order-changes-in-proj-6\n",
      "  return _prepare_from_string(\" \".join(pjargs))\n",
      "C:\\Users\\matts\\AppData\\Local\\Continuum\\anaconda3\\envs\\SPORK_SP\\lib\\site-packages\\pyproj\\crs\\crs.py:294: FutureWarning: '+init=<authority>:<code>' syntax is deprecated. '<authority>:<code>' is the preferred initialization method. When making the change, be mindful of axis order changes: https://pyproj4.github.io/pyproj/stable/gotchas.html#axis-order-changes-in-proj-6\n",
      "  projstring = _prepare_from_string(\" \".join((projstring, projkwargs)))\n",
      "C:\\Users\\matts\\AppData\\Local\\Continuum\\anaconda3\\envs\\SPORK_SP\\lib\\site-packages\\pyproj\\crs\\crs.py:53: FutureWarning: '+init=<authority>:<code>' syntax is deprecated. '<authority>:<code>' is the preferred initialization method. When making the change, be mindful of axis order changes: https://pyproj4.github.io/pyproj/stable/gotchas.html#axis-order-changes-in-proj-6\n",
      "  return _prepare_from_string(\" \".join(pjargs))\n",
      "C:\\Users\\matts\\AppData\\Local\\Continuum\\anaconda3\\envs\\SPORK_SP\\lib\\site-packages\\pyproj\\crs\\crs.py:294: FutureWarning: '+init=<authority>:<code>' syntax is deprecated. '<authority>:<code>' is the preferred initialization method. When making the change, be mindful of axis order changes: https://pyproj4.github.io/pyproj/stable/gotchas.html#axis-order-changes-in-proj-6\n",
      "  projstring = _prepare_from_string(\" \".join((projstring, projkwargs)))\n"
     ]
    },
    {
     "name": "stdout",
     "output_type": "stream",
     "text": [
      "Testfig Saved\n"
     ]
    },
    {
     "name": "stderr",
     "output_type": "stream",
     "text": [
      "C:\\Users\\matts\\Documents\\Python Scripts\\SPORK\\arcalg_framework.py:539: RuntimeWarning: invalid value encountered in true_divide\n",
      "  shaped_ang = (180-np.abs(shaped_ang))*(shaped_ang/np.abs(shaped_ang))\n"
     ]
    },
    {
     "name": "stdout",
     "output_type": "stream",
     "text": [
      "Figure Saved\n",
      "in loop\n",
      "19\n",
      "in loop\n",
      "19\n",
      "in loop\n",
      "19\n",
      "in loop\n",
      "19\n",
      "in loop\n",
      "19\n",
      "in loop\n",
      "19\n",
      "in loop\n",
      "19\n",
      "in loop\n",
      "19\n",
      "in loop\n",
      "19\n",
      "File Reading\n",
      "in loop\n",
      "19\n",
      "Pre-grid Organization Section\n",
      "KDP Section\n",
      "Grid Section\n"
     ]
    },
    {
     "name": "stderr",
     "output_type": "stream",
     "text": [
      "C:\\Users\\matts\\AppData\\Local\\Continuum\\anaconda3\\envs\\SPORK_SP\\lib\\site-packages\\pyart\\map\\gates_to_grid.py:160: DeprecationWarning: Barnes weighting function is deprecated. Please use Barnes 2 to be consistent with Pauley and Wu 1990.\n",
      "  warnings.warn(\"Barnes weighting function is deprecated.\"\n"
     ]
    },
    {
     "name": "stdout",
     "output_type": "stream",
     "text": [
      "Gradient Analysis and Masking\n",
      "(-94.72286987304688, 40.731201171875, <cartopy.crs.PlateCarree object at 0x00000239F25F98B0>)\n"
     ]
    },
    {
     "name": "stderr",
     "output_type": "stream",
     "text": [
      "C:\\Users\\matts\\AppData\\Local\\Continuum\\anaconda3\\envs\\SPORK_SP\\lib\\site-packages\\pyproj\\crs\\crs.py:53: FutureWarning: '+init=<authority>:<code>' syntax is deprecated. '<authority>:<code>' is the preferred initialization method. When making the change, be mindful of axis order changes: https://pyproj4.github.io/pyproj/stable/gotchas.html#axis-order-changes-in-proj-6\n",
      "  return _prepare_from_string(\" \".join(pjargs))\n",
      "C:\\Users\\matts\\AppData\\Local\\Continuum\\anaconda3\\envs\\SPORK_SP\\lib\\site-packages\\pyproj\\crs\\crs.py:294: FutureWarning: '+init=<authority>:<code>' syntax is deprecated. '<authority>:<code>' is the preferred initialization method. When making the change, be mindful of axis order changes: https://pyproj4.github.io/pyproj/stable/gotchas.html#axis-order-changes-in-proj-6\n",
      "  projstring = _prepare_from_string(\" \".join((projstring, projkwargs)))\n",
      "C:\\Users\\matts\\AppData\\Local\\Continuum\\anaconda3\\envs\\SPORK_SP\\lib\\site-packages\\pyproj\\crs\\crs.py:53: FutureWarning: '+init=<authority>:<code>' syntax is deprecated. '<authority>:<code>' is the preferred initialization method. When making the change, be mindful of axis order changes: https://pyproj4.github.io/pyproj/stable/gotchas.html#axis-order-changes-in-proj-6\n",
      "  return _prepare_from_string(\" \".join(pjargs))\n",
      "C:\\Users\\matts\\AppData\\Local\\Continuum\\anaconda3\\envs\\SPORK_SP\\lib\\site-packages\\pyproj\\crs\\crs.py:294: FutureWarning: '+init=<authority>:<code>' syntax is deprecated. '<authority>:<code>' is the preferred initialization method. When making the change, be mindful of axis order changes: https://pyproj4.github.io/pyproj/stable/gotchas.html#axis-order-changes-in-proj-6\n",
      "  projstring = _prepare_from_string(\" \".join((projstring, projkwargs)))\n"
     ]
    },
    {
     "name": "stdout",
     "output_type": "stream",
     "text": [
      "Testfig Saved\n"
     ]
    },
    {
     "name": "stderr",
     "output_type": "stream",
     "text": [
      "C:\\Users\\matts\\Documents\\Python Scripts\\SPORK\\arcalg_framework.py:539: RuntimeWarning: invalid value encountered in true_divide\n",
      "  shaped_ang = (180-np.abs(shaped_ang))*(shaped_ang/np.abs(shaped_ang))\n"
     ]
    },
    {
     "name": "stdout",
     "output_type": "stream",
     "text": [
      "Figure Saved\n",
      "in loop\n",
      "19\n",
      "in loop\n",
      "19\n",
      "in loop\n",
      "19\n",
      "in loop\n",
      "19\n",
      "in loop\n",
      "19\n",
      "in loop\n",
      "19\n",
      "in loop\n",
      "19\n",
      "in loop\n",
      "19\n",
      "in loop\n",
      "19\n",
      "Pre-grid Organization Section\n",
      "KDP Section\n",
      "Grid Section\n"
     ]
    },
    {
     "name": "stderr",
     "output_type": "stream",
     "text": [
      "C:\\Users\\matts\\AppData\\Local\\Continuum\\anaconda3\\envs\\SPORK_SP\\lib\\site-packages\\pyart\\map\\gates_to_grid.py:160: DeprecationWarning: Barnes weighting function is deprecated. Please use Barnes 2 to be consistent with Pauley and Wu 1990.\n",
      "  warnings.warn(\"Barnes weighting function is deprecated.\"\n"
     ]
    },
    {
     "name": "stdout",
     "output_type": "stream",
     "text": [
      "Gradient Analysis and Masking\n",
      "(-94.72286987304688, 40.731201171875, <cartopy.crs.PlateCarree object at 0x00000239ED026AE0>)\n"
     ]
    },
    {
     "name": "stderr",
     "output_type": "stream",
     "text": [
      "C:\\Users\\matts\\AppData\\Local\\Continuum\\anaconda3\\envs\\SPORK_SP\\lib\\site-packages\\pyproj\\crs\\crs.py:53: FutureWarning: '+init=<authority>:<code>' syntax is deprecated. '<authority>:<code>' is the preferred initialization method. When making the change, be mindful of axis order changes: https://pyproj4.github.io/pyproj/stable/gotchas.html#axis-order-changes-in-proj-6\n",
      "  return _prepare_from_string(\" \".join(pjargs))\n",
      "C:\\Users\\matts\\AppData\\Local\\Continuum\\anaconda3\\envs\\SPORK_SP\\lib\\site-packages\\pyproj\\crs\\crs.py:294: FutureWarning: '+init=<authority>:<code>' syntax is deprecated. '<authority>:<code>' is the preferred initialization method. When making the change, be mindful of axis order changes: https://pyproj4.github.io/pyproj/stable/gotchas.html#axis-order-changes-in-proj-6\n",
      "  projstring = _prepare_from_string(\" \".join((projstring, projkwargs)))\n",
      "C:\\Users\\matts\\AppData\\Local\\Continuum\\anaconda3\\envs\\SPORK_SP\\lib\\site-packages\\pyproj\\crs\\crs.py:53: FutureWarning: '+init=<authority>:<code>' syntax is deprecated. '<authority>:<code>' is the preferred initialization method. When making the change, be mindful of axis order changes: https://pyproj4.github.io/pyproj/stable/gotchas.html#axis-order-changes-in-proj-6\n",
      "  return _prepare_from_string(\" \".join(pjargs))\n",
      "C:\\Users\\matts\\AppData\\Local\\Continuum\\anaconda3\\envs\\SPORK_SP\\lib\\site-packages\\pyproj\\crs\\crs.py:294: FutureWarning: '+init=<authority>:<code>' syntax is deprecated. '<authority>:<code>' is the preferred initialization method. When making the change, be mindful of axis order changes: https://pyproj4.github.io/pyproj/stable/gotchas.html#axis-order-changes-in-proj-6\n",
      "  projstring = _prepare_from_string(\" \".join((projstring, projkwargs)))\n"
     ]
    },
    {
     "name": "stdout",
     "output_type": "stream",
     "text": [
      "Testfig Saved\n"
     ]
    },
    {
     "name": "stderr",
     "output_type": "stream",
     "text": [
      "C:\\Users\\matts\\Documents\\Python Scripts\\SPORK\\arcalg_framework.py:539: RuntimeWarning: invalid value encountered in true_divide\n",
      "  shaped_ang = (180-np.abs(shaped_ang))*(shaped_ang/np.abs(shaped_ang))\n"
     ]
    },
    {
     "name": "stdout",
     "output_type": "stream",
     "text": [
      "Figure Saved\n",
      "in loop\n",
      "19\n",
      "in loop\n",
      "19\n",
      "in loop\n",
      "19\n",
      "in loop\n",
      "19\n",
      "in loop\n",
      "19\n",
      "in loop\n",
      "19\n",
      "in loop\n",
      "19\n",
      "in loop\n",
      "19\n",
      "in loop\n",
      "19\n",
      "File Reading\n",
      "in loop\n",
      "21\n",
      "Pre-grid Organization Section\n",
      "KDP Section\n",
      "Grid Section\n"
     ]
    },
    {
     "name": "stderr",
     "output_type": "stream",
     "text": [
      "C:\\Users\\matts\\AppData\\Local\\Continuum\\anaconda3\\envs\\SPORK_SP\\lib\\site-packages\\pyart\\map\\gates_to_grid.py:160: DeprecationWarning: Barnes weighting function is deprecated. Please use Barnes 2 to be consistent with Pauley and Wu 1990.\n",
      "  warnings.warn(\"Barnes weighting function is deprecated.\"\n"
     ]
    },
    {
     "name": "stdout",
     "output_type": "stream",
     "text": [
      "Gradient Analysis and Masking\n",
      "(-94.72286987304688, 40.731201171875, <cartopy.crs.PlateCarree object at 0x000002398DCE5E50>)\n"
     ]
    },
    {
     "name": "stderr",
     "output_type": "stream",
     "text": [
      "C:\\Users\\matts\\AppData\\Local\\Continuum\\anaconda3\\envs\\SPORK_SP\\lib\\site-packages\\pyproj\\crs\\crs.py:53: FutureWarning: '+init=<authority>:<code>' syntax is deprecated. '<authority>:<code>' is the preferred initialization method. When making the change, be mindful of axis order changes: https://pyproj4.github.io/pyproj/stable/gotchas.html#axis-order-changes-in-proj-6\n",
      "  return _prepare_from_string(\" \".join(pjargs))\n",
      "C:\\Users\\matts\\AppData\\Local\\Continuum\\anaconda3\\envs\\SPORK_SP\\lib\\site-packages\\pyproj\\crs\\crs.py:294: FutureWarning: '+init=<authority>:<code>' syntax is deprecated. '<authority>:<code>' is the preferred initialization method. When making the change, be mindful of axis order changes: https://pyproj4.github.io/pyproj/stable/gotchas.html#axis-order-changes-in-proj-6\n",
      "  projstring = _prepare_from_string(\" \".join((projstring, projkwargs)))\n",
      "C:\\Users\\matts\\AppData\\Local\\Continuum\\anaconda3\\envs\\SPORK_SP\\lib\\site-packages\\pyproj\\crs\\crs.py:53: FutureWarning: '+init=<authority>:<code>' syntax is deprecated. '<authority>:<code>' is the preferred initialization method. When making the change, be mindful of axis order changes: https://pyproj4.github.io/pyproj/stable/gotchas.html#axis-order-changes-in-proj-6\n",
      "  return _prepare_from_string(\" \".join(pjargs))\n",
      "C:\\Users\\matts\\AppData\\Local\\Continuum\\anaconda3\\envs\\SPORK_SP\\lib\\site-packages\\pyproj\\crs\\crs.py:294: FutureWarning: '+init=<authority>:<code>' syntax is deprecated. '<authority>:<code>' is the preferred initialization method. When making the change, be mindful of axis order changes: https://pyproj4.github.io/pyproj/stable/gotchas.html#axis-order-changes-in-proj-6\n",
      "  projstring = _prepare_from_string(\" \".join((projstring, projkwargs)))\n"
     ]
    },
    {
     "name": "stdout",
     "output_type": "stream",
     "text": [
      "Testfig Saved\n"
     ]
    },
    {
     "name": "stderr",
     "output_type": "stream",
     "text": [
      "C:\\Users\\matts\\Documents\\Python Scripts\\SPORK\\arcalg_framework.py:539: RuntimeWarning: invalid value encountered in true_divide\n",
      "  shaped_ang = (180-np.abs(shaped_ang))*(shaped_ang/np.abs(shaped_ang))\n"
     ]
    },
    {
     "name": "stdout",
     "output_type": "stream",
     "text": [
      "Figure Saved\n",
      "in loop\n",
      "21\n",
      "in loop\n",
      "21\n",
      "in loop\n",
      "21\n",
      "in loop\n",
      "21\n",
      "in loop\n",
      "21\n",
      "in loop\n",
      "21\n",
      "in loop\n",
      "21\n",
      "in loop\n",
      "21\n",
      "in loop\n",
      "21\n",
      "in loop\n",
      "21\n",
      "Pre-grid Organization Section\n",
      "KDP Section\n",
      "Grid Section\n"
     ]
    },
    {
     "name": "stderr",
     "output_type": "stream",
     "text": [
      "C:\\Users\\matts\\AppData\\Local\\Continuum\\anaconda3\\envs\\SPORK_SP\\lib\\site-packages\\pyart\\map\\gates_to_grid.py:160: DeprecationWarning: Barnes weighting function is deprecated. Please use Barnes 2 to be consistent with Pauley and Wu 1990.\n",
      "  warnings.warn(\"Barnes weighting function is deprecated.\"\n"
     ]
    },
    {
     "name": "stdout",
     "output_type": "stream",
     "text": [
      "Gradient Analysis and Masking\n",
      "(-94.72286987304688, 40.731201171875, <cartopy.crs.PlateCarree object at 0x000002398DCC9950>)\n"
     ]
    },
    {
     "name": "stderr",
     "output_type": "stream",
     "text": [
      "C:\\Users\\matts\\AppData\\Local\\Continuum\\anaconda3\\envs\\SPORK_SP\\lib\\site-packages\\pyproj\\crs\\crs.py:53: FutureWarning: '+init=<authority>:<code>' syntax is deprecated. '<authority>:<code>' is the preferred initialization method. When making the change, be mindful of axis order changes: https://pyproj4.github.io/pyproj/stable/gotchas.html#axis-order-changes-in-proj-6\n",
      "  return _prepare_from_string(\" \".join(pjargs))\n",
      "C:\\Users\\matts\\AppData\\Local\\Continuum\\anaconda3\\envs\\SPORK_SP\\lib\\site-packages\\pyproj\\crs\\crs.py:294: FutureWarning: '+init=<authority>:<code>' syntax is deprecated. '<authority>:<code>' is the preferred initialization method. When making the change, be mindful of axis order changes: https://pyproj4.github.io/pyproj/stable/gotchas.html#axis-order-changes-in-proj-6\n",
      "  projstring = _prepare_from_string(\" \".join((projstring, projkwargs)))\n",
      "C:\\Users\\matts\\AppData\\Local\\Continuum\\anaconda3\\envs\\SPORK_SP\\lib\\site-packages\\pyproj\\crs\\crs.py:53: FutureWarning: '+init=<authority>:<code>' syntax is deprecated. '<authority>:<code>' is the preferred initialization method. When making the change, be mindful of axis order changes: https://pyproj4.github.io/pyproj/stable/gotchas.html#axis-order-changes-in-proj-6\n",
      "  return _prepare_from_string(\" \".join(pjargs))\n",
      "C:\\Users\\matts\\AppData\\Local\\Continuum\\anaconda3\\envs\\SPORK_SP\\lib\\site-packages\\pyproj\\crs\\crs.py:294: FutureWarning: '+init=<authority>:<code>' syntax is deprecated. '<authority>:<code>' is the preferred initialization method. When making the change, be mindful of axis order changes: https://pyproj4.github.io/pyproj/stable/gotchas.html#axis-order-changes-in-proj-6\n",
      "  projstring = _prepare_from_string(\" \".join((projstring, projkwargs)))\n"
     ]
    },
    {
     "name": "stdout",
     "output_type": "stream",
     "text": [
      "Testfig Saved\n"
     ]
    },
    {
     "name": "stderr",
     "output_type": "stream",
     "text": [
      "C:\\Users\\matts\\Documents\\Python Scripts\\SPORK\\arcalg_framework.py:539: RuntimeWarning: invalid value encountered in true_divide\n",
      "  shaped_ang = (180-np.abs(shaped_ang))*(shaped_ang/np.abs(shaped_ang))\n"
     ]
    },
    {
     "name": "stdout",
     "output_type": "stream",
     "text": [
      "Figure Saved\n",
      "in loop\n",
      "21\n",
      "in loop\n",
      "21\n",
      "in loop\n",
      "21\n",
      "in loop\n",
      "21\n",
      "in loop\n",
      "21\n",
      "in loop\n",
      "21\n",
      "in loop\n",
      "21\n",
      "in loop\n",
      "21\n",
      "in loop\n",
      "21\n",
      "in loop\n",
      "21\n",
      "File Reading\n",
      "in loop\n",
      "21\n",
      "Pre-grid Organization Section\n",
      "KDP Section\n",
      "Grid Section\n"
     ]
    },
    {
     "name": "stderr",
     "output_type": "stream",
     "text": [
      "C:\\Users\\matts\\AppData\\Local\\Continuum\\anaconda3\\envs\\SPORK_SP\\lib\\site-packages\\pyart\\map\\gates_to_grid.py:160: DeprecationWarning: Barnes weighting function is deprecated. Please use Barnes 2 to be consistent with Pauley and Wu 1990.\n",
      "  warnings.warn(\"Barnes weighting function is deprecated.\"\n"
     ]
    },
    {
     "name": "stdout",
     "output_type": "stream",
     "text": [
      "Gradient Analysis and Masking\n",
      "(-94.72286987304688, 40.731201171875, <cartopy.crs.PlateCarree object at 0x00000239EC860090>)\n"
     ]
    },
    {
     "name": "stderr",
     "output_type": "stream",
     "text": [
      "C:\\Users\\matts\\AppData\\Local\\Continuum\\anaconda3\\envs\\SPORK_SP\\lib\\site-packages\\pyproj\\crs\\crs.py:53: FutureWarning: '+init=<authority>:<code>' syntax is deprecated. '<authority>:<code>' is the preferred initialization method. When making the change, be mindful of axis order changes: https://pyproj4.github.io/pyproj/stable/gotchas.html#axis-order-changes-in-proj-6\n",
      "  return _prepare_from_string(\" \".join(pjargs))\n",
      "C:\\Users\\matts\\AppData\\Local\\Continuum\\anaconda3\\envs\\SPORK_SP\\lib\\site-packages\\pyproj\\crs\\crs.py:294: FutureWarning: '+init=<authority>:<code>' syntax is deprecated. '<authority>:<code>' is the preferred initialization method. When making the change, be mindful of axis order changes: https://pyproj4.github.io/pyproj/stable/gotchas.html#axis-order-changes-in-proj-6\n",
      "  projstring = _prepare_from_string(\" \".join((projstring, projkwargs)))\n",
      "C:\\Users\\matts\\AppData\\Local\\Continuum\\anaconda3\\envs\\SPORK_SP\\lib\\site-packages\\pyproj\\crs\\crs.py:53: FutureWarning: '+init=<authority>:<code>' syntax is deprecated. '<authority>:<code>' is the preferred initialization method. When making the change, be mindful of axis order changes: https://pyproj4.github.io/pyproj/stable/gotchas.html#axis-order-changes-in-proj-6\n",
      "  return _prepare_from_string(\" \".join(pjargs))\n",
      "C:\\Users\\matts\\AppData\\Local\\Continuum\\anaconda3\\envs\\SPORK_SP\\lib\\site-packages\\pyproj\\crs\\crs.py:294: FutureWarning: '+init=<authority>:<code>' syntax is deprecated. '<authority>:<code>' is the preferred initialization method. When making the change, be mindful of axis order changes: https://pyproj4.github.io/pyproj/stable/gotchas.html#axis-order-changes-in-proj-6\n",
      "  projstring = _prepare_from_string(\" \".join((projstring, projkwargs)))\n"
     ]
    },
    {
     "name": "stdout",
     "output_type": "stream",
     "text": [
      "Testfig Saved\n"
     ]
    },
    {
     "name": "stderr",
     "output_type": "stream",
     "text": [
      "C:\\Users\\matts\\Documents\\Python Scripts\\SPORK\\arcalg_framework.py:539: RuntimeWarning: invalid value encountered in true_divide\n",
      "  shaped_ang = (180-np.abs(shaped_ang))*(shaped_ang/np.abs(shaped_ang))\n"
     ]
    },
    {
     "name": "stdout",
     "output_type": "stream",
     "text": [
      "Figure Saved\n",
      "in loop\n",
      "21\n",
      "in loop\n",
      "21\n",
      "in loop\n",
      "21\n",
      "in loop\n",
      "21\n",
      "in loop\n",
      "21\n",
      "in loop\n",
      "21\n",
      "in loop\n",
      "21\n",
      "in loop\n",
      "21\n",
      "in loop\n",
      "21\n",
      "in loop\n",
      "21\n",
      "Pre-grid Organization Section\n",
      "KDP Section\n",
      "Grid Section\n"
     ]
    },
    {
     "name": "stderr",
     "output_type": "stream",
     "text": [
      "C:\\Users\\matts\\AppData\\Local\\Continuum\\anaconda3\\envs\\SPORK_SP\\lib\\site-packages\\pyart\\map\\gates_to_grid.py:160: DeprecationWarning: Barnes weighting function is deprecated. Please use Barnes 2 to be consistent with Pauley and Wu 1990.\n",
      "  warnings.warn(\"Barnes weighting function is deprecated.\"\n"
     ]
    },
    {
     "name": "stdout",
     "output_type": "stream",
     "text": [
      "Gradient Analysis and Masking\n",
      "(-94.72286987304688, 40.731201171875, <cartopy.crs.PlateCarree object at 0x00000239EC860130>)\n"
     ]
    },
    {
     "name": "stderr",
     "output_type": "stream",
     "text": [
      "C:\\Users\\matts\\AppData\\Local\\Continuum\\anaconda3\\envs\\SPORK_SP\\lib\\site-packages\\pyproj\\crs\\crs.py:53: FutureWarning: '+init=<authority>:<code>' syntax is deprecated. '<authority>:<code>' is the preferred initialization method. When making the change, be mindful of axis order changes: https://pyproj4.github.io/pyproj/stable/gotchas.html#axis-order-changes-in-proj-6\n",
      "  return _prepare_from_string(\" \".join(pjargs))\n",
      "C:\\Users\\matts\\AppData\\Local\\Continuum\\anaconda3\\envs\\SPORK_SP\\lib\\site-packages\\pyproj\\crs\\crs.py:294: FutureWarning: '+init=<authority>:<code>' syntax is deprecated. '<authority>:<code>' is the preferred initialization method. When making the change, be mindful of axis order changes: https://pyproj4.github.io/pyproj/stable/gotchas.html#axis-order-changes-in-proj-6\n",
      "  projstring = _prepare_from_string(\" \".join((projstring, projkwargs)))\n",
      "C:\\Users\\matts\\AppData\\Local\\Continuum\\anaconda3\\envs\\SPORK_SP\\lib\\site-packages\\pyproj\\crs\\crs.py:53: FutureWarning: '+init=<authority>:<code>' syntax is deprecated. '<authority>:<code>' is the preferred initialization method. When making the change, be mindful of axis order changes: https://pyproj4.github.io/pyproj/stable/gotchas.html#axis-order-changes-in-proj-6\n",
      "  return _prepare_from_string(\" \".join(pjargs))\n",
      "C:\\Users\\matts\\AppData\\Local\\Continuum\\anaconda3\\envs\\SPORK_SP\\lib\\site-packages\\pyproj\\crs\\crs.py:294: FutureWarning: '+init=<authority>:<code>' syntax is deprecated. '<authority>:<code>' is the preferred initialization method. When making the change, be mindful of axis order changes: https://pyproj4.github.io/pyproj/stable/gotchas.html#axis-order-changes-in-proj-6\n",
      "  projstring = _prepare_from_string(\" \".join((projstring, projkwargs)))\n",
      "C:\\Users\\matts\\AppData\\Local\\Continuum\\anaconda3\\envs\\SPORK_SP\\lib\\site-packages\\cartopy\\mpl\\geoaxes.py:1366: UserWarning: The following kwargs were not used by contour: 'linestyle'\n",
      "  result = matplotlib.axes.Axes.contour(self, *args, **kwargs)\n"
     ]
    },
    {
     "name": "stdout",
     "output_type": "stream",
     "text": [
      "Testfig Saved\n"
     ]
    },
    {
     "name": "stderr",
     "output_type": "stream",
     "text": [
      "C:\\Users\\matts\\Documents\\Python Scripts\\SPORK\\arcalg_framework.py:539: RuntimeWarning: invalid value encountered in true_divide\n",
      "  shaped_ang = (180-np.abs(shaped_ang))*(shaped_ang/np.abs(shaped_ang))\n"
     ]
    },
    {
     "name": "stdout",
     "output_type": "stream",
     "text": [
      "Figure Saved\n",
      "in loop\n",
      "21\n",
      "in loop\n",
      "21\n",
      "in loop\n",
      "21\n",
      "in loop\n",
      "21\n",
      "in loop\n",
      "21\n",
      "in loop\n",
      "21\n",
      "in loop\n",
      "21\n",
      "in loop\n",
      "21\n",
      "in loop\n",
      "21\n",
      "in loop\n",
      "21\n",
      "File Reading\n",
      "in loop\n",
      "21\n",
      "Pre-grid Organization Section\n",
      "KDP Section\n",
      "Grid Section\n"
     ]
    },
    {
     "name": "stderr",
     "output_type": "stream",
     "text": [
      "C:\\Users\\matts\\AppData\\Local\\Continuum\\anaconda3\\envs\\SPORK_SP\\lib\\site-packages\\pyart\\map\\gates_to_grid.py:160: DeprecationWarning: Barnes weighting function is deprecated. Please use Barnes 2 to be consistent with Pauley and Wu 1990.\n",
      "  warnings.warn(\"Barnes weighting function is deprecated.\"\n"
     ]
    },
    {
     "name": "stdout",
     "output_type": "stream",
     "text": [
      "Gradient Analysis and Masking\n",
      "(-94.72286987304688, 40.731201171875, <cartopy.crs.PlateCarree object at 0x00000239ECE38F90>)\n"
     ]
    },
    {
     "name": "stderr",
     "output_type": "stream",
     "text": [
      "C:\\Users\\matts\\AppData\\Local\\Continuum\\anaconda3\\envs\\SPORK_SP\\lib\\site-packages\\pyproj\\crs\\crs.py:53: FutureWarning: '+init=<authority>:<code>' syntax is deprecated. '<authority>:<code>' is the preferred initialization method. When making the change, be mindful of axis order changes: https://pyproj4.github.io/pyproj/stable/gotchas.html#axis-order-changes-in-proj-6\n",
      "  return _prepare_from_string(\" \".join(pjargs))\n",
      "C:\\Users\\matts\\AppData\\Local\\Continuum\\anaconda3\\envs\\SPORK_SP\\lib\\site-packages\\pyproj\\crs\\crs.py:294: FutureWarning: '+init=<authority>:<code>' syntax is deprecated. '<authority>:<code>' is the preferred initialization method. When making the change, be mindful of axis order changes: https://pyproj4.github.io/pyproj/stable/gotchas.html#axis-order-changes-in-proj-6\n",
      "  projstring = _prepare_from_string(\" \".join((projstring, projkwargs)))\n",
      "C:\\Users\\matts\\AppData\\Local\\Continuum\\anaconda3\\envs\\SPORK_SP\\lib\\site-packages\\pyproj\\crs\\crs.py:53: FutureWarning: '+init=<authority>:<code>' syntax is deprecated. '<authority>:<code>' is the preferred initialization method. When making the change, be mindful of axis order changes: https://pyproj4.github.io/pyproj/stable/gotchas.html#axis-order-changes-in-proj-6\n",
      "  return _prepare_from_string(\" \".join(pjargs))\n",
      "C:\\Users\\matts\\AppData\\Local\\Continuum\\anaconda3\\envs\\SPORK_SP\\lib\\site-packages\\pyproj\\crs\\crs.py:294: FutureWarning: '+init=<authority>:<code>' syntax is deprecated. '<authority>:<code>' is the preferred initialization method. When making the change, be mindful of axis order changes: https://pyproj4.github.io/pyproj/stable/gotchas.html#axis-order-changes-in-proj-6\n",
      "  projstring = _prepare_from_string(\" \".join((projstring, projkwargs)))\n",
      "C:\\Users\\matts\\AppData\\Local\\Continuum\\anaconda3\\envs\\SPORK_SP\\lib\\site-packages\\cartopy\\mpl\\geoaxes.py:1366: UserWarning: The following kwargs were not used by contour: 'linestyle'\n",
      "  result = matplotlib.axes.Axes.contour(self, *args, **kwargs)\n"
     ]
    },
    {
     "name": "stdout",
     "output_type": "stream",
     "text": [
      "Testfig Saved\n"
     ]
    },
    {
     "name": "stderr",
     "output_type": "stream",
     "text": [
      "C:\\Users\\matts\\Documents\\Python Scripts\\SPORK\\arcalg_framework.py:539: RuntimeWarning: invalid value encountered in true_divide\n",
      "  shaped_ang = (180-np.abs(shaped_ang))*(shaped_ang/np.abs(shaped_ang))\n"
     ]
    },
    {
     "name": "stdout",
     "output_type": "stream",
     "text": [
      "Figure Saved\n",
      "in loop\n",
      "21\n",
      "in loop\n",
      "21\n",
      "in loop\n",
      "21\n",
      "in loop\n",
      "21\n",
      "in loop\n",
      "21\n",
      "in loop\n",
      "21\n",
      "in loop\n",
      "21\n",
      "in loop\n",
      "21\n",
      "in loop\n",
      "21\n",
      "in loop\n",
      "21\n",
      "Pre-grid Organization Section\n",
      "KDP Section\n",
      "Grid Section\n"
     ]
    },
    {
     "name": "stderr",
     "output_type": "stream",
     "text": [
      "C:\\Users\\matts\\AppData\\Local\\Continuum\\anaconda3\\envs\\SPORK_SP\\lib\\site-packages\\pyart\\map\\gates_to_grid.py:160: DeprecationWarning: Barnes weighting function is deprecated. Please use Barnes 2 to be consistent with Pauley and Wu 1990.\n",
      "  warnings.warn(\"Barnes weighting function is deprecated.\"\n"
     ]
    },
    {
     "name": "stdout",
     "output_type": "stream",
     "text": [
      "Gradient Analysis and Masking\n",
      "(-94.72286987304688, 40.731201171875, <cartopy.crs.PlateCarree object at 0x00000239ECDBA040>)\n"
     ]
    },
    {
     "name": "stderr",
     "output_type": "stream",
     "text": [
      "C:\\Users\\matts\\AppData\\Local\\Continuum\\anaconda3\\envs\\SPORK_SP\\lib\\site-packages\\pyproj\\crs\\crs.py:53: FutureWarning: '+init=<authority>:<code>' syntax is deprecated. '<authority>:<code>' is the preferred initialization method. When making the change, be mindful of axis order changes: https://pyproj4.github.io/pyproj/stable/gotchas.html#axis-order-changes-in-proj-6\n",
      "  return _prepare_from_string(\" \".join(pjargs))\n",
      "C:\\Users\\matts\\AppData\\Local\\Continuum\\anaconda3\\envs\\SPORK_SP\\lib\\site-packages\\pyproj\\crs\\crs.py:294: FutureWarning: '+init=<authority>:<code>' syntax is deprecated. '<authority>:<code>' is the preferred initialization method. When making the change, be mindful of axis order changes: https://pyproj4.github.io/pyproj/stable/gotchas.html#axis-order-changes-in-proj-6\n",
      "  projstring = _prepare_from_string(\" \".join((projstring, projkwargs)))\n",
      "C:\\Users\\matts\\AppData\\Local\\Continuum\\anaconda3\\envs\\SPORK_SP\\lib\\site-packages\\pyproj\\crs\\crs.py:53: FutureWarning: '+init=<authority>:<code>' syntax is deprecated. '<authority>:<code>' is the preferred initialization method. When making the change, be mindful of axis order changes: https://pyproj4.github.io/pyproj/stable/gotchas.html#axis-order-changes-in-proj-6\n",
      "  return _prepare_from_string(\" \".join(pjargs))\n",
      "C:\\Users\\matts\\AppData\\Local\\Continuum\\anaconda3\\envs\\SPORK_SP\\lib\\site-packages\\pyproj\\crs\\crs.py:294: FutureWarning: '+init=<authority>:<code>' syntax is deprecated. '<authority>:<code>' is the preferred initialization method. When making the change, be mindful of axis order changes: https://pyproj4.github.io/pyproj/stable/gotchas.html#axis-order-changes-in-proj-6\n",
      "  projstring = _prepare_from_string(\" \".join((projstring, projkwargs)))\n",
      "C:\\Users\\matts\\AppData\\Local\\Continuum\\anaconda3\\envs\\SPORK_SP\\lib\\site-packages\\cartopy\\mpl\\geoaxes.py:1366: UserWarning: The following kwargs were not used by contour: 'linestyle'\n",
      "  result = matplotlib.axes.Axes.contour(self, *args, **kwargs)\n"
     ]
    },
    {
     "name": "stdout",
     "output_type": "stream",
     "text": [
      "Testfig Saved\n"
     ]
    },
    {
     "name": "stderr",
     "output_type": "stream",
     "text": [
      "C:\\Users\\matts\\Documents\\Python Scripts\\SPORK\\arcalg_framework.py:539: RuntimeWarning: invalid value encountered in true_divide\n",
      "  shaped_ang = (180-np.abs(shaped_ang))*(shaped_ang/np.abs(shaped_ang))\n"
     ]
    },
    {
     "name": "stdout",
     "output_type": "stream",
     "text": [
      "Figure Saved\n",
      "in loop\n",
      "21\n",
      "in loop\n",
      "21\n",
      "in loop\n",
      "21\n",
      "in loop\n",
      "21\n",
      "in loop\n",
      "21\n",
      "in loop\n",
      "21\n",
      "in loop\n",
      "21\n",
      "in loop\n",
      "21\n",
      "in loop\n",
      "21\n",
      "in loop\n",
      "21\n",
      "File Reading\n",
      "in loop\n",
      "21\n",
      "Pre-grid Organization Section\n",
      "KDP Section\n",
      "Grid Section\n"
     ]
    },
    {
     "name": "stderr",
     "output_type": "stream",
     "text": [
      "C:\\Users\\matts\\AppData\\Local\\Continuum\\anaconda3\\envs\\SPORK_SP\\lib\\site-packages\\pyart\\map\\gates_to_grid.py:160: DeprecationWarning: Barnes weighting function is deprecated. Please use Barnes 2 to be consistent with Pauley and Wu 1990.\n",
      "  warnings.warn(\"Barnes weighting function is deprecated.\"\n"
     ]
    },
    {
     "name": "stdout",
     "output_type": "stream",
     "text": [
      "Gradient Analysis and Masking\n",
      "(-94.72286987304688, 40.731201171875, <cartopy.crs.PlateCarree object at 0x00000239F5B56310>)\n"
     ]
    },
    {
     "name": "stderr",
     "output_type": "stream",
     "text": [
      "C:\\Users\\matts\\AppData\\Local\\Continuum\\anaconda3\\envs\\SPORK_SP\\lib\\site-packages\\pyproj\\crs\\crs.py:53: FutureWarning: '+init=<authority>:<code>' syntax is deprecated. '<authority>:<code>' is the preferred initialization method. When making the change, be mindful of axis order changes: https://pyproj4.github.io/pyproj/stable/gotchas.html#axis-order-changes-in-proj-6\n",
      "  return _prepare_from_string(\" \".join(pjargs))\n",
      "C:\\Users\\matts\\AppData\\Local\\Continuum\\anaconda3\\envs\\SPORK_SP\\lib\\site-packages\\pyproj\\crs\\crs.py:294: FutureWarning: '+init=<authority>:<code>' syntax is deprecated. '<authority>:<code>' is the preferred initialization method. When making the change, be mindful of axis order changes: https://pyproj4.github.io/pyproj/stable/gotchas.html#axis-order-changes-in-proj-6\n",
      "  projstring = _prepare_from_string(\" \".join((projstring, projkwargs)))\n",
      "C:\\Users\\matts\\AppData\\Local\\Continuum\\anaconda3\\envs\\SPORK_SP\\lib\\site-packages\\pyproj\\crs\\crs.py:53: FutureWarning: '+init=<authority>:<code>' syntax is deprecated. '<authority>:<code>' is the preferred initialization method. When making the change, be mindful of axis order changes: https://pyproj4.github.io/pyproj/stable/gotchas.html#axis-order-changes-in-proj-6\n",
      "  return _prepare_from_string(\" \".join(pjargs))\n",
      "C:\\Users\\matts\\AppData\\Local\\Continuum\\anaconda3\\envs\\SPORK_SP\\lib\\site-packages\\pyproj\\crs\\crs.py:294: FutureWarning: '+init=<authority>:<code>' syntax is deprecated. '<authority>:<code>' is the preferred initialization method. When making the change, be mindful of axis order changes: https://pyproj4.github.io/pyproj/stable/gotchas.html#axis-order-changes-in-proj-6\n",
      "  projstring = _prepare_from_string(\" \".join((projstring, projkwargs)))\n",
      "C:\\Users\\matts\\AppData\\Local\\Continuum\\anaconda3\\envs\\SPORK_SP\\lib\\site-packages\\cartopy\\mpl\\geoaxes.py:1366: UserWarning: The following kwargs were not used by contour: 'linestyle'\n",
      "  result = matplotlib.axes.Axes.contour(self, *args, **kwargs)\n"
     ]
    },
    {
     "name": "stdout",
     "output_type": "stream",
     "text": [
      "Testfig Saved\n"
     ]
    },
    {
     "name": "stderr",
     "output_type": "stream",
     "text": [
      "C:\\Users\\matts\\Documents\\Python Scripts\\SPORK\\arcalg_framework.py:539: RuntimeWarning: invalid value encountered in true_divide\n",
      "  shaped_ang = (180-np.abs(shaped_ang))*(shaped_ang/np.abs(shaped_ang))\n"
     ]
    },
    {
     "name": "stdout",
     "output_type": "stream",
     "text": [
      "Figure Saved\n",
      "in loop\n",
      "21\n",
      "in loop\n",
      "21\n",
      "in loop\n",
      "21\n",
      "in loop\n",
      "21\n",
      "in loop\n",
      "21\n",
      "in loop\n",
      "21\n",
      "in loop\n",
      "21\n",
      "in loop\n",
      "21\n",
      "in loop\n",
      "21\n",
      "in loop\n",
      "21\n",
      "Pre-grid Organization Section\n",
      "KDP Section\n",
      "Grid Section\n"
     ]
    },
    {
     "name": "stderr",
     "output_type": "stream",
     "text": [
      "C:\\Users\\matts\\AppData\\Local\\Continuum\\anaconda3\\envs\\SPORK_SP\\lib\\site-packages\\pyart\\map\\gates_to_grid.py:160: DeprecationWarning: Barnes weighting function is deprecated. Please use Barnes 2 to be consistent with Pauley and Wu 1990.\n",
      "  warnings.warn(\"Barnes weighting function is deprecated.\"\n"
     ]
    },
    {
     "name": "stdout",
     "output_type": "stream",
     "text": [
      "Gradient Analysis and Masking\n",
      "(-94.72286987304688, 40.731201171875, <cartopy.crs.PlateCarree object at 0x00000239EC88F450>)\n"
     ]
    },
    {
     "name": "stderr",
     "output_type": "stream",
     "text": [
      "C:\\Users\\matts\\AppData\\Local\\Continuum\\anaconda3\\envs\\SPORK_SP\\lib\\site-packages\\pyproj\\crs\\crs.py:53: FutureWarning: '+init=<authority>:<code>' syntax is deprecated. '<authority>:<code>' is the preferred initialization method. When making the change, be mindful of axis order changes: https://pyproj4.github.io/pyproj/stable/gotchas.html#axis-order-changes-in-proj-6\n",
      "  return _prepare_from_string(\" \".join(pjargs))\n",
      "C:\\Users\\matts\\AppData\\Local\\Continuum\\anaconda3\\envs\\SPORK_SP\\lib\\site-packages\\pyproj\\crs\\crs.py:294: FutureWarning: '+init=<authority>:<code>' syntax is deprecated. '<authority>:<code>' is the preferred initialization method. When making the change, be mindful of axis order changes: https://pyproj4.github.io/pyproj/stable/gotchas.html#axis-order-changes-in-proj-6\n",
      "  projstring = _prepare_from_string(\" \".join((projstring, projkwargs)))\n",
      "C:\\Users\\matts\\AppData\\Local\\Continuum\\anaconda3\\envs\\SPORK_SP\\lib\\site-packages\\pyproj\\crs\\crs.py:53: FutureWarning: '+init=<authority>:<code>' syntax is deprecated. '<authority>:<code>' is the preferred initialization method. When making the change, be mindful of axis order changes: https://pyproj4.github.io/pyproj/stable/gotchas.html#axis-order-changes-in-proj-6\n",
      "  return _prepare_from_string(\" \".join(pjargs))\n",
      "C:\\Users\\matts\\AppData\\Local\\Continuum\\anaconda3\\envs\\SPORK_SP\\lib\\site-packages\\pyproj\\crs\\crs.py:294: FutureWarning: '+init=<authority>:<code>' syntax is deprecated. '<authority>:<code>' is the preferred initialization method. When making the change, be mindful of axis order changes: https://pyproj4.github.io/pyproj/stable/gotchas.html#axis-order-changes-in-proj-6\n",
      "  projstring = _prepare_from_string(\" \".join((projstring, projkwargs)))\n",
      "C:\\Users\\matts\\AppData\\Local\\Continuum\\anaconda3\\envs\\SPORK_SP\\lib\\site-packages\\cartopy\\mpl\\geoaxes.py:1366: UserWarning: The following kwargs were not used by contour: 'linestyle'\n",
      "  result = matplotlib.axes.Axes.contour(self, *args, **kwargs)\n"
     ]
    },
    {
     "name": "stdout",
     "output_type": "stream",
     "text": [
      "Testfig Saved\n"
     ]
    },
    {
     "name": "stderr",
     "output_type": "stream",
     "text": [
      "C:\\Users\\matts\\Documents\\Python Scripts\\SPORK\\arcalg_framework.py:539: RuntimeWarning: invalid value encountered in true_divide\n",
      "  shaped_ang = (180-np.abs(shaped_ang))*(shaped_ang/np.abs(shaped_ang))\n"
     ]
    },
    {
     "name": "stdout",
     "output_type": "stream",
     "text": [
      "Figure Saved\n",
      "in loop\n",
      "21\n",
      "in loop\n",
      "21\n",
      "in loop\n",
      "21\n",
      "in loop\n",
      "21\n",
      "in loop\n",
      "21\n",
      "in loop\n",
      "21\n",
      "in loop\n",
      "21\n",
      "in loop\n",
      "21\n",
      "in loop\n",
      "21\n",
      "in loop\n",
      "21\n",
      "File Reading\n",
      "in loop\n",
      "21\n",
      "Pre-grid Organization Section\n",
      "KDP Section\n",
      "Grid Section\n"
     ]
    },
    {
     "name": "stderr",
     "output_type": "stream",
     "text": [
      "C:\\Users\\matts\\AppData\\Local\\Continuum\\anaconda3\\envs\\SPORK_SP\\lib\\site-packages\\pyart\\map\\gates_to_grid.py:160: DeprecationWarning: Barnes weighting function is deprecated. Please use Barnes 2 to be consistent with Pauley and Wu 1990.\n",
      "  warnings.warn(\"Barnes weighting function is deprecated.\"\n"
     ]
    },
    {
     "name": "stdout",
     "output_type": "stream",
     "text": [
      "Gradient Analysis and Masking\n",
      "(-94.72286987304688, 40.731201171875, <cartopy.crs.PlateCarree object at 0x00000239DE44DEA0>)\n"
     ]
    },
    {
     "name": "stderr",
     "output_type": "stream",
     "text": [
      "C:\\Users\\matts\\AppData\\Local\\Continuum\\anaconda3\\envs\\SPORK_SP\\lib\\site-packages\\pyproj\\crs\\crs.py:53: FutureWarning: '+init=<authority>:<code>' syntax is deprecated. '<authority>:<code>' is the preferred initialization method. When making the change, be mindful of axis order changes: https://pyproj4.github.io/pyproj/stable/gotchas.html#axis-order-changes-in-proj-6\n",
      "  return _prepare_from_string(\" \".join(pjargs))\n",
      "C:\\Users\\matts\\AppData\\Local\\Continuum\\anaconda3\\envs\\SPORK_SP\\lib\\site-packages\\pyproj\\crs\\crs.py:294: FutureWarning: '+init=<authority>:<code>' syntax is deprecated. '<authority>:<code>' is the preferred initialization method. When making the change, be mindful of axis order changes: https://pyproj4.github.io/pyproj/stable/gotchas.html#axis-order-changes-in-proj-6\n",
      "  projstring = _prepare_from_string(\" \".join((projstring, projkwargs)))\n",
      "C:\\Users\\matts\\AppData\\Local\\Continuum\\anaconda3\\envs\\SPORK_SP\\lib\\site-packages\\pyproj\\crs\\crs.py:53: FutureWarning: '+init=<authority>:<code>' syntax is deprecated. '<authority>:<code>' is the preferred initialization method. When making the change, be mindful of axis order changes: https://pyproj4.github.io/pyproj/stable/gotchas.html#axis-order-changes-in-proj-6\n",
      "  return _prepare_from_string(\" \".join(pjargs))\n",
      "C:\\Users\\matts\\AppData\\Local\\Continuum\\anaconda3\\envs\\SPORK_SP\\lib\\site-packages\\pyproj\\crs\\crs.py:294: FutureWarning: '+init=<authority>:<code>' syntax is deprecated. '<authority>:<code>' is the preferred initialization method. When making the change, be mindful of axis order changes: https://pyproj4.github.io/pyproj/stable/gotchas.html#axis-order-changes-in-proj-6\n",
      "  projstring = _prepare_from_string(\" \".join((projstring, projkwargs)))\n",
      "C:\\Users\\matts\\AppData\\Local\\Continuum\\anaconda3\\envs\\SPORK_SP\\lib\\site-packages\\cartopy\\mpl\\geoaxes.py:1366: UserWarning: The following kwargs were not used by contour: 'linestyle'\n",
      "  result = matplotlib.axes.Axes.contour(self, *args, **kwargs)\n"
     ]
    },
    {
     "name": "stdout",
     "output_type": "stream",
     "text": [
      "Testfig Saved\n"
     ]
    },
    {
     "name": "stderr",
     "output_type": "stream",
     "text": [
      "C:\\Users\\matts\\Documents\\Python Scripts\\SPORK\\arcalg_framework.py:539: RuntimeWarning: invalid value encountered in true_divide\n",
      "  shaped_ang = (180-np.abs(shaped_ang))*(shaped_ang/np.abs(shaped_ang))\n"
     ]
    },
    {
     "name": "stdout",
     "output_type": "stream",
     "text": [
      "Figure Saved\n",
      "in loop\n",
      "21\n",
      "in loop\n",
      "21\n",
      "in loop\n",
      "21\n",
      "in loop\n",
      "21\n",
      "in loop\n",
      "21\n",
      "in loop\n",
      "21\n",
      "in loop\n",
      "21\n",
      "in loop\n",
      "21\n",
      "in loop\n",
      "21\n",
      "in loop\n",
      "21\n",
      "Pre-grid Organization Section\n",
      "KDP Section\n",
      "Grid Section\n"
     ]
    },
    {
     "name": "stderr",
     "output_type": "stream",
     "text": [
      "C:\\Users\\matts\\AppData\\Local\\Continuum\\anaconda3\\envs\\SPORK_SP\\lib\\site-packages\\pyart\\map\\gates_to_grid.py:160: DeprecationWarning: Barnes weighting function is deprecated. Please use Barnes 2 to be consistent with Pauley and Wu 1990.\n",
      "  warnings.warn(\"Barnes weighting function is deprecated.\"\n"
     ]
    },
    {
     "name": "stdout",
     "output_type": "stream",
     "text": [
      "Gradient Analysis and Masking\n",
      "(-94.72286987304688, 40.731201171875, <cartopy.crs.PlateCarree object at 0x00000239DE44D4F0>)\n"
     ]
    },
    {
     "name": "stderr",
     "output_type": "stream",
     "text": [
      "C:\\Users\\matts\\AppData\\Local\\Continuum\\anaconda3\\envs\\SPORK_SP\\lib\\site-packages\\pyproj\\crs\\crs.py:53: FutureWarning: '+init=<authority>:<code>' syntax is deprecated. '<authority>:<code>' is the preferred initialization method. When making the change, be mindful of axis order changes: https://pyproj4.github.io/pyproj/stable/gotchas.html#axis-order-changes-in-proj-6\n",
      "  return _prepare_from_string(\" \".join(pjargs))\n",
      "C:\\Users\\matts\\AppData\\Local\\Continuum\\anaconda3\\envs\\SPORK_SP\\lib\\site-packages\\pyproj\\crs\\crs.py:294: FutureWarning: '+init=<authority>:<code>' syntax is deprecated. '<authority>:<code>' is the preferred initialization method. When making the change, be mindful of axis order changes: https://pyproj4.github.io/pyproj/stable/gotchas.html#axis-order-changes-in-proj-6\n",
      "  projstring = _prepare_from_string(\" \".join((projstring, projkwargs)))\n",
      "C:\\Users\\matts\\AppData\\Local\\Continuum\\anaconda3\\envs\\SPORK_SP\\lib\\site-packages\\pyproj\\crs\\crs.py:53: FutureWarning: '+init=<authority>:<code>' syntax is deprecated. '<authority>:<code>' is the preferred initialization method. When making the change, be mindful of axis order changes: https://pyproj4.github.io/pyproj/stable/gotchas.html#axis-order-changes-in-proj-6\n",
      "  return _prepare_from_string(\" \".join(pjargs))\n",
      "C:\\Users\\matts\\AppData\\Local\\Continuum\\anaconda3\\envs\\SPORK_SP\\lib\\site-packages\\pyproj\\crs\\crs.py:294: FutureWarning: '+init=<authority>:<code>' syntax is deprecated. '<authority>:<code>' is the preferred initialization method. When making the change, be mindful of axis order changes: https://pyproj4.github.io/pyproj/stable/gotchas.html#axis-order-changes-in-proj-6\n",
      "  projstring = _prepare_from_string(\" \".join((projstring, projkwargs)))\n",
      "C:\\Users\\matts\\AppData\\Local\\Continuum\\anaconda3\\envs\\SPORK_SP\\lib\\site-packages\\cartopy\\mpl\\geoaxes.py:1366: UserWarning: The following kwargs were not used by contour: 'linestyle'\n",
      "  result = matplotlib.axes.Axes.contour(self, *args, **kwargs)\n"
     ]
    },
    {
     "name": "stdout",
     "output_type": "stream",
     "text": [
      "Testfig Saved\n"
     ]
    },
    {
     "name": "stderr",
     "output_type": "stream",
     "text": [
      "C:\\Users\\matts\\Documents\\Python Scripts\\SPORK\\arcalg_framework.py:539: RuntimeWarning: invalid value encountered in true_divide\n",
      "  shaped_ang = (180-np.abs(shaped_ang))*(shaped_ang/np.abs(shaped_ang))\n"
     ]
    },
    {
     "name": "stdout",
     "output_type": "stream",
     "text": [
      "Figure Saved\n",
      "in loop\n",
      "21\n",
      "in loop\n",
      "21\n",
      "in loop\n",
      "21\n",
      "in loop\n",
      "21\n",
      "in loop\n",
      "21\n",
      "in loop\n",
      "21\n",
      "in loop\n",
      "21\n",
      "in loop\n",
      "21\n",
      "in loop\n",
      "21\n",
      "in loop\n",
      "21\n",
      "File Reading\n",
      "in loop\n",
      "21\n",
      "Pre-grid Organization Section\n",
      "KDP Section\n",
      "Grid Section\n"
     ]
    },
    {
     "name": "stderr",
     "output_type": "stream",
     "text": [
      "C:\\Users\\matts\\AppData\\Local\\Continuum\\anaconda3\\envs\\SPORK_SP\\lib\\site-packages\\pyart\\map\\gates_to_grid.py:160: DeprecationWarning: Barnes weighting function is deprecated. Please use Barnes 2 to be consistent with Pauley and Wu 1990.\n",
      "  warnings.warn(\"Barnes weighting function is deprecated.\"\n"
     ]
    },
    {
     "name": "stdout",
     "output_type": "stream",
     "text": [
      "Gradient Analysis and Masking\n",
      "(-94.72286987304688, 40.731201171875, <cartopy.crs.PlateCarree object at 0x000002399015F900>)\n"
     ]
    },
    {
     "name": "stderr",
     "output_type": "stream",
     "text": [
      "C:\\Users\\matts\\AppData\\Local\\Continuum\\anaconda3\\envs\\SPORK_SP\\lib\\site-packages\\pyproj\\crs\\crs.py:53: FutureWarning: '+init=<authority>:<code>' syntax is deprecated. '<authority>:<code>' is the preferred initialization method. When making the change, be mindful of axis order changes: https://pyproj4.github.io/pyproj/stable/gotchas.html#axis-order-changes-in-proj-6\n",
      "  return _prepare_from_string(\" \".join(pjargs))\n",
      "C:\\Users\\matts\\AppData\\Local\\Continuum\\anaconda3\\envs\\SPORK_SP\\lib\\site-packages\\pyproj\\crs\\crs.py:294: FutureWarning: '+init=<authority>:<code>' syntax is deprecated. '<authority>:<code>' is the preferred initialization method. When making the change, be mindful of axis order changes: https://pyproj4.github.io/pyproj/stable/gotchas.html#axis-order-changes-in-proj-6\n",
      "  projstring = _prepare_from_string(\" \".join((projstring, projkwargs)))\n",
      "C:\\Users\\matts\\AppData\\Local\\Continuum\\anaconda3\\envs\\SPORK_SP\\lib\\site-packages\\pyproj\\crs\\crs.py:53: FutureWarning: '+init=<authority>:<code>' syntax is deprecated. '<authority>:<code>' is the preferred initialization method. When making the change, be mindful of axis order changes: https://pyproj4.github.io/pyproj/stable/gotchas.html#axis-order-changes-in-proj-6\n",
      "  return _prepare_from_string(\" \".join(pjargs))\n",
      "C:\\Users\\matts\\AppData\\Local\\Continuum\\anaconda3\\envs\\SPORK_SP\\lib\\site-packages\\pyproj\\crs\\crs.py:294: FutureWarning: '+init=<authority>:<code>' syntax is deprecated. '<authority>:<code>' is the preferred initialization method. When making the change, be mindful of axis order changes: https://pyproj4.github.io/pyproj/stable/gotchas.html#axis-order-changes-in-proj-6\n",
      "  projstring = _prepare_from_string(\" \".join((projstring, projkwargs)))\n",
      "C:\\Users\\matts\\AppData\\Local\\Continuum\\anaconda3\\envs\\SPORK_SP\\lib\\site-packages\\cartopy\\mpl\\geoaxes.py:1366: UserWarning: The following kwargs were not used by contour: 'linestyle'\n",
      "  result = matplotlib.axes.Axes.contour(self, *args, **kwargs)\n"
     ]
    },
    {
     "name": "stdout",
     "output_type": "stream",
     "text": [
      "Testfig Saved\n"
     ]
    },
    {
     "name": "stderr",
     "output_type": "stream",
     "text": [
      "C:\\Users\\matts\\Documents\\Python Scripts\\SPORK\\arcalg_framework.py:539: RuntimeWarning: invalid value encountered in true_divide\n",
      "  shaped_ang = (180-np.abs(shaped_ang))*(shaped_ang/np.abs(shaped_ang))\n"
     ]
    },
    {
     "name": "stdout",
     "output_type": "stream",
     "text": [
      "Figure Saved\n",
      "in loop\n",
      "21\n",
      "in loop\n",
      "21\n",
      "in loop\n",
      "21\n",
      "in loop\n",
      "21\n",
      "in loop\n",
      "21\n",
      "in loop\n",
      "21\n",
      "in loop\n",
      "21\n",
      "in loop\n",
      "21\n",
      "in loop\n",
      "21\n",
      "in loop\n",
      "21\n",
      "Pre-grid Organization Section\n",
      "KDP Section\n",
      "Grid Section\n"
     ]
    },
    {
     "name": "stderr",
     "output_type": "stream",
     "text": [
      "C:\\Users\\matts\\AppData\\Local\\Continuum\\anaconda3\\envs\\SPORK_SP\\lib\\site-packages\\pyart\\map\\gates_to_grid.py:160: DeprecationWarning: Barnes weighting function is deprecated. Please use Barnes 2 to be consistent with Pauley and Wu 1990.\n",
      "  warnings.warn(\"Barnes weighting function is deprecated.\"\n"
     ]
    },
    {
     "name": "stdout",
     "output_type": "stream",
     "text": [
      "Gradient Analysis and Masking\n",
      "(-94.72286987304688, 40.731201171875, <cartopy.crs.PlateCarree object at 0x00000239DE45FD10>)\n"
     ]
    },
    {
     "name": "stderr",
     "output_type": "stream",
     "text": [
      "C:\\Users\\matts\\AppData\\Local\\Continuum\\anaconda3\\envs\\SPORK_SP\\lib\\site-packages\\pyproj\\crs\\crs.py:53: FutureWarning: '+init=<authority>:<code>' syntax is deprecated. '<authority>:<code>' is the preferred initialization method. When making the change, be mindful of axis order changes: https://pyproj4.github.io/pyproj/stable/gotchas.html#axis-order-changes-in-proj-6\n",
      "  return _prepare_from_string(\" \".join(pjargs))\n",
      "C:\\Users\\matts\\AppData\\Local\\Continuum\\anaconda3\\envs\\SPORK_SP\\lib\\site-packages\\pyproj\\crs\\crs.py:294: FutureWarning: '+init=<authority>:<code>' syntax is deprecated. '<authority>:<code>' is the preferred initialization method. When making the change, be mindful of axis order changes: https://pyproj4.github.io/pyproj/stable/gotchas.html#axis-order-changes-in-proj-6\n",
      "  projstring = _prepare_from_string(\" \".join((projstring, projkwargs)))\n",
      "C:\\Users\\matts\\AppData\\Local\\Continuum\\anaconda3\\envs\\SPORK_SP\\lib\\site-packages\\pyproj\\crs\\crs.py:53: FutureWarning: '+init=<authority>:<code>' syntax is deprecated. '<authority>:<code>' is the preferred initialization method. When making the change, be mindful of axis order changes: https://pyproj4.github.io/pyproj/stable/gotchas.html#axis-order-changes-in-proj-6\n",
      "  return _prepare_from_string(\" \".join(pjargs))\n",
      "C:\\Users\\matts\\AppData\\Local\\Continuum\\anaconda3\\envs\\SPORK_SP\\lib\\site-packages\\pyproj\\crs\\crs.py:294: FutureWarning: '+init=<authority>:<code>' syntax is deprecated. '<authority>:<code>' is the preferred initialization method. When making the change, be mindful of axis order changes: https://pyproj4.github.io/pyproj/stable/gotchas.html#axis-order-changes-in-proj-6\n",
      "  projstring = _prepare_from_string(\" \".join((projstring, projkwargs)))\n",
      "C:\\Users\\matts\\AppData\\Local\\Continuum\\anaconda3\\envs\\SPORK_SP\\lib\\site-packages\\cartopy\\mpl\\geoaxes.py:1366: UserWarning: The following kwargs were not used by contour: 'linestyle'\n",
      "  result = matplotlib.axes.Axes.contour(self, *args, **kwargs)\n"
     ]
    },
    {
     "name": "stdout",
     "output_type": "stream",
     "text": [
      "Testfig Saved\n"
     ]
    },
    {
     "name": "stderr",
     "output_type": "stream",
     "text": [
      "C:\\Users\\matts\\Documents\\Python Scripts\\SPORK\\arcalg_framework.py:539: RuntimeWarning: invalid value encountered in true_divide\n",
      "  shaped_ang = (180-np.abs(shaped_ang))*(shaped_ang/np.abs(shaped_ang))\n"
     ]
    },
    {
     "name": "stdout",
     "output_type": "stream",
     "text": [
      "Figure Saved\n",
      "in loop\n",
      "21\n",
      "in loop\n",
      "21\n",
      "in loop\n",
      "21\n",
      "in loop\n",
      "21\n",
      "in loop\n",
      "21\n",
      "in loop\n",
      "21\n",
      "in loop\n",
      "21\n",
      "in loop\n",
      "21\n",
      "in loop\n",
      "21\n",
      "in loop\n",
      "21\n",
      "File Reading\n",
      "in loop\n",
      "21\n",
      "Pre-grid Organization Section\n",
      "KDP Section\n",
      "Grid Section\n"
     ]
    },
    {
     "name": "stderr",
     "output_type": "stream",
     "text": [
      "C:\\Users\\matts\\AppData\\Local\\Continuum\\anaconda3\\envs\\SPORK_SP\\lib\\site-packages\\pyart\\map\\gates_to_grid.py:160: DeprecationWarning: Barnes weighting function is deprecated. Please use Barnes 2 to be consistent with Pauley and Wu 1990.\n",
      "  warnings.warn(\"Barnes weighting function is deprecated.\"\n"
     ]
    },
    {
     "name": "stdout",
     "output_type": "stream",
     "text": [
      "Gradient Analysis and Masking\n",
      "(-94.72286987304688, 40.731201171875, <cartopy.crs.PlateCarree object at 0x000002399015F810>)\n"
     ]
    },
    {
     "name": "stderr",
     "output_type": "stream",
     "text": [
      "C:\\Users\\matts\\AppData\\Local\\Continuum\\anaconda3\\envs\\SPORK_SP\\lib\\site-packages\\pyproj\\crs\\crs.py:53: FutureWarning: '+init=<authority>:<code>' syntax is deprecated. '<authority>:<code>' is the preferred initialization method. When making the change, be mindful of axis order changes: https://pyproj4.github.io/pyproj/stable/gotchas.html#axis-order-changes-in-proj-6\n",
      "  return _prepare_from_string(\" \".join(pjargs))\n",
      "C:\\Users\\matts\\AppData\\Local\\Continuum\\anaconda3\\envs\\SPORK_SP\\lib\\site-packages\\pyproj\\crs\\crs.py:294: FutureWarning: '+init=<authority>:<code>' syntax is deprecated. '<authority>:<code>' is the preferred initialization method. When making the change, be mindful of axis order changes: https://pyproj4.github.io/pyproj/stable/gotchas.html#axis-order-changes-in-proj-6\n",
      "  projstring = _prepare_from_string(\" \".join((projstring, projkwargs)))\n",
      "C:\\Users\\matts\\AppData\\Local\\Continuum\\anaconda3\\envs\\SPORK_SP\\lib\\site-packages\\pyproj\\crs\\crs.py:53: FutureWarning: '+init=<authority>:<code>' syntax is deprecated. '<authority>:<code>' is the preferred initialization method. When making the change, be mindful of axis order changes: https://pyproj4.github.io/pyproj/stable/gotchas.html#axis-order-changes-in-proj-6\n",
      "  return _prepare_from_string(\" \".join(pjargs))\n",
      "C:\\Users\\matts\\AppData\\Local\\Continuum\\anaconda3\\envs\\SPORK_SP\\lib\\site-packages\\pyproj\\crs\\crs.py:294: FutureWarning: '+init=<authority>:<code>' syntax is deprecated. '<authority>:<code>' is the preferred initialization method. When making the change, be mindful of axis order changes: https://pyproj4.github.io/pyproj/stable/gotchas.html#axis-order-changes-in-proj-6\n",
      "  projstring = _prepare_from_string(\" \".join((projstring, projkwargs)))\n",
      "C:\\Users\\matts\\AppData\\Local\\Continuum\\anaconda3\\envs\\SPORK_SP\\lib\\site-packages\\cartopy\\mpl\\geoaxes.py:1366: UserWarning: The following kwargs were not used by contour: 'linestyle'\n",
      "  result = matplotlib.axes.Axes.contour(self, *args, **kwargs)\n"
     ]
    },
    {
     "name": "stdout",
     "output_type": "stream",
     "text": [
      "Testfig Saved\n"
     ]
    },
    {
     "name": "stderr",
     "output_type": "stream",
     "text": [
      "C:\\Users\\matts\\Documents\\Python Scripts\\SPORK\\arcalg_framework.py:539: RuntimeWarning: invalid value encountered in true_divide\n",
      "  shaped_ang = (180-np.abs(shaped_ang))*(shaped_ang/np.abs(shaped_ang))\n"
     ]
    },
    {
     "name": "stdout",
     "output_type": "stream",
     "text": [
      "Figure Saved\n",
      "in loop\n",
      "21\n",
      "in loop\n",
      "21\n",
      "in loop\n",
      "21\n",
      "in loop\n",
      "21\n",
      "in loop\n",
      "21\n",
      "in loop\n",
      "21\n",
      "in loop\n",
      "21\n",
      "in loop\n",
      "21\n",
      "in loop\n",
      "21\n",
      "in loop\n",
      "21\n",
      "Pre-grid Organization Section\n",
      "KDP Section\n",
      "Grid Section\n"
     ]
    },
    {
     "name": "stderr",
     "output_type": "stream",
     "text": [
      "C:\\Users\\matts\\AppData\\Local\\Continuum\\anaconda3\\envs\\SPORK_SP\\lib\\site-packages\\pyart\\map\\gates_to_grid.py:160: DeprecationWarning: Barnes weighting function is deprecated. Please use Barnes 2 to be consistent with Pauley and Wu 1990.\n",
      "  warnings.warn(\"Barnes weighting function is deprecated.\"\n"
     ]
    },
    {
     "name": "stdout",
     "output_type": "stream",
     "text": [
      "Gradient Analysis and Masking\n",
      "(-94.72286987304688, 40.731201171875, <cartopy.crs.PlateCarree object at 0x00000239826E9B80>)\n"
     ]
    },
    {
     "name": "stderr",
     "output_type": "stream",
     "text": [
      "C:\\Users\\matts\\AppData\\Local\\Continuum\\anaconda3\\envs\\SPORK_SP\\lib\\site-packages\\pyproj\\crs\\crs.py:53: FutureWarning: '+init=<authority>:<code>' syntax is deprecated. '<authority>:<code>' is the preferred initialization method. When making the change, be mindful of axis order changes: https://pyproj4.github.io/pyproj/stable/gotchas.html#axis-order-changes-in-proj-6\n",
      "  return _prepare_from_string(\" \".join(pjargs))\n",
      "C:\\Users\\matts\\AppData\\Local\\Continuum\\anaconda3\\envs\\SPORK_SP\\lib\\site-packages\\pyproj\\crs\\crs.py:294: FutureWarning: '+init=<authority>:<code>' syntax is deprecated. '<authority>:<code>' is the preferred initialization method. When making the change, be mindful of axis order changes: https://pyproj4.github.io/pyproj/stable/gotchas.html#axis-order-changes-in-proj-6\n",
      "  projstring = _prepare_from_string(\" \".join((projstring, projkwargs)))\n",
      "C:\\Users\\matts\\AppData\\Local\\Continuum\\anaconda3\\envs\\SPORK_SP\\lib\\site-packages\\pyproj\\crs\\crs.py:53: FutureWarning: '+init=<authority>:<code>' syntax is deprecated. '<authority>:<code>' is the preferred initialization method. When making the change, be mindful of axis order changes: https://pyproj4.github.io/pyproj/stable/gotchas.html#axis-order-changes-in-proj-6\n",
      "  return _prepare_from_string(\" \".join(pjargs))\n",
      "C:\\Users\\matts\\AppData\\Local\\Continuum\\anaconda3\\envs\\SPORK_SP\\lib\\site-packages\\pyproj\\crs\\crs.py:294: FutureWarning: '+init=<authority>:<code>' syntax is deprecated. '<authority>:<code>' is the preferred initialization method. When making the change, be mindful of axis order changes: https://pyproj4.github.io/pyproj/stable/gotchas.html#axis-order-changes-in-proj-6\n",
      "  projstring = _prepare_from_string(\" \".join((projstring, projkwargs)))\n",
      "C:\\Users\\matts\\AppData\\Local\\Continuum\\anaconda3\\envs\\SPORK_SP\\lib\\site-packages\\cartopy\\mpl\\geoaxes.py:1366: UserWarning: The following kwargs were not used by contour: 'linestyle'\n",
      "  result = matplotlib.axes.Axes.contour(self, *args, **kwargs)\n"
     ]
    },
    {
     "name": "stdout",
     "output_type": "stream",
     "text": [
      "Testfig Saved\n"
     ]
    },
    {
     "name": "stderr",
     "output_type": "stream",
     "text": [
      "C:\\Users\\matts\\Documents\\Python Scripts\\SPORK\\arcalg_framework.py:539: RuntimeWarning: invalid value encountered in true_divide\n",
      "  shaped_ang = (180-np.abs(shaped_ang))*(shaped_ang/np.abs(shaped_ang))\n"
     ]
    },
    {
     "name": "stdout",
     "output_type": "stream",
     "text": [
      "Figure Saved\n",
      "in loop\n",
      "21\n",
      "in loop\n",
      "21\n",
      "in loop\n",
      "21\n",
      "in loop\n",
      "21\n",
      "in loop\n",
      "21\n",
      "in loop\n",
      "21\n",
      "in loop\n",
      "21\n",
      "in loop\n",
      "21\n",
      "in loop\n",
      "21\n",
      "in loop\n",
      "21\n",
      "bad radar file\n",
      "File Reading\n",
      "in loop\n",
      "21\n",
      "Pre-grid Organization Section\n",
      "KDP Section\n",
      "Grid Section\n"
     ]
    },
    {
     "name": "stderr",
     "output_type": "stream",
     "text": [
      "C:\\Users\\matts\\AppData\\Local\\Continuum\\anaconda3\\envs\\SPORK_SP\\lib\\site-packages\\pyart\\map\\gates_to_grid.py:160: DeprecationWarning: Barnes weighting function is deprecated. Please use Barnes 2 to be consistent with Pauley and Wu 1990.\n",
      "  warnings.warn(\"Barnes weighting function is deprecated.\"\n"
     ]
    },
    {
     "name": "stdout",
     "output_type": "stream",
     "text": [
      "Gradient Analysis and Masking\n",
      "(-94.72286987304688, 40.731201171875, <cartopy.crs.PlateCarree object at 0x00000239816922C0>)\n"
     ]
    },
    {
     "name": "stderr",
     "output_type": "stream",
     "text": [
      "C:\\Users\\matts\\AppData\\Local\\Continuum\\anaconda3\\envs\\SPORK_SP\\lib\\site-packages\\pyproj\\crs\\crs.py:53: FutureWarning: '+init=<authority>:<code>' syntax is deprecated. '<authority>:<code>' is the preferred initialization method. When making the change, be mindful of axis order changes: https://pyproj4.github.io/pyproj/stable/gotchas.html#axis-order-changes-in-proj-6\n",
      "  return _prepare_from_string(\" \".join(pjargs))\n",
      "C:\\Users\\matts\\AppData\\Local\\Continuum\\anaconda3\\envs\\SPORK_SP\\lib\\site-packages\\pyproj\\crs\\crs.py:294: FutureWarning: '+init=<authority>:<code>' syntax is deprecated. '<authority>:<code>' is the preferred initialization method. When making the change, be mindful of axis order changes: https://pyproj4.github.io/pyproj/stable/gotchas.html#axis-order-changes-in-proj-6\n",
      "  projstring = _prepare_from_string(\" \".join((projstring, projkwargs)))\n",
      "C:\\Users\\matts\\AppData\\Local\\Continuum\\anaconda3\\envs\\SPORK_SP\\lib\\site-packages\\pyproj\\crs\\crs.py:53: FutureWarning: '+init=<authority>:<code>' syntax is deprecated. '<authority>:<code>' is the preferred initialization method. When making the change, be mindful of axis order changes: https://pyproj4.github.io/pyproj/stable/gotchas.html#axis-order-changes-in-proj-6\n",
      "  return _prepare_from_string(\" \".join(pjargs))\n",
      "C:\\Users\\matts\\AppData\\Local\\Continuum\\anaconda3\\envs\\SPORK_SP\\lib\\site-packages\\pyproj\\crs\\crs.py:294: FutureWarning: '+init=<authority>:<code>' syntax is deprecated. '<authority>:<code>' is the preferred initialization method. When making the change, be mindful of axis order changes: https://pyproj4.github.io/pyproj/stable/gotchas.html#axis-order-changes-in-proj-6\n",
      "  projstring = _prepare_from_string(\" \".join((projstring, projkwargs)))\n",
      "C:\\Users\\matts\\AppData\\Local\\Continuum\\anaconda3\\envs\\SPORK_SP\\lib\\site-packages\\cartopy\\mpl\\geoaxes.py:1366: UserWarning: The following kwargs were not used by contour: 'linestyle'\n",
      "  result = matplotlib.axes.Axes.contour(self, *args, **kwargs)\n"
     ]
    },
    {
     "name": "stdout",
     "output_type": "stream",
     "text": [
      "Testfig Saved\n"
     ]
    },
    {
     "name": "stderr",
     "output_type": "stream",
     "text": [
      "C:\\Users\\matts\\Documents\\Python Scripts\\SPORK\\arcalg_framework.py:539: RuntimeWarning: invalid value encountered in true_divide\n",
      "  shaped_ang = (180-np.abs(shaped_ang))*(shaped_ang/np.abs(shaped_ang))\n"
     ]
    },
    {
     "name": "stdout",
     "output_type": "stream",
     "text": [
      "Figure Saved\n",
      "in loop\n",
      "21\n",
      "in loop\n",
      "21\n",
      "in loop\n",
      "21\n",
      "in loop\n",
      "21\n",
      "in loop\n",
      "21\n",
      "in loop\n",
      "21\n",
      "in loop\n",
      "21\n",
      "in loop\n",
      "21\n",
      "in loop\n",
      "21\n",
      "in loop\n",
      "21\n",
      "Pre-grid Organization Section\n",
      "KDP Section\n",
      "Grid Section\n"
     ]
    },
    {
     "name": "stderr",
     "output_type": "stream",
     "text": [
      "C:\\Users\\matts\\AppData\\Local\\Continuum\\anaconda3\\envs\\SPORK_SP\\lib\\site-packages\\pyart\\map\\gates_to_grid.py:160: DeprecationWarning: Barnes weighting function is deprecated. Please use Barnes 2 to be consistent with Pauley and Wu 1990.\n",
      "  warnings.warn(\"Barnes weighting function is deprecated.\"\n"
     ]
    },
    {
     "name": "stdout",
     "output_type": "stream",
     "text": [
      "Gradient Analysis and Masking\n",
      "(-94.72286987304688, 40.731201171875, <cartopy.crs.PlateCarree object at 0x000002399BF03A90>)\n"
     ]
    },
    {
     "name": "stderr",
     "output_type": "stream",
     "text": [
      "C:\\Users\\matts\\AppData\\Local\\Continuum\\anaconda3\\envs\\SPORK_SP\\lib\\site-packages\\pyproj\\crs\\crs.py:53: FutureWarning: '+init=<authority>:<code>' syntax is deprecated. '<authority>:<code>' is the preferred initialization method. When making the change, be mindful of axis order changes: https://pyproj4.github.io/pyproj/stable/gotchas.html#axis-order-changes-in-proj-6\n",
      "  return _prepare_from_string(\" \".join(pjargs))\n",
      "C:\\Users\\matts\\AppData\\Local\\Continuum\\anaconda3\\envs\\SPORK_SP\\lib\\site-packages\\pyproj\\crs\\crs.py:294: FutureWarning: '+init=<authority>:<code>' syntax is deprecated. '<authority>:<code>' is the preferred initialization method. When making the change, be mindful of axis order changes: https://pyproj4.github.io/pyproj/stable/gotchas.html#axis-order-changes-in-proj-6\n",
      "  projstring = _prepare_from_string(\" \".join((projstring, projkwargs)))\n",
      "C:\\Users\\matts\\AppData\\Local\\Continuum\\anaconda3\\envs\\SPORK_SP\\lib\\site-packages\\pyproj\\crs\\crs.py:53: FutureWarning: '+init=<authority>:<code>' syntax is deprecated. '<authority>:<code>' is the preferred initialization method. When making the change, be mindful of axis order changes: https://pyproj4.github.io/pyproj/stable/gotchas.html#axis-order-changes-in-proj-6\n",
      "  return _prepare_from_string(\" \".join(pjargs))\n",
      "C:\\Users\\matts\\AppData\\Local\\Continuum\\anaconda3\\envs\\SPORK_SP\\lib\\site-packages\\pyproj\\crs\\crs.py:294: FutureWarning: '+init=<authority>:<code>' syntax is deprecated. '<authority>:<code>' is the preferred initialization method. When making the change, be mindful of axis order changes: https://pyproj4.github.io/pyproj/stable/gotchas.html#axis-order-changes-in-proj-6\n",
      "  projstring = _prepare_from_string(\" \".join((projstring, projkwargs)))\n",
      "C:\\Users\\matts\\AppData\\Local\\Continuum\\anaconda3\\envs\\SPORK_SP\\lib\\site-packages\\cartopy\\mpl\\geoaxes.py:1366: UserWarning: The following kwargs were not used by contour: 'linestyle'\n",
      "  result = matplotlib.axes.Axes.contour(self, *args, **kwargs)\n"
     ]
    },
    {
     "name": "stdout",
     "output_type": "stream",
     "text": [
      "Testfig Saved\n"
     ]
    },
    {
     "name": "stderr",
     "output_type": "stream",
     "text": [
      "C:\\Users\\matts\\Documents\\Python Scripts\\SPORK\\arcalg_framework.py:539: RuntimeWarning: invalid value encountered in true_divide\n",
      "  shaped_ang = (180-np.abs(shaped_ang))*(shaped_ang/np.abs(shaped_ang))\n"
     ]
    },
    {
     "name": "stdout",
     "output_type": "stream",
     "text": [
      "Figure Saved\n",
      "in loop\n",
      "21\n",
      "in loop\n",
      "21\n",
      "in loop\n",
      "21\n",
      "in loop\n",
      "21\n",
      "in loop\n",
      "21\n",
      "in loop\n",
      "21\n",
      "in loop\n",
      "21\n",
      "in loop\n",
      "21\n",
      "in loop\n",
      "21\n",
      "in loop\n",
      "21\n",
      "File Reading\n",
      "in loop\n",
      "21\n",
      "Pre-grid Organization Section\n",
      "KDP Section\n",
      "Grid Section\n"
     ]
    },
    {
     "name": "stderr",
     "output_type": "stream",
     "text": [
      "C:\\Users\\matts\\AppData\\Local\\Continuum\\anaconda3\\envs\\SPORK_SP\\lib\\site-packages\\pyart\\map\\gates_to_grid.py:160: DeprecationWarning: Barnes weighting function is deprecated. Please use Barnes 2 to be consistent with Pauley and Wu 1990.\n",
      "  warnings.warn(\"Barnes weighting function is deprecated.\"\n"
     ]
    },
    {
     "name": "stdout",
     "output_type": "stream",
     "text": [
      "Gradient Analysis and Masking\n",
      "(-94.72286987304688, 40.731201171875, <cartopy.crs.PlateCarree object at 0x000002399BF03B30>)\n"
     ]
    },
    {
     "name": "stderr",
     "output_type": "stream",
     "text": [
      "C:\\Users\\matts\\AppData\\Local\\Continuum\\anaconda3\\envs\\SPORK_SP\\lib\\site-packages\\pyproj\\crs\\crs.py:53: FutureWarning: '+init=<authority>:<code>' syntax is deprecated. '<authority>:<code>' is the preferred initialization method. When making the change, be mindful of axis order changes: https://pyproj4.github.io/pyproj/stable/gotchas.html#axis-order-changes-in-proj-6\n",
      "  return _prepare_from_string(\" \".join(pjargs))\n",
      "C:\\Users\\matts\\AppData\\Local\\Continuum\\anaconda3\\envs\\SPORK_SP\\lib\\site-packages\\pyproj\\crs\\crs.py:294: FutureWarning: '+init=<authority>:<code>' syntax is deprecated. '<authority>:<code>' is the preferred initialization method. When making the change, be mindful of axis order changes: https://pyproj4.github.io/pyproj/stable/gotchas.html#axis-order-changes-in-proj-6\n",
      "  projstring = _prepare_from_string(\" \".join((projstring, projkwargs)))\n",
      "C:\\Users\\matts\\AppData\\Local\\Continuum\\anaconda3\\envs\\SPORK_SP\\lib\\site-packages\\pyproj\\crs\\crs.py:53: FutureWarning: '+init=<authority>:<code>' syntax is deprecated. '<authority>:<code>' is the preferred initialization method. When making the change, be mindful of axis order changes: https://pyproj4.github.io/pyproj/stable/gotchas.html#axis-order-changes-in-proj-6\n",
      "  return _prepare_from_string(\" \".join(pjargs))\n",
      "C:\\Users\\matts\\AppData\\Local\\Continuum\\anaconda3\\envs\\SPORK_SP\\lib\\site-packages\\pyproj\\crs\\crs.py:294: FutureWarning: '+init=<authority>:<code>' syntax is deprecated. '<authority>:<code>' is the preferred initialization method. When making the change, be mindful of axis order changes: https://pyproj4.github.io/pyproj/stable/gotchas.html#axis-order-changes-in-proj-6\n",
      "  projstring = _prepare_from_string(\" \".join((projstring, projkwargs)))\n",
      "C:\\Users\\matts\\AppData\\Local\\Continuum\\anaconda3\\envs\\SPORK_SP\\lib\\site-packages\\cartopy\\mpl\\geoaxes.py:1366: UserWarning: The following kwargs were not used by contour: 'linestyle'\n",
      "  result = matplotlib.axes.Axes.contour(self, *args, **kwargs)\n"
     ]
    },
    {
     "name": "stdout",
     "output_type": "stream",
     "text": [
      "Testfig Saved\n"
     ]
    },
    {
     "name": "stderr",
     "output_type": "stream",
     "text": [
      "C:\\Users\\matts\\Documents\\Python Scripts\\SPORK\\arcalg_framework.py:539: RuntimeWarning: invalid value encountered in true_divide\n",
      "  shaped_ang = (180-np.abs(shaped_ang))*(shaped_ang/np.abs(shaped_ang))\n"
     ]
    },
    {
     "name": "stdout",
     "output_type": "stream",
     "text": [
      "Figure Saved\n",
      "in loop\n",
      "21\n",
      "in loop\n",
      "21\n",
      "in loop\n",
      "21\n",
      "in loop\n",
      "21\n",
      "in loop\n",
      "21\n",
      "in loop\n",
      "21\n",
      "in loop\n",
      "21\n",
      "in loop\n",
      "21\n",
      "in loop\n",
      "21\n",
      "in loop\n",
      "21\n",
      "Pre-grid Organization Section\n",
      "KDP Section\n",
      "Grid Section\n"
     ]
    },
    {
     "name": "stderr",
     "output_type": "stream",
     "text": [
      "C:\\Users\\matts\\AppData\\Local\\Continuum\\anaconda3\\envs\\SPORK_SP\\lib\\site-packages\\pyart\\map\\gates_to_grid.py:160: DeprecationWarning: Barnes weighting function is deprecated. Please use Barnes 2 to be consistent with Pauley and Wu 1990.\n",
      "  warnings.warn(\"Barnes weighting function is deprecated.\"\n"
     ]
    },
    {
     "name": "stdout",
     "output_type": "stream",
     "text": [
      "Gradient Analysis and Masking\n",
      "(-94.72286987304688, 40.731201171875, <cartopy.crs.PlateCarree object at 0x0000023981692040>)\n"
     ]
    },
    {
     "name": "stderr",
     "output_type": "stream",
     "text": [
      "C:\\Users\\matts\\AppData\\Local\\Continuum\\anaconda3\\envs\\SPORK_SP\\lib\\site-packages\\pyproj\\crs\\crs.py:53: FutureWarning: '+init=<authority>:<code>' syntax is deprecated. '<authority>:<code>' is the preferred initialization method. When making the change, be mindful of axis order changes: https://pyproj4.github.io/pyproj/stable/gotchas.html#axis-order-changes-in-proj-6\n",
      "  return _prepare_from_string(\" \".join(pjargs))\n",
      "C:\\Users\\matts\\AppData\\Local\\Continuum\\anaconda3\\envs\\SPORK_SP\\lib\\site-packages\\pyproj\\crs\\crs.py:294: FutureWarning: '+init=<authority>:<code>' syntax is deprecated. '<authority>:<code>' is the preferred initialization method. When making the change, be mindful of axis order changes: https://pyproj4.github.io/pyproj/stable/gotchas.html#axis-order-changes-in-proj-6\n",
      "  projstring = _prepare_from_string(\" \".join((projstring, projkwargs)))\n",
      "C:\\Users\\matts\\AppData\\Local\\Continuum\\anaconda3\\envs\\SPORK_SP\\lib\\site-packages\\pyproj\\crs\\crs.py:53: FutureWarning: '+init=<authority>:<code>' syntax is deprecated. '<authority>:<code>' is the preferred initialization method. When making the change, be mindful of axis order changes: https://pyproj4.github.io/pyproj/stable/gotchas.html#axis-order-changes-in-proj-6\n",
      "  return _prepare_from_string(\" \".join(pjargs))\n",
      "C:\\Users\\matts\\AppData\\Local\\Continuum\\anaconda3\\envs\\SPORK_SP\\lib\\site-packages\\pyproj\\crs\\crs.py:294: FutureWarning: '+init=<authority>:<code>' syntax is deprecated. '<authority>:<code>' is the preferred initialization method. When making the change, be mindful of axis order changes: https://pyproj4.github.io/pyproj/stable/gotchas.html#axis-order-changes-in-proj-6\n",
      "  projstring = _prepare_from_string(\" \".join((projstring, projkwargs)))\n",
      "C:\\Users\\matts\\AppData\\Local\\Continuum\\anaconda3\\envs\\SPORK_SP\\lib\\site-packages\\cartopy\\mpl\\geoaxes.py:1366: UserWarning: The following kwargs were not used by contour: 'linestyle'\n",
      "  result = matplotlib.axes.Axes.contour(self, *args, **kwargs)\n"
     ]
    },
    {
     "name": "stdout",
     "output_type": "stream",
     "text": [
      "Testfig Saved\n"
     ]
    },
    {
     "name": "stderr",
     "output_type": "stream",
     "text": [
      "C:\\Users\\matts\\Documents\\Python Scripts\\SPORK\\arcalg_framework.py:539: RuntimeWarning: invalid value encountered in true_divide\n",
      "  shaped_ang = (180-np.abs(shaped_ang))*(shaped_ang/np.abs(shaped_ang))\n"
     ]
    },
    {
     "name": "stdout",
     "output_type": "stream",
     "text": [
      "Figure Saved\n",
      "in loop\n",
      "21\n",
      "in loop\n",
      "21\n",
      "in loop\n",
      "21\n",
      "in loop\n",
      "21\n",
      "in loop\n",
      "21\n",
      "in loop\n",
      "21\n",
      "in loop\n",
      "21\n",
      "in loop\n",
      "21\n",
      "in loop\n",
      "21\n",
      "in loop\n",
      "21\n",
      "File Reading\n",
      "in loop\n",
      "21\n",
      "Pre-grid Organization Section\n",
      "KDP Section\n",
      "Grid Section\n"
     ]
    },
    {
     "name": "stderr",
     "output_type": "stream",
     "text": [
      "C:\\Users\\matts\\AppData\\Local\\Continuum\\anaconda3\\envs\\SPORK_SP\\lib\\site-packages\\pyart\\map\\gates_to_grid.py:160: DeprecationWarning: Barnes weighting function is deprecated. Please use Barnes 2 to be consistent with Pauley and Wu 1990.\n",
      "  warnings.warn(\"Barnes weighting function is deprecated.\"\n"
     ]
    },
    {
     "name": "stdout",
     "output_type": "stream",
     "text": [
      "Gradient Analysis and Masking\n",
      "(-94.72286987304688, 40.731201171875, <cartopy.crs.PlateCarree object at 0x000002399BF10900>)\n"
     ]
    },
    {
     "name": "stderr",
     "output_type": "stream",
     "text": [
      "C:\\Users\\matts\\AppData\\Local\\Continuum\\anaconda3\\envs\\SPORK_SP\\lib\\site-packages\\pyproj\\crs\\crs.py:53: FutureWarning: '+init=<authority>:<code>' syntax is deprecated. '<authority>:<code>' is the preferred initialization method. When making the change, be mindful of axis order changes: https://pyproj4.github.io/pyproj/stable/gotchas.html#axis-order-changes-in-proj-6\n",
      "  return _prepare_from_string(\" \".join(pjargs))\n",
      "C:\\Users\\matts\\AppData\\Local\\Continuum\\anaconda3\\envs\\SPORK_SP\\lib\\site-packages\\pyproj\\crs\\crs.py:294: FutureWarning: '+init=<authority>:<code>' syntax is deprecated. '<authority>:<code>' is the preferred initialization method. When making the change, be mindful of axis order changes: https://pyproj4.github.io/pyproj/stable/gotchas.html#axis-order-changes-in-proj-6\n",
      "  projstring = _prepare_from_string(\" \".join((projstring, projkwargs)))\n",
      "C:\\Users\\matts\\AppData\\Local\\Continuum\\anaconda3\\envs\\SPORK_SP\\lib\\site-packages\\pyproj\\crs\\crs.py:53: FutureWarning: '+init=<authority>:<code>' syntax is deprecated. '<authority>:<code>' is the preferred initialization method. When making the change, be mindful of axis order changes: https://pyproj4.github.io/pyproj/stable/gotchas.html#axis-order-changes-in-proj-6\n",
      "  return _prepare_from_string(\" \".join(pjargs))\n",
      "C:\\Users\\matts\\AppData\\Local\\Continuum\\anaconda3\\envs\\SPORK_SP\\lib\\site-packages\\pyproj\\crs\\crs.py:294: FutureWarning: '+init=<authority>:<code>' syntax is deprecated. '<authority>:<code>' is the preferred initialization method. When making the change, be mindful of axis order changes: https://pyproj4.github.io/pyproj/stable/gotchas.html#axis-order-changes-in-proj-6\n",
      "  projstring = _prepare_from_string(\" \".join((projstring, projkwargs)))\n",
      "C:\\Users\\matts\\AppData\\Local\\Continuum\\anaconda3\\envs\\SPORK_SP\\lib\\site-packages\\cartopy\\mpl\\geoaxes.py:1366: UserWarning: The following kwargs were not used by contour: 'linestyle'\n",
      "  result = matplotlib.axes.Axes.contour(self, *args, **kwargs)\n"
     ]
    },
    {
     "name": "stdout",
     "output_type": "stream",
     "text": [
      "Testfig Saved\n"
     ]
    },
    {
     "name": "stderr",
     "output_type": "stream",
     "text": [
      "C:\\Users\\matts\\Documents\\Python Scripts\\SPORK\\arcalg_framework.py:539: RuntimeWarning: invalid value encountered in true_divide\n",
      "  shaped_ang = (180-np.abs(shaped_ang))*(shaped_ang/np.abs(shaped_ang))\n"
     ]
    },
    {
     "name": "stdout",
     "output_type": "stream",
     "text": [
      "Figure Saved\n",
      "in loop\n",
      "21\n",
      "in loop\n",
      "21\n",
      "in loop\n",
      "21\n",
      "in loop\n",
      "21\n",
      "in loop\n",
      "21\n",
      "in loop\n",
      "21\n",
      "in loop\n",
      "21\n",
      "in loop\n",
      "21\n",
      "in loop\n",
      "21\n",
      "in loop\n",
      "21\n",
      "Pre-grid Organization Section\n",
      "KDP Section\n",
      "Grid Section\n"
     ]
    },
    {
     "name": "stderr",
     "output_type": "stream",
     "text": [
      "C:\\Users\\matts\\AppData\\Local\\Continuum\\anaconda3\\envs\\SPORK_SP\\lib\\site-packages\\pyart\\map\\gates_to_grid.py:160: DeprecationWarning: Barnes weighting function is deprecated. Please use Barnes 2 to be consistent with Pauley and Wu 1990.\n",
      "  warnings.warn(\"Barnes weighting function is deprecated.\"\n"
     ]
    },
    {
     "name": "stdout",
     "output_type": "stream",
     "text": [
      "Gradient Analysis and Masking\n",
      "(-94.72286987304688, 40.731201171875, <cartopy.crs.PlateCarree object at 0x00000239DE4048B0>)\n"
     ]
    },
    {
     "name": "stderr",
     "output_type": "stream",
     "text": [
      "C:\\Users\\matts\\AppData\\Local\\Continuum\\anaconda3\\envs\\SPORK_SP\\lib\\site-packages\\pyproj\\crs\\crs.py:53: FutureWarning: '+init=<authority>:<code>' syntax is deprecated. '<authority>:<code>' is the preferred initialization method. When making the change, be mindful of axis order changes: https://pyproj4.github.io/pyproj/stable/gotchas.html#axis-order-changes-in-proj-6\n",
      "  return _prepare_from_string(\" \".join(pjargs))\n",
      "C:\\Users\\matts\\AppData\\Local\\Continuum\\anaconda3\\envs\\SPORK_SP\\lib\\site-packages\\pyproj\\crs\\crs.py:294: FutureWarning: '+init=<authority>:<code>' syntax is deprecated. '<authority>:<code>' is the preferred initialization method. When making the change, be mindful of axis order changes: https://pyproj4.github.io/pyproj/stable/gotchas.html#axis-order-changes-in-proj-6\n",
      "  projstring = _prepare_from_string(\" \".join((projstring, projkwargs)))\n",
      "C:\\Users\\matts\\AppData\\Local\\Continuum\\anaconda3\\envs\\SPORK_SP\\lib\\site-packages\\pyproj\\crs\\crs.py:53: FutureWarning: '+init=<authority>:<code>' syntax is deprecated. '<authority>:<code>' is the preferred initialization method. When making the change, be mindful of axis order changes: https://pyproj4.github.io/pyproj/stable/gotchas.html#axis-order-changes-in-proj-6\n",
      "  return _prepare_from_string(\" \".join(pjargs))\n",
      "C:\\Users\\matts\\AppData\\Local\\Continuum\\anaconda3\\envs\\SPORK_SP\\lib\\site-packages\\pyproj\\crs\\crs.py:294: FutureWarning: '+init=<authority>:<code>' syntax is deprecated. '<authority>:<code>' is the preferred initialization method. When making the change, be mindful of axis order changes: https://pyproj4.github.io/pyproj/stable/gotchas.html#axis-order-changes-in-proj-6\n",
      "  projstring = _prepare_from_string(\" \".join((projstring, projkwargs)))\n",
      "C:\\Users\\matts\\AppData\\Local\\Continuum\\anaconda3\\envs\\SPORK_SP\\lib\\site-packages\\cartopy\\mpl\\geoaxes.py:1366: UserWarning: The following kwargs were not used by contour: 'linestyle'\n",
      "  result = matplotlib.axes.Axes.contour(self, *args, **kwargs)\n"
     ]
    },
    {
     "name": "stdout",
     "output_type": "stream",
     "text": [
      "Testfig Saved\n"
     ]
    },
    {
     "name": "stderr",
     "output_type": "stream",
     "text": [
      "C:\\Users\\matts\\Documents\\Python Scripts\\SPORK\\arcalg_framework.py:539: RuntimeWarning: invalid value encountered in true_divide\n",
      "  shaped_ang = (180-np.abs(shaped_ang))*(shaped_ang/np.abs(shaped_ang))\n"
     ]
    },
    {
     "name": "stdout",
     "output_type": "stream",
     "text": [
      "Figure Saved\n",
      "in loop\n",
      "21\n",
      "in loop\n",
      "21\n",
      "in loop\n",
      "21\n",
      "in loop\n",
      "21\n",
      "in loop\n",
      "21\n",
      "in loop\n",
      "21\n",
      "in loop\n",
      "21\n",
      "in loop\n",
      "21\n",
      "in loop\n",
      "21\n",
      "in loop\n",
      "21\n",
      "File Reading\n",
      "in loop\n",
      "21\n",
      "Pre-grid Organization Section\n",
      "KDP Section\n",
      "Grid Section\n"
     ]
    },
    {
     "name": "stderr",
     "output_type": "stream",
     "text": [
      "C:\\Users\\matts\\AppData\\Local\\Continuum\\anaconda3\\envs\\SPORK_SP\\lib\\site-packages\\pyart\\map\\gates_to_grid.py:160: DeprecationWarning: Barnes weighting function is deprecated. Please use Barnes 2 to be consistent with Pauley and Wu 1990.\n",
      "  warnings.warn(\"Barnes weighting function is deprecated.\"\n"
     ]
    },
    {
     "name": "stdout",
     "output_type": "stream",
     "text": [
      "Gradient Analysis and Masking\n",
      "(-94.72286987304688, 40.731201171875, <cartopy.crs.PlateCarree object at 0x00000239811627C0>)\n"
     ]
    },
    {
     "name": "stderr",
     "output_type": "stream",
     "text": [
      "C:\\Users\\matts\\AppData\\Local\\Continuum\\anaconda3\\envs\\SPORK_SP\\lib\\site-packages\\pyproj\\crs\\crs.py:53: FutureWarning: '+init=<authority>:<code>' syntax is deprecated. '<authority>:<code>' is the preferred initialization method. When making the change, be mindful of axis order changes: https://pyproj4.github.io/pyproj/stable/gotchas.html#axis-order-changes-in-proj-6\n",
      "  return _prepare_from_string(\" \".join(pjargs))\n",
      "C:\\Users\\matts\\AppData\\Local\\Continuum\\anaconda3\\envs\\SPORK_SP\\lib\\site-packages\\pyproj\\crs\\crs.py:294: FutureWarning: '+init=<authority>:<code>' syntax is deprecated. '<authority>:<code>' is the preferred initialization method. When making the change, be mindful of axis order changes: https://pyproj4.github.io/pyproj/stable/gotchas.html#axis-order-changes-in-proj-6\n",
      "  projstring = _prepare_from_string(\" \".join((projstring, projkwargs)))\n",
      "C:\\Users\\matts\\AppData\\Local\\Continuum\\anaconda3\\envs\\SPORK_SP\\lib\\site-packages\\pyproj\\crs\\crs.py:53: FutureWarning: '+init=<authority>:<code>' syntax is deprecated. '<authority>:<code>' is the preferred initialization method. When making the change, be mindful of axis order changes: https://pyproj4.github.io/pyproj/stable/gotchas.html#axis-order-changes-in-proj-6\n",
      "  return _prepare_from_string(\" \".join(pjargs))\n",
      "C:\\Users\\matts\\AppData\\Local\\Continuum\\anaconda3\\envs\\SPORK_SP\\lib\\site-packages\\pyproj\\crs\\crs.py:294: FutureWarning: '+init=<authority>:<code>' syntax is deprecated. '<authority>:<code>' is the preferred initialization method. When making the change, be mindful of axis order changes: https://pyproj4.github.io/pyproj/stable/gotchas.html#axis-order-changes-in-proj-6\n",
      "  projstring = _prepare_from_string(\" \".join((projstring, projkwargs)))\n",
      "C:\\Users\\matts\\AppData\\Local\\Continuum\\anaconda3\\envs\\SPORK_SP\\lib\\site-packages\\cartopy\\mpl\\geoaxes.py:1366: UserWarning: The following kwargs were not used by contour: 'linestyle'\n",
      "  result = matplotlib.axes.Axes.contour(self, *args, **kwargs)\n"
     ]
    },
    {
     "name": "stdout",
     "output_type": "stream",
     "text": [
      "Testfig Saved\n"
     ]
    },
    {
     "name": "stderr",
     "output_type": "stream",
     "text": [
      "C:\\Users\\matts\\Documents\\Python Scripts\\SPORK\\arcalg_framework.py:539: RuntimeWarning: invalid value encountered in true_divide\n",
      "  shaped_ang = (180-np.abs(shaped_ang))*(shaped_ang/np.abs(shaped_ang))\n"
     ]
    },
    {
     "name": "stdout",
     "output_type": "stream",
     "text": [
      "Figure Saved\n",
      "in loop\n",
      "21\n",
      "in loop\n",
      "21\n",
      "in loop\n",
      "21\n",
      "in loop\n",
      "21\n",
      "in loop\n",
      "21\n",
      "in loop\n",
      "21\n",
      "in loop\n",
      "21\n",
      "in loop\n",
      "21\n",
      "in loop\n",
      "21\n",
      "in loop\n",
      "21\n",
      "Pre-grid Organization Section\n",
      "KDP Section\n",
      "Grid Section\n"
     ]
    },
    {
     "name": "stderr",
     "output_type": "stream",
     "text": [
      "C:\\Users\\matts\\AppData\\Local\\Continuum\\anaconda3\\envs\\SPORK_SP\\lib\\site-packages\\pyart\\map\\gates_to_grid.py:160: DeprecationWarning: Barnes weighting function is deprecated. Please use Barnes 2 to be consistent with Pauley and Wu 1990.\n",
      "  warnings.warn(\"Barnes weighting function is deprecated.\"\n"
     ]
    },
    {
     "name": "stdout",
     "output_type": "stream",
     "text": [
      "Gradient Analysis and Masking\n",
      "(-94.72286987304688, 40.731201171875, <cartopy.crs.PlateCarree object at 0x00000239827290E0>)\n"
     ]
    },
    {
     "name": "stderr",
     "output_type": "stream",
     "text": [
      "C:\\Users\\matts\\AppData\\Local\\Continuum\\anaconda3\\envs\\SPORK_SP\\lib\\site-packages\\pyproj\\crs\\crs.py:53: FutureWarning: '+init=<authority>:<code>' syntax is deprecated. '<authority>:<code>' is the preferred initialization method. When making the change, be mindful of axis order changes: https://pyproj4.github.io/pyproj/stable/gotchas.html#axis-order-changes-in-proj-6\n",
      "  return _prepare_from_string(\" \".join(pjargs))\n",
      "C:\\Users\\matts\\AppData\\Local\\Continuum\\anaconda3\\envs\\SPORK_SP\\lib\\site-packages\\pyproj\\crs\\crs.py:294: FutureWarning: '+init=<authority>:<code>' syntax is deprecated. '<authority>:<code>' is the preferred initialization method. When making the change, be mindful of axis order changes: https://pyproj4.github.io/pyproj/stable/gotchas.html#axis-order-changes-in-proj-6\n",
      "  projstring = _prepare_from_string(\" \".join((projstring, projkwargs)))\n",
      "C:\\Users\\matts\\AppData\\Local\\Continuum\\anaconda3\\envs\\SPORK_SP\\lib\\site-packages\\pyproj\\crs\\crs.py:53: FutureWarning: '+init=<authority>:<code>' syntax is deprecated. '<authority>:<code>' is the preferred initialization method. When making the change, be mindful of axis order changes: https://pyproj4.github.io/pyproj/stable/gotchas.html#axis-order-changes-in-proj-6\n",
      "  return _prepare_from_string(\" \".join(pjargs))\n",
      "C:\\Users\\matts\\AppData\\Local\\Continuum\\anaconda3\\envs\\SPORK_SP\\lib\\site-packages\\pyproj\\crs\\crs.py:294: FutureWarning: '+init=<authority>:<code>' syntax is deprecated. '<authority>:<code>' is the preferred initialization method. When making the change, be mindful of axis order changes: https://pyproj4.github.io/pyproj/stable/gotchas.html#axis-order-changes-in-proj-6\n",
      "  projstring = _prepare_from_string(\" \".join((projstring, projkwargs)))\n",
      "C:\\Users\\matts\\AppData\\Local\\Continuum\\anaconda3\\envs\\SPORK_SP\\lib\\site-packages\\cartopy\\mpl\\geoaxes.py:1366: UserWarning: The following kwargs were not used by contour: 'linestyle'\n",
      "  result = matplotlib.axes.Axes.contour(self, *args, **kwargs)\n"
     ]
    },
    {
     "name": "stdout",
     "output_type": "stream",
     "text": [
      "Testfig Saved\n"
     ]
    },
    {
     "name": "stderr",
     "output_type": "stream",
     "text": [
      "C:\\Users\\matts\\Documents\\Python Scripts\\SPORK\\arcalg_framework.py:539: RuntimeWarning: invalid value encountered in true_divide\n",
      "  shaped_ang = (180-np.abs(shaped_ang))*(shaped_ang/np.abs(shaped_ang))\n"
     ]
    },
    {
     "name": "stdout",
     "output_type": "stream",
     "text": [
      "Figure Saved\n",
      "in loop\n",
      "21\n",
      "in loop\n",
      "21\n",
      "in loop\n",
      "21\n",
      "in loop\n",
      "21\n",
      "in loop\n",
      "21\n",
      "in loop\n",
      "21\n",
      "in loop\n",
      "21\n",
      "in loop\n",
      "21\n",
      "in loop\n",
      "21\n",
      "in loop\n",
      "21\n",
      "File Reading\n",
      "in loop\n",
      "21\n",
      "Pre-grid Organization Section\n",
      "KDP Section\n",
      "Grid Section\n"
     ]
    },
    {
     "name": "stderr",
     "output_type": "stream",
     "text": [
      "C:\\Users\\matts\\AppData\\Local\\Continuum\\anaconda3\\envs\\SPORK_SP\\lib\\site-packages\\pyart\\map\\gates_to_grid.py:160: DeprecationWarning: Barnes weighting function is deprecated. Please use Barnes 2 to be consistent with Pauley and Wu 1990.\n",
      "  warnings.warn(\"Barnes weighting function is deprecated.\"\n"
     ]
    },
    {
     "name": "stdout",
     "output_type": "stream",
     "text": [
      "Gradient Analysis and Masking\n",
      "(-94.72286987304688, 40.731201171875, <cartopy.crs.PlateCarree object at 0x0000023990A4B6D0>)\n"
     ]
    },
    {
     "name": "stderr",
     "output_type": "stream",
     "text": [
      "C:\\Users\\matts\\AppData\\Local\\Continuum\\anaconda3\\envs\\SPORK_SP\\lib\\site-packages\\pyproj\\crs\\crs.py:53: FutureWarning: '+init=<authority>:<code>' syntax is deprecated. '<authority>:<code>' is the preferred initialization method. When making the change, be mindful of axis order changes: https://pyproj4.github.io/pyproj/stable/gotchas.html#axis-order-changes-in-proj-6\n",
      "  return _prepare_from_string(\" \".join(pjargs))\n",
      "C:\\Users\\matts\\AppData\\Local\\Continuum\\anaconda3\\envs\\SPORK_SP\\lib\\site-packages\\pyproj\\crs\\crs.py:294: FutureWarning: '+init=<authority>:<code>' syntax is deprecated. '<authority>:<code>' is the preferred initialization method. When making the change, be mindful of axis order changes: https://pyproj4.github.io/pyproj/stable/gotchas.html#axis-order-changes-in-proj-6\n",
      "  projstring = _prepare_from_string(\" \".join((projstring, projkwargs)))\n",
      "C:\\Users\\matts\\AppData\\Local\\Continuum\\anaconda3\\envs\\SPORK_SP\\lib\\site-packages\\pyproj\\crs\\crs.py:53: FutureWarning: '+init=<authority>:<code>' syntax is deprecated. '<authority>:<code>' is the preferred initialization method. When making the change, be mindful of axis order changes: https://pyproj4.github.io/pyproj/stable/gotchas.html#axis-order-changes-in-proj-6\n",
      "  return _prepare_from_string(\" \".join(pjargs))\n",
      "C:\\Users\\matts\\AppData\\Local\\Continuum\\anaconda3\\envs\\SPORK_SP\\lib\\site-packages\\pyproj\\crs\\crs.py:294: FutureWarning: '+init=<authority>:<code>' syntax is deprecated. '<authority>:<code>' is the preferred initialization method. When making the change, be mindful of axis order changes: https://pyproj4.github.io/pyproj/stable/gotchas.html#axis-order-changes-in-proj-6\n",
      "  projstring = _prepare_from_string(\" \".join((projstring, projkwargs)))\n",
      "C:\\Users\\matts\\AppData\\Local\\Continuum\\anaconda3\\envs\\SPORK_SP\\lib\\site-packages\\cartopy\\mpl\\geoaxes.py:1366: UserWarning: The following kwargs were not used by contour: 'linestyle'\n",
      "  result = matplotlib.axes.Axes.contour(self, *args, **kwargs)\n"
     ]
    },
    {
     "name": "stdout",
     "output_type": "stream",
     "text": [
      "Testfig Saved\n"
     ]
    },
    {
     "name": "stderr",
     "output_type": "stream",
     "text": [
      "C:\\Users\\matts\\Documents\\Python Scripts\\SPORK\\arcalg_framework.py:539: RuntimeWarning: invalid value encountered in true_divide\n",
      "  shaped_ang = (180-np.abs(shaped_ang))*(shaped_ang/np.abs(shaped_ang))\n"
     ]
    },
    {
     "name": "stdout",
     "output_type": "stream",
     "text": [
      "Figure Saved\n",
      "in loop\n",
      "21\n",
      "in loop\n",
      "21\n",
      "in loop\n",
      "21\n",
      "in loop\n",
      "21\n",
      "in loop\n",
      "21\n",
      "in loop\n",
      "21\n",
      "in loop\n",
      "21\n",
      "in loop\n",
      "21\n",
      "in loop\n",
      "21\n",
      "in loop\n",
      "21\n",
      "Pre-grid Organization Section\n",
      "KDP Section\n",
      "Grid Section\n"
     ]
    },
    {
     "name": "stderr",
     "output_type": "stream",
     "text": [
      "C:\\Users\\matts\\AppData\\Local\\Continuum\\anaconda3\\envs\\SPORK_SP\\lib\\site-packages\\pyart\\map\\gates_to_grid.py:160: DeprecationWarning: Barnes weighting function is deprecated. Please use Barnes 2 to be consistent with Pauley and Wu 1990.\n",
      "  warnings.warn(\"Barnes weighting function is deprecated.\"\n"
     ]
    },
    {
     "name": "stdout",
     "output_type": "stream",
     "text": [
      "Gradient Analysis and Masking\n",
      "(-94.72286987304688, 40.731201171875, <cartopy.crs.PlateCarree object at 0x00000239A0C15680>)\n"
     ]
    },
    {
     "name": "stderr",
     "output_type": "stream",
     "text": [
      "C:\\Users\\matts\\AppData\\Local\\Continuum\\anaconda3\\envs\\SPORK_SP\\lib\\site-packages\\pyproj\\crs\\crs.py:53: FutureWarning: '+init=<authority>:<code>' syntax is deprecated. '<authority>:<code>' is the preferred initialization method. When making the change, be mindful of axis order changes: https://pyproj4.github.io/pyproj/stable/gotchas.html#axis-order-changes-in-proj-6\n",
      "  return _prepare_from_string(\" \".join(pjargs))\n",
      "C:\\Users\\matts\\AppData\\Local\\Continuum\\anaconda3\\envs\\SPORK_SP\\lib\\site-packages\\pyproj\\crs\\crs.py:294: FutureWarning: '+init=<authority>:<code>' syntax is deprecated. '<authority>:<code>' is the preferred initialization method. When making the change, be mindful of axis order changes: https://pyproj4.github.io/pyproj/stable/gotchas.html#axis-order-changes-in-proj-6\n",
      "  projstring = _prepare_from_string(\" \".join((projstring, projkwargs)))\n",
      "C:\\Users\\matts\\AppData\\Local\\Continuum\\anaconda3\\envs\\SPORK_SP\\lib\\site-packages\\pyproj\\crs\\crs.py:53: FutureWarning: '+init=<authority>:<code>' syntax is deprecated. '<authority>:<code>' is the preferred initialization method. When making the change, be mindful of axis order changes: https://pyproj4.github.io/pyproj/stable/gotchas.html#axis-order-changes-in-proj-6\n",
      "  return _prepare_from_string(\" \".join(pjargs))\n",
      "C:\\Users\\matts\\AppData\\Local\\Continuum\\anaconda3\\envs\\SPORK_SP\\lib\\site-packages\\pyproj\\crs\\crs.py:294: FutureWarning: '+init=<authority>:<code>' syntax is deprecated. '<authority>:<code>' is the preferred initialization method. When making the change, be mindful of axis order changes: https://pyproj4.github.io/pyproj/stable/gotchas.html#axis-order-changes-in-proj-6\n",
      "  projstring = _prepare_from_string(\" \".join((projstring, projkwargs)))\n",
      "C:\\Users\\matts\\AppData\\Local\\Continuum\\anaconda3\\envs\\SPORK_SP\\lib\\site-packages\\cartopy\\mpl\\geoaxes.py:1366: UserWarning: The following kwargs were not used by contour: 'linestyle'\n",
      "  result = matplotlib.axes.Axes.contour(self, *args, **kwargs)\n"
     ]
    },
    {
     "name": "stdout",
     "output_type": "stream",
     "text": [
      "Testfig Saved\n"
     ]
    },
    {
     "name": "stderr",
     "output_type": "stream",
     "text": [
      "C:\\Users\\matts\\Documents\\Python Scripts\\SPORK\\arcalg_framework.py:539: RuntimeWarning: invalid value encountered in true_divide\n",
      "  shaped_ang = (180-np.abs(shaped_ang))*(shaped_ang/np.abs(shaped_ang))\n"
     ]
    },
    {
     "name": "stdout",
     "output_type": "stream",
     "text": [
      "Figure Saved\n",
      "in loop\n",
      "21\n",
      "in loop\n",
      "21\n",
      "in loop\n",
      "21\n",
      "in loop\n",
      "21\n",
      "in loop\n",
      "21\n",
      "in loop\n",
      "21\n",
      "in loop\n",
      "21\n",
      "in loop\n",
      "21\n",
      "in loop\n",
      "21\n",
      "in loop\n",
      "21\n",
      "File Reading\n",
      "in loop\n",
      "21\n",
      "Pre-grid Organization Section\n",
      "KDP Section\n",
      "Grid Section\n"
     ]
    },
    {
     "name": "stderr",
     "output_type": "stream",
     "text": [
      "C:\\Users\\matts\\AppData\\Local\\Continuum\\anaconda3\\envs\\SPORK_SP\\lib\\site-packages\\pyart\\map\\gates_to_grid.py:160: DeprecationWarning: Barnes weighting function is deprecated. Please use Barnes 2 to be consistent with Pauley and Wu 1990.\n",
      "  warnings.warn(\"Barnes weighting function is deprecated.\"\n"
     ]
    },
    {
     "name": "stdout",
     "output_type": "stream",
     "text": [
      "Gradient Analysis and Masking\n",
      "(-94.72286987304688, 40.731201171875, <cartopy.crs.PlateCarree object at 0x000002399F6D54A0>)\n"
     ]
    },
    {
     "name": "stderr",
     "output_type": "stream",
     "text": [
      "C:\\Users\\matts\\AppData\\Local\\Continuum\\anaconda3\\envs\\SPORK_SP\\lib\\site-packages\\pyproj\\crs\\crs.py:53: FutureWarning: '+init=<authority>:<code>' syntax is deprecated. '<authority>:<code>' is the preferred initialization method. When making the change, be mindful of axis order changes: https://pyproj4.github.io/pyproj/stable/gotchas.html#axis-order-changes-in-proj-6\n",
      "  return _prepare_from_string(\" \".join(pjargs))\n",
      "C:\\Users\\matts\\AppData\\Local\\Continuum\\anaconda3\\envs\\SPORK_SP\\lib\\site-packages\\pyproj\\crs\\crs.py:294: FutureWarning: '+init=<authority>:<code>' syntax is deprecated. '<authority>:<code>' is the preferred initialization method. When making the change, be mindful of axis order changes: https://pyproj4.github.io/pyproj/stable/gotchas.html#axis-order-changes-in-proj-6\n",
      "  projstring = _prepare_from_string(\" \".join((projstring, projkwargs)))\n",
      "C:\\Users\\matts\\AppData\\Local\\Continuum\\anaconda3\\envs\\SPORK_SP\\lib\\site-packages\\pyproj\\crs\\crs.py:53: FutureWarning: '+init=<authority>:<code>' syntax is deprecated. '<authority>:<code>' is the preferred initialization method. When making the change, be mindful of axis order changes: https://pyproj4.github.io/pyproj/stable/gotchas.html#axis-order-changes-in-proj-6\n",
      "  return _prepare_from_string(\" \".join(pjargs))\n",
      "C:\\Users\\matts\\AppData\\Local\\Continuum\\anaconda3\\envs\\SPORK_SP\\lib\\site-packages\\pyproj\\crs\\crs.py:294: FutureWarning: '+init=<authority>:<code>' syntax is deprecated. '<authority>:<code>' is the preferred initialization method. When making the change, be mindful of axis order changes: https://pyproj4.github.io/pyproj/stable/gotchas.html#axis-order-changes-in-proj-6\n",
      "  projstring = _prepare_from_string(\" \".join((projstring, projkwargs)))\n",
      "C:\\Users\\matts\\AppData\\Local\\Continuum\\anaconda3\\envs\\SPORK_SP\\lib\\site-packages\\cartopy\\mpl\\geoaxes.py:1366: UserWarning: The following kwargs were not used by contour: 'linestyle'\n",
      "  result = matplotlib.axes.Axes.contour(self, *args, **kwargs)\n"
     ]
    },
    {
     "name": "stdout",
     "output_type": "stream",
     "text": [
      "Testfig Saved\n"
     ]
    },
    {
     "name": "stderr",
     "output_type": "stream",
     "text": [
      "C:\\Users\\matts\\Documents\\Python Scripts\\SPORK\\arcalg_framework.py:539: RuntimeWarning: invalid value encountered in true_divide\n",
      "  shaped_ang = (180-np.abs(shaped_ang))*(shaped_ang/np.abs(shaped_ang))\n"
     ]
    },
    {
     "name": "stdout",
     "output_type": "stream",
     "text": [
      "Figure Saved\n",
      "in loop\n",
      "21\n",
      "in loop\n",
      "21\n",
      "in loop\n",
      "21\n",
      "in loop\n",
      "21\n",
      "in loop\n",
      "21\n",
      "in loop\n",
      "21\n",
      "in loop\n",
      "21\n",
      "in loop\n",
      "21\n",
      "in loop\n",
      "21\n",
      "in loop\n",
      "21\n",
      "Pre-grid Organization Section\n",
      "KDP Section\n",
      "Grid Section\n"
     ]
    },
    {
     "name": "stderr",
     "output_type": "stream",
     "text": [
      "C:\\Users\\matts\\AppData\\Local\\Continuum\\anaconda3\\envs\\SPORK_SP\\lib\\site-packages\\pyart\\map\\gates_to_grid.py:160: DeprecationWarning: Barnes weighting function is deprecated. Please use Barnes 2 to be consistent with Pauley and Wu 1990.\n",
      "  warnings.warn(\"Barnes weighting function is deprecated.\"\n"
     ]
    },
    {
     "name": "stdout",
     "output_type": "stream",
     "text": [
      "Gradient Analysis and Masking\n",
      "(-94.72286987304688, 40.731201171875, <cartopy.crs.PlateCarree object at 0x000002399F6D5630>)\n"
     ]
    },
    {
     "name": "stderr",
     "output_type": "stream",
     "text": [
      "C:\\Users\\matts\\AppData\\Local\\Continuum\\anaconda3\\envs\\SPORK_SP\\lib\\site-packages\\pyproj\\crs\\crs.py:53: FutureWarning: '+init=<authority>:<code>' syntax is deprecated. '<authority>:<code>' is the preferred initialization method. When making the change, be mindful of axis order changes: https://pyproj4.github.io/pyproj/stable/gotchas.html#axis-order-changes-in-proj-6\n",
      "  return _prepare_from_string(\" \".join(pjargs))\n",
      "C:\\Users\\matts\\AppData\\Local\\Continuum\\anaconda3\\envs\\SPORK_SP\\lib\\site-packages\\pyproj\\crs\\crs.py:294: FutureWarning: '+init=<authority>:<code>' syntax is deprecated. '<authority>:<code>' is the preferred initialization method. When making the change, be mindful of axis order changes: https://pyproj4.github.io/pyproj/stable/gotchas.html#axis-order-changes-in-proj-6\n",
      "  projstring = _prepare_from_string(\" \".join((projstring, projkwargs)))\n",
      "C:\\Users\\matts\\AppData\\Local\\Continuum\\anaconda3\\envs\\SPORK_SP\\lib\\site-packages\\pyproj\\crs\\crs.py:53: FutureWarning: '+init=<authority>:<code>' syntax is deprecated. '<authority>:<code>' is the preferred initialization method. When making the change, be mindful of axis order changes: https://pyproj4.github.io/pyproj/stable/gotchas.html#axis-order-changes-in-proj-6\n",
      "  return _prepare_from_string(\" \".join(pjargs))\n",
      "C:\\Users\\matts\\AppData\\Local\\Continuum\\anaconda3\\envs\\SPORK_SP\\lib\\site-packages\\pyproj\\crs\\crs.py:294: FutureWarning: '+init=<authority>:<code>' syntax is deprecated. '<authority>:<code>' is the preferred initialization method. When making the change, be mindful of axis order changes: https://pyproj4.github.io/pyproj/stable/gotchas.html#axis-order-changes-in-proj-6\n",
      "  projstring = _prepare_from_string(\" \".join((projstring, projkwargs)))\n",
      "C:\\Users\\matts\\AppData\\Local\\Continuum\\anaconda3\\envs\\SPORK_SP\\lib\\site-packages\\cartopy\\mpl\\geoaxes.py:1366: UserWarning: The following kwargs were not used by contour: 'linestyle'\n",
      "  result = matplotlib.axes.Axes.contour(self, *args, **kwargs)\n"
     ]
    },
    {
     "name": "stdout",
     "output_type": "stream",
     "text": [
      "Testfig Saved\n"
     ]
    },
    {
     "name": "stderr",
     "output_type": "stream",
     "text": [
      "C:\\Users\\matts\\Documents\\Python Scripts\\SPORK\\arcalg_framework.py:539: RuntimeWarning: invalid value encountered in true_divide\n",
      "  shaped_ang = (180-np.abs(shaped_ang))*(shaped_ang/np.abs(shaped_ang))\n"
     ]
    },
    {
     "name": "stdout",
     "output_type": "stream",
     "text": [
      "Figure Saved\n",
      "in loop\n",
      "21\n",
      "in loop\n",
      "21\n",
      "in loop\n",
      "21\n",
      "in loop\n",
      "21\n",
      "in loop\n",
      "21\n",
      "in loop\n",
      "21\n",
      "in loop\n",
      "21\n",
      "in loop\n",
      "21\n",
      "in loop\n",
      "21\n",
      "in loop\n",
      "21\n",
      "File Reading\n",
      "in loop\n",
      "21\n",
      "Pre-grid Organization Section\n",
      "KDP Section\n",
      "Grid Section\n"
     ]
    },
    {
     "name": "stderr",
     "output_type": "stream",
     "text": [
      "C:\\Users\\matts\\AppData\\Local\\Continuum\\anaconda3\\envs\\SPORK_SP\\lib\\site-packages\\pyart\\map\\gates_to_grid.py:160: DeprecationWarning: Barnes weighting function is deprecated. Please use Barnes 2 to be consistent with Pauley and Wu 1990.\n",
      "  warnings.warn(\"Barnes weighting function is deprecated.\"\n"
     ]
    },
    {
     "name": "stdout",
     "output_type": "stream",
     "text": [
      "Gradient Analysis and Masking\n",
      "(-94.72286987304688, 40.731201171875, <cartopy.crs.PlateCarree object at 0x00000239A1B2CF90>)\n"
     ]
    },
    {
     "name": "stderr",
     "output_type": "stream",
     "text": [
      "C:\\Users\\matts\\AppData\\Local\\Continuum\\anaconda3\\envs\\SPORK_SP\\lib\\site-packages\\pyproj\\crs\\crs.py:53: FutureWarning: '+init=<authority>:<code>' syntax is deprecated. '<authority>:<code>' is the preferred initialization method. When making the change, be mindful of axis order changes: https://pyproj4.github.io/pyproj/stable/gotchas.html#axis-order-changes-in-proj-6\n",
      "  return _prepare_from_string(\" \".join(pjargs))\n",
      "C:\\Users\\matts\\AppData\\Local\\Continuum\\anaconda3\\envs\\SPORK_SP\\lib\\site-packages\\pyproj\\crs\\crs.py:294: FutureWarning: '+init=<authority>:<code>' syntax is deprecated. '<authority>:<code>' is the preferred initialization method. When making the change, be mindful of axis order changes: https://pyproj4.github.io/pyproj/stable/gotchas.html#axis-order-changes-in-proj-6\n",
      "  projstring = _prepare_from_string(\" \".join((projstring, projkwargs)))\n",
      "C:\\Users\\matts\\AppData\\Local\\Continuum\\anaconda3\\envs\\SPORK_SP\\lib\\site-packages\\pyproj\\crs\\crs.py:53: FutureWarning: '+init=<authority>:<code>' syntax is deprecated. '<authority>:<code>' is the preferred initialization method. When making the change, be mindful of axis order changes: https://pyproj4.github.io/pyproj/stable/gotchas.html#axis-order-changes-in-proj-6\n",
      "  return _prepare_from_string(\" \".join(pjargs))\n",
      "C:\\Users\\matts\\AppData\\Local\\Continuum\\anaconda3\\envs\\SPORK_SP\\lib\\site-packages\\pyproj\\crs\\crs.py:294: FutureWarning: '+init=<authority>:<code>' syntax is deprecated. '<authority>:<code>' is the preferred initialization method. When making the change, be mindful of axis order changes: https://pyproj4.github.io/pyproj/stable/gotchas.html#axis-order-changes-in-proj-6\n",
      "  projstring = _prepare_from_string(\" \".join((projstring, projkwargs)))\n",
      "C:\\Users\\matts\\AppData\\Local\\Continuum\\anaconda3\\envs\\SPORK_SP\\lib\\site-packages\\cartopy\\mpl\\geoaxes.py:1366: UserWarning: The following kwargs were not used by contour: 'linestyle'\n",
      "  result = matplotlib.axes.Axes.contour(self, *args, **kwargs)\n"
     ]
    },
    {
     "name": "stdout",
     "output_type": "stream",
     "text": [
      "Testfig Saved\n"
     ]
    },
    {
     "name": "stderr",
     "output_type": "stream",
     "text": [
      "C:\\Users\\matts\\Documents\\Python Scripts\\SPORK\\arcalg_framework.py:539: RuntimeWarning: invalid value encountered in true_divide\n",
      "  shaped_ang = (180-np.abs(shaped_ang))*(shaped_ang/np.abs(shaped_ang))\n"
     ]
    },
    {
     "name": "stdout",
     "output_type": "stream",
     "text": [
      "Figure Saved\n",
      "in loop\n",
      "21\n",
      "in loop\n",
      "21\n",
      "in loop\n",
      "21\n",
      "in loop\n",
      "21\n",
      "in loop\n",
      "21\n",
      "in loop\n",
      "21\n",
      "in loop\n",
      "21\n",
      "in loop\n",
      "21\n",
      "in loop\n",
      "21\n",
      "in loop\n",
      "21\n",
      "Pre-grid Organization Section\n",
      "KDP Section\n",
      "Grid Section\n"
     ]
    },
    {
     "name": "stderr",
     "output_type": "stream",
     "text": [
      "C:\\Users\\matts\\AppData\\Local\\Continuum\\anaconda3\\envs\\SPORK_SP\\lib\\site-packages\\pyart\\map\\gates_to_grid.py:160: DeprecationWarning: Barnes weighting function is deprecated. Please use Barnes 2 to be consistent with Pauley and Wu 1990.\n",
      "  warnings.warn(\"Barnes weighting function is deprecated.\"\n"
     ]
    },
    {
     "name": "stdout",
     "output_type": "stream",
     "text": [
      "Gradient Analysis and Masking\n",
      "(-94.72286987304688, 40.731201171875, <cartopy.crs.PlateCarree object at 0x00000239909FF950>)\n"
     ]
    },
    {
     "name": "stderr",
     "output_type": "stream",
     "text": [
      "C:\\Users\\matts\\AppData\\Local\\Continuum\\anaconda3\\envs\\SPORK_SP\\lib\\site-packages\\pyproj\\crs\\crs.py:53: FutureWarning: '+init=<authority>:<code>' syntax is deprecated. '<authority>:<code>' is the preferred initialization method. When making the change, be mindful of axis order changes: https://pyproj4.github.io/pyproj/stable/gotchas.html#axis-order-changes-in-proj-6\n",
      "  return _prepare_from_string(\" \".join(pjargs))\n",
      "C:\\Users\\matts\\AppData\\Local\\Continuum\\anaconda3\\envs\\SPORK_SP\\lib\\site-packages\\pyproj\\crs\\crs.py:294: FutureWarning: '+init=<authority>:<code>' syntax is deprecated. '<authority>:<code>' is the preferred initialization method. When making the change, be mindful of axis order changes: https://pyproj4.github.io/pyproj/stable/gotchas.html#axis-order-changes-in-proj-6\n",
      "  projstring = _prepare_from_string(\" \".join((projstring, projkwargs)))\n",
      "C:\\Users\\matts\\AppData\\Local\\Continuum\\anaconda3\\envs\\SPORK_SP\\lib\\site-packages\\pyproj\\crs\\crs.py:53: FutureWarning: '+init=<authority>:<code>' syntax is deprecated. '<authority>:<code>' is the preferred initialization method. When making the change, be mindful of axis order changes: https://pyproj4.github.io/pyproj/stable/gotchas.html#axis-order-changes-in-proj-6\n",
      "  return _prepare_from_string(\" \".join(pjargs))\n",
      "C:\\Users\\matts\\AppData\\Local\\Continuum\\anaconda3\\envs\\SPORK_SP\\lib\\site-packages\\pyproj\\crs\\crs.py:294: FutureWarning: '+init=<authority>:<code>' syntax is deprecated. '<authority>:<code>' is the preferred initialization method. When making the change, be mindful of axis order changes: https://pyproj4.github.io/pyproj/stable/gotchas.html#axis-order-changes-in-proj-6\n",
      "  projstring = _prepare_from_string(\" \".join((projstring, projkwargs)))\n",
      "C:\\Users\\matts\\AppData\\Local\\Continuum\\anaconda3\\envs\\SPORK_SP\\lib\\site-packages\\cartopy\\mpl\\geoaxes.py:1366: UserWarning: The following kwargs were not used by contour: 'linestyle'\n",
      "  result = matplotlib.axes.Axes.contour(self, *args, **kwargs)\n"
     ]
    },
    {
     "name": "stdout",
     "output_type": "stream",
     "text": [
      "Testfig Saved\n"
     ]
    },
    {
     "name": "stderr",
     "output_type": "stream",
     "text": [
      "C:\\Users\\matts\\Documents\\Python Scripts\\SPORK\\arcalg_framework.py:539: RuntimeWarning: invalid value encountered in true_divide\n",
      "  shaped_ang = (180-np.abs(shaped_ang))*(shaped_ang/np.abs(shaped_ang))\n"
     ]
    },
    {
     "name": "stdout",
     "output_type": "stream",
     "text": [
      "Figure Saved\n",
      "in loop\n",
      "21\n",
      "in loop\n",
      "21\n",
      "in loop\n",
      "21\n",
      "in loop\n",
      "21\n",
      "in loop\n",
      "21\n",
      "in loop\n",
      "21\n",
      "in loop\n",
      "21\n",
      "in loop\n",
      "21\n",
      "in loop\n",
      "21\n",
      "in loop\n",
      "21\n",
      "File Reading\n",
      "in loop\n",
      "21\n",
      "Pre-grid Organization Section\n",
      "KDP Section\n",
      "Grid Section\n"
     ]
    },
    {
     "name": "stderr",
     "output_type": "stream",
     "text": [
      "C:\\Users\\matts\\AppData\\Local\\Continuum\\anaconda3\\envs\\SPORK_SP\\lib\\site-packages\\pyart\\map\\gates_to_grid.py:160: DeprecationWarning: Barnes weighting function is deprecated. Please use Barnes 2 to be consistent with Pauley and Wu 1990.\n",
      "  warnings.warn(\"Barnes weighting function is deprecated.\"\n"
     ]
    },
    {
     "name": "stdout",
     "output_type": "stream",
     "text": [
      "Gradient Analysis and Masking\n",
      "(-94.72286987304688, 40.731201171875, <cartopy.crs.PlateCarree object at 0x00000239DBF94BD0>)\n"
     ]
    },
    {
     "name": "stderr",
     "output_type": "stream",
     "text": [
      "C:\\Users\\matts\\AppData\\Local\\Continuum\\anaconda3\\envs\\SPORK_SP\\lib\\site-packages\\pyproj\\crs\\crs.py:53: FutureWarning: '+init=<authority>:<code>' syntax is deprecated. '<authority>:<code>' is the preferred initialization method. When making the change, be mindful of axis order changes: https://pyproj4.github.io/pyproj/stable/gotchas.html#axis-order-changes-in-proj-6\n",
      "  return _prepare_from_string(\" \".join(pjargs))\n",
      "C:\\Users\\matts\\AppData\\Local\\Continuum\\anaconda3\\envs\\SPORK_SP\\lib\\site-packages\\pyproj\\crs\\crs.py:294: FutureWarning: '+init=<authority>:<code>' syntax is deprecated. '<authority>:<code>' is the preferred initialization method. When making the change, be mindful of axis order changes: https://pyproj4.github.io/pyproj/stable/gotchas.html#axis-order-changes-in-proj-6\n",
      "  projstring = _prepare_from_string(\" \".join((projstring, projkwargs)))\n",
      "C:\\Users\\matts\\AppData\\Local\\Continuum\\anaconda3\\envs\\SPORK_SP\\lib\\site-packages\\pyproj\\crs\\crs.py:53: FutureWarning: '+init=<authority>:<code>' syntax is deprecated. '<authority>:<code>' is the preferred initialization method. When making the change, be mindful of axis order changes: https://pyproj4.github.io/pyproj/stable/gotchas.html#axis-order-changes-in-proj-6\n",
      "  return _prepare_from_string(\" \".join(pjargs))\n",
      "C:\\Users\\matts\\AppData\\Local\\Continuum\\anaconda3\\envs\\SPORK_SP\\lib\\site-packages\\pyproj\\crs\\crs.py:294: FutureWarning: '+init=<authority>:<code>' syntax is deprecated. '<authority>:<code>' is the preferred initialization method. When making the change, be mindful of axis order changes: https://pyproj4.github.io/pyproj/stable/gotchas.html#axis-order-changes-in-proj-6\n",
      "  projstring = _prepare_from_string(\" \".join((projstring, projkwargs)))\n",
      "C:\\Users\\matts\\AppData\\Local\\Continuum\\anaconda3\\envs\\SPORK_SP\\lib\\site-packages\\cartopy\\mpl\\geoaxes.py:1366: UserWarning: The following kwargs were not used by contour: 'linestyle'\n",
      "  result = matplotlib.axes.Axes.contour(self, *args, **kwargs)\n"
     ]
    },
    {
     "name": "stdout",
     "output_type": "stream",
     "text": [
      "Testfig Saved\n"
     ]
    },
    {
     "name": "stderr",
     "output_type": "stream",
     "text": [
      "C:\\Users\\matts\\Documents\\Python Scripts\\SPORK\\arcalg_framework.py:539: RuntimeWarning: invalid value encountered in true_divide\n",
      "  shaped_ang = (180-np.abs(shaped_ang))*(shaped_ang/np.abs(shaped_ang))\n"
     ]
    },
    {
     "name": "stdout",
     "output_type": "stream",
     "text": [
      "Figure Saved\n",
      "in loop\n",
      "21\n",
      "in loop\n",
      "21\n",
      "in loop\n",
      "21\n",
      "in loop\n",
      "21\n",
      "in loop\n",
      "21\n",
      "in loop\n",
      "21\n",
      "in loop\n",
      "21\n",
      "in loop\n",
      "21\n",
      "in loop\n",
      "21\n",
      "in loop\n",
      "21\n",
      "Pre-grid Organization Section\n",
      "KDP Section\n",
      "Grid Section\n"
     ]
    },
    {
     "name": "stderr",
     "output_type": "stream",
     "text": [
      "C:\\Users\\matts\\AppData\\Local\\Continuum\\anaconda3\\envs\\SPORK_SP\\lib\\site-packages\\pyart\\map\\gates_to_grid.py:160: DeprecationWarning: Barnes weighting function is deprecated. Please use Barnes 2 to be consistent with Pauley and Wu 1990.\n",
      "  warnings.warn(\"Barnes weighting function is deprecated.\"\n"
     ]
    },
    {
     "name": "stdout",
     "output_type": "stream",
     "text": [
      "Gradient Analysis and Masking\n",
      "(-94.72286987304688, 40.731201171875, <cartopy.crs.PlateCarree object at 0x000002398C696130>)\n"
     ]
    },
    {
     "name": "stderr",
     "output_type": "stream",
     "text": [
      "C:\\Users\\matts\\AppData\\Local\\Continuum\\anaconda3\\envs\\SPORK_SP\\lib\\site-packages\\pyproj\\crs\\crs.py:53: FutureWarning: '+init=<authority>:<code>' syntax is deprecated. '<authority>:<code>' is the preferred initialization method. When making the change, be mindful of axis order changes: https://pyproj4.github.io/pyproj/stable/gotchas.html#axis-order-changes-in-proj-6\n",
      "  return _prepare_from_string(\" \".join(pjargs))\n",
      "C:\\Users\\matts\\AppData\\Local\\Continuum\\anaconda3\\envs\\SPORK_SP\\lib\\site-packages\\pyproj\\crs\\crs.py:294: FutureWarning: '+init=<authority>:<code>' syntax is deprecated. '<authority>:<code>' is the preferred initialization method. When making the change, be mindful of axis order changes: https://pyproj4.github.io/pyproj/stable/gotchas.html#axis-order-changes-in-proj-6\n",
      "  projstring = _prepare_from_string(\" \".join((projstring, projkwargs)))\n",
      "C:\\Users\\matts\\AppData\\Local\\Continuum\\anaconda3\\envs\\SPORK_SP\\lib\\site-packages\\pyproj\\crs\\crs.py:53: FutureWarning: '+init=<authority>:<code>' syntax is deprecated. '<authority>:<code>' is the preferred initialization method. When making the change, be mindful of axis order changes: https://pyproj4.github.io/pyproj/stable/gotchas.html#axis-order-changes-in-proj-6\n",
      "  return _prepare_from_string(\" \".join(pjargs))\n",
      "C:\\Users\\matts\\AppData\\Local\\Continuum\\anaconda3\\envs\\SPORK_SP\\lib\\site-packages\\pyproj\\crs\\crs.py:294: FutureWarning: '+init=<authority>:<code>' syntax is deprecated. '<authority>:<code>' is the preferred initialization method. When making the change, be mindful of axis order changes: https://pyproj4.github.io/pyproj/stable/gotchas.html#axis-order-changes-in-proj-6\n",
      "  projstring = _prepare_from_string(\" \".join((projstring, projkwargs)))\n",
      "C:\\Users\\matts\\AppData\\Local\\Continuum\\anaconda3\\envs\\SPORK_SP\\lib\\site-packages\\cartopy\\mpl\\geoaxes.py:1366: UserWarning: The following kwargs were not used by contour: 'linestyle'\n",
      "  result = matplotlib.axes.Axes.contour(self, *args, **kwargs)\n"
     ]
    },
    {
     "name": "stdout",
     "output_type": "stream",
     "text": [
      "Testfig Saved\n"
     ]
    },
    {
     "name": "stderr",
     "output_type": "stream",
     "text": [
      "C:\\Users\\matts\\Documents\\Python Scripts\\SPORK\\arcalg_framework.py:539: RuntimeWarning: invalid value encountered in true_divide\n",
      "  shaped_ang = (180-np.abs(shaped_ang))*(shaped_ang/np.abs(shaped_ang))\n"
     ]
    },
    {
     "name": "stdout",
     "output_type": "stream",
     "text": [
      "Figure Saved\n",
      "in loop\n",
      "21\n",
      "in loop\n",
      "21\n",
      "in loop\n",
      "21\n",
      "in loop\n",
      "21\n",
      "in loop\n",
      "21\n",
      "in loop\n",
      "21\n",
      "in loop\n",
      "21\n",
      "in loop\n",
      "21\n",
      "in loop\n",
      "21\n",
      "in loop\n",
      "21\n",
      "File Reading\n",
      "in loop\n",
      "21\n",
      "Pre-grid Organization Section\n",
      "KDP Section\n",
      "Grid Section\n"
     ]
    },
    {
     "name": "stderr",
     "output_type": "stream",
     "text": [
      "C:\\Users\\matts\\AppData\\Local\\Continuum\\anaconda3\\envs\\SPORK_SP\\lib\\site-packages\\pyart\\map\\gates_to_grid.py:160: DeprecationWarning: Barnes weighting function is deprecated. Please use Barnes 2 to be consistent with Pauley and Wu 1990.\n",
      "  warnings.warn(\"Barnes weighting function is deprecated.\"\n"
     ]
    },
    {
     "name": "stdout",
     "output_type": "stream",
     "text": [
      "Gradient Analysis and Masking\n",
      "(-94.72286987304688, 40.731201171875, <cartopy.crs.PlateCarree object at 0x000002398C6806D0>)\n"
     ]
    },
    {
     "name": "stderr",
     "output_type": "stream",
     "text": [
      "C:\\Users\\matts\\AppData\\Local\\Continuum\\anaconda3\\envs\\SPORK_SP\\lib\\site-packages\\pyproj\\crs\\crs.py:53: FutureWarning: '+init=<authority>:<code>' syntax is deprecated. '<authority>:<code>' is the preferred initialization method. When making the change, be mindful of axis order changes: https://pyproj4.github.io/pyproj/stable/gotchas.html#axis-order-changes-in-proj-6\n",
      "  return _prepare_from_string(\" \".join(pjargs))\n",
      "C:\\Users\\matts\\AppData\\Local\\Continuum\\anaconda3\\envs\\SPORK_SP\\lib\\site-packages\\pyproj\\crs\\crs.py:294: FutureWarning: '+init=<authority>:<code>' syntax is deprecated. '<authority>:<code>' is the preferred initialization method. When making the change, be mindful of axis order changes: https://pyproj4.github.io/pyproj/stable/gotchas.html#axis-order-changes-in-proj-6\n",
      "  projstring = _prepare_from_string(\" \".join((projstring, projkwargs)))\n",
      "C:\\Users\\matts\\AppData\\Local\\Continuum\\anaconda3\\envs\\SPORK_SP\\lib\\site-packages\\pyproj\\crs\\crs.py:53: FutureWarning: '+init=<authority>:<code>' syntax is deprecated. '<authority>:<code>' is the preferred initialization method. When making the change, be mindful of axis order changes: https://pyproj4.github.io/pyproj/stable/gotchas.html#axis-order-changes-in-proj-6\n",
      "  return _prepare_from_string(\" \".join(pjargs))\n",
      "C:\\Users\\matts\\AppData\\Local\\Continuum\\anaconda3\\envs\\SPORK_SP\\lib\\site-packages\\pyproj\\crs\\crs.py:294: FutureWarning: '+init=<authority>:<code>' syntax is deprecated. '<authority>:<code>' is the preferred initialization method. When making the change, be mindful of axis order changes: https://pyproj4.github.io/pyproj/stable/gotchas.html#axis-order-changes-in-proj-6\n",
      "  projstring = _prepare_from_string(\" \".join((projstring, projkwargs)))\n",
      "C:\\Users\\matts\\AppData\\Local\\Continuum\\anaconda3\\envs\\SPORK_SP\\lib\\site-packages\\cartopy\\mpl\\geoaxes.py:1366: UserWarning: The following kwargs were not used by contour: 'linestyle'\n",
      "  result = matplotlib.axes.Axes.contour(self, *args, **kwargs)\n"
     ]
    },
    {
     "name": "stdout",
     "output_type": "stream",
     "text": [
      "Testfig Saved\n"
     ]
    },
    {
     "name": "stderr",
     "output_type": "stream",
     "text": [
      "C:\\Users\\matts\\Documents\\Python Scripts\\SPORK\\arcalg_framework.py:539: RuntimeWarning: invalid value encountered in true_divide\n",
      "  shaped_ang = (180-np.abs(shaped_ang))*(shaped_ang/np.abs(shaped_ang))\n"
     ]
    },
    {
     "name": "stdout",
     "output_type": "stream",
     "text": [
      "Figure Saved\n",
      "in loop\n",
      "21\n",
      "in loop\n",
      "21\n",
      "in loop\n",
      "21\n",
      "in loop\n",
      "21\n",
      "in loop\n",
      "21\n",
      "in loop\n",
      "21\n",
      "in loop\n",
      "21\n",
      "in loop\n",
      "21\n",
      "in loop\n",
      "21\n",
      "in loop\n",
      "21\n",
      "Pre-grid Organization Section\n",
      "KDP Section\n",
      "Grid Section\n"
     ]
    },
    {
     "name": "stderr",
     "output_type": "stream",
     "text": [
      "C:\\Users\\matts\\AppData\\Local\\Continuum\\anaconda3\\envs\\SPORK_SP\\lib\\site-packages\\pyart\\map\\gates_to_grid.py:160: DeprecationWarning: Barnes weighting function is deprecated. Please use Barnes 2 to be consistent with Pauley and Wu 1990.\n",
      "  warnings.warn(\"Barnes weighting function is deprecated.\"\n"
     ]
    },
    {
     "name": "stdout",
     "output_type": "stream",
     "text": [
      "Gradient Analysis and Masking\n",
      "(-94.72286987304688, 40.731201171875, <cartopy.crs.PlateCarree object at 0x00000239A1CF6680>)\n"
     ]
    },
    {
     "name": "stderr",
     "output_type": "stream",
     "text": [
      "C:\\Users\\matts\\AppData\\Local\\Continuum\\anaconda3\\envs\\SPORK_SP\\lib\\site-packages\\pyproj\\crs\\crs.py:53: FutureWarning: '+init=<authority>:<code>' syntax is deprecated. '<authority>:<code>' is the preferred initialization method. When making the change, be mindful of axis order changes: https://pyproj4.github.io/pyproj/stable/gotchas.html#axis-order-changes-in-proj-6\n",
      "  return _prepare_from_string(\" \".join(pjargs))\n",
      "C:\\Users\\matts\\AppData\\Local\\Continuum\\anaconda3\\envs\\SPORK_SP\\lib\\site-packages\\pyproj\\crs\\crs.py:294: FutureWarning: '+init=<authority>:<code>' syntax is deprecated. '<authority>:<code>' is the preferred initialization method. When making the change, be mindful of axis order changes: https://pyproj4.github.io/pyproj/stable/gotchas.html#axis-order-changes-in-proj-6\n",
      "  projstring = _prepare_from_string(\" \".join((projstring, projkwargs)))\n",
      "C:\\Users\\matts\\AppData\\Local\\Continuum\\anaconda3\\envs\\SPORK_SP\\lib\\site-packages\\pyproj\\crs\\crs.py:53: FutureWarning: '+init=<authority>:<code>' syntax is deprecated. '<authority>:<code>' is the preferred initialization method. When making the change, be mindful of axis order changes: https://pyproj4.github.io/pyproj/stable/gotchas.html#axis-order-changes-in-proj-6\n",
      "  return _prepare_from_string(\" \".join(pjargs))\n",
      "C:\\Users\\matts\\AppData\\Local\\Continuum\\anaconda3\\envs\\SPORK_SP\\lib\\site-packages\\pyproj\\crs\\crs.py:294: FutureWarning: '+init=<authority>:<code>' syntax is deprecated. '<authority>:<code>' is the preferred initialization method. When making the change, be mindful of axis order changes: https://pyproj4.github.io/pyproj/stable/gotchas.html#axis-order-changes-in-proj-6\n",
      "  projstring = _prepare_from_string(\" \".join((projstring, projkwargs)))\n",
      "C:\\Users\\matts\\AppData\\Local\\Continuum\\anaconda3\\envs\\SPORK_SP\\lib\\site-packages\\cartopy\\mpl\\geoaxes.py:1366: UserWarning: The following kwargs were not used by contour: 'linestyle'\n",
      "  result = matplotlib.axes.Axes.contour(self, *args, **kwargs)\n"
     ]
    },
    {
     "name": "stdout",
     "output_type": "stream",
     "text": [
      "Testfig Saved\n"
     ]
    },
    {
     "name": "stderr",
     "output_type": "stream",
     "text": [
      "C:\\Users\\matts\\Documents\\Python Scripts\\SPORK\\arcalg_framework.py:539: RuntimeWarning: invalid value encountered in true_divide\n",
      "  shaped_ang = (180-np.abs(shaped_ang))*(shaped_ang/np.abs(shaped_ang))\n"
     ]
    },
    {
     "name": "stdout",
     "output_type": "stream",
     "text": [
      "Figure Saved\n",
      "in loop\n",
      "21\n",
      "in loop\n",
      "21\n",
      "in loop\n",
      "21\n",
      "in loop\n",
      "21\n",
      "in loop\n",
      "21\n",
      "in loop\n",
      "21\n",
      "in loop\n",
      "21\n",
      "in loop\n",
      "21\n",
      "in loop\n",
      "21\n",
      "in loop\n",
      "21\n",
      "File Reading\n",
      "in loop\n",
      "21\n",
      "Pre-grid Organization Section\n",
      "KDP Section\n",
      "Grid Section\n"
     ]
    },
    {
     "name": "stderr",
     "output_type": "stream",
     "text": [
      "C:\\Users\\matts\\AppData\\Local\\Continuum\\anaconda3\\envs\\SPORK_SP\\lib\\site-packages\\pyart\\map\\gates_to_grid.py:160: DeprecationWarning: Barnes weighting function is deprecated. Please use Barnes 2 to be consistent with Pauley and Wu 1990.\n",
      "  warnings.warn(\"Barnes weighting function is deprecated.\"\n"
     ]
    },
    {
     "name": "stdout",
     "output_type": "stream",
     "text": [
      "Gradient Analysis and Masking\n",
      "(-94.72286987304688, 40.731201171875, <cartopy.crs.PlateCarree object at 0x000002399BE635E0>)\n"
     ]
    },
    {
     "name": "stderr",
     "output_type": "stream",
     "text": [
      "C:\\Users\\matts\\AppData\\Local\\Continuum\\anaconda3\\envs\\SPORK_SP\\lib\\site-packages\\pyproj\\crs\\crs.py:53: FutureWarning: '+init=<authority>:<code>' syntax is deprecated. '<authority>:<code>' is the preferred initialization method. When making the change, be mindful of axis order changes: https://pyproj4.github.io/pyproj/stable/gotchas.html#axis-order-changes-in-proj-6\n",
      "  return _prepare_from_string(\" \".join(pjargs))\n",
      "C:\\Users\\matts\\AppData\\Local\\Continuum\\anaconda3\\envs\\SPORK_SP\\lib\\site-packages\\pyproj\\crs\\crs.py:294: FutureWarning: '+init=<authority>:<code>' syntax is deprecated. '<authority>:<code>' is the preferred initialization method. When making the change, be mindful of axis order changes: https://pyproj4.github.io/pyproj/stable/gotchas.html#axis-order-changes-in-proj-6\n",
      "  projstring = _prepare_from_string(\" \".join((projstring, projkwargs)))\n",
      "C:\\Users\\matts\\AppData\\Local\\Continuum\\anaconda3\\envs\\SPORK_SP\\lib\\site-packages\\pyproj\\crs\\crs.py:53: FutureWarning: '+init=<authority>:<code>' syntax is deprecated. '<authority>:<code>' is the preferred initialization method. When making the change, be mindful of axis order changes: https://pyproj4.github.io/pyproj/stable/gotchas.html#axis-order-changes-in-proj-6\n",
      "  return _prepare_from_string(\" \".join(pjargs))\n",
      "C:\\Users\\matts\\AppData\\Local\\Continuum\\anaconda3\\envs\\SPORK_SP\\lib\\site-packages\\pyproj\\crs\\crs.py:294: FutureWarning: '+init=<authority>:<code>' syntax is deprecated. '<authority>:<code>' is the preferred initialization method. When making the change, be mindful of axis order changes: https://pyproj4.github.io/pyproj/stable/gotchas.html#axis-order-changes-in-proj-6\n",
      "  projstring = _prepare_from_string(\" \".join((projstring, projkwargs)))\n",
      "C:\\Users\\matts\\AppData\\Local\\Continuum\\anaconda3\\envs\\SPORK_SP\\lib\\site-packages\\cartopy\\mpl\\geoaxes.py:1366: UserWarning: The following kwargs were not used by contour: 'linestyle'\n",
      "  result = matplotlib.axes.Axes.contour(self, *args, **kwargs)\n"
     ]
    },
    {
     "name": "stdout",
     "output_type": "stream",
     "text": [
      "Testfig Saved\n"
     ]
    },
    {
     "name": "stderr",
     "output_type": "stream",
     "text": [
      "C:\\Users\\matts\\Documents\\Python Scripts\\SPORK\\arcalg_framework.py:539: RuntimeWarning: invalid value encountered in true_divide\n",
      "  shaped_ang = (180-np.abs(shaped_ang))*(shaped_ang/np.abs(shaped_ang))\n"
     ]
    },
    {
     "name": "stdout",
     "output_type": "stream",
     "text": [
      "Figure Saved\n",
      "in loop\n",
      "21\n",
      "in loop\n",
      "21\n",
      "in loop\n",
      "21\n",
      "in loop\n",
      "21\n",
      "in loop\n",
      "21\n",
      "in loop\n",
      "21\n",
      "in loop\n",
      "21\n",
      "in loop\n",
      "21\n",
      "in loop\n",
      "21\n",
      "in loop\n",
      "21\n",
      "Pre-grid Organization Section\n",
      "KDP Section\n",
      "Grid Section\n"
     ]
    },
    {
     "name": "stderr",
     "output_type": "stream",
     "text": [
      "C:\\Users\\matts\\AppData\\Local\\Continuum\\anaconda3\\envs\\SPORK_SP\\lib\\site-packages\\pyart\\map\\gates_to_grid.py:160: DeprecationWarning: Barnes weighting function is deprecated. Please use Barnes 2 to be consistent with Pauley and Wu 1990.\n",
      "  warnings.warn(\"Barnes weighting function is deprecated.\"\n"
     ]
    },
    {
     "name": "stdout",
     "output_type": "stream",
     "text": [
      "Gradient Analysis and Masking\n",
      "(-94.72286987304688, 40.731201171875, <cartopy.crs.PlateCarree object at 0x000002399F5281D0>)\n"
     ]
    },
    {
     "name": "stderr",
     "output_type": "stream",
     "text": [
      "C:\\Users\\matts\\AppData\\Local\\Continuum\\anaconda3\\envs\\SPORK_SP\\lib\\site-packages\\pyproj\\crs\\crs.py:53: FutureWarning: '+init=<authority>:<code>' syntax is deprecated. '<authority>:<code>' is the preferred initialization method. When making the change, be mindful of axis order changes: https://pyproj4.github.io/pyproj/stable/gotchas.html#axis-order-changes-in-proj-6\n",
      "  return _prepare_from_string(\" \".join(pjargs))\n",
      "C:\\Users\\matts\\AppData\\Local\\Continuum\\anaconda3\\envs\\SPORK_SP\\lib\\site-packages\\pyproj\\crs\\crs.py:294: FutureWarning: '+init=<authority>:<code>' syntax is deprecated. '<authority>:<code>' is the preferred initialization method. When making the change, be mindful of axis order changes: https://pyproj4.github.io/pyproj/stable/gotchas.html#axis-order-changes-in-proj-6\n",
      "  projstring = _prepare_from_string(\" \".join((projstring, projkwargs)))\n",
      "C:\\Users\\matts\\AppData\\Local\\Continuum\\anaconda3\\envs\\SPORK_SP\\lib\\site-packages\\pyproj\\crs\\crs.py:53: FutureWarning: '+init=<authority>:<code>' syntax is deprecated. '<authority>:<code>' is the preferred initialization method. When making the change, be mindful of axis order changes: https://pyproj4.github.io/pyproj/stable/gotchas.html#axis-order-changes-in-proj-6\n",
      "  return _prepare_from_string(\" \".join(pjargs))\n",
      "C:\\Users\\matts\\AppData\\Local\\Continuum\\anaconda3\\envs\\SPORK_SP\\lib\\site-packages\\pyproj\\crs\\crs.py:294: FutureWarning: '+init=<authority>:<code>' syntax is deprecated. '<authority>:<code>' is the preferred initialization method. When making the change, be mindful of axis order changes: https://pyproj4.github.io/pyproj/stable/gotchas.html#axis-order-changes-in-proj-6\n",
      "  projstring = _prepare_from_string(\" \".join((projstring, projkwargs)))\n",
      "C:\\Users\\matts\\AppData\\Local\\Continuum\\anaconda3\\envs\\SPORK_SP\\lib\\site-packages\\cartopy\\mpl\\geoaxes.py:1366: UserWarning: The following kwargs were not used by contour: 'linestyle'\n",
      "  result = matplotlib.axes.Axes.contour(self, *args, **kwargs)\n"
     ]
    },
    {
     "name": "stdout",
     "output_type": "stream",
     "text": [
      "Testfig Saved\n"
     ]
    },
    {
     "name": "stderr",
     "output_type": "stream",
     "text": [
      "C:\\Users\\matts\\Documents\\Python Scripts\\SPORK\\arcalg_framework.py:539: RuntimeWarning: invalid value encountered in true_divide\n",
      "  shaped_ang = (180-np.abs(shaped_ang))*(shaped_ang/np.abs(shaped_ang))\n"
     ]
    },
    {
     "name": "stdout",
     "output_type": "stream",
     "text": [
      "Figure Saved\n",
      "in loop\n",
      "21\n",
      "in loop\n",
      "21\n",
      "in loop\n",
      "21\n",
      "in loop\n",
      "21\n",
      "in loop\n",
      "21\n",
      "in loop\n",
      "21\n",
      "in loop\n",
      "21\n",
      "in loop\n",
      "21\n",
      "in loop\n",
      "21\n",
      "in loop\n",
      "21\n",
      "bad radar file\n",
      "File Reading\n",
      "in loop\n",
      "21\n",
      "Pre-grid Organization Section\n",
      "KDP Section\n",
      "Grid Section\n"
     ]
    },
    {
     "name": "stderr",
     "output_type": "stream",
     "text": [
      "C:\\Users\\matts\\AppData\\Local\\Continuum\\anaconda3\\envs\\SPORK_SP\\lib\\site-packages\\pyart\\map\\gates_to_grid.py:160: DeprecationWarning: Barnes weighting function is deprecated. Please use Barnes 2 to be consistent with Pauley and Wu 1990.\n",
      "  warnings.warn(\"Barnes weighting function is deprecated.\"\n"
     ]
    },
    {
     "name": "stdout",
     "output_type": "stream",
     "text": [
      "Gradient Analysis and Masking\n",
      "(-94.72286987304688, 40.731201171875, <cartopy.crs.PlateCarree object at 0x000002399BE63400>)\n"
     ]
    },
    {
     "name": "stderr",
     "output_type": "stream",
     "text": [
      "C:\\Users\\matts\\AppData\\Local\\Continuum\\anaconda3\\envs\\SPORK_SP\\lib\\site-packages\\pyproj\\crs\\crs.py:53: FutureWarning: '+init=<authority>:<code>' syntax is deprecated. '<authority>:<code>' is the preferred initialization method. When making the change, be mindful of axis order changes: https://pyproj4.github.io/pyproj/stable/gotchas.html#axis-order-changes-in-proj-6\n",
      "  return _prepare_from_string(\" \".join(pjargs))\n",
      "C:\\Users\\matts\\AppData\\Local\\Continuum\\anaconda3\\envs\\SPORK_SP\\lib\\site-packages\\pyproj\\crs\\crs.py:294: FutureWarning: '+init=<authority>:<code>' syntax is deprecated. '<authority>:<code>' is the preferred initialization method. When making the change, be mindful of axis order changes: https://pyproj4.github.io/pyproj/stable/gotchas.html#axis-order-changes-in-proj-6\n",
      "  projstring = _prepare_from_string(\" \".join((projstring, projkwargs)))\n",
      "C:\\Users\\matts\\AppData\\Local\\Continuum\\anaconda3\\envs\\SPORK_SP\\lib\\site-packages\\pyproj\\crs\\crs.py:53: FutureWarning: '+init=<authority>:<code>' syntax is deprecated. '<authority>:<code>' is the preferred initialization method. When making the change, be mindful of axis order changes: https://pyproj4.github.io/pyproj/stable/gotchas.html#axis-order-changes-in-proj-6\n",
      "  return _prepare_from_string(\" \".join(pjargs))\n",
      "C:\\Users\\matts\\AppData\\Local\\Continuum\\anaconda3\\envs\\SPORK_SP\\lib\\site-packages\\pyproj\\crs\\crs.py:294: FutureWarning: '+init=<authority>:<code>' syntax is deprecated. '<authority>:<code>' is the preferred initialization method. When making the change, be mindful of axis order changes: https://pyproj4.github.io/pyproj/stable/gotchas.html#axis-order-changes-in-proj-6\n",
      "  projstring = _prepare_from_string(\" \".join((projstring, projkwargs)))\n",
      "C:\\Users\\matts\\AppData\\Local\\Continuum\\anaconda3\\envs\\SPORK_SP\\lib\\site-packages\\cartopy\\mpl\\geoaxes.py:1366: UserWarning: The following kwargs were not used by contour: 'linestyle'\n",
      "  result = matplotlib.axes.Axes.contour(self, *args, **kwargs)\n"
     ]
    },
    {
     "name": "stdout",
     "output_type": "stream",
     "text": [
      "Testfig Saved\n"
     ]
    },
    {
     "name": "stderr",
     "output_type": "stream",
     "text": [
      "C:\\Users\\matts\\Documents\\Python Scripts\\SPORK\\arcalg_framework.py:539: RuntimeWarning: invalid value encountered in true_divide\n",
      "  shaped_ang = (180-np.abs(shaped_ang))*(shaped_ang/np.abs(shaped_ang))\n"
     ]
    },
    {
     "name": "stdout",
     "output_type": "stream",
     "text": [
      "Figure Saved\n",
      "in loop\n",
      "21\n",
      "in loop\n",
      "21\n",
      "in loop\n",
      "21\n",
      "in loop\n",
      "21\n",
      "in loop\n",
      "21\n",
      "in loop\n",
      "21\n",
      "in loop\n",
      "21\n",
      "in loop\n",
      "21\n",
      "in loop\n",
      "21\n",
      "in loop\n",
      "21\n",
      "Pre-grid Organization Section\n",
      "KDP Section\n",
      "Grid Section\n"
     ]
    },
    {
     "name": "stderr",
     "output_type": "stream",
     "text": [
      "C:\\Users\\matts\\AppData\\Local\\Continuum\\anaconda3\\envs\\SPORK_SP\\lib\\site-packages\\pyart\\map\\gates_to_grid.py:160: DeprecationWarning: Barnes weighting function is deprecated. Please use Barnes 2 to be consistent with Pauley and Wu 1990.\n",
      "  warnings.warn(\"Barnes weighting function is deprecated.\"\n"
     ]
    },
    {
     "name": "stdout",
     "output_type": "stream",
     "text": [
      "Gradient Analysis and Masking\n",
      "(-94.72286987304688, 40.731201171875, <cartopy.crs.PlateCarree object at 0x000002399BE634A0>)\n"
     ]
    },
    {
     "name": "stderr",
     "output_type": "stream",
     "text": [
      "C:\\Users\\matts\\AppData\\Local\\Continuum\\anaconda3\\envs\\SPORK_SP\\lib\\site-packages\\pyproj\\crs\\crs.py:53: FutureWarning: '+init=<authority>:<code>' syntax is deprecated. '<authority>:<code>' is the preferred initialization method. When making the change, be mindful of axis order changes: https://pyproj4.github.io/pyproj/stable/gotchas.html#axis-order-changes-in-proj-6\n",
      "  return _prepare_from_string(\" \".join(pjargs))\n",
      "C:\\Users\\matts\\AppData\\Local\\Continuum\\anaconda3\\envs\\SPORK_SP\\lib\\site-packages\\pyproj\\crs\\crs.py:294: FutureWarning: '+init=<authority>:<code>' syntax is deprecated. '<authority>:<code>' is the preferred initialization method. When making the change, be mindful of axis order changes: https://pyproj4.github.io/pyproj/stable/gotchas.html#axis-order-changes-in-proj-6\n",
      "  projstring = _prepare_from_string(\" \".join((projstring, projkwargs)))\n",
      "C:\\Users\\matts\\AppData\\Local\\Continuum\\anaconda3\\envs\\SPORK_SP\\lib\\site-packages\\pyproj\\crs\\crs.py:53: FutureWarning: '+init=<authority>:<code>' syntax is deprecated. '<authority>:<code>' is the preferred initialization method. When making the change, be mindful of axis order changes: https://pyproj4.github.io/pyproj/stable/gotchas.html#axis-order-changes-in-proj-6\n",
      "  return _prepare_from_string(\" \".join(pjargs))\n",
      "C:\\Users\\matts\\AppData\\Local\\Continuum\\anaconda3\\envs\\SPORK_SP\\lib\\site-packages\\pyproj\\crs\\crs.py:294: FutureWarning: '+init=<authority>:<code>' syntax is deprecated. '<authority>:<code>' is the preferred initialization method. When making the change, be mindful of axis order changes: https://pyproj4.github.io/pyproj/stable/gotchas.html#axis-order-changes-in-proj-6\n",
      "  projstring = _prepare_from_string(\" \".join((projstring, projkwargs)))\n",
      "C:\\Users\\matts\\AppData\\Local\\Continuum\\anaconda3\\envs\\SPORK_SP\\lib\\site-packages\\cartopy\\mpl\\geoaxes.py:1366: UserWarning: The following kwargs were not used by contour: 'linestyle'\n",
      "  result = matplotlib.axes.Axes.contour(self, *args, **kwargs)\n"
     ]
    },
    {
     "name": "stdout",
     "output_type": "stream",
     "text": [
      "Testfig Saved\n"
     ]
    },
    {
     "name": "stderr",
     "output_type": "stream",
     "text": [
      "C:\\Users\\matts\\Documents\\Python Scripts\\SPORK\\arcalg_framework.py:539: RuntimeWarning: invalid value encountered in true_divide\n",
      "  shaped_ang = (180-np.abs(shaped_ang))*(shaped_ang/np.abs(shaped_ang))\n"
     ]
    },
    {
     "name": "stdout",
     "output_type": "stream",
     "text": [
      "Figure Saved\n",
      "in loop\n",
      "21\n",
      "in loop\n",
      "21\n",
      "in loop\n",
      "21\n",
      "in loop\n",
      "21\n",
      "in loop\n",
      "21\n",
      "in loop\n",
      "21\n",
      "in loop\n",
      "21\n",
      "in loop\n",
      "21\n",
      "in loop\n",
      "21\n",
      "in loop\n",
      "21\n",
      "Fin\n",
      "2020-05-19 01:35:42.178142\n"
     ]
    }
   ],
   "source": [
    "#Loop to run through multiple cases. At the moment, it's only set to run through the first case (KBIS on 31 August 2013)\n",
    "print(datetime.utcnow())\n",
    "#for i in range(len(durations)):\n",
    "#Uncomment line above and comment out the line below to run all of the cases from the cell above\n",
    "#In the call to multi_case_algorithm_ML1_arcdev, the 3.25 and 1.5 are the ZDR and KDP thresholds, the 70 is a placeholder for zero_z_triggers to prevent errors, \n",
    "#the 290 is the storm motion direction used in calculating the separation angle, and track_dis is a tracking threshold\n",
    "#(in km) for the storm tracking algorithm.\n",
    "for i in [5]:\n",
    "    tracks_dataframe, zdroutlines = multi_case_algorithm_ML1_newforest(storm_relative_dirs[i],3.25,1.5,REFlevs[i],REFlev1s[i],big_storms[i],70,storm_to_tracks[i],years[i],months[i],days[i],hours[i],start_mins[i],durations[i],calibrations[i],stations[i], 240, track_dis=10)\n",
    "\n",
    "    tracks_dataframe.to_pickle('ARCDEV'+str(years[i])+str(months[i])+str(days[i])+str(stations[i])+'.pkl')\n",
    "print(datetime.utcnow())"
   ]
  },
  {
   "cell_type": "code",
   "execution_count": null,
   "metadata": {},
   "outputs": [],
   "source": [
    "print(zdroutlines)"
   ]
  },
  {
   "cell_type": "code",
   "execution_count": null,
   "metadata": {},
   "outputs": [],
   "source": [
    "import pickle"
   ]
  },
  {
   "cell_type": "code",
   "execution_count": null,
   "metadata": {},
   "outputs": [],
   "source": [
    "pickle.dump(zdroutlines, open( \"ZDR_KPOE121619.pkl\", \"wb\" ) )"
   ]
  },
  {
   "cell_type": "code",
   "execution_count": null,
   "metadata": {},
   "outputs": [],
   "source": []
  }
 ],
 "metadata": {
  "kernelspec": {
   "display_name": "Python 3",
   "language": "python",
   "name": "python3"
  },
  "language_info": {
   "codemirror_mode": {
    "name": "ipython",
    "version": 3
   },
   "file_extension": ".py",
   "mimetype": "text/x-python",
   "name": "python",
   "nbconvert_exporter": "python",
   "pygments_lexer": "ipython3",
   "version": "3.8.2"
  }
 },
 "nbformat": 4,
 "nbformat_minor": 2
}
